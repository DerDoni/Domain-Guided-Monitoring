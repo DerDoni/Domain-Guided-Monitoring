{
 "cells": [
  {
   "cell_type": "code",
   "execution_count": 1,
   "id": "43afb1a3-3637-4fe2-9bc3-ad9101715f30",
   "metadata": {},
   "outputs": [],
   "source": [
    "from src.features import preprocessing\n",
    "import pandas as pd\n",
    "pd.set_option('display.max_columns', None)  # or 1000\n",
    "pd.set_option('display.max_rows', 20)  # or 1000\n",
    "pd.set_option('display.max_colwidth', 500)  # or 199"
   ]
  },
  {
   "cell_type": "code",
   "execution_count": 2,
   "id": "9dfa69fb-a9e9-4bab-a313-594698ab15dd",
   "metadata": {},
   "outputs": [
    {
     "data": {
      "text/plain": "<IPython.core.display.HTML object>",
      "text/html": "<style>.container { width:100% !important; }</style>"
     },
     "metadata": {},
     "output_type": "display_data"
    }
   ],
   "source": [
    "from IPython.display import display, HTML\n",
    "display(HTML(\"<style>.container { width:100% !important; }</style>\"))"
   ]
  },
  {
   "cell_type": "code",
   "execution_count": 3,
   "id": "0beae6a8-1981-49e9-b6d6-9f09a7714585",
   "metadata": {},
   "outputs": [],
   "source": [
    "huawei_config = preprocessing.HuaweiPreprocessorConfig()"
   ]
  },
  {
   "cell_type": "code",
   "execution_count": 4,
   "id": "c8e64156-e19a-4ab0-b955-3c74f71ff3c7",
   "metadata": {},
   "outputs": [],
   "source": [
    "deep_drain = preprocessing.HuaweiPreprocessorConfig()\n",
    "deep_drain.drain_url_depth = 50 # default 10\n",
    "deep_drain.fine_drain_log_depth: int = 50 # default 10\n",
    "deep_drain.fine_drain_log_st: float = 0.80\n",
    "deep_drain.coarse_drain_log_depth: int = 15 # default 4\n",
    "deep_drain.coarse_drain_log_st: float = 0.5"
   ]
  },
  {
   "cell_type": "code",
   "execution_count": 5,
   "id": "4db49fec-d546-4900-b0d4-ca70dec3c149",
   "metadata": {},
   "outputs": [],
   "source": [
    "coarse_drain = preprocessing.HuaweiPreprocessorConfig()\n",
    "coarse_drain.drain_url_depth = 4 # default 10\n",
    "coarse_drain.fine_drain_log_depth: int = 4 # default 10\n",
    "coarse_drain.fine_drain_log_st: float = 0.5\n",
    "coarse_drain.coarse_drain_log_depth: int = 2 # default 4\n",
    "coarse_drain.coarse_drain_log_st: float = 0.1"
   ]
  },
  {
   "cell_type": "code",
   "execution_count": 6,
   "id": "a729464e-e3e9-4eef-8422-4b06f2ae0900",
   "metadata": {},
   "outputs": [],
   "source": [
    "sequence_preprocessor = preprocessing.ConcurrentAggregatedLogsPreprocessor(huawei_config)\n",
    "deep_pp = preprocessing.ConcurrentAggregatedLogsPreprocessor(deep_drain)\n",
    "coarse_pp = preprocessing.ConcurrentAggregatedLogsPreprocessor(coarse_drain)"
   ]
  },
  {
   "cell_type": "code",
   "execution_count": 14,
   "outputs": [
    {
     "name": "stderr",
     "output_type": "stream",
     "text": [
      "Generating DRAIN clusters from log_df: 100%|██████████| 163/163 [00:00<00:00, 10864.86it/s]\n",
      "Generating DRAIN clusters from log_df: 100%|██████████| 163/163 [00:00<00:00, 16275.57it/s]\n",
      "Generating DRAIN clusters from log_df: 100%|██████████| 24/24 [00:00<00:00, 20871.51it/s]\n",
      "Generating DRAIN clusters from log_df: 100%|██████████| 163/163 [00:00<00:00, 15733.95it/s]\n",
      "Generating DRAIN clusters from log_df: 100%|██████████| 163/163 [00:00<00:00, 16191.16it/s]\n",
      "Generating DRAIN clusters from log_df: 100%|██████████| 24/24 [00:00<00:00, 23831.27it/s]\n",
      "Generating DRAIN clusters from log_df: 100%|██████████| 163/163 [00:00<00:00, 13287.04it/s]\n",
      "Generating DRAIN clusters from log_df: 100%|██████████| 163/163 [00:00<00:00, 14377.35it/s]\n",
      "Generating DRAIN clusters from log_df: 100%|██████████| 24/24 [00:00<00:00, 20430.95it/s]\n"
     ]
    }
   ],
   "source": [
    "full_df = sequence_preprocessor._load_log_only_data()\n",
    "full_df[['Payload','fine_log_cluster_template', 'coarse_log_cluster_template']].to_csv(\"full.csv\")\n",
    "full_coarse = coarse_pp._load_log_only_data()\n",
    "full_coarse[['Payload','fine_log_cluster_template', 'coarse_log_cluster_template']].to_csv(\"full_coarse.csv\")\n",
    "full_fine = deep_pp._load_log_only_data()\n",
    "full_fine[['Payload','fine_log_cluster_template', 'coarse_log_cluster_template']].to_csv(\"full_fine.csv\")"
   ],
   "metadata": {
    "collapsed": false
   }
  },
  {
   "cell_type": "code",
   "execution_count": 7,
   "outputs": [],
   "source": [
    "test = sequence_preprocessor.load_full_data()\n",
    "test.to_csv(\"test.csv\")"
   ],
   "metadata": {
    "collapsed": false
   }
  },
  {
   "cell_type": "code",
   "execution_count": null,
   "outputs": [],
   "source": [],
   "metadata": {
    "collapsed": false
   }
  },
  {
   "cell_type": "code",
   "execution_count": null,
   "outputs": [],
   "source": [],
   "metadata": {
    "collapsed": false
   }
  },
  {
   "cell_type": "code",
   "execution_count": 27,
   "id": "83328709-a340-4b8f-b3a9-1d753714ec91",
   "metadata": {},
   "outputs": [
    {
     "name": "stderr",
     "output_type": "stream",
     "text": [
      "Generating DRAIN clusters from log_df: 100%|██████████| 163/163 [00:00<00:00, 14459.75it/s]\n",
      "Generating DRAIN clusters from log_df: 100%|██████████| 163/163 [00:00<00:00, 15317.97it/s]\n",
      "Generating DRAIN clusters from log_df: 100%|██████████| 24/24 [00:00<00:00, 25725.35it/s]\n"
     ]
    }
   ],
   "source": [
    "sequence_df = sequence_preprocessor.load_data()"
   ]
  },
  {
   "cell_type": "code",
   "execution_count": 28,
   "id": "eea963f2-9c9c-4331-8cd0-297ac3d836bb",
   "metadata": {},
   "outputs": [
    {
     "name": "stderr",
     "output_type": "stream",
     "text": [
      "Generating DRAIN clusters from log_df: 100%|██████████| 163/163 [00:00<00:00, 13430.61it/s]\n",
      "Generating DRAIN clusters from log_df: 100%|██████████| 163/163 [00:00<00:00, 14122.53it/s]\n",
      "Generating DRAIN clusters from log_df: 100%|██████████| 24/24 [00:00<00:00, 24648.21it/s]\n"
     ]
    }
   ],
   "source": [
    "deep_df = deep_pp.load_data()"
   ]
  },
  {
   "cell_type": "code",
   "execution_count": 29,
   "id": "cf9bd465-97f4-4ce9-a5f0-332713c9060c",
   "metadata": {},
   "outputs": [
    {
     "name": "stderr",
     "output_type": "stream",
     "text": [
      "Generating DRAIN clusters from log_df: 100%|██████████| 163/163 [00:00<00:00, 11382.76it/s]\n",
      "Generating DRAIN clusters from log_df: 100%|██████████| 163/163 [00:00<00:00, 13176.92it/s]\n",
      "Generating DRAIN clusters from log_df: 100%|██████████| 24/24 [00:00<00:00, 15277.48it/s]\n"
     ]
    }
   ],
   "source": [
    "coarse_df = coarse_pp.load_data()"
   ]
  },
  {
   "cell_type": "code",
   "execution_count": 30,
   "outputs": [],
   "source": [
    "sequence_df.to_csv(\"sequence.csv\")\n",
    "deep_df.to_csv(\"deep.csv\")\n",
    "coarse_df.to_csv(\"coarse.csv\")"
   ],
   "metadata": {
    "collapsed": false
   }
  },
  {
   "cell_type": "code",
   "execution_count": 10,
   "id": "5b1a7db5-8dee-400b-9099-6c8aca84a86e",
   "metadata": {},
   "outputs": [
    {
     "ename": "TypeError",
     "evalue": "list expected at most 1 argument, got 2",
     "output_type": "error",
     "traceback": [
      "\u001B[0;31m---------------------------------------------------------------------------\u001B[0m",
      "\u001B[0;31mTypeError\u001B[0m                                 Traceback (most recent call last)",
      "Input \u001B[0;32mIn [10]\u001B[0m, in \u001B[0;36m<cell line: 1>\u001B[0;34m()\u001B[0m\n\u001B[0;32m----> 1\u001B[0m sequence_df\u001B[38;5;241m.\u001B[39mexplode(\u001B[38;5;28;43mlist\u001B[39;49m\u001B[43m(\u001B[49m\u001B[38;5;124;43m\"\u001B[39;49m\u001B[38;5;124;43mattributes\u001B[39;49m\u001B[38;5;124;43m\"\u001B[39;49m\u001B[43m,\u001B[49m\u001B[43m \u001B[49m\u001B[38;5;124;43m\"\u001B[39;49m\u001B[38;5;124;43mcoarse_log_cluster_template\u001B[39;49m\u001B[38;5;124;43m\"\u001B[39;49m\u001B[43m)\u001B[49m)\n",
      "\u001B[0;31mTypeError\u001B[0m: list expected at most 1 argument, got 2"
     ]
    }
   ],
   "source": [
    "sequence_df.explode(list(\"attributes\", \"coarse_log_cluster_template\"))"
   ]
  },
  {
   "cell_type": "code",
   "execution_count": 31,
   "id": "505294d7-aee1-4ac6-9745-d6548b9e213e",
   "metadata": {},
   "outputs": [],
   "source": [
    "coarse_sequence_df = sequence_df.explode(\"coarse_log_cluster_template\")\n",
    "fine_sequence_df = sequence_df.explode(\"fine_log_cluster_template\")\n",
    "coarse_deep_df = deep_df.explode(\"coarse_log_cluster_template\")\n",
    "fine_deep_df = deep_df.explode(\"fine_log_cluster_template\")\n",
    "coarse_coarse_df = coarse_df.explode(\"coarse_log_cluster_template\")\n",
    "fine_coarse_df = coarse_df.explode(\"fine_log_cluster_template\")"
   ]
  },
  {
   "cell_type": "code",
   "execution_count": 32,
   "id": "64c8915e-76ea-4a90-802b-a2e5e5636f5f",
   "metadata": {},
   "outputs": [],
   "source": [
    "coarse_coarse_df[\"coarse_log_cluster_template\"].to_csv(\"coarse_coarse.csv\")\n",
    "coarse_deep_df[\"coarse_log_cluster_template\"].to_csv(\"coarse_deep.csv\")\n",
    "coarse_sequence_df[\"coarse_log_cluster_template\"].to_csv(\"coarse_sequence.csv\")\n",
    "fine_deep_df[\"fine_log_cluster_template\"].to_csv(\"fine_deep.csv\")\n",
    "fine_coarse_df[\"fine_log_cluster_template\"].to_csv(\"fine_coarse.csv\")\n",
    "fine_sequence_df[\"fine_log_cluster_template\"].to_csv(\"fine_sequence.csv\")"
   ]
  },
  {
   "cell_type": "code",
   "execution_count": 2,
   "outputs": [
    {
     "data": {
      "text/plain": "   Hostname log_level                programname  \\\n0  wally113      INFO                 glance-api   \n1  wally113      INFO                 glance-api   \n2  wally113      INFO                 glance-api   \n3  wally113      INFO  neutron-openvswitch-agent   \n4  wally113      INFO                 glance-api   \n\n                                                     python_module  \\\n0                                             eventlet.wsgi.server   \n1                                             eventlet.wsgi.server   \n2                                             eventlet.wsgi.server   \n3  neutron.plugins.ml2.drivers.openvswitch.agent.ovs_neutron_agent   \n4                                             eventlet.wsgi.server   \n\n   http_status http_method                           @timestamp  \\\n0          NaN         NaN  2019-11-25T17:16:01.590000000+01:00   \n1          NaN         NaN  2019-11-25T17:16:01.724000000+01:00   \n2          NaN         NaN  2019-11-25T17:16:07.687000000+01:00   \n3          NaN         NaN  2019-11-25T17:16:08.075000000+01:00   \n4          NaN         NaN  2019-11-25T17:16:26.982000000+01:00   \n\n                                                                                                                  Payload  \\\n0                                172.17.0.2 - - [25/Nov/2019 17:16:01] \"GET /v2/schemas/image HTTP/1.1\" 200 5562 0.053853   \n1                                      172.17.0.2 - - [25/Nov/2019 17:16:01] \"POST /v2/images HTTP/1.1\" 201 1002 0.116297   \n2  172.17.0.2 - - [25/Nov/2019 17:16:07] \"GET /v2/images/e67a3a0b-4186-4996-8cd2-b730298af506 HTTP/1.1\" 200 1133 0.043425   \n3                                                                    SIGTERM received, capping RPC timeout by 10 seconds.   \n4                                172.17.0.2 - - [25/Nov/2019 17:16:26] \"GET /v2/schemas/image HTTP/1.1\" 200 5562 0.006188   \n\n  http_url                                    log_cluster_template  \\\n0      NaN                                                     NaN   \n1      NaN                                                     NaN   \n2      NaN  25 nov 2019 17 16 * get v2 images * http 11 200 1133 *   \n3      NaN      sigterm received capping rpc timeout by 10 seconds   \n4      NaN                                                     NaN   \n\n                                      log_cluster_path  \\\n0                                                  NaN   \n1                                                  NaN   \n2                       15 * nov * * * * get v2 images   \n3  8 sigterm received capping rpc timeout by * seconds   \n4                                                  NaN   \n\n                         timestamp                       parent_trace_id  \\\n0 2019-11-25 17:16:01.590000+01:00  000444b6-b3bc-40aa-8a89-ee2486186b83   \n1 2019-11-25 17:16:01.724000+01:00  000444b6-b3bc-40aa-8a89-ee2486186b83   \n2 2019-11-25 17:16:07.687000+01:00  000444b6-b3bc-40aa-8a89-ee2486186b83   \n3 2019-11-25 17:16:08.075000+01:00  000444b6-b3bc-40aa-8a89-ee2486186b83   \n4 2019-11-25 17:16:26.982000+01:00  000444b6-b3bc-40aa-8a89-ee2486186b83   \n\n  url_cluster_template url_cluster_path  \n0                  NaN              NaN  \n1                  NaN              NaN  \n2                  NaN              NaN  \n3                  NaN              NaN  \n4                  NaN              NaN  ",
      "text/html": "<div>\n<style scoped>\n    .dataframe tbody tr th:only-of-type {\n        vertical-align: middle;\n    }\n\n    .dataframe tbody tr th {\n        vertical-align: top;\n    }\n\n    .dataframe thead th {\n        text-align: right;\n    }\n</style>\n<table border=\"1\" class=\"dataframe\">\n  <thead>\n    <tr style=\"text-align: right;\">\n      <th></th>\n      <th>Hostname</th>\n      <th>log_level</th>\n      <th>programname</th>\n      <th>python_module</th>\n      <th>http_status</th>\n      <th>http_method</th>\n      <th>@timestamp</th>\n      <th>Payload</th>\n      <th>http_url</th>\n      <th>log_cluster_template</th>\n      <th>log_cluster_path</th>\n      <th>timestamp</th>\n      <th>parent_trace_id</th>\n      <th>url_cluster_template</th>\n      <th>url_cluster_path</th>\n    </tr>\n  </thead>\n  <tbody>\n    <tr>\n      <th>0</th>\n      <td>wally113</td>\n      <td>INFO</td>\n      <td>glance-api</td>\n      <td>eventlet.wsgi.server</td>\n      <td>NaN</td>\n      <td>NaN</td>\n      <td>2019-11-25T17:16:01.590000000+01:00</td>\n      <td>172.17.0.2 - - [25/Nov/2019 17:16:01] \"GET /v2/schemas/image HTTP/1.1\" 200 5562 0.053853</td>\n      <td>NaN</td>\n      <td>NaN</td>\n      <td>NaN</td>\n      <td>2019-11-25 17:16:01.590000+01:00</td>\n      <td>000444b6-b3bc-40aa-8a89-ee2486186b83</td>\n      <td>NaN</td>\n      <td>NaN</td>\n    </tr>\n    <tr>\n      <th>1</th>\n      <td>wally113</td>\n      <td>INFO</td>\n      <td>glance-api</td>\n      <td>eventlet.wsgi.server</td>\n      <td>NaN</td>\n      <td>NaN</td>\n      <td>2019-11-25T17:16:01.724000000+01:00</td>\n      <td>172.17.0.2 - - [25/Nov/2019 17:16:01] \"POST /v2/images HTTP/1.1\" 201 1002 0.116297</td>\n      <td>NaN</td>\n      <td>NaN</td>\n      <td>NaN</td>\n      <td>2019-11-25 17:16:01.724000+01:00</td>\n      <td>000444b6-b3bc-40aa-8a89-ee2486186b83</td>\n      <td>NaN</td>\n      <td>NaN</td>\n    </tr>\n    <tr>\n      <th>2</th>\n      <td>wally113</td>\n      <td>INFO</td>\n      <td>glance-api</td>\n      <td>eventlet.wsgi.server</td>\n      <td>NaN</td>\n      <td>NaN</td>\n      <td>2019-11-25T17:16:07.687000000+01:00</td>\n      <td>172.17.0.2 - - [25/Nov/2019 17:16:07] \"GET /v2/images/e67a3a0b-4186-4996-8cd2-b730298af506 HTTP/1.1\" 200 1133 0.043425</td>\n      <td>NaN</td>\n      <td>25 nov 2019 17 16 * get v2 images * http 11 200 1133 *</td>\n      <td>15 * nov * * * * get v2 images</td>\n      <td>2019-11-25 17:16:07.687000+01:00</td>\n      <td>000444b6-b3bc-40aa-8a89-ee2486186b83</td>\n      <td>NaN</td>\n      <td>NaN</td>\n    </tr>\n    <tr>\n      <th>3</th>\n      <td>wally113</td>\n      <td>INFO</td>\n      <td>neutron-openvswitch-agent</td>\n      <td>neutron.plugins.ml2.drivers.openvswitch.agent.ovs_neutron_agent</td>\n      <td>NaN</td>\n      <td>NaN</td>\n      <td>2019-11-25T17:16:08.075000000+01:00</td>\n      <td>SIGTERM received, capping RPC timeout by 10 seconds.</td>\n      <td>NaN</td>\n      <td>sigterm received capping rpc timeout by 10 seconds</td>\n      <td>8 sigterm received capping rpc timeout by * seconds</td>\n      <td>2019-11-25 17:16:08.075000+01:00</td>\n      <td>000444b6-b3bc-40aa-8a89-ee2486186b83</td>\n      <td>NaN</td>\n      <td>NaN</td>\n    </tr>\n    <tr>\n      <th>4</th>\n      <td>wally113</td>\n      <td>INFO</td>\n      <td>glance-api</td>\n      <td>eventlet.wsgi.server</td>\n      <td>NaN</td>\n      <td>NaN</td>\n      <td>2019-11-25T17:16:26.982000000+01:00</td>\n      <td>172.17.0.2 - - [25/Nov/2019 17:16:26] \"GET /v2/schemas/image HTTP/1.1\" 200 5562 0.006188</td>\n      <td>NaN</td>\n      <td>NaN</td>\n      <td>NaN</td>\n      <td>2019-11-25 17:16:26.982000+01:00</td>\n      <td>000444b6-b3bc-40aa-8a89-ee2486186b83</td>\n      <td>NaN</td>\n      <td>NaN</td>\n    </tr>\n  </tbody>\n</table>\n</div>"
     },
     "execution_count": 2,
     "metadata": {},
     "output_type": "execute_result"
    }
   ],
   "source": [
    "pkl = pd.read_pickle(\"data/huawei.pkl\")\n",
    "pkl.head()"
   ],
   "metadata": {
    "collapsed": false
   }
  },
  {
   "cell_type": "code",
   "execution_count": null,
   "outputs": [],
   "source": [],
   "metadata": {
    "collapsed": false
   }
  }
 ],
 "metadata": {
  "kernelspec": {
   "name": "lena",
   "language": "python",
   "display_name": "lena"
  },
  "language_info": {
   "codemirror_mode": {
    "name": "ipython",
    "version": 3
   },
   "file_extension": ".py",
   "mimetype": "text/x-python",
   "name": "python",
   "nbconvert_exporter": "python",
   "pygments_lexer": "ipython3",
   "version": "3.9.12"
  }
 },
 "nbformat": 4,
 "nbformat_minor": 5
}
