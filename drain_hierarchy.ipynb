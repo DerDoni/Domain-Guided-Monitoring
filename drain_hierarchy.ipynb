{
 "cells": [
  {
   "cell_type": "code",
   "execution_count": 1,
   "metadata": {},
   "outputs": [],
   "source": [
    "import seaborn as sns\n",
    "import matplotlib.pyplot as plt\n",
    "import pandas as pd\n",
    "import numpy as np\n",
    "import sys\n",
    "import os\n",
    "\n",
    "module_path = os.path.abspath(os.path.join('..'))\n",
    "if module_path not in sys.path:\n",
    "    sys.path.append(module_path)\n",
    "\n",
    "from src.features import preprocessing"
   ]
  },
  {
   "cell_type": "code",
   "execution_count": 2,
   "metadata": {},
   "outputs": [
    {
     "name": "stdout",
     "output_type": "stream",
     "text": [
      "pip 22.2.2 from /home/vincenzo/anaconda3/lib/python3.9/site-packages/pip (python 3.9)\n",
      "Note: you may need to restart the kernel to use updated packages.\n"
     ]
    }
   ],
   "source": [
    "pip --version"
   ]
  },
  {
   "cell_type": "code",
   "execution_count": 2,
   "metadata": {},
   "outputs": [],
   "source": [
    "%run utils/base.py\n",
    "%run utils/loading.py\n",
    "%run utils/attention_graph.py\n",
    "%run utils/mlflow_query.py"
   ]
  },
  {
   "cell_type": "code",
   "execution_count": 3,
   "metadata": {},
   "outputs": [],
   "source": [
    "mlflow_helper = MlflowHelper(pkl_file=Path(\"mlflow_run_df.pkl\"))\n",
    "#mlflow_helper.query_all_runs(pkl_file=Path(\"mlflow_run_df.pkl\"))"
   ]
  },
  {
   "cell_type": "code",
   "execution_count": 4,
   "metadata": {
    "scrolled": false
   },
   "outputs": [
    {
     "ename": "KeyError",
     "evalue": "'data_tags_sequence_type'",
     "output_type": "error",
     "traceback": [
      "\u001b[0;31m---------------------------------------------------------------------------\u001b[0m",
      "\u001b[0;31mKeyError\u001b[0m                                  Traceback (most recent call last)",
      "File \u001b[0;32m~/.local/lib/python3.9/site-packages/pandas/core/indexes/base.py:3361\u001b[0m, in \u001b[0;36mIndex.get_loc\u001b[0;34m(self, key, method, tolerance)\u001b[0m\n\u001b[1;32m   3360\u001b[0m \u001b[38;5;28;01mtry\u001b[39;00m:\n\u001b[0;32m-> 3361\u001b[0m     \u001b[38;5;28;01mreturn\u001b[39;00m \u001b[38;5;28;43mself\u001b[39;49m\u001b[38;5;241;43m.\u001b[39;49m\u001b[43m_engine\u001b[49m\u001b[38;5;241;43m.\u001b[39;49m\u001b[43mget_loc\u001b[49m\u001b[43m(\u001b[49m\u001b[43mcasted_key\u001b[49m\u001b[43m)\u001b[49m\n\u001b[1;32m   3362\u001b[0m \u001b[38;5;28;01mexcept\u001b[39;00m \u001b[38;5;167;01mKeyError\u001b[39;00m \u001b[38;5;28;01mas\u001b[39;00m err:\n",
      "File \u001b[0;32m~/.local/lib/python3.9/site-packages/pandas/_libs/index.pyx:76\u001b[0m, in \u001b[0;36mpandas._libs.index.IndexEngine.get_loc\u001b[0;34m()\u001b[0m\n",
      "File \u001b[0;32m~/.local/lib/python3.9/site-packages/pandas/_libs/index.pyx:108\u001b[0m, in \u001b[0;36mpandas._libs.index.IndexEngine.get_loc\u001b[0;34m()\u001b[0m\n",
      "File \u001b[0;32mpandas/_libs/hashtable_class_helper.pxi:5198\u001b[0m, in \u001b[0;36mpandas._libs.hashtable.PyObjectHashTable.get_item\u001b[0;34m()\u001b[0m\n",
      "File \u001b[0;32mpandas/_libs/hashtable_class_helper.pxi:5206\u001b[0m, in \u001b[0;36mpandas._libs.hashtable.PyObjectHashTable.get_item\u001b[0;34m()\u001b[0m\n",
      "\u001b[0;31mKeyError\u001b[0m: 'data_tags_sequence_type'",
      "\nThe above exception was the direct cause of the following exception:\n",
      "\u001b[0;31mKeyError\u001b[0m                                  Traceback (most recent call last)",
      "Input \u001b[0;32mIn [4]\u001b[0m, in \u001b[0;36m<cell line: 1>\u001b[0;34m()\u001b[0m\n\u001b[0;32m----> 1\u001b[0m huawei_df \u001b[38;5;241m=\u001b[39m \u001b[43mmlflow_helper\u001b[49m\u001b[38;5;241;43m.\u001b[39;49m\u001b[43mhuawei_run_df\u001b[49m\u001b[43m(\u001b[49m\n\u001b[1;32m      2\u001b[0m \u001b[43m    \u001b[49m\u001b[43mvalid_x_columns\u001b[49m\u001b[38;5;241;43m=\u001b[39;49m\u001b[43m[\u001b[49m\u001b[38;5;124;43m\"\u001b[39;49m\u001b[38;5;124;43mlog_cluster_template\u001b[39;49m\u001b[38;5;124;43m\"\u001b[39;49m\u001b[43m,\u001b[49m\u001b[43m \u001b[49m\u001b[38;5;124;43m\"\u001b[39;49m\u001b[38;5;124;43mfine_log_cluster_template\u001b[39;49m\u001b[38;5;124;43m\"\u001b[39;49m\u001b[43m,\u001b[49m\u001b[43m \u001b[49m\u001b[38;5;124;43m\"\u001b[39;49m\u001b[38;5;124;43mcoarse_log_cluster_template\u001b[39;49m\u001b[38;5;124;43m\"\u001b[39;49m\u001b[43m,\u001b[49m\u001b[43m \u001b[49m\u001b[38;5;124;43m\"\u001b[39;49m\u001b[38;5;124;43mattention_log_cluster_template_90\u001b[39;49m\u001b[38;5;124;43m\"\u001b[39;49m\u001b[43m]\u001b[49m\u001b[43m,\u001b[49m\n\u001b[1;32m      3\u001b[0m \u001b[43m    \u001b[49m\u001b[43mvalid_y_columns\u001b[49m\u001b[38;5;241;43m=\u001b[39;49m\u001b[43m[\u001b[49m\u001b[38;5;124;43m\"\u001b[39;49m\u001b[38;5;124;43mattributes\u001b[39;49m\u001b[38;5;124;43m\"\u001b[39;49m\u001b[43m,\u001b[49m\u001b[43m \u001b[49m\u001b[38;5;124;43m\"\u001b[39;49m\u001b[38;5;124;43mcoarse_log_cluster_template\u001b[39;49m\u001b[38;5;124;43m\"\u001b[39;49m\u001b[43m]\u001b[49m\u001b[43m,\u001b[49m\n\u001b[1;32m      4\u001b[0m \u001b[43m    \u001b[49m\u001b[43minclude_drain_hierarchy\u001b[49m\u001b[38;5;241;43m=\u001b[39;49m\u001b[38;5;28;43;01mTrue\u001b[39;49;00m\u001b[43m,\u001b[49m\n\u001b[1;32m      5\u001b[0m \u001b[43m)\u001b[49m\n\u001b[1;32m      6\u001b[0m huawei_df \u001b[38;5;241m=\u001b[39m huawei_df[\n\u001b[1;32m      7\u001b[0m     huawei_df[\u001b[38;5;124m\"\u001b[39m\u001b[38;5;124mdata_params_ModelConfigbase_feature_embeddings_trainable\u001b[39m\u001b[38;5;124m\"\u001b[39m]\u001b[38;5;241m.\u001b[39mastype(\u001b[38;5;28mstr\u001b[39m) \u001b[38;5;241m==\u001b[39m \u001b[38;5;124m\"\u001b[39m\u001b[38;5;124mFalse\u001b[39m\u001b[38;5;124m\"\u001b[39m\n\u001b[1;32m      8\u001b[0m ]\n\u001b[1;32m     10\u001b[0m huawei_df\u001b[38;5;241m.\u001b[39mgroupby(by\u001b[38;5;241m=\u001b[39m[\n\u001b[1;32m     11\u001b[0m     \u001b[38;5;124m\"\u001b[39m\u001b[38;5;124mdata_params_SequenceConfigx_sequence_column_name\u001b[39m\u001b[38;5;124m\"\u001b[39m,\n\u001b[1;32m     12\u001b[0m     \u001b[38;5;124m\"\u001b[39m\u001b[38;5;124mdata_params_SequenceConfigy_sequence_column_name\u001b[39m\u001b[38;5;124m\"\u001b[39m,\n\u001b[0;32m   (...)\u001b[0m\n\u001b[1;32m     15\u001b[0m     \u001b[38;5;124m\"\u001b[39m\u001b[38;5;124minfo_run_id\u001b[39m\u001b[38;5;124m\"\u001b[39m: \u001b[38;5;28mlen\u001b[39m\n\u001b[1;32m     16\u001b[0m })\n",
      "File \u001b[0;32m~/code/Domain-Guided-Monitoring/notebooks/utils/mlflow_query.py:197\u001b[0m, in \u001b[0;36mMlflowHelper.huawei_run_df\u001b[0;34m(self, include_noise, include_refinements, risk_prediction, valid_x_columns, valid_y_columns, include_drain_hierarchy)\u001b[0m\n\u001b[1;32m    189\u001b[0m \u001b[38;5;28;01mdef\u001b[39;00m \u001b[38;5;21mhuawei_run_df\u001b[39m(\n\u001b[1;32m    190\u001b[0m     \u001b[38;5;28mself\u001b[39m, include_noise: \u001b[38;5;28mbool\u001b[39m \u001b[38;5;241m=\u001b[39m \u001b[38;5;28;01mFalse\u001b[39;00m, include_refinements: \u001b[38;5;28mbool\u001b[39m \u001b[38;5;241m=\u001b[39m \u001b[38;5;28;01mFalse\u001b[39;00m,\n\u001b[1;32m    191\u001b[0m     risk_prediction: \u001b[38;5;28mbool\u001b[39m \u001b[38;5;241m=\u001b[39m \u001b[38;5;28;01mFalse\u001b[39;00m,\n\u001b[0;32m   (...)\u001b[0m\n\u001b[1;32m    194\u001b[0m     include_drain_hierarchy: \u001b[38;5;28mbool\u001b[39m\u001b[38;5;241m=\u001b[39m\u001b[38;5;28;01mFalse\u001b[39;00m,\n\u001b[1;32m    195\u001b[0m ) \u001b[38;5;241m-\u001b[39m\u001b[38;5;241m>\u001b[39m pd\u001b[38;5;241m.\u001b[39mDataFrame:\n\u001b[1;32m    196\u001b[0m     huawei_run_df \u001b[38;5;241m=\u001b[39m \u001b[38;5;28mself\u001b[39m\u001b[38;5;241m.\u001b[39mrun_df[\n\u001b[0;32m--> 197\u001b[0m         (\u001b[38;5;28;43mself\u001b[39;49m\u001b[38;5;241;43m.\u001b[39;49m\u001b[43mrun_df\u001b[49m\u001b[43m[\u001b[49m\u001b[38;5;124;43m\"\u001b[39;49m\u001b[38;5;124;43mdata_tags_sequence_type\u001b[39;49m\u001b[38;5;124;43m\"\u001b[39;49m\u001b[43m]\u001b[49m \u001b[38;5;241m==\u001b[39m \u001b[38;5;124m\"\u001b[39m\u001b[38;5;124mhuawei_logs\u001b[39m\u001b[38;5;124m\"\u001b[39m)\n\u001b[1;32m    198\u001b[0m         \u001b[38;5;241m&\u001b[39m (\u001b[38;5;28mself\u001b[39m\u001b[38;5;241m.\u001b[39mrun_df[\u001b[38;5;124m\"\u001b[39m\u001b[38;5;124mdata_params_ModelConfigrnn_type\u001b[39m\u001b[38;5;124m\"\u001b[39m] \u001b[38;5;241m==\u001b[39m \u001b[38;5;124m\"\u001b[39m\u001b[38;5;124mgru\u001b[39m\u001b[38;5;124m\"\u001b[39m)\n\u001b[1;32m    199\u001b[0m         \u001b[38;5;241m&\u001b[39m (\u001b[38;5;28mself\u001b[39m\u001b[38;5;241m.\u001b[39mrun_df[\u001b[38;5;124m\"\u001b[39m\u001b[38;5;124mdata_params_SequenceConfigtest_percentage\u001b[39m\u001b[38;5;124m\"\u001b[39m]\u001b[38;5;241m.\u001b[39mfillna(\u001b[38;5;124m\"\u001b[39m\u001b[38;5;124m\"\u001b[39m)\u001b[38;5;241m.\u001b[39mastype(\u001b[38;5;28mstr\u001b[39m) \u001b[38;5;241m==\u001b[39m \u001b[38;5;124m\"\u001b[39m\u001b[38;5;124m0.1\u001b[39m\u001b[38;5;124m\"\u001b[39m)\n\u001b[1;32m    200\u001b[0m         \u001b[38;5;241m&\u001b[39m (\u001b[38;5;28mself\u001b[39m\u001b[38;5;241m.\u001b[39mrun_df[\u001b[38;5;124m\"\u001b[39m\u001b[38;5;124mdata_params_ModelConfigbest_model_metric\u001b[39m\u001b[38;5;124m\"\u001b[39m] \u001b[38;5;241m==\u001b[39m \u001b[38;5;124m\"\u001b[39m\u001b[38;5;124mval_loss\u001b[39m\u001b[38;5;124m\"\u001b[39m)\n\u001b[1;32m    201\u001b[0m         \u001b[38;5;241m&\u001b[39m (\u001b[38;5;28mself\u001b[39m\u001b[38;5;241m.\u001b[39mrun_df[\u001b[38;5;124m\"\u001b[39m\u001b[38;5;124minfo_status\u001b[39m\u001b[38;5;124m\"\u001b[39m] \u001b[38;5;241m==\u001b[39m \u001b[38;5;124m\"\u001b[39m\u001b[38;5;124mFINISHED\u001b[39m\u001b[38;5;124m\"\u001b[39m)\n\u001b[1;32m    202\u001b[0m         \u001b[38;5;241m&\u001b[39m (\u001b[38;5;28mself\u001b[39m\u001b[38;5;241m.\u001b[39mrun_df[\u001b[38;5;124m\"\u001b[39m\u001b[38;5;124mdata_params_ModelConfigrnn_dim\u001b[39m\u001b[38;5;124m\"\u001b[39m] \u001b[38;5;241m==\u001b[39m \u001b[38;5;124m\"\u001b[39m\u001b[38;5;124m200\u001b[39m\u001b[38;5;124m\"\u001b[39m)\n\u001b[1;32m    203\u001b[0m         \u001b[38;5;241m&\u001b[39m (\u001b[38;5;28mself\u001b[39m\u001b[38;5;241m.\u001b[39mrun_df[\u001b[38;5;124m\"\u001b[39m\u001b[38;5;124mdata_params_ModelConfigoptimizer\u001b[39m\u001b[38;5;124m\"\u001b[39m]\u001b[38;5;241m.\u001b[39mfillna(\u001b[38;5;124m\"\u001b[39m\u001b[38;5;124madam\u001b[39m\u001b[38;5;124m\"\u001b[39m) \u001b[38;5;241m==\u001b[39m \u001b[38;5;124m\"\u001b[39m\u001b[38;5;124madam\u001b[39m\u001b[38;5;124m\"\u001b[39m)\n\u001b[1;32m    204\u001b[0m         \u001b[38;5;241m&\u001b[39m (\u001b[38;5;28mself\u001b[39m\u001b[38;5;241m.\u001b[39mrun_df[\u001b[38;5;124m\"\u001b[39m\u001b[38;5;124mdata_params_ModelConfigdropout_rate\u001b[39m\u001b[38;5;124m\"\u001b[39m]\u001b[38;5;241m.\u001b[39mfillna(\u001b[38;5;124m\"\u001b[39m\u001b[38;5;124m0.0\u001b[39m\u001b[38;5;124m\"\u001b[39m)\u001b[38;5;241m.\u001b[39mastype(\u001b[38;5;28mstr\u001b[39m) \u001b[38;5;241m==\u001b[39m \u001b[38;5;124m\"\u001b[39m\u001b[38;5;124m0.5\u001b[39m\u001b[38;5;124m\"\u001b[39m)\n\u001b[1;32m    205\u001b[0m         \u001b[38;5;241m&\u001b[39m (\u001b[38;5;28mself\u001b[39m\u001b[38;5;241m.\u001b[39mrun_df[\u001b[38;5;124m\"\u001b[39m\u001b[38;5;124mdata_params_ModelConfigrnn_dropout\u001b[39m\u001b[38;5;124m\"\u001b[39m]\u001b[38;5;241m.\u001b[39mfillna(\u001b[38;5;124m\"\u001b[39m\u001b[38;5;124m0.0\u001b[39m\u001b[38;5;124m\"\u001b[39m)\u001b[38;5;241m.\u001b[39mastype(\u001b[38;5;28mstr\u001b[39m) \u001b[38;5;241m==\u001b[39m \u001b[38;5;124m\"\u001b[39m\u001b[38;5;124m0.0\u001b[39m\u001b[38;5;124m\"\u001b[39m)\n\u001b[1;32m    206\u001b[0m         \u001b[38;5;241m&\u001b[39m (\u001b[38;5;28mself\u001b[39m\u001b[38;5;241m.\u001b[39mrun_df[\u001b[38;5;124m\"\u001b[39m\u001b[38;5;124mdata_params_ModelConfigkernel_regularizer_scope\u001b[39m\u001b[38;5;124m\"\u001b[39m]\u001b[38;5;241m.\u001b[39mfillna(\u001b[38;5;124m\"\u001b[39m\u001b[38;5;124m[]\u001b[39m\u001b[38;5;124m\"\u001b[39m) \u001b[38;5;241m==\u001b[39m \u001b[38;5;124m\"\u001b[39m\u001b[38;5;124m[]\u001b[39m\u001b[38;5;124m\"\u001b[39m)\n\u001b[1;32m    207\u001b[0m         \u001b[38;5;241m&\u001b[39m (\u001b[38;5;28mself\u001b[39m\u001b[38;5;241m.\u001b[39mrun_df[\u001b[38;5;124m\"\u001b[39m\u001b[38;5;124mdata_params_ExperimentConfigbatch_size\u001b[39m\u001b[38;5;124m\"\u001b[39m]\u001b[38;5;241m.\u001b[39mastype(\u001b[38;5;28mstr\u001b[39m)\u001b[38;5;241m.\u001b[39mfillna(\u001b[38;5;124m\"\u001b[39m\u001b[38;5;124m\"\u001b[39m) \u001b[38;5;241m==\u001b[39m \u001b[38;5;124m\"\u001b[39m\u001b[38;5;124m128\u001b[39m\u001b[38;5;124m\"\u001b[39m)\n\u001b[1;32m    208\u001b[0m         \u001b[38;5;241m&\u001b[39m (\n\u001b[1;32m    209\u001b[0m             (\u001b[38;5;28mself\u001b[39m\u001b[38;5;241m.\u001b[39mrun_df[\u001b[38;5;124m\"\u001b[39m\u001b[38;5;124mdata_params_HuaweiPreprocessorConfigfine_drain_log_st\u001b[39m\u001b[38;5;124m\"\u001b[39m]\u001b[38;5;241m.\u001b[39mastype(\u001b[38;5;28mstr\u001b[39m)\u001b[38;5;241m.\u001b[39mfillna(\u001b[38;5;124m\"\u001b[39m\u001b[38;5;124m\"\u001b[39m) \u001b[38;5;241m==\u001b[39m \u001b[38;5;124m\"\u001b[39m\u001b[38;5;124m0.75\u001b[39m\u001b[38;5;124m\"\u001b[39m)\n\u001b[1;32m    210\u001b[0m             \u001b[38;5;241m|\u001b[39m (\u001b[38;5;28mself\u001b[39m\u001b[38;5;241m.\u001b[39mrun_df[\u001b[38;5;124m\"\u001b[39m\u001b[38;5;124mdata_params_HuaweiPreprocessorConfigdrain_log_st\u001b[39m\u001b[38;5;124m\"\u001b[39m]\u001b[38;5;241m.\u001b[39mastype(\u001b[38;5;28mstr\u001b[39m)\u001b[38;5;241m.\u001b[39mfillna(\u001b[38;5;124m\"\u001b[39m\u001b[38;5;124m\"\u001b[39m) \u001b[38;5;241m==\u001b[39m \u001b[38;5;124m\"\u001b[39m\u001b[38;5;124m0.75\u001b[39m\u001b[38;5;124m\"\u001b[39m)\n\u001b[1;32m    211\u001b[0m         )\n\u001b[1;32m    212\u001b[0m         \u001b[38;5;241m&\u001b[39m (\n\u001b[1;32m    213\u001b[0m             (\u001b[38;5;28mself\u001b[39m\u001b[38;5;241m.\u001b[39mrun_df[\u001b[38;5;124m\"\u001b[39m\u001b[38;5;124mdata_params_HuaweiPreprocessorConfigfine_drain_log_depth\u001b[39m\u001b[38;5;124m\"\u001b[39m]\u001b[38;5;241m.\u001b[39mastype(\u001b[38;5;28mstr\u001b[39m)\u001b[38;5;241m.\u001b[39mfillna(\u001b[38;5;124m\"\u001b[39m\u001b[38;5;124m\"\u001b[39m) \u001b[38;5;241m==\u001b[39m \u001b[38;5;124m\"\u001b[39m\u001b[38;5;124m10\u001b[39m\u001b[38;5;124m\"\u001b[39m)\n\u001b[1;32m    214\u001b[0m             \u001b[38;5;241m|\u001b[39m (\u001b[38;5;28mself\u001b[39m\u001b[38;5;241m.\u001b[39mrun_df[\u001b[38;5;124m\"\u001b[39m\u001b[38;5;124mdata_params_HuaweiPreprocessorConfigdrain_log_depth\u001b[39m\u001b[38;5;124m\"\u001b[39m]\u001b[38;5;241m.\u001b[39mastype(\u001b[38;5;28mstr\u001b[39m)\u001b[38;5;241m.\u001b[39mfillna(\u001b[38;5;124m\"\u001b[39m\u001b[38;5;124m\"\u001b[39m) \u001b[38;5;241m==\u001b[39m \u001b[38;5;124m\"\u001b[39m\u001b[38;5;124m10\u001b[39m\u001b[38;5;124m\"\u001b[39m)\n\u001b[1;32m    215\u001b[0m         )\n\u001b[1;32m    216\u001b[0m         \u001b[38;5;241m&\u001b[39m (\n\u001b[1;32m    217\u001b[0m             (\u001b[38;5;241m~\u001b[39m (\n\u001b[1;32m    218\u001b[0m                 (\u001b[38;5;28mself\u001b[39m\u001b[38;5;241m.\u001b[39mrun_df[\u001b[38;5;124m\"\u001b[39m\u001b[38;5;124mdata_params_SequenceConfigx_sequence_column_name\u001b[39m\u001b[38;5;124m\"\u001b[39m]\u001b[38;5;241m.\u001b[39mastype(\u001b[38;5;28mstr\u001b[39m)\u001b[38;5;241m.\u001b[39mfillna(\u001b[38;5;124m\"\u001b[39m\u001b[38;5;124m\"\u001b[39m) \u001b[38;5;241m==\u001b[39m \u001b[38;5;124m\"\u001b[39m\u001b[38;5;124mcoarse_log_cluster_template\u001b[39m\u001b[38;5;124m\"\u001b[39m)\n\u001b[1;32m    219\u001b[0m                 \u001b[38;5;241m|\u001b[39m (\u001b[38;5;28mself\u001b[39m\u001b[38;5;241m.\u001b[39mrun_df[\u001b[38;5;124m\"\u001b[39m\u001b[38;5;124mdata_params_SequenceConfigy_sequence_column_name\u001b[39m\u001b[38;5;124m\"\u001b[39m]\u001b[38;5;241m.\u001b[39mastype(\u001b[38;5;28mstr\u001b[39m)\u001b[38;5;241m.\u001b[39mfillna(\u001b[38;5;124m\"\u001b[39m\u001b[38;5;124m\"\u001b[39m) \u001b[38;5;241m==\u001b[39m \u001b[38;5;124m\"\u001b[39m\u001b[38;5;124mcoarse_log_cluster_template\u001b[39m\u001b[38;5;124m\"\u001b[39m)\n\u001b[1;32m    220\u001b[0m                 \u001b[38;5;241m|\u001b[39m (\u001b[38;5;28mself\u001b[39m\u001b[38;5;241m.\u001b[39mrun_df[\u001b[38;5;124m\"\u001b[39m\u001b[38;5;124mdata_params_HuaweiPreprocessorConfigdrain_log_sts\u001b[39m\u001b[38;5;124m\"\u001b[39m]\u001b[38;5;241m.\u001b[39mfillna(\u001b[38;5;124m\"\u001b[39m\u001b[38;5;124m[]\u001b[39m\u001b[38;5;124m\"\u001b[39m)\u001b[38;5;241m.\u001b[39mastype(\u001b[38;5;28mstr\u001b[39m)\u001b[38;5;241m.\u001b[39mapply(\u001b[38;5;28mlen\u001b[39m) \u001b[38;5;241m>\u001b[39m \u001b[38;5;241m2\u001b[39m)\n\u001b[1;32m    221\u001b[0m             )) \u001b[38;5;241m|\u001b[39m (\n\u001b[1;32m    222\u001b[0m                 (\u001b[38;5;28mself\u001b[39m\u001b[38;5;241m.\u001b[39mrun_df[\u001b[38;5;124m\"\u001b[39m\u001b[38;5;124mdata_params_HuaweiPreprocessorConfigcoarse_drain_log_st\u001b[39m\u001b[38;5;124m\"\u001b[39m]\u001b[38;5;241m.\u001b[39mastype(\u001b[38;5;28mstr\u001b[39m)\u001b[38;5;241m.\u001b[39mfillna(\u001b[38;5;124m\"\u001b[39m\u001b[38;5;124m\"\u001b[39m) \u001b[38;5;241m==\u001b[39m \u001b[38;5;124m\"\u001b[39m\u001b[38;5;124m0.2\u001b[39m\u001b[38;5;124m\"\u001b[39m)\n\u001b[1;32m    223\u001b[0m                 \u001b[38;5;241m&\u001b[39m (\u001b[38;5;28mself\u001b[39m\u001b[38;5;241m.\u001b[39mrun_df[\u001b[38;5;124m\"\u001b[39m\u001b[38;5;124mdata_params_HuaweiPreprocessorConfigcoarse_drain_log_depth\u001b[39m\u001b[38;5;124m\"\u001b[39m]\u001b[38;5;241m.\u001b[39mastype(\u001b[38;5;28mstr\u001b[39m)\u001b[38;5;241m.\u001b[39mfillna(\u001b[38;5;124m\"\u001b[39m\u001b[38;5;124m\"\u001b[39m) \u001b[38;5;241m==\u001b[39m \u001b[38;5;124m\"\u001b[39m\u001b[38;5;124m4\u001b[39m\u001b[38;5;124m\"\u001b[39m)\n\u001b[1;32m    224\u001b[0m             )\n\u001b[1;32m    225\u001b[0m         )\n\u001b[1;32m    226\u001b[0m     ]\n\u001b[1;32m    228\u001b[0m     \u001b[38;5;28;01mif\u001b[39;00m risk_prediction:\n\u001b[1;32m    229\u001b[0m         huawei_run_df \u001b[38;5;241m=\u001b[39m huawei_run_df[\n\u001b[1;32m    230\u001b[0m             (huawei_run_df[\u001b[38;5;124m\"\u001b[39m\u001b[38;5;124mdata_tags_task_type\u001b[39m\u001b[38;5;124m\"\u001b[39m] \u001b[38;5;241m==\u001b[39m \u001b[38;5;124m\"\u001b[39m\u001b[38;5;124mrisk_prediction\u001b[39m\u001b[38;5;124m\"\u001b[39m) \u001b[38;5;241m&\u001b[39m\n\u001b[1;32m    231\u001b[0m             (huawei_run_df[\u001b[38;5;124m\"\u001b[39m\u001b[38;5;124mdata_params_ModelConfigfinal_activation_function\u001b[39m\u001b[38;5;124m\"\u001b[39m] \u001b[38;5;241m==\u001b[39m \u001b[38;5;124m\"\u001b[39m\u001b[38;5;124msigmoid\u001b[39m\u001b[38;5;124m\"\u001b[39m)\n\u001b[1;32m    232\u001b[0m         ]\n",
      "File \u001b[0;32m~/.local/lib/python3.9/site-packages/pandas/core/frame.py:3458\u001b[0m, in \u001b[0;36mDataFrame.__getitem__\u001b[0;34m(self, key)\u001b[0m\n\u001b[1;32m   3456\u001b[0m \u001b[38;5;28;01mif\u001b[39;00m \u001b[38;5;28mself\u001b[39m\u001b[38;5;241m.\u001b[39mcolumns\u001b[38;5;241m.\u001b[39mnlevels \u001b[38;5;241m>\u001b[39m \u001b[38;5;241m1\u001b[39m:\n\u001b[1;32m   3457\u001b[0m     \u001b[38;5;28;01mreturn\u001b[39;00m \u001b[38;5;28mself\u001b[39m\u001b[38;5;241m.\u001b[39m_getitem_multilevel(key)\n\u001b[0;32m-> 3458\u001b[0m indexer \u001b[38;5;241m=\u001b[39m \u001b[38;5;28;43mself\u001b[39;49m\u001b[38;5;241;43m.\u001b[39;49m\u001b[43mcolumns\u001b[49m\u001b[38;5;241;43m.\u001b[39;49m\u001b[43mget_loc\u001b[49m\u001b[43m(\u001b[49m\u001b[43mkey\u001b[49m\u001b[43m)\u001b[49m\n\u001b[1;32m   3459\u001b[0m \u001b[38;5;28;01mif\u001b[39;00m is_integer(indexer):\n\u001b[1;32m   3460\u001b[0m     indexer \u001b[38;5;241m=\u001b[39m [indexer]\n",
      "File \u001b[0;32m~/.local/lib/python3.9/site-packages/pandas/core/indexes/base.py:3363\u001b[0m, in \u001b[0;36mIndex.get_loc\u001b[0;34m(self, key, method, tolerance)\u001b[0m\n\u001b[1;32m   3361\u001b[0m         \u001b[38;5;28;01mreturn\u001b[39;00m \u001b[38;5;28mself\u001b[39m\u001b[38;5;241m.\u001b[39m_engine\u001b[38;5;241m.\u001b[39mget_loc(casted_key)\n\u001b[1;32m   3362\u001b[0m     \u001b[38;5;28;01mexcept\u001b[39;00m \u001b[38;5;167;01mKeyError\u001b[39;00m \u001b[38;5;28;01mas\u001b[39;00m err:\n\u001b[0;32m-> 3363\u001b[0m         \u001b[38;5;28;01mraise\u001b[39;00m \u001b[38;5;167;01mKeyError\u001b[39;00m(key) \u001b[38;5;28;01mfrom\u001b[39;00m \u001b[38;5;21;01merr\u001b[39;00m\n\u001b[1;32m   3365\u001b[0m \u001b[38;5;28;01mif\u001b[39;00m is_scalar(key) \u001b[38;5;129;01mand\u001b[39;00m isna(key) \u001b[38;5;129;01mand\u001b[39;00m \u001b[38;5;129;01mnot\u001b[39;00m \u001b[38;5;28mself\u001b[39m\u001b[38;5;241m.\u001b[39mhasnans:\n\u001b[1;32m   3366\u001b[0m     \u001b[38;5;28;01mraise\u001b[39;00m \u001b[38;5;167;01mKeyError\u001b[39;00m(key)\n",
      "\u001b[0;31mKeyError\u001b[0m: 'data_tags_sequence_type'"
     ]
    }
   ],
   "source": [
    "huawei_df = mlflow_helper.huawei_run_df(\n",
    "    valid_x_columns=[\"log_cluster_template\", \"fine_log_cluster_template\", \"coarse_log_cluster_template\", \"attention_log_cluster_template_90\"],\n",
    "    valid_y_columns=[\"attributes\", \"coarse_log_cluster_template\"],\n",
    "    include_drain_hierarchy=True,\n",
    ")\n",
    "huawei_df = huawei_df[\n",
    "    huawei_df[\"data_params_ModelConfigbase_feature_embeddings_trainable\"].astype(str) == \"False\"\n",
    "]\n",
    "\n",
    "huawei_df.groupby(by=[\n",
    "    \"data_params_SequenceConfigx_sequence_column_name\",\n",
    "    \"data_params_SequenceConfigy_sequence_column_name\",\n",
    "    \"data_tags_model_type\",\n",
    "]).agg({\n",
    "    \"info_run_id\": len\n",
    "})"
   ]
  },
  {
   "cell_type": "markdown",
   "metadata": {},
   "source": [
    "# Drain Hierarchy - Suggested Templates"
   ]
  },
  {
   "cell_type": "code",
   "execution_count": 5,
   "metadata": {},
   "outputs": [
    {
     "ename": "NameError",
     "evalue": "name 'huawei_df' is not defined",
     "output_type": "error",
     "traceback": [
      "\u001b[0;31m---------------------------------------------------------------------------\u001b[0m",
      "\u001b[0;31mNameError\u001b[0m                                 Traceback (most recent call last)",
      "Input \u001b[0;32mIn [5]\u001b[0m, in \u001b[0;36m<cell line: 1>\u001b[0;34m()\u001b[0m\n\u001b[0;32m----> 1\u001b[0m run_id \u001b[38;5;241m=\u001b[39m \u001b[43mhuawei_df\u001b[49m[\n\u001b[1;32m      2\u001b[0m     (huawei_df[\u001b[38;5;124m\"\u001b[39m\u001b[38;5;124mdata_params_SequenceConfigx_sequence_column_name\u001b[39m\u001b[38;5;124m\"\u001b[39m] \u001b[38;5;241m==\u001b[39m \u001b[38;5;124m\"\u001b[39m\u001b[38;5;124mfine_log_cluster_template\u001b[39m\u001b[38;5;124m\"\u001b[39m)\n\u001b[1;32m      3\u001b[0m     \u001b[38;5;241m&\u001b[39m (huawei_df[\u001b[38;5;124m\"\u001b[39m\u001b[38;5;124mdata_params_SequenceConfigy_sequence_column_name\u001b[39m\u001b[38;5;124m\"\u001b[39m] \u001b[38;5;241m==\u001b[39m \u001b[38;5;124m\"\u001b[39m\u001b[38;5;124mattributes\u001b[39m\u001b[38;5;124m\"\u001b[39m)\n\u001b[1;32m      4\u001b[0m     \u001b[38;5;241m&\u001b[39m (huawei_df[\u001b[38;5;124m\"\u001b[39m\u001b[38;5;124mdata_tags_model_type\u001b[39m\u001b[38;5;124m\"\u001b[39m] \u001b[38;5;241m==\u001b[39m \u001b[38;5;124m\"\u001b[39m\u001b[38;5;124mgram_logs\u001b[39m\u001b[38;5;124m\"\u001b[39m)\n\u001b[1;32m      5\u001b[0m ][\u001b[38;5;124m\"\u001b[39m\u001b[38;5;124minfo_run_id\u001b[39m\u001b[38;5;124m\"\u001b[39m]\u001b[38;5;241m.\u001b[39miloc[\u001b[38;5;241m0\u001b[39m]\n\u001b[1;32m      6\u001b[0m run_id\n",
      "\u001b[0;31mNameError\u001b[0m: name 'huawei_df' is not defined"
     ]
    }
   ],
   "source": [
    "run_id = huawei_df[\n",
    "    (huawei_df[\"data_params_SequenceConfigx_sequence_column_name\"] == \"fine_log_cluster_template\")\n",
    "    & (huawei_df[\"data_params_SequenceConfigy_sequence_column_name\"] == \"attributes\")\n",
    "    & (huawei_df[\"data_tags_model_type\"] == \"gram_logs\")\n",
    "][\"info_run_id\"].iloc[0]\n",
    "run_id"
   ]
  },
  {
   "cell_type": "code",
   "execution_count": null,
   "metadata": {},
   "outputs": [],
   "source": [
    "feature_node_mapping = create_graph_visualization(\n",
    "    run_id=run_id, \n",
    "    local_mlflow_dir=mlflow_helper.local_mlflow_dir,\n",
    "    threshold=0.2, \n",
    "    run_name='drain_hierarchy', \n",
    "    use_node_mapping=False)"
   ]
  },
  {
   "cell_type": "code",
   "execution_count": null,
   "metadata": {},
   "outputs": [],
   "source": [
    "original_logs = df = pd.DataFrame(\n",
    "    pd.read_csv('../data/logs_aggregated_concurrent.csv')[\"Payload\"].fillna(\"\").astype(str).replace(np.nan, \"\", regex=True).dropna().drop_duplicates().reset_index(drop=True)\n",
    ")\n",
    "drain = preprocessing.Drain(\n",
    "    preprocessing.DrainParameters(\n",
    "        depth=huawei_df[\n",
    "            huawei_df[\"info_run_id\"] == run_id\n",
    "        ][\"data_params_HuaweiPreprocessorConfigfine_drain_log_depth\"].astype(int).iloc[0],\n",
    "        st=huawei_df[\n",
    "            huawei_df[\"info_run_id\"] == run_id\n",
    "        ][\"data_params_HuaweiPreprocessorConfigfine_drain_log_st\"].astype(float).iloc[0],\n",
    "        rex=[\n",
    "            (\"(/|)([0-9]+\\.){3}[0-9]+(:[0-9]+|)(:|)\", \"\"),\n",
    "            (\"[^a-zA-Z0-9\\-\\.]\", \" \"),\n",
    "            (\"[^a-zA-Z\\d\\s:]\", \"\"),\n",
    "        ],\n",
    "    ),\n",
    "    data_df=original_logs,\n",
    "    data_df_column_name=\"Payload\",\n",
    ")\n",
    "drain_result = drain.load_data().drop_duplicates().set_index(\"log_idx\")\n",
    "log_result_df = pd.merge(\n",
    "    original_logs, \n",
    "    drain_result, \n",
    "    left_index=True, \n",
    "    right_index=True, \n",
    "    how=\"left\"\n",
    ").rename(columns={\n",
    "    \"cluster_template\": \"fine_log_cluster_template\"\n",
    "})[[\"Payload\", \"fine_log_cluster_template\"]]\n",
    "\n",
    "log_result_df"
   ]
  },
  {
   "cell_type": "code",
   "execution_count": null,
   "metadata": {},
   "outputs": [],
   "source": [
    "attention_weights = load_attention_weights(run_id=run_id, local_mlflow_dir=mlflow_helper.local_mlflow_dir)\n",
    "attention_representations = []\n",
    "\n",
    "for fine_template in attention_weights:\n",
    "    best_representation = sorted([(k,float(v)) for k,v in attention_weights[fine_template].items()], key=lambda x: x[1], reverse=True)[0]\n",
    "    attention_representation = {\n",
    "        \"attention_representation_\" + str(x): (best_representation[0] if float(best_representation[1]) > x else fine_template)\n",
    "        for x in [0.5, 0.9]\n",
    "    }\n",
    "    attention_representation[\"fine_log_cluster_template\"] = fine_template[len(\"fine_log_cluster_template#\"):]\n",
    "    attention_representation[\"attention_representation\"] = best_representation[0]\n",
    "    attention_representations.append(attention_representation)\n",
    "\n",
    "pd.DataFrame.from_records(attention_representations)"
   ]
  },
  {
   "cell_type": "code",
   "execution_count": null,
   "metadata": {},
   "outputs": [],
   "source": [
    "def extract_type_template(attention_representation: str):\n",
    "    if \"_log_cluster_template#\" in attention_representation:\n",
    "        splitted = attention_representation.split(\"#\")\n",
    "        return (splitted[0], \" \".join(splitted[1:]))\n",
    "    elif attention_representation.startswith(\"coarse_log_cluster_path#\"):\n",
    "        splitted = attention_representation.split(\"#\")\n",
    "        return (splitted[0], \" \".join(splitted[1:]) + \" ***\")\n",
    "    elif attention_representation.startswith(\"coarse_log_cluster_path->\"):\n",
    "        splitted = attention_representation.split(\"->\")\n",
    "        return (splitted[0] + \"_\" + str(len(splitted)-2), \" \".join(splitted[2:]) + \" ***\")\n",
    "    else:\n",
    "        return (\"???\", attention_representation)"
   ]
  },
  {
   "cell_type": "code",
   "execution_count": null,
   "metadata": {},
   "outputs": [],
   "source": [
    "drain_df = pd.merge(\n",
    "    log_result_df, \n",
    "    pd.DataFrame.from_records(attention_representations),\n",
    "    how=\"left\",\n",
    "    on=\"fine_log_cluster_template\").fillna(\"\")\n",
    "for column in [x for x in drain_df.columns if x.startswith(\"attention_representation\")]:\n",
    "    drain_df[column + \"_type\"] = drain_df[column].apply(lambda x: extract_type_template(str(x))[0])\n",
    "    drain_df[column + \"_template\"] = drain_df[column].apply(lambda x: extract_type_template(str(x))[1])\n",
    "\n",
    "drain_df[[\"attention_representation\", \"attention_representation_type\", \"attention_representation_template\"]].describe()"
   ]
  },
  {
   "cell_type": "code",
   "execution_count": null,
   "metadata": {},
   "outputs": [],
   "source": [
    "drain_grouped = drain_df.groupby(by=[\"attention_representation_type\"]).agg({\n",
    "    \"Payload\": lambda x: len(set(x)),\n",
    "    \"fine_log_cluster_template\": lambda x: len(set(x)), \n",
    "    \"attention_representation_template\": lambda x: len(set(x)),\n",
    "})\n",
    "drain_grouped"
   ]
  },
  {
   "cell_type": "code",
   "execution_count": null,
   "metadata": {},
   "outputs": [],
   "source": [
    "melt_df = drain_grouped.reset_index(drop=False).melt(\n",
    "    id_vars=[\"attention_representation_type\"],\n",
    "    value_vars=[\"Payload\"],# \"fine_log_cluster_template\", \"attention_representation_template\"],\n",
    "    value_name=\"num_examples\",\n",
    "    var_name=\"type\")\n",
    "g = sns.catplot(data=melt_df,\n",
    "    x=\"attention_representation_type\", \n",
    "    y=\"num_examples\",\n",
    "    hue=\"type\",\n",
    "    order=[\n",
    "        \"fine_log_cluster_template\", \"0_log_cluster_template\", \"1_log_cluster_template\", \"2_log_cluster_template\", \n",
    "        \"coarse_log_cluster_template\", \"coarse_log_cluster_path\"\n",
    "    ] + [\"coarse_log_cluster_path_\" + str(x) for x in reversed(range(\n",
    "        max([int(x.split(\"_\")[-1]) for x in drain_grouped.index if x.startswith(\"coarse_log_cluster_path_\")]) + 1\n",
    "    ))],\n",
    "    #col=\"type\",\n",
    "    kind=\"bar\",\n",
    "    sharey=False,\n",
    "    palette=\"Set2\",\n",
    "    legend=False,\n",
    ").set_xticklabels(rotation=90).set_axis_labels(\"\", \"number of log lines\")\n",
    "plt.tight_layout()\n",
    "plt.savefig(\"drain_distribution.png\", dpi=100)"
   ]
  },
  {
   "cell_type": "code",
   "execution_count": null,
   "metadata": {},
   "outputs": [],
   "source": [
    "drain_df[\n",
    "    drain_df[\"attention_representation_type\"] == \"coarse_log_cluster_path_0\"\n",
    "][[\"Payload\", \"attention_representation\"]]"
   ]
  },
  {
   "cell_type": "code",
   "execution_count": null,
   "metadata": {},
   "outputs": [],
   "source": [
    "drain_df[\"attention_log_cluster_template_50\"] = drain_df[\"attention_representation_0.5\"]\n",
    "drain_df[\"attention_log_cluster_template_90\"] = drain_df[\"attention_representation_0.9\"]\n",
    "drain_df[\n",
    "    [\"Payload\", \"attention_log_cluster_template_50\", \"attention_log_cluster_template_90\"]\n",
    "].to_csv(\"drain_attention_clusters.csv\", index=False)"
   ]
  },
  {
   "cell_type": "code",
   "execution_count": null,
   "metadata": {},
   "outputs": [],
   "source": [
    "pd.read_csv(\"drain_attention_clusters.csv\").describe()"
   ]
  },
  {
   "cell_type": "code",
   "execution_count": null,
   "metadata": {},
   "outputs": [],
   "source": [
    "attention_importances = calculate_attention_importances(attention_weights)\n",
    "examples_extensions = [x[0].split(\"#\")[1] for x in attention_importances[\"coarse_log_cluster_path->9->extension\"] if x[1] > 0.9]\n",
    "examples_instance = [x[0].split(\"#\")[1] for x in attention_importances[\"coarse_log_cluster_path->7->instance\"] if x[1] > 0.9]\n",
    "examples_instance2 = [x[0].split(\"#\")[1] for x in attention_importances[\"coarse_log_cluster_path->9->instance->*\"] if x[1] > 0.9]\n",
    "examples_automatically = [x[0].split(\"#\")[1] for x in attention_importances[\"coarse_log_cluster_path->10->automatically\"] if x[1] > 0.9]\n",
    "examples_cleaning= [x[0].split(\"#\")[1] for x in attention_importances[\"coarse_log_cluster_path->4->cleaning->stale\"] if x[1] > 0.9]\n",
    "examples_date = [x[0].split(\"#\")[1] for x in attention_importances[\"coarse_log_cluster_path->17\"] if x[1] > 0.9]\n",
    "\n",
    "examples_date"
   ]
  },
  {
   "cell_type": "code",
   "execution_count": null,
   "metadata": {},
   "outputs": [],
   "source": [
    "attention_weights[\"fine_log_cluster_template#25 nov 2019 19 * * 0100 get v3 auth tokens http 11 200 * * pythonkeystoneclient\"]"
   ]
  },
  {
   "cell_type": "code",
   "execution_count": null,
   "metadata": {},
   "outputs": [],
   "source": [
    "attention_weights[[x for x in attention_importances[\"coarse_log_cluster_path->9->extension\"] if x[1] < 0.9][0][0]]"
   ]
  },
  {
   "cell_type": "code",
   "execution_count": null,
   "metadata": {},
   "outputs": [],
   "source": [
    "[\n",
    "    (x, ys) for x,ys in attention_importances.items() if \n",
    "    \"either ensure your deployment is ready\" in x \n",
    "    and x.startswith(\"coarse_log_cluster_template\") \n",
    "    and \"* * * * * * * * * * * *\" in x\n",
    "    and len([y for y in ys if y[1] > 0.2]) == 3\n",
    "]"
   ]
  },
  {
   "cell_type": "markdown",
   "metadata": {},
   "source": [
    "# Experiment Results"
   ]
  },
  {
   "cell_type": "code",
   "execution_count": null,
   "metadata": {},
   "outputs": [],
   "source": [
    "huawei_metrics_df = mlflow_helper.load_best_metrics_for_ids(set(huawei_df[\"info_run_id\"]))\n",
    "huawei_metrics_df"
   ]
  },
  {
   "cell_type": "code",
   "execution_count": null,
   "metadata": {},
   "outputs": [],
   "source": [
    "sns.catplot(\n",
    "    data=huawei_metrics_df[\n",
    "        (huawei_metrics_df[\"data_params_SequenceConfigx_sequence_column_name\"].apply(lambda x: x != \"log_cluster_template\"))\n",
    "        #& (huawei_metrics_df[\"data_params_SequenceConfigy_sequence_column_name\"].apply(lambda x: x == \"attributes\"))\n",
    "        #& (huawei_metrics_df[\"data_tags_model_type\"].apply(lambda x: x == \"simple\"))\n",
    "    ],\n",
    "    hue=\"data_tags_model_type\", \n",
    "    x=\"data_params_SequenceConfigx_sequence_column_name\",\n",
    "    y=\"val_top_5_categorical_accuracy_history_best\",\n",
    "    row=\"data_params_SequenceConfigy_sequence_column_name\",\n",
    "    order=[\"fine_log_cluster_template\", \"coarse_log_cluster_template\", \"attention_log_cluster_template_90\"],\n",
    "    kind=\"box\",\n",
    "    sharey=\"row\",\n",
    ").set_xticklabels(rotation=90)"
   ]
  },
  {
   "cell_type": "code",
   "execution_count": null,
   "metadata": {},
   "outputs": [],
   "source": [
    "df = huawei_metrics_df.copy()\n",
    "df[\"data_tags_model_type\"] = df[\"data_tags_model_type\"].apply(lambda x: {\n",
    "    \"gram\": \"hierarchy\",\n",
    "}.get(x, x))\n",
    "df[\"data_params_SequenceConfigx_sequence_column_name\"] = df[\"data_params_SequenceConfigx_sequence_column_name\"].apply(lambda x: {\n",
    "    \"log_cluster_template\": \"fine_log_cluster_template\",\n",
    "    \"attention_log_cluster_template_90\": \"attention_log_cluster_template\",\n",
    "}.get(x, x))\n",
    "df[\"Log Template\"] = df[\"data_params_SequenceConfigx_sequence_column_name\"].apply(lambda x: \"attention\" if \"attention\" in x else \"drain\")\n",
    "g = sns.catplot(\n",
    "    data=df[\n",
    "        df[\"data_params_SequenceConfigy_sequence_column_name\"].apply(lambda x: x == \"attributes\")\n",
    "        & df[\"data_tags_model_type\"].apply(lambda x: x == \"simple\")\n",
    "        &  df[\"data_params_ModelConfigbase_hidden_embeddings_trainable\"].apply(lambda x: x == \"False\")\n",
    "    ],\n",
    "    hue=\"Log Template\", \n",
    "    x=\"data_params_SequenceConfigx_sequence_column_name\",\n",
    "    y=\"val_top_5_categorical_accuracy_history_best\",\n",
    "    row=\"data_params_SequenceConfigy_sequence_column_name\",\n",
    "    order=[\"fine_log_cluster_template\", \"coarse_log_cluster_template\", \"attention_log_cluster_template\"],\n",
    "    kind=\"box\",\n",
    "    palette=\"Set2\",\n",
    "    dodge=False,\n",
    ").set_xticklabels(rotation=45).set_titles(\"\").set_axis_labels('', \"val_top_5_categorical_accuracy\")\n",
    "plt.savefig(\"drain_results.png\", dpi=100, bbox_inches=\"tight\")\n",
    "plt.show()"
   ]
  },
  {
   "cell_type": "markdown",
   "metadata": {},
   "source": [
    "# Using MIMIC Clusters as Inputs"
   ]
  },
  {
   "cell_type": "code",
   "execution_count": null,
   "metadata": {},
   "outputs": [],
   "source": [
    "hierarchy = pd.read_csv('../data/hierarchy_icd9.csv')\n",
    "hierarchy[hierarchy[\"level_0\"] == \"976.1\"].iloc[0].to_dict()"
   ]
  },
  {
   "cell_type": "code",
   "execution_count": null,
   "metadata": {},
   "outputs": [],
   "source": [
    "mimic_df = mlflow_helper.mimic_run_df()\n",
    "example_mimic_run_id = mimic_df[\n",
    "    (mimic_df[\"data_params_ModelConfigbase_feature_embeddings_trainable\"] == \"False\")\n",
    "    & (mimic_df[\"data_tags_model_type\"] == \"gram\")\n",
    "    & (mimic_df[\"data_params_SequenceConfigx_sequence_column_name\"] == \"level_0\")\n",
    "][\"info_run_id\"].iloc[2]\n",
    "\n",
    "attention_weights = load_attention_weights(example_mimic_run_id, mlflow_helper.local_mlflow_dir)\n",
    "frequencies = load_input_frequency_dict(example_mimic_run_id, mlflow_helper.local_mlflow_dir)\n",
    "hierarchy = pd.read_csv('../data/hierarchy_icd9.csv')\n",
    "\n",
    "attention_representations = []\n",
    "diff_09 = []\n",
    "diff_05 = []\n",
    "for input in attention_weights:\n",
    "    levels = hierarchy[hierarchy[\"level_0\"] == input].iloc[0].to_dict()\n",
    "    best_representation = sorted([(k,float(v)) for k,v in attention_weights[input].items()], key=lambda x: x[1], reverse=True)[0]\n",
    "    attention_representation = {\n",
    "        \"attention_representation_\" + str(x): (best_representation[0] if float(best_representation[1]) > x else input)\n",
    "        for x in [0.5, 0.9]\n",
    "    }\n",
    "    attention_representation[\"original_level_cluster\"] = input\n",
    "    attention_representation[\"attention_representation\"] = best_representation[0]\n",
    "    for key in set(attention_representation.keys()):\n",
    "        attention_representation[key + \"_level\"] = sorted([\n",
    "            x for x in levels if levels[x] == attention_representation[key]\n",
    "        ])[0]\n",
    "\n",
    "    if attention_representation[\"attention_representation\"] != attention_representation[\"attention_representation_0.9\"]:\n",
    "        diff_09.append(input)\n",
    "        \n",
    "    if attention_representation[\"attention_representation\"] != attention_representation[\"attention_representation_0.5\"]:\n",
    "        diff_05.append(input)\n",
    "        \n",
    "    attention_representations.append(attention_representation)\n",
    "\n",
    "print(len(diff_05))\n",
    "print(len(diff_09))\n",
    "pd.DataFrame.from_records(attention_representations).to_csv(\"gram_attention_levels2.csv\", index=False)\n",
    "icd_df = pd.read_csv(\"gram_attention_levels2.csv\")\n",
    "icd_df.head()"
   ]
  },
  {
   "cell_type": "code",
   "execution_count": null,
   "metadata": {},
   "outputs": [],
   "source": [
    "icd_df_grouped = icd_df.groupby(by=[\"attention_representation_level\"]).agg({\n",
    "    \"original_level_cluster\": lambda x: len(set(x)),\n",
    "})\n",
    "icd_df_grouped"
   ]
  },
  {
   "cell_type": "code",
   "execution_count": null,
   "metadata": {},
   "outputs": [],
   "source": [
    "melt_df = icd_df_grouped.reset_index(drop=False).melt(\n",
    "    id_vars=[\"attention_representation_level\"],\n",
    "    value_vars=[\"original_level_cluster\"],# \"fine_log_cluster_template\", \"attention_representation_template\"],\n",
    "    value_name=\"num_examples\",\n",
    "    var_name=\"type\")\n",
    "g = sns.catplot(data=melt_df,\n",
    "    x=\"attention_representation_level\", \n",
    "    y=\"num_examples\",\n",
    "    hue=\"type\",\n",
    "    order=[\n",
    "        \"level_0\", \"level_1\", \"level_2\", 'level_3', \"level_4\"\n",
    "    ],\n",
    "    #col=\"type\",\n",
    "    kind=\"bar\",\n",
    "    sharey=False,\n",
    "    palette=\"Set2\",\n",
    "    legend=False,\n",
    ").set_xticklabels(rotation=90).set_axis_labels(\"\", \"number of level_0 features\")\n",
    "plt.tight_layout()\n",
    "plt.savefig(\"icd_distribution.png\", dpi=100)"
   ]
  },
  {
   "cell_type": "code",
   "execution_count": null,
   "metadata": {},
   "outputs": [],
   "source": [
    "mimic_df = mlflow_helper.mimic_run_df(    \n",
    "    valid_x_columns=[\"level_0\", \"level_1\", \"level_2\", \"level_3\", \"attention_representation\", \"attention_representation_0.5\", \"attention_representation_0.9\"],\n",
    ")\n",
    "mimic_df = mimic_df[\n",
    "    mimic_df[\"data_params_ModelConfigbase_feature_embeddings_trainable\"].astype(str) == \"False\"\n",
    "]\n",
    "mimic_df = mlflow_helper.load_best_metrics_for_ids(set(mimic_df[\"info_run_id\"]))\n",
    "mimic_df"
   ]
  },
  {
   "cell_type": "code",
   "execution_count": null,
   "metadata": {},
   "outputs": [],
   "source": [
    "sns.catplot(\n",
    "    data=mimic_df,\n",
    "    hue=\"data_tags_model_type\", \n",
    "    x=\"data_params_SequenceConfigx_sequence_column_name\",\n",
    "    y=\"val_top_20_categorical_accuracy_history_best\",\n",
    "    #row=\"data_params_SequenceConfigy_sequence_column_name\",\n",
    "    order=[\"level_0\", \"level_1\", \"level_2\", \"attention_representation\", \"attention_representation_0.9\", \"attention_representation_0.5\"],\n",
    "    kind=\"box\",\n",
    "    sharey=\"row\",\n",
    ").set_xticklabels(rotation=90)"
   ]
  },
  {
   "cell_type": "code",
   "execution_count": null,
   "metadata": {},
   "outputs": [],
   "source": [
    "sns.catplot(\n",
    "    data=mimic_df[\n",
    "        mimic_df[\"data_tags_model_type\"] == \"simple\"\n",
    "    ],\n",
    "    #hue=\"data_tags_model_type\", \n",
    "    x=\"data_params_SequenceConfigx_sequence_column_name\",\n",
    "    y=\"val_top_20_categorical_accuracy_history_best\",\n",
    "    #row=\"data_params_SequenceConfigy_sequence_column_name\",\n",
    "    order=[\"level_0\", \"level_1\", \"attention_representation\"],\n",
    "    kind=\"box\",\n",
    "    sharey=\"row\",\n",
    ").set_xticklabels(rotation=90)"
   ]
  },
  {
   "cell_type": "code",
   "execution_count": null,
   "metadata": {},
   "outputs": [],
   "source": [
    "df = mimic_df.copy()\n",
    "df[\"Input Feature\"] = df[\"data_params_SequenceConfigx_sequence_column_name\"].apply(lambda x: \"ICD9\" if \"attention\" not in x else \"attention\")\n",
    "g = sns.catplot(\n",
    "    data=df[\n",
    "        df[\"data_params_SequenceConfigy_sequence_column_name\"].apply(lambda x: x == \"level_3\")\n",
    "        & df[\"data_tags_model_type\"].apply(lambda x: x == \"simple\")\n",
    "        &  df[\"data_params_ModelConfigbase_hidden_embeddings_trainable\"].apply(lambda x: x == \"False\")\n",
    "    ],\n",
    "    hue=\"Input Feature\", \n",
    "    x=\"data_params_SequenceConfigx_sequence_column_name\",\n",
    "    y=\"val_top_20_categorical_accuracy_history_best\",\n",
    "    #row=\"data_params_SequenceConfigy_sequence_column_name\",\n",
    "    order=[\"level_0\", \"level_1\", \"level_2\", \"attention_representation\"],\n",
    "    hue_order=[\"ICD9\", \"attention\"],\n",
    "    kind=\"box\",\n",
    "    palette=\"Set2\",\n",
    "    dodge=False,\n",
    ").set_xticklabels(rotation=45).set_titles(\"\").set_axis_labels('', \"val_top_20_categorical_accuracy\")\n",
    "plt.savefig(\"mimic_results.png\", dpi=100, bbox_inches=\"tight\")\n",
    "plt.show()"
   ]
  }
 ],
 "metadata": {
  "interpreter": {
   "hash": "73b5e93e154d2b3bebada531bd37ae367fe461e3b71c186231ccdab3aa47e3f0"
  },
  "kernelspec": {
   "display_name": "Python 3 (ipykernel)",
   "language": "python",
   "name": "python3"
  },
  "language_info": {
   "codemirror_mode": {
    "name": "ipython",
    "version": 3
   },
   "file_extension": ".py",
   "mimetype": "text/x-python",
   "name": "python",
   "nbconvert_exporter": "python",
   "pygments_lexer": "ipython3",
   "version": "3.9.12"
  }
 },
 "nbformat": 4,
 "nbformat_minor": 2
}
