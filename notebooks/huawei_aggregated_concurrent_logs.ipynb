{
 "metadata": {
  "language_info": {
   "codemirror_mode": {
    "name": "ipython",
    "version": 3
   },
   "file_extension": ".py",
   "mimetype": "text/x-python",
   "name": "python",
   "nbconvert_exporter": "python",
   "pygments_lexer": "ipython3",
   "version": "3.8.8"
  },
  "orig_nbformat": 2,
  "kernelspec": {
   "name": "python388jvsc74a57bd09d90ef2e2544a65949a5382aa665e8a895142ccb15d506742792c571feba52d3",
   "display_name": "Python 3.8.8 64-bit (conda)"
  }
 },
 "nbformat": 4,
 "nbformat_minor": 2,
 "cells": [
  {
   "cell_type": "code",
   "execution_count": null,
   "metadata": {},
   "outputs": [],
   "source": [
    "import pandas as pd\n",
    "from collections import Counter"
   ]
  },
  {
   "cell_type": "code",
   "execution_count": null,
   "metadata": {},
   "outputs": [],
   "source": [
    "df = pd.read_csv('../data/logs_aggregated_concurrent.csv')\n",
    "print(df.columns)\n",
    "df.head()"
   ]
  },
  {
   "cell_type": "code",
   "execution_count": null,
   "metadata": {},
   "outputs": [],
   "source": [
    "df[df['log_level'].notnull()]"
   ]
  },
  {
   "cell_type": "code",
   "execution_count": null,
   "metadata": {},
   "outputs": [],
   "source": [
    "set(df[df['python_module'].notnull()]['python_module'])"
   ]
  },
  {
   "cell_type": "code",
   "execution_count": null,
   "metadata": {},
   "outputs": [],
   "source": [
    "print(len(df[df['@timestamp'].isna()]))\n",
    "pd.to_datetime(df['@timestamp'])"
   ]
  },
  {
   "cell_type": "code",
   "execution_count": null,
   "metadata": {},
   "outputs": [],
   "source": [
    "rel_df = df[['Hostname', 'log_level', 'programname', 'python_module', 'http_status', 'http_method']]\n",
    "rel_df['DateTime'] = pd.to_datetime(df['@timestamp'])\n",
    "rel_df = rel_df.fillna('')\n",
    "rel_df['log_level'] = rel_df['log_level'].apply(lambda x: x.upper())\n",
    "rel_df['http_method'] = rel_df['http_method'].apply(lambda x: x.upper())\n",
    "rel_df = rel_df.sort_values(by='DateTime')\n",
    "rel_df"
   ]
  },
  {
   "cell_type": "code",
   "execution_count": null,
   "metadata": {},
   "outputs": [],
   "source": [
    "import http\n",
    "import re\n",
    "\n",
    "http_descriptions = {}\n",
    "for status in list(http.HTTPStatus):\n",
    "    http_descriptions[str(status.value) + '.0'] = status.name.lower().replace('_', ' ')\n",
    "\n",
    "descriptions = {}\n",
    "for column in ['Hostname', 'log_level', 'programname', 'python_module', 'http_status', 'http_method']:\n",
    "    values = set(rel_df[column].dropna())\n",
    "    values = set([str(x).lower() for x in values if len(str(x)) > 0])\n",
    "    for value in values:\n",
    "        if column == 'Hostname':\n",
    "            name = value.rstrip('0123456789')\n",
    "            number = value[len(name):]\n",
    "            descriptions[value] = name + ' ' + number\n",
    "        elif column == 'http_status':\n",
    "            descriptions[value] = http_descriptions[value]\n",
    "        else:\n",
    "            descriptions[value] = ' '.join(re.split('[,._-]+', value))\n",
    "    \n",
    "descriptions"
   ]
  },
  {
   "cell_type": "code",
   "execution_count": null,
   "metadata": {},
   "outputs": [],
   "source": [
    "labels = rel_df.drop(columns=['DateTime']).values.tolist()\n",
    "labels = [[str(l) for l in label_list if len(str(l)) > 0] for label_list in labels]\n",
    "labels_df = pd.DataFrame(data={\n",
    "    'labels': labels\n",
    "})\n",
    "labels_df"
   ]
  },
  {
   "cell_type": "code",
   "execution_count": null,
   "metadata": {},
   "outputs": [],
   "source": [
    "max_sequence_length = 5\n",
    "num_datapoints = len(labels)\n",
    "next_start_idx = 0\n",
    "next_end_idx = min(max_sequence_length, num_datapoints)\n",
    "subsequences = []\n",
    "while next_end_idx < num_datapoints:\n",
    "    subsequences.append(labels[next_start_idx:next_end_idx])\n",
    "    next_start_idx = next_end_idx\n",
    "    next_end_idx = min(next_end_idx + max_sequence_length, num_datapoints)\n",
    "\n",
    "pd.DataFrame(data={\n",
    "    'sequences': subsequences\n",
    "})"
   ]
  },
  {
   "cell_type": "code",
   "execution_count": null,
   "metadata": {},
   "outputs": [],
   "source": [
    "program_names = [x for x in set(rel_df['programname']) if len(x) > 0]\n",
    "program_name_parts = []\n",
    "rel_program_name_parts = []\n",
    "\n",
    "for program_name in program_names:\n",
    "    parts = program_name.split('-')\n",
    "    program_name_parts.append(parts[0])\n",
    "    rel_program_name_parts.append(parts[0])\n",
    "    for i in range(2, len(parts)+1):\n",
    "        program_name_parts.append('-'.join(parts[:i]))\n",
    "\n",
    "Counter(program_name_parts)"
   ]
  },
  {
   "cell_type": "code",
   "execution_count": null,
   "metadata": {},
   "outputs": [],
   "source": [
    "import re\n",
    "\n",
    "hierarchy_df = pd.DataFrame(columns=['parent', 'child'])\n",
    "for column in ['programname']:#['Hostname', 'log_level', 'programname', 'python_module', 'http_status', 'http_method']:\n",
    "    hierarchy_df = hierarchy_df.append({\n",
    "        'parent': 'root',\n",
    "        'child': column,\n",
    "    }, ignore_index=True)\n",
    "\n",
    "    values = set(rel_df[column].dropna())\n",
    "    values = set([str(x).lower() for x in values if len(str(x)) > 0])\n",
    "    for value in values:\n",
    "        hierarchy_elements = [column]\n",
    "        if column == 'Hostname':\n",
    "            hierarchy_elements.append(value.rstrip('0123456789'))\n",
    "        elif column == 'http_status':\n",
    "            hierarchy_elements.append(value[0] + '00')\n",
    "        else:\n",
    "            hierarchy_elements = hierarchy_elements + re.split('[,._-]+', value)\n",
    "        hierarchy_elements.append(value)\n",
    "\n",
    "        hierarchy = []\n",
    "        for i in range(1, len(hierarchy_elements)):\n",
    "            hierarchy.append('->'.join(hierarchy_elements[0:i]))\n",
    "\n",
    "        print(hierarchy)\n",
    "        parent = column\n",
    "        for i in range(len(hierarchy)):\n",
    "            child = hierarchy[i]\n",
    "            if not parent == child: \n",
    "                hierarchy_df = hierarchy_df.append({\n",
    "                    'parent': parent,\n",
    "                    'child': hierarchy[i],\n",
    "                }, ignore_index=True)\n",
    "            parent = hierarchy[i]\n",
    "\n",
    "        \n",
    "\n",
    "hierarchy_df"
   ]
  }
 ]
}