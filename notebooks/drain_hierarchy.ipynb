{
 "cells": [
  {
   "cell_type": "code",
   "execution_count": 10,
   "metadata": {},
   "outputs": [],
   "source": [
    "import seaborn as sns\n",
    "import matplotlib.pyplot as plt\n",
    "import pandas as pd\n",
    "import numpy as np\n",
    "import sys\n",
    "import os\n",
    "\n",
    "module_path = os.path.abspath(os.path.join('..'))\n",
    "if module_path not in sys.path:\n",
    "    sys.path.append(module_path)\n",
    "\n",
    "from src.features import preprocessing"
   ]
  },
  {
   "cell_type": "code",
   "execution_count": 11,
   "metadata": {},
   "outputs": [],
   "source": [
    "%run utils/base.py\n",
    "%run utils/loading.py\n",
    "%run utils/attention_graph.py\n",
    "%run utils/mlflow_query.py"
   ]
  },
  {
   "cell_type": "code",
   "execution_count": 115,
   "metadata": {},
   "outputs": [
    {
     "name": "stdout",
     "output_type": "stream",
     "text": [
      "Initialized with 98 MLFlow runs from pkl\n"
     ]
    },
    {
     "name": "stderr",
     "output_type": "stream",
     "text": [
      "Querying data per run...: 0it [00:00, ?it/s]\n"
     ]
    },
    {
     "name": "stdout",
     "output_type": "stream",
     "text": [
      "Queried 98 runs from MLFlow for mimic\n"
     ]
    },
    {
     "name": "stderr",
     "output_type": "stream",
     "text": [
      "Querying data per run...:   0%|          | 0/87 [00:00<?, ?it/s]/home/i40/pacev/Domain-Guided-Monitoring/notebooks/utils/mlflow_query.py:122: FutureWarning: The frame.append method is deprecated and will be removed from pandas in a future version. Use pandas.concat instead.\n",
      "  self.run_df = self.run_df.append(\n",
      "/home/i40/pacev/Domain-Guided-Monitoring/notebooks/utils/mlflow_query.py:122: FutureWarning: The frame.append method is deprecated and will be removed from pandas in a future version. Use pandas.concat instead.\n",
      "  self.run_df = self.run_df.append(\n",
      "/home/i40/pacev/Domain-Guided-Monitoring/notebooks/utils/mlflow_query.py:122: FutureWarning: The frame.append method is deprecated and will be removed from pandas in a future version. Use pandas.concat instead.\n",
      "  self.run_df = self.run_df.append(\n",
      "/home/i40/pacev/Domain-Guided-Monitoring/notebooks/utils/mlflow_query.py:122: FutureWarning: The frame.append method is deprecated and will be removed from pandas in a future version. Use pandas.concat instead.\n",
      "  self.run_df = self.run_df.append(\n",
      "/home/i40/pacev/Domain-Guided-Monitoring/notebooks/utils/mlflow_query.py:122: FutureWarning: The frame.append method is deprecated and will be removed from pandas in a future version. Use pandas.concat instead.\n",
      "  self.run_df = self.run_df.append(\n",
      "Querying data per run...: 100%|██████████| 87/87 [00:00<00:00, 801.46it/s]"
     ]
    },
    {
     "name": "stdout",
     "output_type": "stream",
     "text": [
      "Queried 103 runs from MLFlow for huawei_logs\n"
     ]
    },
    {
     "name": "stderr",
     "output_type": "stream",
     "text": [
      "\n"
     ]
    }
   ],
   "source": [
    "mlflow_helper = MlflowHelper(pkl_file=Path(\"mlflow_run_df.pkl\"))\n",
    "mlflow_helper.query_valid_runs(pkl_file=Path(\"mlflow_run_df.pkl\"))"
   ]
  },
  {
   "cell_type": "code",
   "execution_count": 116,
   "metadata": {},
   "outputs": [
    {
     "data": {
      "text/html": [
       "<div>\n",
       "<style scoped>\n",
       "    .dataframe tbody tr th:only-of-type {\n",
       "        vertical-align: middle;\n",
       "    }\n",
       "\n",
       "    .dataframe tbody tr th {\n",
       "        vertical-align: top;\n",
       "    }\n",
       "\n",
       "    .dataframe thead th {\n",
       "        text-align: right;\n",
       "    }\n",
       "</style>\n",
       "<table border=\"1\" class=\"dataframe\">\n",
       "  <thead>\n",
       "    <tr style=\"text-align: right;\">\n",
       "      <th></th>\n",
       "      <th></th>\n",
       "      <th></th>\n",
       "      <th>info_run_id</th>\n",
       "    </tr>\n",
       "    <tr>\n",
       "      <th>data_params_SequenceConfigx_sequence_column_name</th>\n",
       "      <th>data_params_SequenceConfigy_sequence_column_name</th>\n",
       "      <th>data_tags_model_type</th>\n",
       "      <th></th>\n",
       "    </tr>\n",
       "  </thead>\n",
       "  <tbody>\n",
       "    <tr>\n",
       "      <th rowspan=\"2\" valign=\"top\"></th>\n",
       "      <th rowspan=\"2\" valign=\"top\">attributes</th>\n",
       "      <th>gram</th>\n",
       "      <td>7</td>\n",
       "    </tr>\n",
       "    <tr>\n",
       "      <th>simple</th>\n",
       "      <td>9</td>\n",
       "    </tr>\n",
       "  </tbody>\n",
       "</table>\n",
       "</div>"
      ],
      "text/plain": [
       "                                                                                                                        info_run_id\n",
       "data_params_SequenceConfigx_sequence_column_name data_params_SequenceConfigy_sequence_column_name data_tags_model_type             \n",
       "                                                 attributes                                       gram                            7\n",
       "                                                                                                  simple                          9"
      ]
     },
     "execution_count": 116,
     "metadata": {},
     "output_type": "execute_result"
    }
   ],
   "source": [
    "huawei_df = mlflow_helper.huawei_run_df(\n",
    "    valid_x_columns=[\"fine_log_cluster_template\", \"coarse_log_cluster_template\", \"\"],\n",
    "    valid_y_columns=[\"attributes\", \"coarse_log_cluster_template\"],\n",
    "    include_drain_hierarchy=True,\n",
    ")\n",
    "huawei_df = huawei_df[\n",
    "    huawei_df[\"data_params_ModelConfigbase_feature_embeddings_trainable\"].astype(str) == \"True\"\n",
    "]\n",
    "\n",
    "huawei_df.groupby(by=[\n",
    "    \"data_params_SequenceConfigx_sequence_column_name\",\n",
    "    \"data_params_SequenceConfigy_sequence_column_name\",\n",
    "    \"data_tags_model_type\",\n",
    "]).agg({\n",
    "    \"info_run_id\": len\n",
    "})"
   ]
  },
  {
   "cell_type": "markdown",
   "metadata": {},
   "source": [
    "# Drain Hierarchy - Suggested Templates"
   ]
  },
  {
   "cell_type": "code",
   "execution_count": 117,
   "metadata": {},
   "outputs": [
    {
     "data": {
      "text/plain": [
       "'3e3e48fb04334e848f370eb30f0cc0a6'"
      ]
     },
     "execution_count": 117,
     "metadata": {},
     "output_type": "execute_result"
    }
   ],
   "source": [
    "run_id = huawei_df[\n",
    "    (huawei_df[\"data_params_SequenceConfigx_sequence_column_name\"] == \"\")\n",
    "    & (huawei_df[\"data_params_SequenceConfigy_sequence_column_name\"] == \"attributes\")\n",
    "    & (huawei_df[\"data_tags_model_type\"] == \"gram\")\n",
    "][\"info_run_id\"].iloc[0]\n",
    "run_id"
   ]
  },
  {
   "cell_type": "code",
   "execution_count": 76,
   "metadata": {},
   "outputs": [
    {
     "name": "stdout",
     "output_type": "stream",
     "text": [
      "../mlruns/719923802334351993/3e3e48fb04334e848f370eb30f0cc0a6/artifacts/attention.json\n"
     ]
    }
   ],
   "source": [
    "feature_node_mapping = create_graph_visualization(\n",
    "    run_id=run_id, \n",
    "    local_mlflow_dir=mlflow_helper.local_mlflow_dir,\n",
    "    threshold=0.2, \n",
    "    run_name='drain_hierarchy', \n",
    "    use_node_mapping=False)"
   ]
  },
  {
   "cell_type": "code",
   "execution_count": 76,
   "metadata": {},
   "outputs": [],
   "source": []
  },
  {
   "cell_type": "code",
   "execution_count": 118,
   "metadata": {},
   "outputs": [
    {
     "name": "stderr",
     "output_type": "stream",
     "text": [
      "/tmp/ipykernel_178971/1332554428.py:2: DtypeWarning: Columns (23,24,25,28) have mixed types. Specify dtype option on import or set low_memory=False.\n",
      "  pd.read_csv('../data/logs_aggregated_concurrent.csv')[\"Payload\"].fillna(\"\").astype(str).replace(np.nan, \"\", regex=True).dropna().drop_duplicates().reset_index(drop=True)\n",
      "Generating DRAIN clusters from log_df: 100%|██████████| 152373/152373 [00:14<00:00, 10609.90it/s]\n"
     ]
    },
    {
     "data": {
      "text/html": [
       "<div>\n",
       "<style scoped>\n",
       "    .dataframe tbody tr th:only-of-type {\n",
       "        vertical-align: middle;\n",
       "    }\n",
       "\n",
       "    .dataframe tbody tr th {\n",
       "        vertical-align: top;\n",
       "    }\n",
       "\n",
       "    .dataframe thead th {\n",
       "        text-align: right;\n",
       "    }\n",
       "</style>\n",
       "<table border=\"1\" class=\"dataframe\">\n",
       "  <thead>\n",
       "    <tr style=\"text-align: right;\">\n",
       "      <th></th>\n",
       "      <th>Payload</th>\n",
       "      <th>fine_log_cluster_template</th>\n",
       "    </tr>\n",
       "  </thead>\n",
       "  <tbody>\n",
       "    <tr>\n",
       "      <th>0</th>\n",
       "      <td>Security group rule updated ['78c81907-a991-41...</td>\n",
       "      <td>security group rule updated *</td>\n",
       "    </tr>\n",
       "    <tr>\n",
       "      <th>1</th>\n",
       "      <td>Could not find domain: Default.: DomainNotFoun...</td>\n",
       "      <td>could not find domain default domainnotfound c...</td>\n",
       "    </tr>\n",
       "    <tr>\n",
       "      <th>2</th>\n",
       "      <td>172.17.0.2 - - [25/Nov/2019 15:01:48] \"GET /v2...</td>\n",
       "      <td>25 nov 2019 * 01 * get v2 schemas image http 1...</td>\n",
       "    </tr>\n",
       "    <tr>\n",
       "      <th>3</th>\n",
       "      <td>http://130.149.249.123:8774/v2.1/dbf4ab7d6e844...</td>\n",
       "      <td>http v21 * servers returned with http 500</td>\n",
       "    </tr>\n",
       "    <tr>\n",
       "      <th>4</th>\n",
       "      <td>Unexpected exception in API method: HTTPIntern...</td>\n",
       "      <td>unexpected exception in api method httpinterna...</td>\n",
       "    </tr>\n",
       "    <tr>\n",
       "      <th>...</th>\n",
       "      <td>...</td>\n",
       "      <td>...</td>\n",
       "    </tr>\n",
       "    <tr>\n",
       "      <th>152368</th>\n",
       "      <td>130.149.249.127 \"GET /v2.0/networks?tenant_id=...</td>\n",
       "      <td>get v20 networks tenant id * shared false http...</td>\n",
       "    </tr>\n",
       "    <tr>\n",
       "      <th>152369</th>\n",
       "      <td>- - - [25/Nov/2019:20:55:57 +0100] \"GET /resou...</td>\n",
       "      <td>25 nov 2019 20 * * 0100 get resource providers...</td>\n",
       "    </tr>\n",
       "    <tr>\n",
       "      <th>152370</th>\n",
       "      <td>130.149.249.132 \"GET /v2.0/ports?tenant_id=321...</td>\n",
       "      <td>get v20 ports tenant id * device id * http 11 ...</td>\n",
       "    </tr>\n",
       "    <tr>\n",
       "      <th>152371</th>\n",
       "      <td>- - - [25/Nov/2019:20:56:38 +0100] \"GET /resou...</td>\n",
       "      <td>25 nov 2019 20 * * 0100 get resource providers...</td>\n",
       "    </tr>\n",
       "    <tr>\n",
       "      <th>152372</th>\n",
       "      <td>- - - [25/Nov/2019:20:56:38 +0100] \"GET /resou...</td>\n",
       "      <td>25 nov 2019 20 * * 0100 get resource providers...</td>\n",
       "    </tr>\n",
       "  </tbody>\n",
       "</table>\n",
       "<p>152373 rows × 2 columns</p>\n",
       "</div>"
      ],
      "text/plain": [
       "                                                  Payload  \\\n",
       "0       Security group rule updated ['78c81907-a991-41...   \n",
       "1       Could not find domain: Default.: DomainNotFoun...   \n",
       "2       172.17.0.2 - - [25/Nov/2019 15:01:48] \"GET /v2...   \n",
       "3       http://130.149.249.123:8774/v2.1/dbf4ab7d6e844...   \n",
       "4       Unexpected exception in API method: HTTPIntern...   \n",
       "...                                                   ...   \n",
       "152368  130.149.249.127 \"GET /v2.0/networks?tenant_id=...   \n",
       "152369  - - - [25/Nov/2019:20:55:57 +0100] \"GET /resou...   \n",
       "152370  130.149.249.132 \"GET /v2.0/ports?tenant_id=321...   \n",
       "152371  - - - [25/Nov/2019:20:56:38 +0100] \"GET /resou...   \n",
       "152372  - - - [25/Nov/2019:20:56:38 +0100] \"GET /resou...   \n",
       "\n",
       "                                fine_log_cluster_template  \n",
       "0                           security group rule updated *  \n",
       "1       could not find domain default domainnotfound c...  \n",
       "2       25 nov 2019 * 01 * get v2 schemas image http 1...  \n",
       "3               http v21 * servers returned with http 500  \n",
       "4       unexpected exception in api method httpinterna...  \n",
       "...                                                   ...  \n",
       "152368  get v20 networks tenant id * shared false http...  \n",
       "152369  25 nov 2019 20 * * 0100 get resource providers...  \n",
       "152370  get v20 ports tenant id * device id * http 11 ...  \n",
       "152371  25 nov 2019 20 * * 0100 get resource providers...  \n",
       "152372  25 nov 2019 20 * * 0100 get resource providers...  \n",
       "\n",
       "[152373 rows x 2 columns]"
      ]
     },
     "execution_count": 118,
     "metadata": {},
     "output_type": "execute_result"
    }
   ],
   "source": [
    "original_logs = df = pd.DataFrame(\n",
    "    pd.read_csv('../data/logs_aggregated_concurrent.csv')[\"Payload\"].fillna(\"\").astype(str).replace(np.nan, \"\", regex=True).dropna().drop_duplicates().reset_index(drop=True)\n",
    ")\n",
    "drain = preprocessing.Drain(\n",
    "    preprocessing.DrainParameters(\n",
    "        depth=huawei_df[\n",
    "            huawei_df[\"info_run_id\"] == run_id\n",
    "        ][\"data_params_HuaweiPreprocessorConfigfine_drain_log_depth\"].astype(int).iloc[0],\n",
    "        st=huawei_df[\n",
    "            huawei_df[\"info_run_id\"] == run_id\n",
    "        ][\"data_params_HuaweiPreprocessorConfigfine_drain_log_st\"].astype(float).iloc[0],\n",
    "        rex=[\n",
    "            (\"(/|)([0-9]+\\.){3}[0-9]+(:[0-9]+|)(:|)\", \"\"),\n",
    "            (\"[^a-zA-Z0-9\\-\\.]\", \" \"),\n",
    "            (\"[^a-zA-Z\\d\\s:]\", \"\"),\n",
    "        ],\n",
    "    ),\n",
    "    data_df=original_logs,\n",
    "    data_df_column_name=\"Payload\",\n",
    ")\n",
    "drain_result = drain.load_data().drop_duplicates().set_index(\"log_idx\")\n",
    "log_result_df = pd.merge(\n",
    "    original_logs, \n",
    "    drain_result, \n",
    "    left_index=True, \n",
    "    right_index=True, \n",
    "    how=\"left\"\n",
    ").rename(columns={\n",
    "    \"cluster_template\": \"fine_log_cluster_template\"\n",
    "})[[\"Payload\", \"fine_log_cluster_template\"]]\n",
    "\n",
    "log_result_df"
   ]
  },
  {
   "cell_type": "code",
   "execution_count": 119,
   "metadata": {},
   "outputs": [
    {
     "name": "stdout",
     "output_type": "stream",
     "text": [
      "../mlruns/719923802334351993/3e3e48fb04334e848f370eb30f0cc0a6/artifacts/attention.json\n"
     ]
    },
    {
     "data": {
      "text/html": [
       "<div>\n",
       "<style scoped>\n",
       "    .dataframe tbody tr th:only-of-type {\n",
       "        vertical-align: middle;\n",
       "    }\n",
       "\n",
       "    .dataframe tbody tr th {\n",
       "        vertical-align: top;\n",
       "    }\n",
       "\n",
       "    .dataframe thead th {\n",
       "        text-align: right;\n",
       "    }\n",
       "</style>\n",
       "<table border=\"1\" class=\"dataframe\">\n",
       "  <thead>\n",
       "    <tr style=\"text-align: right;\">\n",
       "      <th></th>\n",
       "      <th>attention_representation_0.5</th>\n",
       "      <th>attention_representation_0.9</th>\n",
       "      <th>fine_log_cluster_template</th>\n",
       "      <th>attention_representation</th>\n",
       "    </tr>\n",
       "  </thead>\n",
       "  <tbody>\n",
       "    <tr>\n",
       "      <th>0</th>\n",
       "      <td>fine_log_cluster_template#skipping periodic ta...</td>\n",
       "      <td>fine_log_cluster_template#skipping periodic ta...</td>\n",
       "      <td>skipping periodic task discover hosts in cells...</td>\n",
       "      <td>programname-&gt;nova-&gt;scheduler</td>\n",
       "    </tr>\n",
       "    <tr>\n",
       "      <th>1</th>\n",
       "      <td>fine_log_cluster_template#25 nov 2019 18 23 * ...</td>\n",
       "      <td>fine_log_cluster_template#25 nov 2019 18 23 * ...</td>\n",
       "      <td>25 nov 2019 18 23 * delete v2 images * http 11...</td>\n",
       "      <td>fine_log_cluster_template#25 nov 2019 18 23 * ...</td>\n",
       "    </tr>\n",
       "    <tr>\n",
       "      <th>2</th>\n",
       "      <td>programname-&gt;heat-&gt;engine</td>\n",
       "      <td>fine_log_cluster_template#registered plugin us...</td>\n",
       "      <td>registered plugin user false os glance image c...</td>\n",
       "      <td>programname-&gt;heat-&gt;engine</td>\n",
       "    </tr>\n",
       "    <tr>\n",
       "      <th>3</th>\n",
       "      <td>coarse_log_cluster_template#extension qosrulet...</td>\n",
       "      <td>coarse_log_cluster_template#extension qosrulet...</td>\n",
       "      <td>e#extension qosruletypedetails not supported b...</td>\n",
       "      <td>coarse_log_cluster_template#extension qosrulet...</td>\n",
       "    </tr>\n",
       "    <tr>\n",
       "      <th>4</th>\n",
       "      <td>fine_log_cluster_template#registered plugin us...</td>\n",
       "      <td>fine_log_cluster_template#registered plugin us...</td>\n",
       "      <td>registered plugin user false os neutron rbacpo...</td>\n",
       "      <td>fine_log_cluster_template#registered plugin us...</td>\n",
       "    </tr>\n",
       "    <tr>\n",
       "      <th>...</th>\n",
       "      <td>...</td>\n",
       "      <td>...</td>\n",
       "      <td>...</td>\n",
       "      <td>...</td>\n",
       "    </tr>\n",
       "    <tr>\n",
       "      <th>2099</th>\n",
       "      <td>coarse_log_cluster_template#loaded extension q...</td>\n",
       "      <td>coarse_log_cluster_template#loaded extension q...</td>\n",
       "      <td>e#loaded extension quota details</td>\n",
       "      <td>coarse_log_cluster_template#loaded extension q...</td>\n",
       "    </tr>\n",
       "    <tr>\n",
       "      <th>2100</th>\n",
       "      <td>fine_log_cluster_template#configured mechanism...</td>\n",
       "      <td>fine_log_cluster_template#configured mechanism...</td>\n",
       "      <td>configured mechanism driver names openvswitch ...</td>\n",
       "      <td>fine_log_cluster_template#configured mechanism...</td>\n",
       "    </tr>\n",
       "    <tr>\n",
       "      <th>2101</th>\n",
       "      <td>coarse_log_cluster_template#preparing filters ...</td>\n",
       "      <td>coarse_log_cluster_template#preparing filters ...</td>\n",
       "      <td>e#preparing filters for devices set u 2908dacf...</td>\n",
       "      <td>coarse_log_cluster_template#preparing filters ...</td>\n",
       "    </tr>\n",
       "    <tr>\n",
       "      <th>2102</th>\n",
       "      <td>programname-&gt;glance</td>\n",
       "      <td>programname-&gt;glance</td>\n",
       "      <td>25 nov 2019 18 * 48 get v2 images * http 11 20...</td>\n",
       "      <td>programname-&gt;glance</td>\n",
       "    </tr>\n",
       "    <tr>\n",
       "      <th>2103</th>\n",
       "      <td>coarse_log_cluster_template#spawned new privse...</td>\n",
       "      <td>coarse_log_cluster_template#spawned new privse...</td>\n",
       "      <td>e#spawned new privsep daemon via rootwrap</td>\n",
       "      <td>coarse_log_cluster_template#spawned new privse...</td>\n",
       "    </tr>\n",
       "  </tbody>\n",
       "</table>\n",
       "<p>2104 rows × 4 columns</p>\n",
       "</div>"
      ],
      "text/plain": [
       "                           attention_representation_0.5  \\\n",
       "0     fine_log_cluster_template#skipping periodic ta...   \n",
       "1     fine_log_cluster_template#25 nov 2019 18 23 * ...   \n",
       "2                             programname->heat->engine   \n",
       "3     coarse_log_cluster_template#extension qosrulet...   \n",
       "4     fine_log_cluster_template#registered plugin us...   \n",
       "...                                                 ...   \n",
       "2099  coarse_log_cluster_template#loaded extension q...   \n",
       "2100  fine_log_cluster_template#configured mechanism...   \n",
       "2101  coarse_log_cluster_template#preparing filters ...   \n",
       "2102                                programname->glance   \n",
       "2103  coarse_log_cluster_template#spawned new privse...   \n",
       "\n",
       "                           attention_representation_0.9  \\\n",
       "0     fine_log_cluster_template#skipping periodic ta...   \n",
       "1     fine_log_cluster_template#25 nov 2019 18 23 * ...   \n",
       "2     fine_log_cluster_template#registered plugin us...   \n",
       "3     coarse_log_cluster_template#extension qosrulet...   \n",
       "4     fine_log_cluster_template#registered plugin us...   \n",
       "...                                                 ...   \n",
       "2099  coarse_log_cluster_template#loaded extension q...   \n",
       "2100  fine_log_cluster_template#configured mechanism...   \n",
       "2101  coarse_log_cluster_template#preparing filters ...   \n",
       "2102                                programname->glance   \n",
       "2103  coarse_log_cluster_template#spawned new privse...   \n",
       "\n",
       "                              fine_log_cluster_template  \\\n",
       "0     skipping periodic task discover hosts in cells...   \n",
       "1     25 nov 2019 18 23 * delete v2 images * http 11...   \n",
       "2     registered plugin user false os glance image c...   \n",
       "3     e#extension qosruletypedetails not supported b...   \n",
       "4     registered plugin user false os neutron rbacpo...   \n",
       "...                                                 ...   \n",
       "2099                   e#loaded extension quota details   \n",
       "2100  configured mechanism driver names openvswitch ...   \n",
       "2101  e#preparing filters for devices set u 2908dacf...   \n",
       "2102  25 nov 2019 18 * 48 get v2 images * http 11 20...   \n",
       "2103          e#spawned new privsep daemon via rootwrap   \n",
       "\n",
       "                               attention_representation  \n",
       "0                          programname->nova->scheduler  \n",
       "1     fine_log_cluster_template#25 nov 2019 18 23 * ...  \n",
       "2                             programname->heat->engine  \n",
       "3     coarse_log_cluster_template#extension qosrulet...  \n",
       "4     fine_log_cluster_template#registered plugin us...  \n",
       "...                                                 ...  \n",
       "2099  coarse_log_cluster_template#loaded extension q...  \n",
       "2100  fine_log_cluster_template#configured mechanism...  \n",
       "2101  coarse_log_cluster_template#preparing filters ...  \n",
       "2102                                programname->glance  \n",
       "2103  coarse_log_cluster_template#spawned new privse...  \n",
       "\n",
       "[2104 rows x 4 columns]"
      ]
     },
     "execution_count": 119,
     "metadata": {},
     "output_type": "execute_result"
    }
   ],
   "source": [
    "attention_weights = load_attention_weights(run_id=run_id, local_mlflow_dir=mlflow_helper.local_mlflow_dir)\n",
    "attention_representations = []\n",
    "\n",
    "for fine_template in attention_weights:\n",
    "    best_representation = sorted([(k,float(v)) for k,v in attention_weights[fine_template].items()], key=lambda x: x[1], reverse=True)[0]\n",
    "    attention_representation = {\n",
    "        \"attention_representation_\" + str(x): (best_representation[0] if float(best_representation[1]) > x else fine_template)\n",
    "        for x in [0.5, 0.9]\n",
    "    }\n",
    "    attention_representation[\"fine_log_cluster_template\"] = fine_template[len(\"fine_log_cluster_template#\"):]\n",
    "    attention_representation[\"attention_representation\"] = best_representation[0]\n",
    "    attention_representations.append(attention_representation)\n",
    "\n",
    "pd.DataFrame.from_records(attention_representations)"
   ]
  },
  {
   "cell_type": "code",
   "execution_count": 120,
   "metadata": {},
   "outputs": [],
   "source": [
    "def extract_type_template(attention_representation: str):\n",
    "    if \"_log_cluster_template#\" in attention_representation:\n",
    "        splitted = attention_representation.split(\"#\")\n",
    "        return (splitted[0], \" \".join(splitted[1:]))\n",
    "    elif attention_representation.startswith(\"coarse_log_cluster_path#\"):\n",
    "        splitted = attention_representation.split(\"#\")\n",
    "        return (splitted[0], \" \".join(splitted[1:]) + \" ***\")\n",
    "    elif attention_representation.startswith(\"coarse_log_cluster_path->\"):\n",
    "        splitted = attention_representation.split(\"->\")\n",
    "        return (splitted[0] + \"_\" + str(len(splitted)-2), \" \".join(splitted[2:]) + \" ***\")\n",
    "    else:\n",
    "        return (\"???\", attention_representation)"
   ]
  },
  {
   "cell_type": "code",
   "execution_count": 121,
   "metadata": {},
   "outputs": [
    {
     "data": {
      "text/html": [
       "<div>\n",
       "<style scoped>\n",
       "    .dataframe tbody tr th:only-of-type {\n",
       "        vertical-align: middle;\n",
       "    }\n",
       "\n",
       "    .dataframe tbody tr th {\n",
       "        vertical-align: top;\n",
       "    }\n",
       "\n",
       "    .dataframe thead th {\n",
       "        text-align: right;\n",
       "    }\n",
       "</style>\n",
       "<table border=\"1\" class=\"dataframe\">\n",
       "  <thead>\n",
       "    <tr style=\"text-align: right;\">\n",
       "      <th></th>\n",
       "      <th>attention_representation</th>\n",
       "      <th>attention_representation_type</th>\n",
       "      <th>attention_representation_template</th>\n",
       "    </tr>\n",
       "  </thead>\n",
       "  <tbody>\n",
       "    <tr>\n",
       "      <th>count</th>\n",
       "      <td>152373</td>\n",
       "      <td>152373</td>\n",
       "      <td>152373</td>\n",
       "    </tr>\n",
       "    <tr>\n",
       "      <th>unique</th>\n",
       "      <td>700</td>\n",
       "      <td>2</td>\n",
       "      <td>700</td>\n",
       "    </tr>\n",
       "    <tr>\n",
       "      <th>top</th>\n",
       "      <td>programname-&gt;keystone-&gt;apache-&gt;public-&gt;access</td>\n",
       "      <td>fine_log_cluster_template</td>\n",
       "      <td>programname-&gt;keystone-&gt;apache-&gt;public-&gt;access</td>\n",
       "    </tr>\n",
       "    <tr>\n",
       "      <th>freq</th>\n",
       "      <td>29752</td>\n",
       "      <td>98597</td>\n",
       "      <td>29752</td>\n",
       "    </tr>\n",
       "  </tbody>\n",
       "</table>\n",
       "</div>"
      ],
      "text/plain": [
       "                             attention_representation  \\\n",
       "count                                          152373   \n",
       "unique                                            700   \n",
       "top     programname->keystone->apache->public->access   \n",
       "freq                                            29752   \n",
       "\n",
       "       attention_representation_type  \\\n",
       "count                         152373   \n",
       "unique                             2   \n",
       "top        fine_log_cluster_template   \n",
       "freq                           98597   \n",
       "\n",
       "                    attention_representation_template  \n",
       "count                                          152373  \n",
       "unique                                            700  \n",
       "top     programname->keystone->apache->public->access  \n",
       "freq                                            29752  "
      ]
     },
     "execution_count": 121,
     "metadata": {},
     "output_type": "execute_result"
    }
   ],
   "source": [
    "drain_df = pd.merge(\n",
    "    log_result_df, \n",
    "    pd.DataFrame.from_records(attention_representations),\n",
    "    how=\"left\",\n",
    "    on=\"fine_log_cluster_template\").fillna(\"\")\n",
    "\n",
    "for column in [x for x in drain_df.columns if x.startswith(\"attention_representation\")]:\n",
    "    drain_df[column + \"_type\"] = drain_df[column].apply(lambda x: extract_type_template(str(x))[0])\n",
    "    drain_df[column + \"_template\"] = drain_df[column].apply(lambda x: extract_type_template(str(x))[1])\n",
    "drain_df[[\"attention_representation\", \"attention_representation_type\", \"attention_representation_template\"]].describe()"
   ]
  },
  {
   "cell_type": "code",
   "execution_count": 122,
   "metadata": {},
   "outputs": [
    {
     "data": {
      "text/html": [
       "<div>\n",
       "<style scoped>\n",
       "    .dataframe tbody tr th:only-of-type {\n",
       "        vertical-align: middle;\n",
       "    }\n",
       "\n",
       "    .dataframe tbody tr th {\n",
       "        vertical-align: top;\n",
       "    }\n",
       "\n",
       "    .dataframe thead th {\n",
       "        text-align: right;\n",
       "    }\n",
       "</style>\n",
       "<table border=\"1\" class=\"dataframe\">\n",
       "  <thead>\n",
       "    <tr style=\"text-align: right;\">\n",
       "      <th></th>\n",
       "      <th>Payload</th>\n",
       "      <th>fine_log_cluster_template</th>\n",
       "      <th>attention_representation_template</th>\n",
       "    </tr>\n",
       "    <tr>\n",
       "      <th>attention_representation_type</th>\n",
       "      <th></th>\n",
       "      <th></th>\n",
       "      <th></th>\n",
       "    </tr>\n",
       "  </thead>\n",
       "  <tbody>\n",
       "    <tr>\n",
       "      <th>???</th>\n",
       "      <td>53776</td>\n",
       "      <td>853</td>\n",
       "      <td>107</td>\n",
       "    </tr>\n",
       "    <tr>\n",
       "      <th>fine_log_cluster_template</th>\n",
       "      <td>98597</td>\n",
       "      <td>593</td>\n",
       "      <td>593</td>\n",
       "    </tr>\n",
       "  </tbody>\n",
       "</table>\n",
       "</div>"
      ],
      "text/plain": [
       "                               Payload  fine_log_cluster_template  \\\n",
       "attention_representation_type                                       \n",
       "???                              53776                        853   \n",
       "fine_log_cluster_template        98597                        593   \n",
       "\n",
       "                               attention_representation_template  \n",
       "attention_representation_type                                     \n",
       "???                                                          107  \n",
       "fine_log_cluster_template                                    593  "
      ]
     },
     "execution_count": 122,
     "metadata": {},
     "output_type": "execute_result"
    }
   ],
   "source": [
    "drain_grouped = drain_df.groupby(by=[\"attention_representation_type\"]).agg({\n",
    "    \"Payload\": lambda x: len(set(x)),\n",
    "    \"fine_log_cluster_template\": lambda x: len(set(x)), \n",
    "    \"attention_representation_template\": lambda x: len(set(x)),\n",
    "})\n",
    "drain_grouped"
   ]
  },
  {
   "cell_type": "code",
   "execution_count": 123,
   "metadata": {},
   "outputs": [
    {
     "data": {
      "text/html": [
       "<div>\n",
       "<style scoped>\n",
       "    .dataframe tbody tr th:only-of-type {\n",
       "        vertical-align: middle;\n",
       "    }\n",
       "\n",
       "    .dataframe tbody tr th {\n",
       "        vertical-align: top;\n",
       "    }\n",
       "\n",
       "    .dataframe thead th {\n",
       "        text-align: right;\n",
       "    }\n",
       "</style>\n",
       "<table border=\"1\" class=\"dataframe\">\n",
       "  <thead>\n",
       "    <tr style=\"text-align: right;\">\n",
       "      <th></th>\n",
       "      <th>attention_representation_type</th>\n",
       "      <th>type</th>\n",
       "      <th>num_examples</th>\n",
       "    </tr>\n",
       "  </thead>\n",
       "  <tbody>\n",
       "    <tr>\n",
       "      <th>0</th>\n",
       "      <td>???</td>\n",
       "      <td>Payload</td>\n",
       "      <td>53776</td>\n",
       "    </tr>\n",
       "    <tr>\n",
       "      <th>1</th>\n",
       "      <td>fine_log_cluster_template</td>\n",
       "      <td>Payload</td>\n",
       "      <td>98597</td>\n",
       "    </tr>\n",
       "    <tr>\n",
       "      <th>2</th>\n",
       "      <td>???</td>\n",
       "      <td>fine_log_cluster_template</td>\n",
       "      <td>853</td>\n",
       "    </tr>\n",
       "    <tr>\n",
       "      <th>3</th>\n",
       "      <td>fine_log_cluster_template</td>\n",
       "      <td>fine_log_cluster_template</td>\n",
       "      <td>593</td>\n",
       "    </tr>\n",
       "    <tr>\n",
       "      <th>4</th>\n",
       "      <td>???</td>\n",
       "      <td>attention_representation_template</td>\n",
       "      <td>107</td>\n",
       "    </tr>\n",
       "    <tr>\n",
       "      <th>5</th>\n",
       "      <td>fine_log_cluster_template</td>\n",
       "      <td>attention_representation_template</td>\n",
       "      <td>593</td>\n",
       "    </tr>\n",
       "  </tbody>\n",
       "</table>\n",
       "</div>"
      ],
      "text/plain": [
       "  attention_representation_type                               type  \\\n",
       "0                           ???                            Payload   \n",
       "1     fine_log_cluster_template                            Payload   \n",
       "2                           ???          fine_log_cluster_template   \n",
       "3     fine_log_cluster_template          fine_log_cluster_template   \n",
       "4                           ???  attention_representation_template   \n",
       "5     fine_log_cluster_template  attention_representation_template   \n",
       "\n",
       "   num_examples  \n",
       "0         53776  \n",
       "1         98597  \n",
       "2           853  \n",
       "3           593  \n",
       "4           107  \n",
       "5           593  "
      ]
     },
     "execution_count": 123,
     "metadata": {},
     "output_type": "execute_result"
    }
   ],
   "source": [
    "melt_df = drain_grouped.reset_index(drop=False).melt(\n",
    "    id_vars=[\"attention_representation_type\"],\n",
    "    value_vars=[\"Payload\", \"fine_log_cluster_template\", \"attention_representation_template\"],\n",
    "    value_name=\"num_examples\",\n",
    "    var_name=\"type\")\n",
    "melt_df"
   ]
  },
  {
   "cell_type": "code",
   "execution_count": 124,
   "metadata": {},
   "outputs": [
    {
     "ename": "ValueError",
     "evalue": "max() arg is an empty sequence",
     "output_type": "error",
     "traceback": [
      "\u001b[0;31m---------------------------------------------------------------------------\u001b[0m",
      "\u001b[0;31mValueError\u001b[0m                                Traceback (most recent call last)",
      "Cell \u001b[0;32mIn [124], line 9\u001b[0m\n\u001b[1;32m      1\u001b[0m g \u001b[38;5;241m=\u001b[39m sns\u001b[38;5;241m.\u001b[39mcatplot(data\u001b[38;5;241m=\u001b[39mmelt_df,\n\u001b[1;32m      2\u001b[0m     x\u001b[38;5;241m=\u001b[39m\u001b[38;5;124m\"\u001b[39m\u001b[38;5;124mattention_representation_type\u001b[39m\u001b[38;5;124m\"\u001b[39m, \n\u001b[1;32m      3\u001b[0m     y\u001b[38;5;241m=\u001b[39m\u001b[38;5;124m\"\u001b[39m\u001b[38;5;124mnum_examples\u001b[39m\u001b[38;5;124m\"\u001b[39m,\n\u001b[1;32m      4\u001b[0m     hue\u001b[38;5;241m=\u001b[39m\u001b[38;5;124m\"\u001b[39m\u001b[38;5;124mtype\u001b[39m\u001b[38;5;124m\"\u001b[39m,\n\u001b[1;32m      5\u001b[0m     order\u001b[38;5;241m=\u001b[39m[\n\u001b[1;32m      6\u001b[0m         \u001b[38;5;124m\"\u001b[39m\u001b[38;5;124mfine_log_cluster_template\u001b[39m\u001b[38;5;124m\"\u001b[39m, \u001b[38;5;124m\"\u001b[39m\u001b[38;5;124m0_log_cluster_template\u001b[39m\u001b[38;5;124m\"\u001b[39m, \u001b[38;5;124m\"\u001b[39m\u001b[38;5;124m1_log_cluster_template\u001b[39m\u001b[38;5;124m\"\u001b[39m, \u001b[38;5;124m\"\u001b[39m\u001b[38;5;124m2_log_cluster_template\u001b[39m\u001b[38;5;124m\"\u001b[39m, \n\u001b[1;32m      7\u001b[0m         \u001b[38;5;124m\"\u001b[39m\u001b[38;5;124mcoarse_log_cluster_template\u001b[39m\u001b[38;5;124m\"\u001b[39m, \u001b[38;5;124m\"\u001b[39m\u001b[38;5;124mcoarse_log_cluster_path\u001b[39m\u001b[38;5;124m\"\u001b[39m\n\u001b[1;32m      8\u001b[0m     ] \u001b[38;5;241m+\u001b[39m [\u001b[38;5;124m\"\u001b[39m\u001b[38;5;124mcoarse_log_cluster_path_\u001b[39m\u001b[38;5;124m\"\u001b[39m \u001b[38;5;241m+\u001b[39m \u001b[38;5;28mstr\u001b[39m(x) \u001b[38;5;28;01mfor\u001b[39;00m x \u001b[38;5;129;01min\u001b[39;00m \u001b[38;5;28mreversed\u001b[39m(\u001b[38;5;28mrange\u001b[39m(\n\u001b[0;32m----> 9\u001b[0m         \u001b[38;5;28;43mmax\u001b[39;49m\u001b[43m(\u001b[49m\u001b[43m[\u001b[49m\u001b[38;5;28;43mint\u001b[39;49m\u001b[43m(\u001b[49m\u001b[43mx\u001b[49m\u001b[38;5;241;43m.\u001b[39;49m\u001b[43msplit\u001b[49m\u001b[43m(\u001b[49m\u001b[38;5;124;43m\"\u001b[39;49m\u001b[38;5;124;43m_\u001b[39;49m\u001b[38;5;124;43m\"\u001b[39;49m\u001b[43m)\u001b[49m\u001b[43m[\u001b[49m\u001b[38;5;241;43m-\u001b[39;49m\u001b[38;5;241;43m1\u001b[39;49m\u001b[43m]\u001b[49m\u001b[43m)\u001b[49m\u001b[43m \u001b[49m\u001b[38;5;28;43;01mfor\u001b[39;49;00m\u001b[43m \u001b[49m\u001b[43mx\u001b[49m\u001b[43m \u001b[49m\u001b[38;5;129;43;01min\u001b[39;49;00m\u001b[43m \u001b[49m\u001b[43mdrain_grouped\u001b[49m\u001b[38;5;241;43m.\u001b[39;49m\u001b[43mindex\u001b[49m\u001b[43m \u001b[49m\u001b[38;5;28;43;01mif\u001b[39;49;00m\u001b[43m \u001b[49m\u001b[43mx\u001b[49m\u001b[38;5;241;43m.\u001b[39;49m\u001b[43mstartswith\u001b[49m\u001b[43m(\u001b[49m\u001b[38;5;124;43m\"\u001b[39;49m\u001b[38;5;124;43mcoarse_log_cluster_path_\u001b[39;49m\u001b[38;5;124;43m\"\u001b[39;49m\u001b[43m)\u001b[49m\u001b[43m]\u001b[49m\u001b[43m)\u001b[49m \u001b[38;5;241m+\u001b[39m \u001b[38;5;241m1\u001b[39m\n\u001b[1;32m     10\u001b[0m     ))],\n\u001b[1;32m     11\u001b[0m     \u001b[38;5;66;03m#col=\"type\",\u001b[39;00m\n\u001b[1;32m     12\u001b[0m     kind\u001b[38;5;241m=\u001b[39m\u001b[38;5;124m\"\u001b[39m\u001b[38;5;124mbar\u001b[39m\u001b[38;5;124m\"\u001b[39m,\n\u001b[1;32m     13\u001b[0m     sharey\u001b[38;5;241m=\u001b[39m\u001b[38;5;28;01mFalse\u001b[39;00m,\n\u001b[1;32m     14\u001b[0m     palette\u001b[38;5;241m=\u001b[39m\u001b[38;5;124m\"\u001b[39m\u001b[38;5;124mSet2\u001b[39m\u001b[38;5;124m\"\u001b[39m,\n\u001b[1;32m     15\u001b[0m     legend\u001b[38;5;241m=\u001b[39m\u001b[38;5;28;01mFalse\u001b[39;00m,\n\u001b[1;32m     16\u001b[0m )\u001b[38;5;241m.\u001b[39mset_xticklabels(rotation\u001b[38;5;241m=\u001b[39m\u001b[38;5;241m90\u001b[39m)\u001b[38;5;241m.\u001b[39mset_axis_labels(\u001b[38;5;124m\"\u001b[39m\u001b[38;5;124m\"\u001b[39m, \u001b[38;5;124m\"\u001b[39m\u001b[38;5;124mnumber of log lines\u001b[39m\u001b[38;5;124m\"\u001b[39m)\n\u001b[1;32m     17\u001b[0m plt\u001b[38;5;241m.\u001b[39mtight_layout()\n\u001b[1;32m     18\u001b[0m plt\u001b[38;5;241m.\u001b[39msavefig(\u001b[38;5;124m\"\u001b[39m\u001b[38;5;124mdrain_distribution.png\u001b[39m\u001b[38;5;124m\"\u001b[39m, dpi\u001b[38;5;241m=\u001b[39m\u001b[38;5;241m100\u001b[39m)\n",
      "\u001b[0;31mValueError\u001b[0m: max() arg is an empty sequence"
     ]
    }
   ],
   "source": [
    "\n",
    "g = sns.catplot(data=melt_df,\n",
    "    x=\"attention_representation_type\", \n",
    "    y=\"num_examples\",\n",
    "    hue=\"type\",\n",
    "    order=[\n",
    "        \"fine_log_cluster_template\", \"0_log_cluster_template\", \"1_log_cluster_template\", \"2_log_cluster_template\", \n",
    "        \"coarse_log_cluster_template\", \"coarse_log_cluster_path\"\n",
    "    ] + [\"coarse_log_cluster_path_\" + str(x) for x in reversed(range(\n",
    "        max([int(x.split(\"_\")[-1]) for x in drain_grouped.index if x.startswith(\"coarse_log_cluster_path_\")]) + 1\n",
    "    ))],\n",
    "    #col=\"type\",\n",
    "    kind=\"bar\",\n",
    "    sharey=False,\n",
    "    palette=\"Set2\",\n",
    "    legend=False,\n",
    ").set_xticklabels(rotation=90).set_axis_labels(\"\", \"number of log lines\")\n",
    "plt.tight_layout()\n",
    "plt.savefig(\"drain_distribution.png\", dpi=100)"
   ]
  },
  {
   "cell_type": "code",
   "execution_count": 125,
   "metadata": {},
   "outputs": [
    {
     "data": {
      "text/html": [
       "<div>\n",
       "<style scoped>\n",
       "    .dataframe tbody tr th:only-of-type {\n",
       "        vertical-align: middle;\n",
       "    }\n",
       "\n",
       "    .dataframe tbody tr th {\n",
       "        vertical-align: top;\n",
       "    }\n",
       "\n",
       "    .dataframe thead th {\n",
       "        text-align: right;\n",
       "    }\n",
       "</style>\n",
       "<table border=\"1\" class=\"dataframe\">\n",
       "  <thead>\n",
       "    <tr style=\"text-align: right;\">\n",
       "      <th></th>\n",
       "      <th>Payload</th>\n",
       "      <th>attention_representation</th>\n",
       "    </tr>\n",
       "  </thead>\n",
       "  <tbody>\n",
       "  </tbody>\n",
       "</table>\n",
       "</div>"
      ],
      "text/plain": [
       "Empty DataFrame\n",
       "Columns: [Payload, attention_representation]\n",
       "Index: []"
      ]
     },
     "execution_count": 125,
     "metadata": {},
     "output_type": "execute_result"
    }
   ],
   "source": [
    "drain_df[\n",
    "    drain_df[\"attention_representation_type\"] == \"coarse_log_cluster_path_0\"\n",
    "][[\"Payload\", \"attention_representation\"]]"
   ]
  },
  {
   "cell_type": "code",
   "execution_count": 126,
   "metadata": {},
   "outputs": [],
   "source": [
    "drain_df[\"attention_log_cluster_template_50\"] = drain_df[\"attention_representation_0.5\"]\n",
    "drain_df[\"attention_log_cluster_template_90\"] = drain_df[\"attention_representation_0.9\"]\n",
    "drain_df[\n",
    "    [\"Payload\", \"attention_log_cluster_template_50\", \"attention_log_cluster_template_90\"]\n",
    "].to_csv(\"drain_attention_clusters.csv\", index=False)"
   ]
  },
  {
   "cell_type": "code",
   "execution_count": 127,
   "metadata": {},
   "outputs": [
    {
     "data": {
      "text/html": [
       "<div>\n",
       "<style scoped>\n",
       "    .dataframe tbody tr th:only-of-type {\n",
       "        vertical-align: middle;\n",
       "    }\n",
       "\n",
       "    .dataframe tbody tr th {\n",
       "        vertical-align: top;\n",
       "    }\n",
       "\n",
       "    .dataframe thead th {\n",
       "        text-align: right;\n",
       "    }\n",
       "</style>\n",
       "<table border=\"1\" class=\"dataframe\">\n",
       "  <thead>\n",
       "    <tr style=\"text-align: right;\">\n",
       "      <th></th>\n",
       "      <th>Payload</th>\n",
       "      <th>attention_log_cluster_template_50</th>\n",
       "      <th>attention_log_cluster_template_90</th>\n",
       "    </tr>\n",
       "  </thead>\n",
       "  <tbody>\n",
       "    <tr>\n",
       "      <th>count</th>\n",
       "      <td>152372</td>\n",
       "      <td>152372</td>\n",
       "      <td>152372</td>\n",
       "    </tr>\n",
       "    <tr>\n",
       "      <th>unique</th>\n",
       "      <td>152372</td>\n",
       "      <td>844</td>\n",
       "      <td>1162</td>\n",
       "    </tr>\n",
       "    <tr>\n",
       "      <th>top</th>\n",
       "      <td>Security group rule updated ['78c81907-a991-41...</td>\n",
       "      <td>fine_log_cluster_template#get v20 ports device...</td>\n",
       "      <td>fine_log_cluster_template#get v20 ports device...</td>\n",
       "    </tr>\n",
       "    <tr>\n",
       "      <th>freq</th>\n",
       "      <td>1</td>\n",
       "      <td>16366</td>\n",
       "      <td>16366</td>\n",
       "    </tr>\n",
       "  </tbody>\n",
       "</table>\n",
       "</div>"
      ],
      "text/plain": [
       "                                                  Payload  \\\n",
       "count                                              152372   \n",
       "unique                                             152372   \n",
       "top     Security group rule updated ['78c81907-a991-41...   \n",
       "freq                                                    1   \n",
       "\n",
       "                        attention_log_cluster_template_50  \\\n",
       "count                                              152372   \n",
       "unique                                                844   \n",
       "top     fine_log_cluster_template#get v20 ports device...   \n",
       "freq                                                16366   \n",
       "\n",
       "                        attention_log_cluster_template_90  \n",
       "count                                              152372  \n",
       "unique                                               1162  \n",
       "top     fine_log_cluster_template#get v20 ports device...  \n",
       "freq                                                16366  "
      ]
     },
     "execution_count": 127,
     "metadata": {},
     "output_type": "execute_result"
    }
   ],
   "source": [
    "pd.read_csv(\"drain_attention_clusters.csv\").describe()"
   ]
  },
  {
   "cell_type": "code",
   "execution_count": 128,
   "metadata": {},
   "outputs": [
    {
     "ename": "KeyError",
     "evalue": "'coarse_log_cluster_path->9->extension'",
     "output_type": "error",
     "traceback": [
      "\u001b[0;31m---------------------------------------------------------------------------\u001b[0m",
      "\u001b[0;31mKeyError\u001b[0m                                  Traceback (most recent call last)",
      "Cell \u001b[0;32mIn [128], line 2\u001b[0m\n\u001b[1;32m      1\u001b[0m attention_importances \u001b[38;5;241m=\u001b[39m calculate_attention_importances(attention_weights)\n\u001b[0;32m----> 2\u001b[0m examples_extensions \u001b[38;5;241m=\u001b[39m [x[\u001b[38;5;241m0\u001b[39m]\u001b[38;5;241m.\u001b[39msplit(\u001b[38;5;124m\"\u001b[39m\u001b[38;5;124m#\u001b[39m\u001b[38;5;124m\"\u001b[39m)[\u001b[38;5;241m1\u001b[39m] \u001b[38;5;28;01mfor\u001b[39;00m x \u001b[38;5;129;01min\u001b[39;00m \u001b[43mattention_importances\u001b[49m\u001b[43m[\u001b[49m\u001b[38;5;124;43m\"\u001b[39;49m\u001b[38;5;124;43mcoarse_log_cluster_path->9->extension\u001b[39;49m\u001b[38;5;124;43m\"\u001b[39;49m\u001b[43m]\u001b[49m \u001b[38;5;28;01mif\u001b[39;00m x[\u001b[38;5;241m1\u001b[39m] \u001b[38;5;241m>\u001b[39m \u001b[38;5;241m0.9\u001b[39m]\n\u001b[1;32m      3\u001b[0m examples_instance \u001b[38;5;241m=\u001b[39m [x[\u001b[38;5;241m0\u001b[39m]\u001b[38;5;241m.\u001b[39msplit(\u001b[38;5;124m\"\u001b[39m\u001b[38;5;124m#\u001b[39m\u001b[38;5;124m\"\u001b[39m)[\u001b[38;5;241m1\u001b[39m] \u001b[38;5;28;01mfor\u001b[39;00m x \u001b[38;5;129;01min\u001b[39;00m attention_importances[\u001b[38;5;124m\"\u001b[39m\u001b[38;5;124mcoarse_log_cluster_path->7->instance\u001b[39m\u001b[38;5;124m\"\u001b[39m] \u001b[38;5;28;01mif\u001b[39;00m x[\u001b[38;5;241m1\u001b[39m] \u001b[38;5;241m>\u001b[39m \u001b[38;5;241m0.9\u001b[39m]\n\u001b[1;32m      4\u001b[0m examples_instance2 \u001b[38;5;241m=\u001b[39m [x[\u001b[38;5;241m0\u001b[39m]\u001b[38;5;241m.\u001b[39msplit(\u001b[38;5;124m\"\u001b[39m\u001b[38;5;124m#\u001b[39m\u001b[38;5;124m\"\u001b[39m)[\u001b[38;5;241m1\u001b[39m] \u001b[38;5;28;01mfor\u001b[39;00m x \u001b[38;5;129;01min\u001b[39;00m attention_importances[\u001b[38;5;124m\"\u001b[39m\u001b[38;5;124mcoarse_log_cluster_path->9->instance->*\u001b[39m\u001b[38;5;124m\"\u001b[39m] \u001b[38;5;28;01mif\u001b[39;00m x[\u001b[38;5;241m1\u001b[39m] \u001b[38;5;241m>\u001b[39m \u001b[38;5;241m0.9\u001b[39m]\n",
      "\u001b[0;31mKeyError\u001b[0m: 'coarse_log_cluster_path->9->extension'"
     ]
    }
   ],
   "source": [
    "attention_importances = calculate_attention_importances(attention_weights)\n",
    "examples_extensions = [x[0].split(\"#\")[1] for x in attention_importances[\"coarse_log_cluster_path->9->extension\"] if x[1] > 0.9]\n",
    "examples_instance = [x[0].split(\"#\")[1] for x in attention_importances[\"coarse_log_cluster_path->7->instance\"] if x[1] > 0.9]\n",
    "examples_instance2 = [x[0].split(\"#\")[1] for x in attention_importances[\"coarse_log_cluster_path->9->instance->*\"] if x[1] > 0.9]\n",
    "examples_automatically = [x[0].split(\"#\")[1] for x in attention_importances[\"coarse_log_cluster_path->10->automatically\"] if x[1] > 0.9]\n",
    "examples_cleaning= [x[0].split(\"#\")[1] for x in attention_importances[\"coarse_log_cluster_path->4->cleaning->stale\"] if x[1] > 0.9]\n",
    "examples_date = [x[0].split(\"#\")[1] for x in attention_importances[\"coarse_log_cluster_path->17\"] if x[1] > 0.9]\n",
    "\n",
    "examples_date"
   ]
  },
  {
   "cell_type": "code",
   "execution_count": 129,
   "metadata": {},
   "outputs": [
    {
     "data": {
      "text/plain": [
       "{'programname#keystone-apache-admin-access': '0.032542784',\n",
       " 'http_status#200.0': '0.053543415',\n",
       " 'http_method#get': '0.000436734',\n",
       " 'fine_log_cluster_template#25 nov 2019 19 * * 0100 get v3 auth tokens http 11 200 * * pythonkeystoneclient': '0.00014509364',\n",
       " 'url_cluster_template#v3 auth tokens': '0.00059352757',\n",
       " 'Hostname#wally113': '3.7502276e-05',\n",
       " 'programname': '3.801845e-05',\n",
       " 'root': '2.9506446e-05',\n",
       " 'Hostname->wally': '2.4055604e-05',\n",
       " 'Hostname': '1.9813262e-05',\n",
       " 'http_method': '0.006913878',\n",
       " 'http_status->200': '0.0005657611',\n",
       " 'http_status': '8.8057815e-05',\n",
       " 'url_cluster_template->v3->auth->tokens': '0.0013948085',\n",
       " 'url_cluster_template->v3->auth': '0.004157324',\n",
       " 'url_cluster_template->v3': '0.0015272129',\n",
       " 'url_cluster_template': '4.557822e-05',\n",
       " 'programname->keystone->apache': '0.00027126895',\n",
       " 'programname->keystone': '0.00070252555',\n",
       " 'programname->keystone->apache->admin->access': '0.0013286978',\n",
       " 'programname->keystone->apache->admin': '0.8955945'}"
      ]
     },
     "execution_count": 129,
     "metadata": {},
     "output_type": "execute_result"
    }
   ],
   "source": [
    "attention_weights[\"fine_log_cluster_template#25 nov 2019 19 * * 0100 get v3 auth tokens http 11 200 * * pythonkeystoneclient\"]"
   ]
  },
  {
   "cell_type": "code",
   "execution_count": 130,
   "metadata": {},
   "outputs": [
    {
     "ename": "KeyError",
     "evalue": "'coarse_log_cluster_path->9->extension'",
     "output_type": "error",
     "traceback": [
      "\u001b[0;31m---------------------------------------------------------------------------\u001b[0m",
      "\u001b[0;31mKeyError\u001b[0m                                  Traceback (most recent call last)",
      "Cell \u001b[0;32mIn [130], line 1\u001b[0m\n\u001b[0;32m----> 1\u001b[0m attention_weights[[x \u001b[38;5;28;01mfor\u001b[39;00m x \u001b[38;5;129;01min\u001b[39;00m \u001b[43mattention_importances\u001b[49m\u001b[43m[\u001b[49m\u001b[38;5;124;43m\"\u001b[39;49m\u001b[38;5;124;43mcoarse_log_cluster_path->9->extension\u001b[39;49m\u001b[38;5;124;43m\"\u001b[39;49m\u001b[43m]\u001b[49m \u001b[38;5;28;01mif\u001b[39;00m x[\u001b[38;5;241m1\u001b[39m] \u001b[38;5;241m<\u001b[39m \u001b[38;5;241m0.9\u001b[39m][\u001b[38;5;241m0\u001b[39m][\u001b[38;5;241m0\u001b[39m]]\n",
      "\u001b[0;31mKeyError\u001b[0m: 'coarse_log_cluster_path->9->extension'"
     ]
    }
   ],
   "source": [
    "attention_weights[[x for x in attention_importances[\"coarse_log_cluster_path->9->extension\"] if x[1] < 0.9][0][0]]"
   ]
  },
  {
   "cell_type": "code",
   "execution_count": 131,
   "metadata": {},
   "outputs": [
    {
     "data": {
      "text/plain": [
       "[]"
      ]
     },
     "execution_count": 131,
     "metadata": {},
     "output_type": "execute_result"
    }
   ],
   "source": [
    "[\n",
    "    (x, ys) for x,ys in attention_importances.items() if \n",
    "    \"either ensure your deployment is ready\" in x \n",
    "    and x.startswith(\"coarse_log_cluster_template\") \n",
    "    and \"* * * * * * * * * * * *\" in x\n",
    "    and len([y for y in ys if y[1] > 0.2]) == 3\n",
    "]"
   ]
  },
  {
   "cell_type": "markdown",
   "metadata": {},
   "source": [
    "# Experiment Results"
   ]
  },
  {
   "cell_type": "code",
   "execution_count": 132,
   "metadata": {},
   "outputs": [
    {
     "name": "stderr",
     "output_type": "stream",
     "text": [
      "Querying metrics for runs: 100%|██████████| 16/16 [00:01<00:00, 15.86it/s]\n"
     ]
    },
    {
     "data": {
      "text/plain": [
       "Index(['val_loss_history_best', 'val_loss_times_best',\n",
       "       'val_top_5_categorical_accuracy_p2_history_best',\n",
       "       'val_top_5_categorical_accuracy_p2_times_best',\n",
       "       'val_categorical_accuracy_history_best',\n",
       "       'val_categorical_accuracy_times_best',\n",
       "       'top_20_categorical_accuracy_p2_history_best',\n",
       "       'top_20_categorical_accuracy_p2_times_best',\n",
       "       'top_5_categorical_accuracy_p4_history_best',\n",
       "       'top_5_categorical_accuracy_p4_times_best',\n",
       "       ...\n",
       "       'data_tags_task_type', 'info_artifact_uri', 'info_end_time',\n",
       "       'info_experiment_id', 'info_lifecycle_stage', 'info_run_uuid',\n",
       "       'info_start_time', 'info_status', 'info_user_id', 'info_run_name'],\n",
       "      dtype='object', length=357)"
      ]
     },
     "execution_count": 132,
     "metadata": {},
     "output_type": "execute_result"
    }
   ],
   "source": [
    "huawei_metrics_df = mlflow_helper.load_best_metrics_for_ids(set(huawei_df[\"info_run_id\"]))\n",
    "huawei_metrics_df.columns"
   ]
  },
  {
   "cell_type": "code",
   "execution_count": 133,
   "metadata": {},
   "outputs": [
    {
     "data": {
      "text/plain": [
       "<seaborn.axisgrid.FacetGrid at 0x7fb59fae7f70>"
      ]
     },
     "execution_count": 133,
     "metadata": {},
     "output_type": "execute_result"
    },
    {
     "data": {
      "image/png": "[encoded data removed]",
      "text/plain": [
       "<Figure size 668.236x500 with 1 Axes>"
      ]
     },
     "metadata": {},
     "output_type": "display_data"
    }
   ],
   "source": [
    "df = huawei_metrics_df.copy()\n",
    "df[\"data_params_SequenceConfigx_sequence_column_name\"] = df[\"data_params_SequenceConfigx_sequence_column_name\"].apply(lambda x: {\n",
    "    \"\": \"attention_log_cluster_template\"\n",
    "}.get(x, x))\n",
    "\n",
    "sns.catplot(\n",
    "    data=df[\n",
    "        (df[\"data_params_SequenceConfigx_sequence_column_name\"].apply(lambda x: x != \"log_cluster_template\"))\n",
    "        & (df[\"data_params_SequenceConfigy_sequence_column_name\"].apply(lambda x: x == \"attributes\"))\n",
    "      #  & (df[\"data_tags_model_type\"].apply(lambda x: x == \"simple\"))\n",
    "    ],\n",
    "    hue=\"data_tags_model_type\", \n",
    "    x=\"data_params_SequenceConfigx_sequence_column_name\",\n",
    "    y=\"val_top_5_categorical_accuracy_history_best\",\n",
    "    row=\"data_params_SequenceConfigy_sequence_column_name\",\n",
    "    order=[\"fine_log_cluster_template\", \"coarse_log_cluster_template\", \"attention_log_cluster_template\"],\n",
    "    kind=\"box\",\n",
    "    sharey=\"row\",\n",
    ").set_xticklabels(rotation=90)"
   ]
  },
  {
   "cell_type": "code",
   "execution_count": 134,
   "metadata": {},
   "outputs": [
    {
     "data": {
      "image/png": "[encoded data removed]",
      "text/plain": [
       "<Figure size 613.5x500 with 1 Axes>"
      ]
     },
     "metadata": {},
     "output_type": "display_data"
    }
   ],
   "source": [
    "df = huawei_metrics_df.copy()\n",
    "df[\"data_params_SequenceConfigx_sequence_column_name\"] = df[\"data_params_SequenceConfigx_sequence_column_name\"].apply(lambda x: {\n",
    "    \"\": \"attention_log_cluster_template\"\n",
    "}.get(x, x))\n",
    "df[\"Log Template\"] = df[\"data_params_SequenceConfigx_sequence_column_name\"].apply(lambda x: \"attention\" if \"attention\" in x else \"drain\")\n",
    "g = sns.catplot(\n",
    "    data=df[\n",
    "        df[\"data_params_SequenceConfigy_sequence_column_name\"].apply(lambda x: x == \"attributes\")\n",
    "        & df[\"data_tags_model_type\"].apply(lambda x: x == \"simple\")\n",
    "        &  df[\"data_params_ModelConfigbase_hidden_embeddings_trainable\"].apply(lambda x: x == \"True\")\n",
    "    ],\n",
    "    hue=\"Log Template\",\n",
    "    x=\"data_params_SequenceConfigx_sequence_column_name\",\n",
    "    y=\"val_top_5_categorical_accuracy_history_best\",\n",
    "    row=\"data_params_SequenceConfigy_sequence_column_name\",\n",
    "    order=[\"fine_log_cluster_template\", \"coarse_log_cluster_template\", \"attention_log_cluster_template\"],\n",
    "    kind=\"box\",\n",
    "    palette=\"Set2\",\n",
    "    dodge=False,\n",
    ").set_xticklabels(rotation=45).set_titles(\"\").set_axis_labels('', \"val_top_5_categorical_accuracy\")\n",
    "plt.savefig(\"drain_results.png\", dpi=100, bbox_inches=\"tight\")\n",
    "plt.show()"
   ]
  },
  {
   "cell_type": "code",
   "execution_count": 24,
   "metadata": {},
   "outputs": [
    {
     "data": {
      "text/html": [
       "<div>\n",
       "<style scoped>\n",
       "    .dataframe tbody tr th:only-of-type {\n",
       "        vertical-align: middle;\n",
       "    }\n",
       "\n",
       "    .dataframe tbody tr th {\n",
       "        vertical-align: top;\n",
       "    }\n",
       "\n",
       "    .dataframe thead th {\n",
       "        text-align: right;\n",
       "    }\n",
       "</style>\n",
       "<table border=\"1\" class=\"dataframe\">\n",
       "  <thead>\n",
       "    <tr style=\"text-align: right;\">\n",
       "      <th></th>\n",
       "      <th>num_logs</th>\n",
       "      <th>num_events</th>\n",
       "      <th>all_events</th>\n",
       "      <th>attributes</th>\n",
       "      <th>fine_log_cluster_template</th>\n",
       "      <th>coarse_log_cluster_template</th>\n",
       "    </tr>\n",
       "  </thead>\n",
       "  <tbody>\n",
       "    <tr>\n",
       "      <th>0</th>\n",
       "      <td>169230</td>\n",
       "      <td>169230</td>\n",
       "      <td>[[http_status#200.0, , fine_log_cluster_templa...</td>\n",
       "      <td>[[http_status#200.0, , , Hostname#wally113, pr...</td>\n",
       "      <td>[[fine_log_cluster_template#25 nov 2019 15 * *...</td>\n",
       "      <td>[[coarse_log_cluster_template#25 nov 2019 * * ...</td>\n",
       "    </tr>\n",
       "  </tbody>\n",
       "</table>\n",
       "</div>"
      ],
      "text/plain": [
       "   num_logs  num_events                                         all_events  \\\n",
       "0    169230      169230  [[http_status#200.0, , fine_log_cluster_templa...   \n",
       "\n",
       "                                          attributes  \\\n",
       "0  [[http_status#200.0, , , Hostname#wally113, pr...   \n",
       "\n",
       "                           fine_log_cluster_template  \\\n",
       "0  [[fine_log_cluster_template#25 nov 2019 15 * *...   \n",
       "\n",
       "                         coarse_log_cluster_template  \n",
       "0  [[coarse_log_cluster_template#25 nov 2019 * * ...  "
      ]
     },
     "execution_count": 24,
     "metadata": {},
     "output_type": "execute_result"
    }
   ],
   "source": [
    "huw = pd.read_pickle(\"../data/sequences_df.pkl\")\n",
    "huw"
   ]
  },
  {
   "cell_type": "code",
   "execution_count": null,
   "metadata": {
    "collapsed": false
   },
   "outputs": [],
   "source": []
  }
 ],
 "metadata": {
  "interpreter": {
   "hash": "73b5e93e154d2b3bebada531bd37ae367fe461e3b71c186231ccdab3aa47e3f0"
  },
  "kernelspec": {
   "display_name": "lena",
   "language": "python",
   "name": "lena"
  },
  "language_info": {
   "codemirror_mode": {
    "name": "ipython",
    "version": 3
   },
   "file_extension": ".py",
   "mimetype": "text/x-python",
   "name": "python",
   "nbconvert_exporter": "python",
   "pygments_lexer": "ipython3",
   "version": "3.9.15"
  }
 },
 "nbformat": 4,
 "nbformat_minor": 2
}
