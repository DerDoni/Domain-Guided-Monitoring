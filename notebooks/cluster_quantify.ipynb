{
 "cells": [
  {
   "cell_type": "code",
   "execution_count": 1,
   "metadata": {
    "ExecuteTime": {
     "end_time": "2023-04-22T19:20:42.839839Z",
     "start_time": "2023-04-22T19:20:42.838618Z"
    }
   },
   "outputs": [],
   "source": [
    "import pandas as pd\n",
    "from pathlib import Path"
   ]
  },
  {
   "cell_type": "code",
   "execution_count": 2,
   "metadata": {
    "ExecuteTime": {
     "end_time": "2023-04-22T19:20:44.326449Z",
     "start_time": "2023-04-22T19:20:43.545897Z"
    }
   },
   "outputs": [],
   "source": [
    "%run utils/mlflow_query.py\n",
    "%run utils/loading.py\n",
    "%run utils/comparison.py\n",
    "%run utils/attention_graph.py"
   ]
  },
  {
   "cell_type": "code",
   "execution_count": 3,
   "metadata": {
    "ExecuteTime": {
     "end_time": "2023-04-22T19:20:47.834197Z",
     "start_time": "2023-04-22T19:20:47.793778Z"
    }
   },
   "outputs": [
    {
     "name": "stdout",
     "output_type": "stream",
     "text": [
      "Initialized with 96 MLFlow runs from pkl\n"
     ]
    }
   ],
   "source": [
    "mlflow_helper = MlflowHelper(pkl_file=Path(\"mlflow_run_df.pkl\"))\n",
    "#mlflow_helper.query_all_runs(pkl_file=Path(\"mlflow_run_df.pkl\"))"
   ]
  },
  {
   "cell_type": "markdown",
   "metadata": {},
   "source": [
    "# Mimic"
   ]
  },
  {
   "cell_type": "code",
   "execution_count": 4,
   "metadata": {
    "ExecuteTime": {
     "end_time": "2023-04-22T19:21:10.875892Z",
     "start_time": "2023-04-22T19:21:10.832923Z"
    }
   },
   "outputs": [],
   "source": [
    "def calculate_cluster_attributes_for(run_id, cluster_threshold=0.5, local_mlflow_dir=mlflow_helper.local_mlflow_dir):\n",
    "    attention_weights = load_attention_weights(run_id, local_mlflow_dir)\n",
    "    if attention_weights is None or len(attention_weights) == 0:\n",
    "        return {}\n",
    "    \n",
    "    attention_importances = calculate_attention_importances(attention_weights)\n",
    "    dominant_node_mapping = {\n",
    "        x:sorted([\n",
    "            (y,float(y_weight)) for y, y_weight in ys.items() if float(y_weight) > cluster_threshold\n",
    "        ], key=lambda v:v[0])\n",
    "        for x,ys in attention_weights.items()\n",
    "    }\n",
    "    dominant_nodes = set([\n",
    "        v[0] for sl in dominant_node_mapping.values() for v in sl\n",
    "    ])\n",
    "    indecided_features = set([x for x,ys in dominant_node_mapping.items() if len(ys) == 0])\n",
    "    clusters = {\n",
    "        x:[\n",
    "            (y, float(y_weight)) for (y,y_weight) in ys if float(y_weight) > cluster_threshold\n",
    "        ] for x, ys in attention_importances.items()\n",
    "    }\n",
    "    clusters = {\n",
    "        x:ys for x,ys in clusters.items() if len(ys) > 0\n",
    "    }\n",
    "    features_in_clusters = set([\n",
    "        y[0] for sl in clusters.values() for y in sl\n",
    "    ])\n",
    "    shared_clusters = {\n",
    "        x:ys for x,ys in clusters.items() if len(ys) > 1\n",
    "    }\n",
    "    features_in_shared_clusters = set([\n",
    "        y[0] for sl in shared_clusters.values() for y in sl\n",
    "    ])\n",
    "    single_clusters = {\n",
    "        x:ys for x,ys in clusters.items() if len(ys) == 1\n",
    "    }\n",
    "    features_in_single_clusters = set([\n",
    "        y[0] for sl in single_clusters.values() for y in sl\n",
    "    ])\n",
    "    return {\n",
    "        'run_id': run_id,\n",
    "        'features': len(attention_weights),\n",
    "        'indecided_features': len(indecided_features),\n",
    "        'indecided_features_p': len(indecided_features) / len(attention_weights),\n",
    "        'clusters': len(clusters),\n",
    "        'features_in_clusters': len(features_in_clusters),\n",
    "        'features_in_clusters_p': len(features_in_clusters) / len(attention_weights),\n",
    "        'shared_clusters': len(shared_clusters),\n",
    "        'features_in_shared_clusters': len(features_in_shared_clusters),\n",
    "        'features_in_shared_clusters_p': len(features_in_shared_clusters) / len(attention_weights),\n",
    "        'features_in_single_clusters_p': len(features_in_single_clusters) / len(attention_weights),\n",
    "        'avg_shared_cluster_size_p': len(features_in_shared_clusters) / len(shared_clusters),\n",
    "    }"
   ]
  },
  {
   "cell_type": "code",
   "execution_count": 5,
   "metadata": {},
   "outputs": [
    {
     "ename": "KeyError",
     "evalue": "'data_params_SequenceConfigy_sequence_column_name'",
     "output_type": "error",
     "traceback": [
      "\u001b[0;31m---------------------------------------------------------------------------\u001b[0m",
      "\u001b[0;31mKeyError\u001b[0m                                  Traceback (most recent call last)",
      "File \u001b[0;32m~/miniconda3/envs/lena/lib/python3.9/site-packages/pandas/core/indexes/base.py:3803\u001b[0m, in \u001b[0;36mIndex.get_loc\u001b[0;34m(self, key, method, tolerance)\u001b[0m\n\u001b[1;32m   3802\u001b[0m \u001b[38;5;28;01mtry\u001b[39;00m:\n\u001b[0;32m-> 3803\u001b[0m     \u001b[38;5;28;01mreturn\u001b[39;00m \u001b[38;5;28;43mself\u001b[39;49m\u001b[38;5;241;43m.\u001b[39;49m\u001b[43m_engine\u001b[49m\u001b[38;5;241;43m.\u001b[39;49m\u001b[43mget_loc\u001b[49m\u001b[43m(\u001b[49m\u001b[43mcasted_key\u001b[49m\u001b[43m)\u001b[49m\n\u001b[1;32m   3804\u001b[0m \u001b[38;5;28;01mexcept\u001b[39;00m \u001b[38;5;167;01mKeyError\u001b[39;00m \u001b[38;5;28;01mas\u001b[39;00m err:\n",
      "File \u001b[0;32m~/miniconda3/envs/lena/lib/python3.9/site-packages/pandas/_libs/index.pyx:138\u001b[0m, in \u001b[0;36mpandas._libs.index.IndexEngine.get_loc\u001b[0;34m()\u001b[0m\n",
      "File \u001b[0;32m~/miniconda3/envs/lena/lib/python3.9/site-packages/pandas/_libs/index.pyx:165\u001b[0m, in \u001b[0;36mpandas._libs.index.IndexEngine.get_loc\u001b[0;34m()\u001b[0m\n",
      "File \u001b[0;32mpandas/_libs/hashtable_class_helper.pxi:5745\u001b[0m, in \u001b[0;36mpandas._libs.hashtable.PyObjectHashTable.get_item\u001b[0;34m()\u001b[0m\n",
      "File \u001b[0;32mpandas/_libs/hashtable_class_helper.pxi:5753\u001b[0m, in \u001b[0;36mpandas._libs.hashtable.PyObjectHashTable.get_item\u001b[0;34m()\u001b[0m\n",
      "\u001b[0;31mKeyError\u001b[0m: 'data_params_SequenceConfigy_sequence_column_name'",
      "\nThe above exception was the direct cause of the following exception:\n",
      "\u001b[0;31mKeyError\u001b[0m                                  Traceback (most recent call last)",
      "Cell \u001b[0;32mIn [5], line 1\u001b[0m\n\u001b[0;32m----> 1\u001b[0m relevant_mimic_run_df \u001b[38;5;241m=\u001b[39m \u001b[43mmlflow_helper\u001b[49m\u001b[38;5;241;43m.\u001b[39;49m\u001b[43mhuawei_run_df\u001b[49m\u001b[43m(\u001b[49m\u001b[43minclude_noise\u001b[49m\u001b[38;5;241;43m=\u001b[39;49m\u001b[38;5;28;43;01mFalse\u001b[39;49;00m\u001b[43m,\u001b[49m\u001b[43m \u001b[49m\u001b[43minclude_refinements\u001b[49m\u001b[38;5;241;43m=\u001b[39;49m\u001b[38;5;28;43;01mFalse\u001b[39;49;00m\u001b[43m)\u001b[49m\n\u001b[1;32m      2\u001b[0m run_ids \u001b[38;5;241m=\u001b[39m \u001b[38;5;28mset\u001b[39m(relevant_mimic_run_df[\u001b[38;5;124m\"\u001b[39m\u001b[38;5;124minfo_run_id\u001b[39m\u001b[38;5;124m\"\u001b[39m])\n\u001b[1;32m      3\u001b[0m local_mlflow_dir\u001b[38;5;241m=\u001b[39mmlflow_helper\u001b[38;5;241m.\u001b[39mlocal_mlflow_dir\n",
      "File \u001b[0;32m~/Domain-Guided-Monitoring/notebooks/utils/mlflow_query.py:245\u001b[0m, in \u001b[0;36mMlflowHelper.huawei_run_df\u001b[0;34m(self, include_noise, include_refinements, risk_prediction, valid_x_columns, valid_y_columns, include_drain_hierarchy)\u001b[0m\n\u001b[1;32m    240\u001b[0m     huawei_run_df \u001b[38;5;241m=\u001b[39m huawei_run_df[\n\u001b[1;32m    241\u001b[0m         huawei_run_df[\u001b[38;5;124m\"\u001b[39m\u001b[38;5;124mdata_params_SequenceConfigx_sequence_column_name\u001b[39m\u001b[38;5;124m\"\u001b[39m]\u001b[38;5;241m.\u001b[39mapply(\u001b[38;5;28;01mlambda\u001b[39;00m x: x \u001b[38;5;129;01min\u001b[39;00m valid_x_columns)\n\u001b[1;32m    242\u001b[0m     ]\n\u001b[1;32m    243\u001b[0m \u001b[38;5;28;01mif\u001b[39;00m \u001b[38;5;28mlen\u001b[39m(valid_y_columns) \u001b[38;5;241m>\u001b[39m \u001b[38;5;241m0\u001b[39m:\n\u001b[1;32m    244\u001b[0m     huawei_run_df \u001b[38;5;241m=\u001b[39m huawei_run_df[\n\u001b[0;32m--> 245\u001b[0m         \u001b[43mhuawei_run_df\u001b[49m\u001b[43m[\u001b[49m\u001b[38;5;124;43m\"\u001b[39;49m\u001b[38;5;124;43mdata_params_SequenceConfigy_sequence_column_name\u001b[39;49m\u001b[38;5;124;43m\"\u001b[39;49m\u001b[43m]\u001b[49m\u001b[38;5;241m.\u001b[39mapply(\u001b[38;5;28;01mlambda\u001b[39;00m x: x \u001b[38;5;129;01min\u001b[39;00m valid_y_columns)\n\u001b[1;32m    246\u001b[0m     ]\n\u001b[1;32m    248\u001b[0m \u001b[38;5;28;01mif\u001b[39;00m \u001b[38;5;129;01mnot\u001b[39;00m include_noise \u001b[38;5;129;01mand\u001b[39;00m \u001b[38;5;124m'\u001b[39m\u001b[38;5;124mdata_tags_noise_type\u001b[39m\u001b[38;5;124m'\u001b[39m \u001b[38;5;129;01min\u001b[39;00m huawei_run_df\u001b[38;5;241m.\u001b[39mcolumns:\n\u001b[1;32m    249\u001b[0m     huawei_run_df \u001b[38;5;241m=\u001b[39m huawei_run_df[\n\u001b[1;32m    250\u001b[0m         (huawei_run_df[\u001b[38;5;124m\"\u001b[39m\u001b[38;5;124mdata_tags_noise_type\u001b[39m\u001b[38;5;124m\"\u001b[39m]\u001b[38;5;241m.\u001b[39mfillna(\u001b[38;5;124m\"\u001b[39m\u001b[38;5;124m\"\u001b[39m)\u001b[38;5;241m.\u001b[39mapply(\u001b[38;5;28mlen\u001b[39m) \u001b[38;5;241m==\u001b[39m \u001b[38;5;241m0\u001b[39m)\n\u001b[1;32m    251\u001b[0m     ]\n",
      "File \u001b[0;32m~/miniconda3/envs/lena/lib/python3.9/site-packages/pandas/core/frame.py:3804\u001b[0m, in \u001b[0;36mDataFrame.__getitem__\u001b[0;34m(self, key)\u001b[0m\n\u001b[1;32m   3802\u001b[0m \u001b[38;5;28;01mif\u001b[39;00m \u001b[38;5;28mself\u001b[39m\u001b[38;5;241m.\u001b[39mcolumns\u001b[38;5;241m.\u001b[39mnlevels \u001b[38;5;241m>\u001b[39m \u001b[38;5;241m1\u001b[39m:\n\u001b[1;32m   3803\u001b[0m     \u001b[38;5;28;01mreturn\u001b[39;00m \u001b[38;5;28mself\u001b[39m\u001b[38;5;241m.\u001b[39m_getitem_multilevel(key)\n\u001b[0;32m-> 3804\u001b[0m indexer \u001b[38;5;241m=\u001b[39m \u001b[38;5;28;43mself\u001b[39;49m\u001b[38;5;241;43m.\u001b[39;49m\u001b[43mcolumns\u001b[49m\u001b[38;5;241;43m.\u001b[39;49m\u001b[43mget_loc\u001b[49m\u001b[43m(\u001b[49m\u001b[43mkey\u001b[49m\u001b[43m)\u001b[49m\n\u001b[1;32m   3805\u001b[0m \u001b[38;5;28;01mif\u001b[39;00m is_integer(indexer):\n\u001b[1;32m   3806\u001b[0m     indexer \u001b[38;5;241m=\u001b[39m [indexer]\n",
      "File \u001b[0;32m~/miniconda3/envs/lena/lib/python3.9/site-packages/pandas/core/indexes/base.py:3805\u001b[0m, in \u001b[0;36mIndex.get_loc\u001b[0;34m(self, key, method, tolerance)\u001b[0m\n\u001b[1;32m   3803\u001b[0m     \u001b[38;5;28;01mreturn\u001b[39;00m \u001b[38;5;28mself\u001b[39m\u001b[38;5;241m.\u001b[39m_engine\u001b[38;5;241m.\u001b[39mget_loc(casted_key)\n\u001b[1;32m   3804\u001b[0m \u001b[38;5;28;01mexcept\u001b[39;00m \u001b[38;5;167;01mKeyError\u001b[39;00m \u001b[38;5;28;01mas\u001b[39;00m err:\n\u001b[0;32m-> 3805\u001b[0m     \u001b[38;5;28;01mraise\u001b[39;00m \u001b[38;5;167;01mKeyError\u001b[39;00m(key) \u001b[38;5;28;01mfrom\u001b[39;00m \u001b[38;5;21;01merr\u001b[39;00m\n\u001b[1;32m   3806\u001b[0m \u001b[38;5;28;01mexcept\u001b[39;00m \u001b[38;5;167;01mTypeError\u001b[39;00m:\n\u001b[1;32m   3807\u001b[0m     \u001b[38;5;66;03m# If we have a listlike key, _check_indexing_error will raise\u001b[39;00m\n\u001b[1;32m   3808\u001b[0m     \u001b[38;5;66;03m#  InvalidIndexError. Otherwise we fall through and re-raise\u001b[39;00m\n\u001b[1;32m   3809\u001b[0m     \u001b[38;5;66;03m#  the TypeError.\u001b[39;00m\n\u001b[1;32m   3810\u001b[0m     \u001b[38;5;28mself\u001b[39m\u001b[38;5;241m.\u001b[39m_check_indexing_error(key)\n",
      "\u001b[0;31mKeyError\u001b[0m: 'data_params_SequenceConfigy_sequence_column_name'"
     ]
    }
   ],
   "source": [
    "relevant_mimic_run_df = mlflow_helper.huawei_run_df(include_noise=False, include_refinements=False)\n",
    "run_ids = set(relevant_mimic_run_df[\"info_run_id\"])\n",
    "local_mlflow_dir=mlflow_helper.local_mlflow_dir\n",
    "cluster_threshold=0.5"
   ]
  },
  {
   "cell_type": "code",
   "execution_count": null,
   "metadata": {},
   "outputs": [],
   "source": [
    "records = [\n",
    "    calculate_cluster_attributes_for(run_id, cluster_threshold)\n",
    "    for run_id in tqdm(run_ids)\n",
    "]"
   ]
  },
  {
   "cell_type": "code",
   "execution_count": null,
   "metadata": {},
   "outputs": [],
   "source": [
    "mimic_df = pd.merge(\n",
    "    pd.DataFrame.from_records(\n",
    "        [x for x in records if len(x) > 0]\n",
    "    ).melt(id_vars=[\"run_id\"], var_name=\"metric\"),\n",
    "    relevant_mimic_run_df,\n",
    "    left_on=\"run_id\",\n",
    "    right_on=\"info_run_id\",\n",
    ")\n",
    "mimic_df.head()"
   ]
  },
  {
   "cell_type": "code",
   "execution_count": null,
   "metadata": {},
   "outputs": [],
   "source": [
    "mimic_df[\n",
    "    (mimic_df[\"data_params_ModelConfigbase_feature_embeddings_trainable\"] == \"False\")\n",
    "    & (mimic_df[\"metric\"].apply(lambda x: x.endswith(\"_p\")))\n",
    "].groupby(by=[\"metric\", \"data_tags_model_type\"]).describe()"
   ]
  },
  {
   "cell_type": "code",
   "execution_count": null,
   "metadata": {},
   "outputs": [],
   "source": [
    "sns.catplot(\n",
    "    data=mimic_df[\n",
    "        (mimic_df[\"data_params_ModelConfigbase_feature_embeddings_trainable\"] == \"False\")\n",
    "        & (mimic_df[\"metric\"].apply(lambda x: x.endswith(\"_p\")))\n",
    "    ],\n",
    "    x=\"data_tags_model_type\",\n",
    "    y=\"value\",\n",
    "    col=\"metric\",\n",
    "    kind=\"box\",\n",
    "    sharey=False,\n",
    "    order=[\"gram\", \"causal\", \"text\"],\n",
    ")\n",
    "plt.show()"
   ]
  }
 ],
 "metadata": {
  "interpreter": {
   "hash": "73b5e93e154d2b3bebada531bd37ae367fe461e3b71c186231ccdab3aa47e3f0"
  },
  "kernelspec": {
   "display_name": "Python 3 (ipykernel)",
   "language": "python",
   "name": "python3"
  },
  "language_info": {
   "codemirror_mode": {
    "name": "ipython",
    "version": 3
   },
   "file_extension": ".py",
   "mimetype": "text/x-python",
   "name": "python",
   "nbconvert_exporter": "python",
   "pygments_lexer": "ipython3",
   "version": "3.9.15"
  }
 },
 "nbformat": 4,
 "nbformat_minor": 2
}
