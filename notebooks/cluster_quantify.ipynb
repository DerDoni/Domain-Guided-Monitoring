{
 "cells": [
  {
   "cell_type": "code",
   "execution_count": null,
   "metadata": {},
   "outputs": [],
   "source": [
    "import pandas as pd\n",
    "from pathlib import Path"
   ]
  },
  {
   "cell_type": "code",
   "execution_count": null,
   "metadata": {},
   "outputs": [],
   "source": [
    "%run utils/mlflow_query.py\n",
    "%run utils/loading.py\n",
    "%run utils/comparison.py\n",
    "%run utils/attention_graph.py"
   ]
  },
  {
   "cell_type": "code",
   "execution_count": null,
   "metadata": {},
   "outputs": [],
   "source": [
    "mlflow_helper = MlflowHelper(pkl_file=Path(\"mlflow_run_df.pkl\"))\n",
    "#mlflow_helper.query_all_runs(pkl_file=Path(\"mlflow_run_df.pkl\"))"
   ]
  },
  {
   "cell_type": "markdown",
   "metadata": {},
   "source": [
    "# Mimic"
   ]
  },
  {
   "cell_type": "code",
   "execution_count": null,
   "metadata": {},
   "outputs": [],
   "source": [
    "def calculate_cluster_attributes_for(run_id, cluster_threshold=0.5, local_mlflow_dir=mlflow_helper.local_mlflow_dir):\n",
    "    attention_weights = load_attention_weights(run_id, local_mlflow_dir)\n",
    "    if attention_weights is None or len(attention_weights) == 0:\n",
    "        return {}\n",
    "    \n",
    "    attention_importances = calculate_attention_importances(attention_weights)\n",
    "    dominant_node_mapping = {\n",
    "        x:sorted([\n",
    "            (y,float(y_weight)) for y, y_weight in ys.items() if float(y_weight) > cluster_threshold\n",
    "        ], key=lambda v:v[0])\n",
    "        for x,ys in attention_weights.items()\n",
    "    }\n",
    "    dominant_nodes = set([\n",
    "        v[0] for sl in dominant_node_mapping.values() for v in sl\n",
    "    ])\n",
    "    indecided_features = set([x for x,ys in dominant_node_mapping.items() if len(ys) == 0])\n",
    "    clusters = {\n",
    "        x:[\n",
    "            (y, float(y_weight)) for (y,y_weight) in ys if float(y_weight) > cluster_threshold\n",
    "        ] for x, ys in attention_importances.items()\n",
    "    }\n",
    "    clusters = {\n",
    "        x:ys for x,ys in clusters.items() if len(ys) > 0\n",
    "    }\n",
    "    features_in_clusters = set([\n",
    "        y[0] for sl in clusters.values() for y in sl\n",
    "    ])\n",
    "    shared_clusters = {\n",
    "        x:ys for x,ys in clusters.items() if len(ys) > 1\n",
    "    }\n",
    "    features_in_shared_clusters = set([\n",
    "        y[0] for sl in shared_clusters.values() for y in sl\n",
    "    ])\n",
    "    single_clusters = {\n",
    "        x:ys for x,ys in clusters.items() if len(ys) == 1\n",
    "    }\n",
    "    features_in_single_clusters = set([\n",
    "        y[0] for sl in single_clusters.values() for y in sl\n",
    "    ])\n",
    "    return {\n",
    "        'run_id': run_id,\n",
    "        'features': len(attention_weights),\n",
    "        'indecided_features': len(indecided_features),\n",
    "        'indecided_features_p': len(indecided_features) / len(attention_weights),\n",
    "        'clusters': len(clusters),\n",
    "        'features_in_clusters': len(features_in_clusters),\n",
    "        'features_in_clusters_p': len(features_in_clusters) / len(attention_weights),\n",
    "        'shared_clusters': len(shared_clusters),\n",
    "        'features_in_shared_clusters': len(features_in_shared_clusters),\n",
    "        'features_in_shared_clusters_p': len(features_in_shared_clusters) / len(attention_weights),\n",
    "        'features_in_single_clusters_p': len(features_in_single_clusters) / len(attention_weights),\n",
    "        'avg_shared_cluster_size_p': len(features_in_shared_clusters) / len(shared_clusters),\n",
    "    }"
   ]
  },
  {
   "cell_type": "code",
   "execution_count": null,
   "metadata": {},
   "outputs": [],
   "source": [
    "relevant_mimic_run_df = mlflow_helper.huawei_run_df(include_noise=False, include_refinements=False)\n",
    "run_ids = set(relevant_mimic_run_df[\"info_run_id\"])\n",
    "local_mlflow_dir=mlflow_helper.local_mlflow_dir\n",
    "cluster_threshold=0.5"
   ]
  },
  {
   "cell_type": "code",
   "execution_count": null,
   "metadata": {},
   "outputs": [],
   "source": [
    "records = [\n",
    "    calculate_cluster_attributes_for(run_id, cluster_threshold)\n",
    "    for run_id in tqdm(run_ids)\n",
    "]"
   ]
  },
  {
   "cell_type": "code",
   "execution_count": null,
   "metadata": {},
   "outputs": [],
   "source": [
    "mimic_df = pd.merge(\n",
    "    pd.DataFrame.from_records(\n",
    "        [x for x in records if len(x) > 0]\n",
    "    ).melt(id_vars=[\"run_id\"], var_name=\"metric\"),\n",
    "    relevant_mimic_run_df,\n",
    "    left_on=\"run_id\",\n",
    "    right_on=\"info_run_id\",\n",
    ")\n",
    "mimic_df.head()"
   ]
  },
  {
   "cell_type": "code",
   "execution_count": null,
   "metadata": {},
   "outputs": [],
   "source": [
    "mimic_df[\n",
    "    (mimic_df[\"data_params_ModelConfigbase_feature_embeddings_trainable\"] == \"False\")\n",
    "    & (mimic_df[\"metric\"].apply(lambda x: x.endswith(\"_p\")))\n",
    "].groupby(by=[\"metric\", \"data_tags_model_type\"]).describe()"
   ]
  },
  {
   "cell_type": "code",
   "execution_count": null,
   "metadata": {},
   "outputs": [],
   "source": [
    "sns.catplot(\n",
    "    data=mimic_df[\n",
    "        (mimic_df[\"data_params_ModelConfigbase_feature_embeddings_trainable\"] == \"False\")\n",
    "        & (mimic_df[\"metric\"].apply(lambda x: x.endswith(\"_p\")))\n",
    "    ],\n",
    "    x=\"data_tags_model_type\",\n",
    "    y=\"value\",\n",
    "    col=\"metric\",\n",
    "    kind=\"box\",\n",
    "    sharey=False,\n",
    "    order=[\"gram\", \"causal\", \"text\"],\n",
    ")\n",
    "plt.show()"
   ]
  }
 ],
 "metadata": {
  "interpreter": {
   "hash": "73b5e93e154d2b3bebada531bd37ae367fe461e3b71c186231ccdab3aa47e3f0"
  },
  "kernelspec": {
   "display_name": "Python 3.8.10 64-bit ('healthcare-aiops': conda)",
   "name": "python3"
  },
  "language_info": {
   "codemirror_mode": {
    "name": "ipython",
    "version": 3
   },
   "file_extension": ".py",
   "mimetype": "text/x-python",
   "name": "python",
   "nbconvert_exporter": "python",
   "pygments_lexer": "ipython3",
   "version": "3.8.10"
  },
  "orig_nbformat": 4
 },
 "nbformat": 4,
 "nbformat_minor": 2
}
