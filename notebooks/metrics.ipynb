{
 "metadata": {
  "language_info": {
   "codemirror_mode": {
    "name": "ipython",
    "version": 3
   },
   "file_extension": ".py",
   "mimetype": "text/x-python",
   "name": "python",
   "nbconvert_exporter": "python",
   "pygments_lexer": "ipython3",
   "version": "3.8.8"
  },
  "orig_nbformat": 2,
  "kernelspec": {
   "name": "python388jvsc74a57bd09d90ef2e2544a65949a5382aa665e8a895142ccb15d506742792c571feba52d3",
   "display_name": "Python 3.8.8 64-bit (conda)"
  }
 },
 "nbformat": 4,
 "nbformat_minor": 2,
 "cells": [
  {
   "cell_type": "code",
   "execution_count": 1,
   "metadata": {},
   "outputs": [],
   "source": [
    "import tensorflow as tf\n",
    "import numpy as np"
   ]
  },
  {
   "cell_type": "code",
   "execution_count": 26,
   "metadata": {},
   "outputs": [],
   "source": [
    "class MulticlassAccuracy(tf.keras.metrics.Metric):\n",
    "    def __init__(self, *args, **kwargs):\n",
    "        super().__init__(name='MulticlassAccuracy', *args, **kwargs)\n",
    "        self.multiclass_accuracy_sum = self.add_weight(name='multiclass_accuracy_sum', initializer='zeros')\n",
    "        self.multiclass_accuracy_num = self.add_weight(name='multiclass_accuracy_num', initializer='zeros')\n",
    "\n",
    "\n",
    "    def update_state(self, y_true, y_pred, sample_weight=None):\n",
    "        y_pred = tf.round(y_pred)\n",
    "        correct_predictions = tf.where(y_true == y_pred, x=1, y=0)\n",
    "        per_class_accuracy = tf.reduce_sum(correct_predictions/y_pred.shape[1], axis=1)\n",
    "        self.multiclass_accuracy_sum.assign_add(tf.math.scalar_mul(y_pred.shape[0], tf.cast(tf.reduce_mean(per_class_accuracy), dtype='float32')))\n",
    "        self.multiclass_accuracy_num.assign_add(y_pred.shape[0])\n",
    "\n",
    "    def result(self):\n",
    "        return self.multiclass_accuracy_sum / self.multiclass_accuracy_num\n",
    "\n",
    "    def reset_states(self):\n",
    "        self.multiclass_accuracy_sum.assign(0.0)\n",
    "        self.multiclass_accuracy_num.assign(0.0)"
   ]
  },
  {
   "cell_type": "code",
   "execution_count": 27,
   "metadata": {},
   "outputs": [
    {
     "output_type": "stream",
     "name": "stdout",
     "text": [
      "WARNING:tensorflow:AutoGraph could not transform <bound method MulticlassAccuracy.update_state of <__main__.MulticlassAccuracy object at 0x000002768144FFD0>> and will run it as-is.\n",
      "Please report this to the TensorFlow team. When filing the bug, set the verbosity to 10 (on Linux, `export AUTOGRAPH_VERBOSITY=10`) and attach the full output.\n",
      "Cause: module 'gast' has no attribute 'Index'\n",
      "To silence this warning, decorate the function with @tf.autograph.experimental.do_not_convert\n",
      "WARNING: AutoGraph could not transform <bound method MulticlassAccuracy.update_state of <__main__.MulticlassAccuracy object at 0x000002768144FFD0>> and will run it as-is.\n",
      "Please report this to the TensorFlow team. When filing the bug, set the verbosity to 10 (on Linux, `export AUTOGRAPH_VERBOSITY=10`) and attach the full output.\n",
      "Cause: module 'gast' has no attribute 'Index'\n",
      "To silence this warning, decorate the function with @tf.autograph.experimental.do_not_convert\n",
      "0.75\n",
      "0.875\n"
     ]
    }
   ],
   "source": [
    "y_true = np.array([\n",
    "    [1, 0],\n",
    "    [0, 1],\n",
    "    [1, 1],\n",
    "    [0, 1]\n",
    "])\n",
    "y_pred = np.array([\n",
    "    [0.7, 0.3],\n",
    "    [0.7, 0.8],\n",
    "    [0.7, 0.6],\n",
    "    [0.5, 0.5]\n",
    "])\n",
    "\n",
    "metric = MulticlassAccuracy()\n",
    "metric.update_state(y_true, y_pred)\n",
    "print(metric.result().numpy())\n",
    "metric.update_state(y_true, y_true)\n",
    "print(metric.result().numpy())"
   ]
  }
 ]
}