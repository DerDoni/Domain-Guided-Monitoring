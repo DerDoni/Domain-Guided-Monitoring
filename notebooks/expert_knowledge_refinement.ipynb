{
 "cells": [
  {
   "cell_type": "code",
   "execution_count": null,
   "source": [
    "import seaborn as sns\r\n",
    "import matplotlib.pyplot as plt\r\n",
    "import sys \r\n",
    "import os\r\n",
    "from pathlib import Path\r\n",
    "module_path = os.path.abspath(os.path.join('..'))\r\n",
    "if module_path not in sys.path:\r\n",
    "    sys.path.append(module_path)\r\n",
    "\r\n",
    "from src.refinement import knowledge"
   ],
   "outputs": [],
   "metadata": {}
  },
  {
   "cell_type": "code",
   "execution_count": null,
   "source": [
    "%run utils/attention_graph.py\r\n",
    "%run utils/mlflow_query.py\r\n",
    "%run utils/percentiles.py\r\n",
    "%run utils/loading.py\r\n",
    "%run utils/comparison.py\r\n",
    "%run utils/refinement.py"
   ],
   "outputs": [],
   "metadata": {}
  },
  {
   "cell_type": "code",
   "execution_count": null,
   "source": [
    "mlflow_helper = MlflowHelper(pkl_file=Path(\"mlflow_run_df.pkl\"))\r\n",
    "#mlflow_helper.query_all_runs(query_metrics=False)"
   ],
   "outputs": [],
   "metadata": {}
  },
  {
   "cell_type": "markdown",
   "source": [
    "# Experiment Results"
   ],
   "metadata": {}
  },
  {
   "cell_type": "markdown",
   "source": [
    "## Mimic"
   ],
   "metadata": {}
  },
  {
   "cell_type": "code",
   "execution_count": null,
   "source": [
    "relevant_mimic_ref_df = mlflow_helper.mimic_run_df(include_noise=False, include_refinements=True)\r\n",
    "relevant_mimic_ref_df = relevant_mimic_ref_df[\r\n",
    "        relevant_mimic_ref_df[\"data_tags_refinement_type\"].fillna(\"\").astype(str).apply(len) > 0\r\n",
    "].copy()\r\n",
    "relevant_mimic_ref_df['refinement_run'] = relevant_mimic_ref_df[\"data_tags_refinement_type\"].apply(lambda x: x.split(\"_\")[0])\r\n",
    "relevant_mimic_ref_df['refinement_type'] = relevant_mimic_ref_df[\"data_tags_refinement_type\"].apply(lambda x: \"_\".join(x.split(\"_\")[1:]))\r\n",
    "relevant_mimic_ref_df"
   ],
   "outputs": [],
   "metadata": {}
  },
  {
   "cell_type": "code",
   "execution_count": null,
   "source": [
    "mimic_accuracy_df = mlflow_helper.load_best_metrics_for_ids(run_ids=set(relevant_mimic_ref_df['info_run_id']))\r\n",
    "mimic_accuracy_df['refinement_run'] = mimic_accuracy_df[\"data_tags_refinement_type\"].apply(lambda x: x.split(\"_\")[0])\r\n",
    "mimic_accuracy_df['refinement_type'] = mimic_accuracy_df[\"data_tags_refinement_type\"].apply(lambda x: \"_\".join(x.split(\"_\")[1:]))\r\n",
    "mimic_accuracy_df['refinement_type_order'] = mimic_accuracy_df['refinement_type'].replace({\r\n",
    "    'reference':0, \r\n",
    "    'original':1, \r\n",
    "    'refinement_0':2,\r\n",
    "    'refinement_1':3,\r\n",
    "    'refinement_2':4,})\r\n",
    "\r\n",
    "mimic_accuracy_df"
   ],
   "outputs": [],
   "metadata": {}
  },
  {
   "cell_type": "code",
   "execution_count": null,
   "source": [
    "g = sns.lineplot(data=mimic_accuracy_df[\r\n",
    "        (mimic_accuracy_df['data_params_RefinementConfigreference_file_knowledge'].fillna('').apply(len) > 0) &\r\n",
    "        (mimic_accuracy_df['data_params_RefinementConfigedges_to_add'].fillna(0.0).astype(float) == 0.0) &\r\n",
    "        (mimic_accuracy_df['val_top_20_categorical_accuracy_history_best'].fillna(-1) > 0)\r\n",
    "    ].sort_values(by=\"refinement_type_order\"), \r\n",
    "    x=\"refinement_type\", \r\n",
    "    y=\"val_top_20_categorical_accuracy_history_best\", \r\n",
    "    hue=\"data_params_RefinementConfigoriginal_file_knowledge\",\r\n",
    "    estimator=None,\r\n",
    "    units=\"refinement_run\",\r\n",
    "    sort=False,\r\n",
    ")\r\n",
    "plt.legend(bbox_to_anchor=(1.05, 1), loc=2, borderaxespad=0.)\r\n",
    "plt.show()"
   ],
   "outputs": [],
   "metadata": {}
  },
  {
   "cell_type": "code",
   "execution_count": null,
   "source": [
    "g = sns.lineplot(data=mimic_accuracy_df[\r\n",
    "        (mimic_accuracy_df['data_params_RefinementConfigreference_file_knowledge'].fillna('').apply(len) > 0) &\r\n",
    "        (mimic_accuracy_df['data_params_RefinementConfigedges_to_add'].fillna(-1).astype(float) == 0.1) &\r\n",
    "        (mimic_accuracy_df['val_top_20_categorical_accuracy_history_best'].fillna(-1) > 0)\r\n",
    "    ].sort_values(by=\"refinement_type_order\"), \r\n",
    "    x=\"refinement_type\", \r\n",
    "    y=\"val_top_20_categorical_accuracy_history_best\", \r\n",
    "    hue=\"data_params_RefinementConfigoriginal_file_knowledge\",\r\n",
    "    estimator=None,\r\n",
    "    units=\"refinement_run\",\r\n",
    "    sort=False,\r\n",
    ")\r\n",
    "plt.legend(bbox_to_anchor=(1.05, 1), loc=2, borderaxespad=0.)\r\n",
    "plt.show()"
   ],
   "outputs": [],
   "metadata": {}
  },
  {
   "cell_type": "code",
   "execution_count": null,
   "source": [
    "mimic_accuracy_df_p = calculate_accuracies_per_percentiles(\r\n",
    "    relevant_run_df=relevant_mimic_ref_df, \r\n",
    "    k=20, num_percentiles=10, num_input_percentiles=10,\r\n",
    "    percentile_names=[\r\n",
    "        'avg_input_frequencies_percentile', \r\n",
    "        'median_input_frequencies_percentile', \r\n",
    "        'min_input_frequencies_percentile', \r\n",
    "        'p10_input_frequencies_percentile', \r\n",
    "        'unknown_inputs_percentile', \r\n",
    "        'output_frequency_percentile',\r\n",
    "        'avg_input_frequencies_range', \r\n",
    "        'median_input_frequencies_range', \r\n",
    "        'min_input_frequencies_range', \r\n",
    "        'p10_input_frequencies_range', \r\n",
    "        'unknown_inputs_range', \r\n",
    "    ],\r\n",
    "    local_mlflow_dir=mlflow_helper.local_mlflow_dir)\r\n",
    "mimic_accuracy_df_p"
   ],
   "outputs": [],
   "metadata": {}
  },
  {
   "cell_type": "code",
   "execution_count": null,
   "source": [
    "plot_refinement_improvement(\r\n",
    "    accuracy_df=mimic_accuracy_df_p,\r\n",
    "    refinement_df=relevant_mimic_ref_df[relevant_mimic_ref_df[\"data_params_RefinementConfigedges_to_add\"].fillna(\"0.0\") == \"0.0\"],\r\n",
    "    reference_refinement_type=\"original\",\r\n",
    ")"
   ],
   "outputs": [],
   "metadata": {}
  },
  {
   "cell_type": "code",
   "execution_count": null,
   "source": [
    "plot_refinement_improvement(\r\n",
    "    accuracy_df=mimic_accuracy_df_p,\r\n",
    "    refinement_df=relevant_mimic_ref_df[relevant_mimic_ref_df[\"data_params_RefinementConfigedges_to_add\"].fillna(\"0.0\") == \"0.1\"],\r\n",
    "    reference_refinement_type=\"reference\",\r\n",
    ")"
   ],
   "outputs": [],
   "metadata": {}
  },
  {
   "cell_type": "markdown",
   "source": [
    "## Huawei"
   ],
   "metadata": {}
  },
  {
   "cell_type": "code",
   "execution_count": null,
   "source": [
    "relevant_huawei_ref_df = mlflow_helper.huawei_run_df(include_noise=False, include_refinements=True)\r\n",
    "relevant_huawei_ref_df = relevant_huawei_ref_df[\r\n",
    "        relevant_huawei_ref_df[\"data_tags_refinement_type\"].fillna(\"\").astype(str).apply(len) > 0\r\n",
    "].copy()\r\n",
    "relevant_huawei_ref_df['refinement_run'] = relevant_huawei_ref_df[\"data_tags_refinement_type\"].apply(lambda x: x.split(\"_\")[0])\r\n",
    "relevant_huawei_ref_df['refinement_type'] = relevant_huawei_ref_df[\"data_tags_refinement_type\"].apply(lambda x: \"_\".join(x.split(\"_\")[1:]))\r\n",
    "relevant_huawei_ref_df"
   ],
   "outputs": [],
   "metadata": {}
  },
  {
   "cell_type": "code",
   "execution_count": null,
   "source": [
    "huawei_accuracy_df = mlflow_helper.load_best_metrics_for_ids(run_ids=set(relevant_huawei_ref_df['info_run_id']))\r\n",
    "huawei_accuracy_df['refinement_run'] = huawei_accuracy_df[\"data_tags_refinement_type\"].apply(lambda x: x.split(\"_\")[0])\r\n",
    "huawei_accuracy_df['refinement_type'] = huawei_accuracy_df[\"data_tags_refinement_type\"].apply(lambda x: \"_\".join(x.split(\"_\")[1:]))\r\n",
    "huawei_accuracy_df['refinement_type_order'] = huawei_accuracy_df['refinement_type'].replace({\r\n",
    "    'reference':0, \r\n",
    "    'original':1, \r\n",
    "    'refinement_0':2,\r\n",
    "    'refinement_1':3,\r\n",
    "    'refinement_2':4,})\r\n",
    "huawei_accuracy_df"
   ],
   "outputs": [],
   "metadata": {}
  },
  {
   "cell_type": "code",
   "execution_count": null,
   "source": [
    "g = sns.lineplot(data=huawei_accuracy_df[\r\n",
    "        (huawei_accuracy_df['data_params_RefinementConfigreference_file_knowledge'].fillna('').apply(len) > 0) &\r\n",
    "        (huawei_accuracy_df['data_params_RefinementConfigedges_to_add'].fillna(-1).astype(float) <= 0) &\r\n",
    "        (huawei_accuracy_df['val_top_5_categorical_accuracy_history_best'].fillna(-1) > 0)\r\n",
    "    ].sort_values(by=\"refinement_type_order\"), \r\n",
    "    x=\"refinement_type\", \r\n",
    "    y=\"val_top_5_categorical_accuracy_history_best\", \r\n",
    "    hue=\"data_params_RefinementConfigoriginal_file_knowledge\",\r\n",
    "    estimator=None,\r\n",
    "    units=\"refinement_run\",\r\n",
    "    sort=False,\r\n",
    ")\r\n",
    "plt.legend(bbox_to_anchor=(1.05, 1), loc=2, borderaxespad=0.)\r\n",
    "plt.show()"
   ],
   "outputs": [],
   "metadata": {}
  },
  {
   "cell_type": "code",
   "execution_count": null,
   "source": [
    "g = sns.lineplot(data=huawei_accuracy_df[\r\n",
    "        (huawei_accuracy_df['data_params_RefinementConfigreference_file_knowledge'].fillna('').apply(len) > 0) &\r\n",
    "        (huawei_accuracy_df['data_params_RefinementConfigedges_to_add'].fillna(-1).astype(float) == 0.1) &\r\n",
    "        (huawei_accuracy_df['val_top_5_categorical_accuracy_history_best'].fillna(-1) > 0)\r\n",
    "    ].sort_values(by=\"refinement_type_order\"), \r\n",
    "    x=\"refinement_type\", \r\n",
    "    y=\"val_top_5_categorical_accuracy_history_best\", \r\n",
    "    hue=\"data_params_RefinementConfigoriginal_file_knowledge\",\r\n",
    "    estimator=None,\r\n",
    "    units=\"refinement_run\",\r\n",
    "    sort=False,\r\n",
    ")\r\n",
    "plt.legend(bbox_to_anchor=(1.05, 1), loc=2, borderaxespad=0.)\r\n",
    "plt.show()"
   ],
   "outputs": [],
   "metadata": {}
  },
  {
   "cell_type": "code",
   "execution_count": null,
   "source": [
    "huawei_accuracy_df_p = calculate_accuracies_per_percentiles(\r\n",
    "    relevant_run_df=relevant_huawei_ref_df, \r\n",
    "    k=20, num_percentiles=10, num_input_percentiles=10,\r\n",
    "    percentile_names=[\r\n",
    "        'avg_input_frequencies_percentile', \r\n",
    "        'median_input_frequencies_percentile', \r\n",
    "        'min_input_frequencies_percentile', \r\n",
    "        'p10_input_frequencies_percentile', \r\n",
    "        'unknown_inputs_percentile', \r\n",
    "        'output_frequency_percentile',\r\n",
    "        'avg_input_frequencies_range', \r\n",
    "        'median_input_frequencies_range', \r\n",
    "        'min_input_frequencies_range', \r\n",
    "        'p10_input_frequencies_range', \r\n",
    "        'unknown_inputs_range', \r\n",
    "    ],\r\n",
    "    local_mlflow_dir=mlflow_helper.local_mlflow_dir)\r\n",
    "huawei_accuracy_df_p"
   ],
   "outputs": [],
   "metadata": {}
  },
  {
   "cell_type": "code",
   "execution_count": null,
   "source": [
    "plot_refinement_improvement(\r\n",
    "    accuracy_df=huawei_accuracy_df_p,\r\n",
    "    refinement_df=relevant_huawei_ref_df[relevant_huawei_ref_df[\"data_params_RefinementConfigedges_to_add\"].fillna(\"0.0\") == \"0.0\"],\r\n",
    "    reference_refinement_type=\"original\",\r\n",
    ")"
   ],
   "outputs": [],
   "metadata": {}
  },
  {
   "cell_type": "code",
   "execution_count": null,
   "source": [
    "plot_refinement_improvement(\r\n",
    "    accuracy_df=huawei_accuracy_df_p,\r\n",
    "    refinement_df=relevant_huawei_ref_df[relevant_huawei_ref_df[\"data_params_RefinementConfigedges_to_add\"].fillna(\"0.0\") == \"0.1\"],\r\n",
    "    reference_refinement_type=\"reference\",\r\n",
    ")"
   ],
   "outputs": [],
   "metadata": {}
  },
  {
   "cell_type": "markdown",
   "source": [
    "# Graph Plotting"
   ],
   "metadata": {}
  },
  {
   "cell_type": "code",
   "execution_count": null,
   "source": [
    "mimic_example_runs = {\r\n",
    "    'edges_added': {\r\n",
    "        'gram': relevant_mimic_ref_df[\r\n",
    "            (relevant_mimic_ref_df['data_params_RefinementConfigoriginal_file_knowledge'] == 'data/gram_original_file_knowledge.json') &\r\n",
    "            (relevant_mimic_ref_df['data_params_RefinementConfigedges_to_add'].fillna('0.0') == '0.1') \r\n",
    "        ]['refinement_run'].iloc[0],\r\n",
    "        'text': relevant_mimic_ref_df[\r\n",
    "            (relevant_mimic_ref_df['data_params_RefinementConfigoriginal_file_knowledge'] == 'data/text_original_file_knowledge.json') &\r\n",
    "            (relevant_mimic_ref_df['data_params_RefinementConfigedges_to_add'].fillna('0.0') == '0.1') \r\n",
    "        ]['refinement_run'].iloc[0],\r\n",
    "        'causal': relevant_mimic_ref_df[\r\n",
    "            (relevant_mimic_ref_df['data_params_RefinementConfigoriginal_file_knowledge'] == 'data/causal_original_file_knowledge.json') &\r\n",
    "            (relevant_mimic_ref_df['data_params_RefinementConfigedges_to_add'].fillna('0.0') == '0.1') \r\n",
    "        ]['refinement_run'].iloc[0],\r\n",
    "    },\r\n",
    "    'edges_removed': {\r\n",
    "        'gram': relevant_mimic_ref_df[\r\n",
    "            (relevant_mimic_ref_df['data_params_RefinementConfigoriginal_file_knowledge'] == 'data/gram_original_file_knowledge.json') &\r\n",
    "            (relevant_mimic_ref_df['data_params_RefinementConfigedges_to_add'].fillna('0.0') == '0.0') \r\n",
    "        ]['refinement_run'].iloc[0],\r\n",
    "        'text': relevant_mimic_ref_df[\r\n",
    "            (relevant_mimic_ref_df['data_params_RefinementConfigoriginal_file_knowledge'] == 'data/text_original_file_knowledge.json') &\r\n",
    "            (relevant_mimic_ref_df['data_params_RefinementConfigedges_to_add'].fillna('0.0') == '0.0') \r\n",
    "        ]['refinement_run'].iloc[0],\r\n",
    "        'causal': relevant_mimic_ref_df[\r\n",
    "            (relevant_mimic_ref_df['data_params_RefinementConfigoriginal_file_knowledge'] == 'data/causal_original_file_knowledge.json') &\r\n",
    "            (relevant_mimic_ref_df['data_params_RefinementConfigedges_to_add'].fillna('0.0') == '0.0') \r\n",
    "        ]['refinement_run'].iloc[0],\r\n",
    "    },\r\n",
    "}\r\n",
    "\r\n",
    "mimic_example_runs"
   ],
   "outputs": [],
   "metadata": {}
  },
  {
   "cell_type": "code",
   "execution_count": null,
   "source": [
    "huawei_example_runs = {\r\n",
    "    'edges_added': {\r\n",
    "        'gram': relevant_huawei_ref_df[\r\n",
    "            (relevant_huawei_ref_df['data_params_RefinementConfigoriginal_file_knowledge'] == 'data/huawei_gram_original_file_knowledge.json') &\r\n",
    "            (relevant_huawei_ref_df['data_params_RefinementConfigedges_to_add'].fillna(-1).astype(float) == 0.1) \r\n",
    "        ]['refinement_run'].iloc[0],\r\n",
    "        'text': relevant_huawei_ref_df[\r\n",
    "            (relevant_huawei_ref_df['data_params_RefinementConfigoriginal_file_knowledge'] == 'data/huawei_text_original_file_knowledge.json') &\r\n",
    "            (relevant_huawei_ref_df['data_params_RefinementConfigedges_to_add'].fillna(-1).astype(float) == 0.1) \r\n",
    "        ]['refinement_run'].iloc[0],\r\n",
    "        'causal': relevant_huawei_ref_df[\r\n",
    "            (relevant_huawei_ref_df['data_params_RefinementConfigoriginal_file_knowledge'] == 'data/huawei_causal_original_file_knowledge.json') &\r\n",
    "            (relevant_huawei_ref_df['data_params_RefinementConfigedges_to_add'].fillna(-1).astype(float) == 0.1) \r\n",
    "        ]['refinement_run'].iloc[0],\r\n",
    "    },\r\n",
    "    'edges_removed': {\r\n",
    "        'gram': relevant_huawei_ref_df[\r\n",
    "            (relevant_huawei_ref_df['data_params_RefinementConfigoriginal_file_knowledge'] == 'data/huawei_gram_original_file_knowledge.json') &\r\n",
    "            (relevant_huawei_ref_df['data_params_RefinementConfigedges_to_add'].fillna(-1).astype(float) <= 0) \r\n",
    "        ].sort_values(by=\"info_start_time\")['refinement_run'].iloc[0],\r\n",
    "        'text': relevant_huawei_ref_df[\r\n",
    "            (relevant_huawei_ref_df['data_params_RefinementConfigoriginal_file_knowledge'] == 'data/huawei_text_original_file_knowledge.json') &\r\n",
    "            (relevant_huawei_ref_df['data_params_RefinementConfigedges_to_add'].fillna(-1).astype(float) <= 0) \r\n",
    "        ].sort_values(by=\"info_start_time\")['refinement_run'].iloc[0],\r\n",
    "        'causal': relevant_huawei_ref_df[\r\n",
    "            (relevant_huawei_ref_df['data_params_RefinementConfigoriginal_file_knowledge'] == 'data/huawei_causal_original_file_knowledge.json') &\r\n",
    "            (relevant_huawei_ref_df['data_params_RefinementConfigedges_to_add'].fillna(-1).astype(float) <= 0) \r\n",
    "        ].sort_values(by=\"info_start_time\")['refinement_run'].iloc[0],\r\n",
    "    },\r\n",
    "}\r\n",
    "\r\n",
    "huawei_example_runs"
   ],
   "outputs": [],
   "metadata": {}
  },
  {
   "cell_type": "code",
   "execution_count": null,
   "source": [
    "class RefinementConfig:\r\n",
    "    min_edge_weight: float = 0.8\r\n",
    "    max_train_examples: int = 100\r\n",
    "    refinement_metric: str = \"mean_outlier_score\"\r\n",
    "    refinement_metric_maxrank: int = 100\r\n",
    "    max_edges_to_remove: int = 100\r\n",
    "    max_refinement_metric: int = -1\r\n",
    "    mlflow_dir: str = \"../gsim01/mlruns/1/\""
   ],
   "outputs": [],
   "metadata": {}
  },
  {
   "cell_type": "code",
   "execution_count": null,
   "source": [
    "def plot_for_removed_edges(original_run_id, reference_run_id, local_mlflow_dir, use_node_mapping=False):\r\n",
    "    original_attention = load_attention_weights(original_run_id, local_mlflow_dir)\r\n",
    "    frequencies = load_input_frequency_dict(original_run_id, local_mlflow_dir)\r\n",
    "\r\n",
    "    config = RefinementConfig()\r\n",
    "    config.min_edge_weight = 0.5\r\n",
    "    config.max_train_examples = 50\r\n",
    "    config.max_refinement_metric = -2\r\n",
    "    refined_knowledge = knowledge.KnowledgeProcessor(config).load_refined_knowledge(refinement_run_id=original_run_id, reference_run_id=reference_run_id)\r\n",
    "    \r\n",
    "    feature_node_mapping = convert_to_node_mapping(\r\n",
    "        [x for x in original_attention], use_node_mapping\r\n",
    "    )\r\n",
    "    colored_connections = calculate_colored_connections(\r\n",
    "        reference_connections=set(\r\n",
    "            [(c,p) for c,ps in refined_knowledge.items() for p in ps]\r\n",
    "        ),\r\n",
    "        attention_weights=original_attention,\r\n",
    "        feature_node_mapping=feature_node_mapping,\r\n",
    "    )\r\n",
    "    print(\"Removed\", len(colored_connections), \"edges\")\r\n",
    "    node_mapping = _create_graph_visualization(\r\n",
    "        attention_weights=original_attention, \r\n",
    "        threshold=0.25, \r\n",
    "        run_name=\"refinement_edges_removed\", \r\n",
    "        node_mapping=feature_node_mapping,\r\n",
    "        colored_connections=colored_connections)\r\n",
    "    return node_mapping, frequencies\r\n",
    "\r\n",
    "def plot_for_added_edges(original_run_id, reference_run_id, local_mlflow_dir, use_node_mapping=False):\r\n",
    "    original_attention = load_attention_weights(original_run_id, local_mlflow_dir)\r\n",
    "    reference_attention = load_attention_weights(reference_run_id, local_mlflow_dir)\r\n",
    "    frequencies = load_input_frequency_dict(original_run_id, local_mlflow_dir)\r\n",
    "\r\n",
    "    config = RefinementConfig()\r\n",
    "    config.min_edge_weight = 0.5\r\n",
    "    config.max_train_examples = 50\r\n",
    "    config.max_edges_to_remove = 1000\r\n",
    "    config.max_refinement_metric = 2\r\n",
    "    refined_knowledge = knowledge.KnowledgeProcessor(config).load_refined_knowledge(refinement_run_id=original_run_id, reference_run_id=reference_run_id)\r\n",
    "    \r\n",
    "    refined_attention = {c:{} for c in refined_knowledge}\r\n",
    "    for child in original_attention:\r\n",
    "        for parent in original_attention[child]:\r\n",
    "            if parent in refined_knowledge.get(child, {}):\r\n",
    "                refined_attention[child][parent] = original_attention[child][parent]\r\n",
    "\r\n",
    "    feature_node_mapping = convert_to_node_mapping(\r\n",
    "        [x for x in original_attention], use_node_mapping\r\n",
    "    )\r\n",
    "    colored_connections = calculate_colored_connections(\r\n",
    "        reference_connections=set(\r\n",
    "            [(c,p) for c,ps in reference_attention.items() for p in ps]\r\n",
    "        ),\r\n",
    "        attention_weights=refined_attention,\r\n",
    "        feature_node_mapping=feature_node_mapping,\r\n",
    "    )\r\n",
    "    print(\"Added\", len(colored_connections), \"edges\")\r\n",
    "    node_mapping = _create_graph_visualization(\r\n",
    "        attention_weights=refined_attention, \r\n",
    "        threshold=0.25, \r\n",
    "        run_name=\"refinement_edges_removed\", \r\n",
    "        node_mapping=feature_node_mapping,\r\n",
    "        colored_connections=colored_connections)\r\n",
    "    return node_mapping, frequencies"
   ],
   "outputs": [],
   "metadata": {}
  },
  {
   "cell_type": "code",
   "execution_count": null,
   "source": [
    "_, frequencies = plot_for_removed_edges(\r\n",
    "    original_run_id=relevant_mimic_ref_df[\r\n",
    "        (relevant_mimic_ref_df['refinement_run'] == mimic_example_runs['edges_removed']['gram']) &\r\n",
    "        (relevant_mimic_ref_df['refinement_type'] == \"original\")\r\n",
    "    ][\"info_run_id\"].iloc[0], \r\n",
    "    reference_run_id=relevant_mimic_ref_df[\r\n",
    "        (relevant_mimic_ref_df['refinement_run'] == mimic_example_runs['edges_removed']['gram']) &\r\n",
    "        (relevant_mimic_ref_df['refinement_type'] == \"reference\")\r\n",
    "    ][\"info_run_id\"].iloc[0], \r\n",
    "    local_mlflow_dir=mlflow_helper.local_mlflow_dir, \r\n",
    "    use_node_mapping=False,\r\n",
    ")"
   ],
   "outputs": [],
   "metadata": {}
  },
  {
   "cell_type": "code",
   "execution_count": null,
   "source": [
    "_, frequencies = plot_for_removed_edges(\r\n",
    "    original_run_id=relevant_huawei_ref_df[\r\n",
    "        (relevant_huawei_ref_df['refinement_run'] == huawei_example_runs['edges_removed']['gram']) &\r\n",
    "        (relevant_huawei_ref_df['refinement_type'] == \"original\")\r\n",
    "    ][\"info_run_id\"].iloc[0], \r\n",
    "    reference_run_id=relevant_huawei_ref_df[\r\n",
    "        (relevant_huawei_ref_df['refinement_run'] == huawei_example_runs['edges_removed']['gram']) &\r\n",
    "        (relevant_huawei_ref_df['refinement_type'] == \"reference\")\r\n",
    "    ][\"info_run_id\"].iloc[0], \r\n",
    "    local_mlflow_dir=mlflow_helper.local_mlflow_dir, \r\n",
    "    use_node_mapping=True,\r\n",
    ")"
   ],
   "outputs": [],
   "metadata": {}
  },
  {
   "cell_type": "code",
   "execution_count": null,
   "source": [
    "original_run_id = relevant_huawei_ref_df[\r\n",
    "    (relevant_huawei_ref_df['refinement_run'] == huawei_example_runs['edges_removed']['gram']) &\r\n",
    "    (relevant_huawei_ref_df['refinement_type'] == \"original\")\r\n",
    "][\"info_run_id\"].iloc[0]\r\n",
    "reference_run_id = relevant_huawei_ref_df[\r\n",
    "    (relevant_huawei_ref_df['refinement_run'] == huawei_example_runs['edges_removed']['gram']) &\r\n",
    "    (relevant_huawei_ref_df['refinement_type'] == \"reference\")\r\n",
    "][\"info_run_id\"].iloc[0]\r\n",
    "\r\n",
    "original_attention = load_attention_weights(original_run_id, mlflow_helper.local_mlflow_dir)\r\n",
    "frequencies = load_input_frequency_dict(original_run_id, mlflow_helper.local_mlflow_dir)\r\n",
    "\r\n",
    "config = RefinementConfig()\r\n",
    "config.min_edge_weight = 0.5\r\n",
    "config.max_train_examples = 1000\r\n",
    "config.max_refinement_metric = 0\r\n",
    "refined_knowledge = knowledge.KnowledgeProcessor(config).load_refined_knowledge(refinement_run_id=original_run_id, reference_run_id=reference_run_id)\r\n",
    "\r\n",
    "feature_node_mapping = convert_to_node_mapping(\r\n",
    "    [x for x in original_attention], False,\r\n",
    ")\r\n",
    "colored_connections = calculate_colored_connections(\r\n",
    "    reference_connections=set(\r\n",
    "        [(c,p) for c,ps in refined_knowledge.items() for p in ps]\r\n",
    "    ),\r\n",
    "    attention_weights=original_attention,\r\n",
    "    feature_node_mapping=feature_node_mapping,\r\n",
    ")\r\n",
    "print(\"Removed\", len(colored_connections), \"edges\")"
   ],
   "outputs": [],
   "metadata": {}
  },
  {
   "cell_type": "code",
   "execution_count": null,
   "source": [
    "colored_connections"
   ],
   "outputs": [],
   "metadata": {}
  },
  {
   "cell_type": "code",
   "execution_count": null,
   "source": [
    "print('\\n'.join([str((x, frequencies[x[0]]['absolute_frequency'])) for x in colored_connections if x[1] == \"server\"]))"
   ],
   "outputs": [],
   "metadata": {}
  },
  {
   "cell_type": "code",
   "execution_count": null,
   "source": [
    "with open(\"asldkfj.txt\", \"w\") as file:\r\n",
    "    file.write(\"\\n\".join([x for x, ys in original_attention.items() if \"server\" in ys and float(ys.get(\"server\", -1)) > 0.5]))"
   ],
   "outputs": [],
   "metadata": {}
  },
  {
   "cell_type": "code",
   "execution_count": null,
   "source": [
    "node_mapping = _create_graph_visualization(\r\n",
    "    attention_weights=original_attention, \r\n",
    "    threshold=0.25, \r\n",
    "    run_name=\"refinement_edges_removed_gram\", \r\n",
    "    node_mapping=feature_node_mapping,\r\n",
    "    colored_connections=colored_connections)"
   ],
   "outputs": [],
   "metadata": {}
  },
  {
   "cell_type": "code",
   "execution_count": null,
   "source": [
    "refined_knowledge_text = refined_knowledge"
   ],
   "outputs": [],
   "metadata": {}
  }
 ],
 "metadata": {
  "orig_nbformat": 4,
  "language_info": {
   "name": "python",
   "version": "3.8.10",
   "mimetype": "text/x-python",
   "codemirror_mode": {
    "name": "ipython",
    "version": 3
   },
   "pygments_lexer": "ipython3",
   "nbconvert_exporter": "python",
   "file_extension": ".py"
  },
  "kernelspec": {
   "name": "python3",
   "display_name": "Python 3.8.10 64-bit ('healthcare-aiops': conda)"
  },
  "interpreter": {
   "hash": "73b5e93e154d2b3bebada531bd37ae367fe461e3b71c186231ccdab3aa47e3f0"
  }
 },
 "nbformat": 4,
 "nbformat_minor": 2
}