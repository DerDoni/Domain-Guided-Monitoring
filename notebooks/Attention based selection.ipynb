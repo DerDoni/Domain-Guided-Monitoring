{
 "cells": [
  {
   "cell_type": "code",
   "execution_count": 1,
   "metadata": {
    "ExecuteTime": {
     "end_time": "2023-04-23T19:09:34.252017Z",
     "start_time": "2023-04-23T19:09:28.671556Z"
    },
    "collapsed": true
   },
   "outputs": [
    {
     "name": "stderr",
     "output_type": "stream",
     "text": [
      "2023-04-23 17:09:28.913207: I tensorflow/core/platform/cpu_feature_guard.cc:193] This TensorFlow binary is optimized with oneAPI Deep Neural Network Library (oneDNN) to use the following CPU instructions in performance-critical operations:  AVX2 FMA\n",
      "To enable them in other operations, rebuild TensorFlow with the appropriate compiler flags.\n",
      "2023-04-23 17:09:30.978198: W tensorflow/compiler/xla/stream_executor/platform/default/dso_loader.cc:64] Could not load dynamic library 'libnvinfer.so.7'; dlerror: libnvinfer.so.7: cannot open shared object file: No such file or directory; LD_LIBRARY_PATH: /usr/local/cuda/lib64:$LD_LIBRARY_PATH\n",
      "2023-04-23 17:09:30.978263: W tensorflow/compiler/xla/stream_executor/platform/default/dso_loader.cc:64] Could not load dynamic library 'libnvinfer_plugin.so.7'; dlerror: libnvinfer_plugin.so.7: cannot open shared object file: No such file or directory; LD_LIBRARY_PATH: /usr/local/cuda/lib64:$LD_LIBRARY_PATH\n",
      "2023-04-23 17:09:30.978268: W tensorflow/compiler/tf2tensorrt/utils/py_utils.cc:38] TF-TRT Warning: Cannot dlopen some TensorRT libraries. If you would like to use Nvidia GPU with TensorRT, please make sure the missing libraries mentioned above are installed properly.\n"
     ]
    }
   ],
   "source": [
    "import seaborn as sns\n",
    "import matplotlib.pyplot as plt\n",
    "import pandas as pd\n",
    "import numpy as np\n",
    "import sys\n",
    "import os\n",
    "\n",
    "module_path = os.path.abspath(os.path.join('..'))\n",
    "if module_path not in sys.path:\n",
    "    sys.path.append(module_path)\n",
    "\n",
    "from src.features import preprocessing"
   ]
  },
  {
   "cell_type": "code",
   "execution_count": 2,
   "metadata": {
    "ExecuteTime": {
     "end_time": "2023-04-23T19:09:44.982986Z",
     "start_time": "2023-04-23T19:09:44.939640Z"
    }
   },
   "outputs": [],
   "source": [
    "# Bypass issues with invoking notebook with server arguments\n",
    "sys.argv.clear()\n",
    "sys.argv.append(\"\")"
   ]
  },
  {
   "cell_type": "code",
   "execution_count": 3,
   "metadata": {
    "ExecuteTime": {
     "end_time": "2023-04-23T19:09:46.058695Z",
     "start_time": "2023-04-23T19:09:45.913748Z"
    }
   },
   "outputs": [],
   "source": [
    "%run utils/attention_graph.py\n",
    "%run utils/mlflow_query.py\n",
    "%run utils/loading.py\n",
    "%run utils/comparison.py\n",
    "%run utils/ranks.py"
   ]
  },
  {
   "cell_type": "code",
   "execution_count": 4,
   "metadata": {
    "ExecuteTime": {
     "end_time": "2023-04-23T19:10:40.440611Z",
     "start_time": "2023-04-23T19:10:40.394123Z"
    }
   },
   "outputs": [],
   "source": [
    "huawei_experiment_id = \"519815984018260895\"\n"
   ]
  },
  {
   "cell_type": "code",
   "execution_count": 6,
   "metadata": {
    "ExecuteTime": {
     "end_time": "2023-04-23T19:11:11.167121Z",
     "start_time": "2023-04-23T19:11:02.018884Z"
    }
   },
   "outputs": [
    {
     "name": "stdout",
     "output_type": "stream",
     "text": [
      "Initialized with 350 MLFlow runs from pkl\n"
     ]
    },
    {
     "name": "stderr",
     "output_type": "stream",
     "text": [
      "Querying data per run...: 0it [00:00, ?it/s]\n"
     ]
    },
    {
     "name": "stdout",
     "output_type": "stream",
     "text": [
      "Queried 350 runs from MLFlow for mimic\n"
     ]
    },
    {
     "name": "stderr",
     "output_type": "stream",
     "text": [
      "Querying data per run...: 100%|██████████| 254/254 [00:00<00:00, 3444.52it/s]\n"
     ]
    },
    {
     "name": "stdout",
     "output_type": "stream",
     "text": [
      "Queried 350 runs from MLFlow for huawei_logs\n"
     ]
    },
    {
     "name": "stderr",
     "output_type": "stream",
     "text": [
      "Querying data per run...: 0it [00:00, ?it/s]\n"
     ]
    },
    {
     "name": "stdout",
     "output_type": "stream",
     "text": [
      "Queried 350 runs from MLFlow for hdfs\n"
     ]
    },
    {
     "name": "stderr",
     "output_type": "stream",
     "text": [
      "Querying data per run...: 0it [00:00, ?it/s]"
     ]
    },
    {
     "name": "stdout",
     "output_type": "stream",
     "text": [
      "Queried 350 runs from MLFlow for tbird_logs\n"
     ]
    },
    {
     "name": "stderr",
     "output_type": "stream",
     "text": [
      "\n"
     ]
    }
   ],
   "source": [
    "mlflow_helper = MlflowHelper(pkl_file=Path(\"mlflow_run_df.pkl\"), experiment_id=huawei_experiment_id)\n",
    "mlflow_helper.query_valid_runs(pkl_file=Path(\"mlflow_run_df.pkl\"))"
   ]
  },
  {
   "cell_type": "code",
   "execution_count": 7,
   "metadata": {
    "ExecuteTime": {
     "end_time": "2023-04-23T19:12:00.769935Z",
     "start_time": "2023-04-23T19:12:00.724173Z"
    }
   },
   "outputs": [
    {
     "data": {
      "text/html": [
       "<div>\n",
       "<style scoped>\n",
       "    .dataframe tbody tr th:only-of-type {\n",
       "        vertical-align: middle;\n",
       "    }\n",
       "\n",
       "    .dataframe tbody tr th {\n",
       "        vertical-align: top;\n",
       "    }\n",
       "\n",
       "    .dataframe thead th {\n",
       "        text-align: right;\n",
       "    }\n",
       "</style>\n",
       "<table border=\"1\" class=\"dataframe\">\n",
       "  <thead>\n",
       "    <tr style=\"text-align: right;\">\n",
       "      <th></th>\n",
       "      <th></th>\n",
       "      <th></th>\n",
       "      <th>info_run_id</th>\n",
       "    </tr>\n",
       "    <tr>\n",
       "      <th>data_params_SequenceConfigx_sequence_column_name</th>\n",
       "      <th>data_params_SequenceConfigy_sequence_column_name</th>\n",
       "      <th>data_tags_model_type</th>\n",
       "      <th></th>\n",
       "    </tr>\n",
       "  </thead>\n",
       "  <tbody>\n",
       "    <tr>\n",
       "      <th></th>\n",
       "      <th>attributes</th>\n",
       "      <th>simple</th>\n",
       "      <td>40</td>\n",
       "    </tr>\n",
       "    <tr>\n",
       "      <th>coarse_log_cluster_template_drain</th>\n",
       "      <th>attributes</th>\n",
       "      <th>simple</th>\n",
       "      <td>16</td>\n",
       "    </tr>\n",
       "    <tr>\n",
       "      <th>coarse_log_cluster_template_nulog</th>\n",
       "      <th>attributes</th>\n",
       "      <th>simple</th>\n",
       "      <td>15</td>\n",
       "    </tr>\n",
       "    <tr>\n",
       "      <th>coarse_log_cluster_template_spell</th>\n",
       "      <th>attributes</th>\n",
       "      <th>simple</th>\n",
       "      <td>15</td>\n",
       "    </tr>\n",
       "    <tr>\n",
       "      <th>fine_log_cluster_template_drain</th>\n",
       "      <th>attributes</th>\n",
       "      <th>simple</th>\n",
       "      <td>16</td>\n",
       "    </tr>\n",
       "    <tr>\n",
       "      <th>fine_log_cluster_template_nulog</th>\n",
       "      <th>attributes</th>\n",
       "      <th>simple</th>\n",
       "      <td>16</td>\n",
       "    </tr>\n",
       "    <tr>\n",
       "      <th>fine_log_cluster_template_spell</th>\n",
       "      <th>attributes</th>\n",
       "      <th>simple</th>\n",
       "      <td>15</td>\n",
       "    </tr>\n",
       "    <tr>\n",
       "      <th>medium_log_cluster_template_drain</th>\n",
       "      <th>attributes</th>\n",
       "      <th>simple</th>\n",
       "      <td>16</td>\n",
       "    </tr>\n",
       "    <tr>\n",
       "      <th>medium_log_cluster_template_nulog</th>\n",
       "      <th>attributes</th>\n",
       "      <th>simple</th>\n",
       "      <td>15</td>\n",
       "    </tr>\n",
       "    <tr>\n",
       "      <th>medium_log_cluster_template_spell</th>\n",
       "      <th>attributes</th>\n",
       "      <th>simple</th>\n",
       "      <td>15</td>\n",
       "    </tr>\n",
       "  </tbody>\n",
       "</table>\n",
       "</div>"
      ],
      "text/plain": [
       "                                                                                                                        info_run_id\n",
       "data_params_SequenceConfigx_sequence_column_name data_params_SequenceConfigy_sequence_column_name data_tags_model_type             \n",
       "                                                 attributes                                       simple                         40\n",
       "coarse_log_cluster_template_drain                attributes                                       simple                         16\n",
       "coarse_log_cluster_template_nulog                attributes                                       simple                         15\n",
       "coarse_log_cluster_template_spell                attributes                                       simple                         15\n",
       "fine_log_cluster_template_drain                  attributes                                       simple                         16\n",
       "fine_log_cluster_template_nulog                  attributes                                       simple                         16\n",
       "fine_log_cluster_template_spell                  attributes                                       simple                         15\n",
       "medium_log_cluster_template_drain                attributes                                       simple                         16\n",
       "medium_log_cluster_template_nulog                attributes                                       simple                         15\n",
       "medium_log_cluster_template_spell                attributes                                       simple                         15"
      ]
     },
     "execution_count": 7,
     "metadata": {},
     "output_type": "execute_result"
    }
   ],
   "source": [
    "huawei_df_all = mlflow_helper.huawei_run_df(\n",
    "    valid_x_columns=[\"fine_log_cluster_template_drain\", \"coarse_log_cluster_template_drain\", \"\", \"medium_log_cluster_template_drain\", \"fine_log_cluster_template_spell\", \"coarse_log_cluster_template_spell\",\n",
    "                     \"medium_log_cluster_template_spell\", \"fine_log_cluster_template_nulog\", \"coarse_log_cluster_template_nulog\", \"medium_log_cluster_template_nulog\"],\n",
    "    valid_y_columns=[\"attributes\"],\n",
    ")\n",
    "huawei_df_all = huawei_df_all[\n",
    "    huawei_df_all[\"data_params_ModelConfigbase_feature_embeddings_trainable\"].astype(str) == \"False\"\n",
    "    ]\n",
    "\n",
    "huawei_df_all.groupby(by=[\n",
    "    \"data_params_SequenceConfigx_sequence_column_name\",\n",
    "    \"data_params_SequenceConfigy_sequence_column_name\",\n",
    "    \"data_tags_model_type\",\n",
    "]).agg({\n",
    "    \"info_run_id\": len\n",
    "})"
   ]
  },
  {
   "cell_type": "code",
   "execution_count": 8,
   "metadata": {
    "ExecuteTime": {
     "end_time": "2023-04-23T20:00:47.375848Z",
     "start_time": "2023-04-23T20:00:47.333209Z"
    }
   },
   "outputs": [
    {
     "data": {
      "text/html": [
       "<div>\n",
       "<style scoped>\n",
       "    .dataframe tbody tr th:only-of-type {\n",
       "        vertical-align: middle;\n",
       "    }\n",
       "\n",
       "    .dataframe tbody tr th {\n",
       "        vertical-align: top;\n",
       "    }\n",
       "\n",
       "    .dataframe thead th {\n",
       "        text-align: right;\n",
       "    }\n",
       "</style>\n",
       "<table border=\"1\" class=\"dataframe\">\n",
       "  <thead>\n",
       "    <tr style=\"text-align: right;\">\n",
       "      <th></th>\n",
       "      <th></th>\n",
       "      <th></th>\n",
       "      <th>info_run_id</th>\n",
       "    </tr>\n",
       "    <tr>\n",
       "      <th>data_params_SequenceConfigx_sequence_column_name</th>\n",
       "      <th>data_params_SequenceConfigy_sequence_column_name</th>\n",
       "      <th>data_tags_model_type</th>\n",
       "      <th></th>\n",
       "    </tr>\n",
       "  </thead>\n",
       "  <tbody>\n",
       "    <tr>\n",
       "      <th></th>\n",
       "      <th>attributes</th>\n",
       "      <th>simple</th>\n",
       "      <td>40</td>\n",
       "    </tr>\n",
       "    <tr>\n",
       "      <th>coarse_log_cluster_template</th>\n",
       "      <th>attributes</th>\n",
       "      <th>simple</th>\n",
       "      <td>25</td>\n",
       "    </tr>\n",
       "    <tr>\n",
       "      <th>fine_log_cluster_template</th>\n",
       "      <th>attributes</th>\n",
       "      <th>simple</th>\n",
       "      <td>25</td>\n",
       "    </tr>\n",
       "    <tr>\n",
       "      <th>medium_log_cluster_template</th>\n",
       "      <th>attributes</th>\n",
       "      <th>simple</th>\n",
       "      <td>25</td>\n",
       "    </tr>\n",
       "  </tbody>\n",
       "</table>\n",
       "</div>"
      ],
      "text/plain": [
       "                                                                                                                        info_run_id\n",
       "data_params_SequenceConfigx_sequence_column_name data_params_SequenceConfigy_sequence_column_name data_tags_model_type             \n",
       "                                                 attributes                                       simple                         40\n",
       "coarse_log_cluster_template                      attributes                                       simple                         25\n",
       "fine_log_cluster_template                        attributes                                       simple                         25\n",
       "medium_log_cluster_template                      attributes                                       simple                         25"
      ]
     },
     "execution_count": 8,
     "metadata": {},
     "output_type": "execute_result"
    }
   ],
   "source": [
    "huawei_df = mlflow_helper.huawei_run_df(\n",
    "    valid_x_columns=[\"fine_log_cluster_template\", \"medium_log_cluster_template\", \"coarse_log_cluster_template\", \"\"],\n",
    "    valid_y_columns=[\"attributes\"],\n",
    ")\n",
    "huawei_df = huawei_df[\n",
    "    huawei_df[\"data_params_ModelConfigbase_feature_embeddings_trainable\"].astype(str) == \"False\"\n",
    "    ]\n",
    "\n",
    "huawei_df.groupby(by=[\n",
    "    \"data_params_SequenceConfigx_sequence_column_name\",\n",
    "    \"data_params_SequenceConfigy_sequence_column_name\",\n",
    "    \"data_tags_model_type\",\n",
    "]).agg({\n",
    "    \"info_run_id\": len\n",
    "})"
   ]
  },
  {
   "cell_type": "code",
   "execution_count": 9,
   "metadata": {
    "ExecuteTime": {
     "end_time": "2023-04-23T20:02:04.811621Z",
     "start_time": "2023-04-23T20:01:46.799609Z"
    }
   },
   "outputs": [
    {
     "name": "stderr",
     "output_type": "stream",
     "text": [
      "Querying metrics for runs: 100%|██████████| 115/115 [00:07<00:00, 16.29it/s]\n",
      "Querying metrics for runs: 100%|██████████| 179/179 [00:10<00:00, 16.45it/s]\n"
     ]
    }
   ],
   "source": [
    "huawei_metrics_df = mlflow_helper.load_best_metrics_for_ids(set(huawei_df[\"info_run_id\"]))\n",
    "huawei_metrics_df_all = mlflow_helper.load_best_metrics_for_ids(set(huawei_df_all[\"info_run_id\"]))"
   ]
  },
  {
   "cell_type": "code",
   "execution_count": 12,
   "metadata": {
    "ExecuteTime": {
     "end_time": "2023-04-23T20:09:40.161908Z",
     "start_time": "2023-04-23T20:09:40.115921Z"
    }
   },
   "outputs": [
    {
     "data": {
      "text/plain": [
       "'f9ef674346eb4ba28a46a4d9b9c210f7'"
      ]
     },
     "execution_count": 12,
     "metadata": {},
     "output_type": "execute_result"
    }
   ],
   "source": [
    "drain_run_id = huawei_df[\"info_run_id\"].iloc[0]\n",
    "drain_run_id"
   ]
  },
  {
   "cell_type": "markdown",
   "metadata": {},
   "source": [
    "# Functions"
   ]
  },
  {
   "cell_type": "code",
   "execution_count": 10,
   "metadata": {
    "ExecuteTime": {
     "end_time": "2023-04-23T20:07:09.585003Z",
     "start_time": "2023-04-23T20:07:09.528208Z"
    }
   },
   "outputs": [],
   "source": [
    "def calculate_shared_attention_weights(attention_weights: Dict[str, Dict[str, float]]):\n",
    "    if attention_weights is None:\n",
    "        return [0.0]\n",
    "    attention_importances = calculate_attention_importances(attention_weights)\n",
    "    shared_weights = [\n",
    "        sum([\n",
    "            float(weight) for con_feature, weight in attention_weights[in_feature].items()\n",
    "            if len(attention_importances[con_feature]) > 1\n",
    "        ])\n",
    "        for in_feature in attention_weights\n",
    "    ]\n",
    "    return shared_weights"
   ]
  },
  {
   "cell_type": "code",
   "execution_count": 13,
   "metadata": {
    "ExecuteTime": {
     "end_time": "2023-04-23T20:09:42.770921Z",
     "start_time": "2023-04-23T20:09:42.733056Z"
    }
   },
   "outputs": [
    {
     "name": "stdout",
     "output_type": "stream",
     "text": [
      "No attention file for run f9ef674346eb4ba28a46a4d9b9c210f7 in local MlFlow dir\n"
     ]
    }
   ],
   "source": [
    "feature_node_mapping = create_graph_visualization(\n",
    "    run_id=drain_run_id,\n",
    "    local_mlflow_dir=mlflow_helper.local_mlflow_dir,\n",
    "    threshold=0.2,\n",
    "    run_name='drain_hierarchy',\n",
    "    use_node_mapping=False)"
   ]
  },
  {
   "cell_type": "code",
   "execution_count": null,
   "metadata": {},
   "outputs": [],
   "source": []
  }
 ],
 "metadata": {
  "kernelspec": {
   "display_name": "Python 3 (ipykernel)",
   "language": "python",
   "name": "python3"
  },
  "language_info": {
   "codemirror_mode": {
    "name": "ipython",
    "version": 3
   },
   "file_extension": ".py",
   "mimetype": "text/x-python",
   "name": "python",
   "nbconvert_exporter": "python",
   "pygments_lexer": "ipython3",
   "version": "3.9.15"
  }
 },
 "nbformat": 4,
 "nbformat_minor": 1
}
