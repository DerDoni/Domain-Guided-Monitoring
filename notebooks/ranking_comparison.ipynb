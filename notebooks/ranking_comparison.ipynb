{
 "cells": [
  {
   "cell_type": "code",
   "execution_count": null,
   "metadata": {},
   "outputs": [],
   "source": [
    "import seaborn as sns\n",
    "import matplotlib.pyplot as plt"
   ]
  },
  {
   "cell_type": "code",
   "execution_count": null,
   "metadata": {},
   "outputs": [],
   "source": [
    "%run utils/mlflow_query.py\n",
    "%run utils/loading.py\n",
    "%run utils/comparison.py\n",
    "%run utils/ranks.py"
   ]
  },
  {
   "cell_type": "code",
   "execution_count": null,
   "metadata": {},
   "outputs": [],
   "source": [
    "mlflow_helper = MlflowHelper(pkl_file=Path(\"mlflow_run_df.pkl\"))\n",
    "mlflow_helper.query_all_runs(pkl_file=Path(\"mlflow_run_df.pkl\"))"
   ]
  },
  {
   "cell_type": "code",
   "execution_count": null,
   "metadata": {},
   "outputs": [],
   "source": [
    "relevant_mimic_run_df = mlflow_helper.mimic_run_df(include_noise=False, include_refinements=False)\n",
    "mimic_simple_false_run_id = relevant_mimic_run_df[\n",
    "        (relevant_mimic_run_df['data_tags_model_type'] == 'simple') &\n",
    "        (relevant_mimic_run_df['data_params_ModelConfigbase_hidden_embeddings_trainable'] == 'False')\n",
    "].iloc[0].get('info_run_id')\n",
    "mimic_gram_false_run_id = relevant_mimic_run_df[\n",
    "        (relevant_mimic_run_df['data_tags_model_type'] == 'gram') &\n",
    "        (relevant_mimic_run_df['data_params_ModelConfigbase_hidden_embeddings_trainable'] == 'False')\n",
    "].iloc[0].get('info_run_id')\n",
    "mimic_text_false_run_id = relevant_mimic_run_df[\n",
    "        (relevant_mimic_run_df['data_tags_model_type'] == 'text') &\n",
    "        (relevant_mimic_run_df['data_params_ModelConfigbase_hidden_embeddings_trainable'] == 'False')\n",
    "].iloc[0].get('info_run_id')\n",
    "mimic_causal_false_run_id = relevant_mimic_run_df[\n",
    "        (relevant_mimic_run_df['data_tags_model_type'] == 'causal') &\n",
    "        (relevant_mimic_run_df['data_params_ModelConfigbase_hidden_embeddings_trainable'] == 'False')\n",
    "].iloc[0].get('info_run_id')\n",
    "print('Simple', mimic_simple_false_run_id, 'Gram', mimic_gram_false_run_id, 'Text', mimic_text_false_run_id, 'Causal', mimic_causal_false_run_id)\n",
    "len(relevant_mimic_run_df)"
   ]
  },
  {
   "cell_type": "code",
   "execution_count": null,
   "metadata": {},
   "outputs": [],
   "source": [
    "relevant_huawei_run_df = mlflow_helper.huawei_run_df(include_noise=False, include_refinements=False)\n",
    "huawei_simple_false_run_id = relevant_huawei_run_df[\n",
    "        (relevant_huawei_run_df['data_tags_model_type'] == 'simple') &\n",
    "        (relevant_huawei_run_df['data_params_ModelConfigbase_hidden_embeddings_trainable'] == 'False')\n",
    "].iloc[0].get('info_run_id')\n",
    "huawei_gram_false_run_id = relevant_huawei_run_df[\n",
    "        (relevant_huawei_run_df['data_tags_model_type'] == 'gram') &\n",
    "        (relevant_huawei_run_df['data_params_ModelConfigbase_hidden_embeddings_trainable'] == 'False')\n",
    "].iloc[0].get('info_run_id')\n",
    "huawei_text_false_run_id = relevant_huawei_run_df[\n",
    "        (relevant_huawei_run_df['data_tags_model_type'] == 'text') &\n",
    "        (relevant_huawei_run_df['data_params_ModelConfigbase_hidden_embeddings_trainable'] == 'False')\n",
    "].iloc[0].get('info_run_id')\n",
    "huawei_causal_false_run_id = relevant_huawei_run_df[\n",
    "        (relevant_huawei_run_df['data_tags_model_type'] == 'causal') &\n",
    "        (relevant_huawei_run_df['data_params_ModelConfigbase_hidden_embeddings_trainable'] == 'False')\n",
    "].iloc[0].get('info_run_id')\n",
    "print('Simple', huawei_simple_false_run_id, 'Gram', huawei_gram_false_run_id, 'Text', huawei_text_false_run_id, 'Causal', huawei_causal_false_run_id)\n",
    "len(relevant_huawei_run_df)"
   ]
  },
  {
   "cell_type": "markdown",
   "metadata": {},
   "source": [
    "# Comparing Baseline vs GRAM"
   ]
  },
  {
   "cell_type": "code",
   "execution_count": null,
   "metadata": {},
   "outputs": [],
   "source": [
    "comparison.comparison_df.columns"
   ]
  },
  {
   "cell_type": "code",
   "execution_count": null,
   "metadata": {
    "tags": []
   },
   "outputs": [],
   "source": [
    "suffix_1 = '_simple_false' \n",
    "suffix_2='_gram_false'\n",
    "#comparison = Comparison(\n",
    "#    run_id_1=mimic_simple_false_run_id, \n",
    "#    suffix_1=suffix_1, \n",
    "#    run_id_2=mimic_gram_false_run_id, \n",
    "#    suffix_2=suffix_2, \n",
    "#    local_mlflow_dir=mlflow_helper.local_mlflow_dir,\n",
    "#    num_percentiles=10)\n",
    "plot_rank_comparison(comparison, color=\"avg_input_frequencies_percentile\")\n",
    "#plot_outlier_distances(comparison)\n",
    "#analyse_best_worst_sequences(comparison, num_best_sequences=1, num_worst_sequences=1, descriptions=load_icd9_text())"
   ]
  },
  {
   "cell_type": "code",
   "execution_count": null,
   "metadata": {},
   "outputs": [],
   "source": [
    "suffix_1 = '_simple_false' \n",
    "suffix_2='_gram_false'\n",
    "comparison = Comparison(\n",
    "    run_id_1=huawei_simple_false_run_id, \n",
    "    suffix_1=suffix_1, \n",
    "    run_id_2=huawei_gram_false_run_id, \n",
    "    suffix_2=suffix_2, \n",
    "    local_mlflow_dir=mlflow_helper.local_mlflow_dir,\n",
    "    num_percentiles=10)\n",
    "plot_rank_comparison(comparison, color=\"avg_input_frequencies_percentile\")\n",
    "plot_outlier_distances(comparison)\n",
    "analyse_best_worst_sequences(comparison, num_best_sequences=1, num_worst_sequences=1)"
   ]
  },
  {
   "cell_type": "markdown",
   "metadata": {},
   "source": [
    "# Comparing Baseline vs TEXT"
   ]
  },
  {
   "cell_type": "code",
   "execution_count": null,
   "metadata": {},
   "outputs": [],
   "source": [
    "suffix_1 = '_simple_false' \n",
    "suffix_2='_text_false'\n",
    "comparison = Comparison(\n",
    "    run_id_1=mimic_simple_false_run_id, \n",
    "    suffix_1=suffix_1, \n",
    "    run_id_2=mimic_text_false_run_id, \n",
    "    suffix_2=suffix_2, \n",
    "    local_mlflow_dir=mlflow_helper.local_mlflow_dir,\n",
    "    num_percentiles=10)\n",
    "plot_rank_comparison(comparison)\n",
    "plot_outlier_distances(comparison)\n",
    "analyse_best_worst_sequences(comparison, num_best_sequences=1, num_worst_sequences=1, descriptions=load_icd9_text())"
   ]
  },
  {
   "cell_type": "code",
   "execution_count": null,
   "metadata": {},
   "outputs": [],
   "source": [
    "suffix_1 = '_simple_false' \n",
    "suffix_2='_text_false'\n",
    "comparison = Comparison(\n",
    "    run_id_1=huawei_simple_false_run_id, \n",
    "    suffix_1=suffix_1, \n",
    "    run_id_2=huawei_text_false_run_id, \n",
    "    suffix_2=suffix_2, \n",
    "    local_mlflow_dir=mlflow_helper.local_mlflow_dir,\n",
    "    num_percentiles=10)\n",
    "plot_rank_comparison(comparison)\n",
    "plot_outlier_distances(comparison)\n",
    "analyse_best_worst_sequences(comparison, num_best_sequences=1, num_worst_sequences=1)"
   ]
  },
  {
   "cell_type": "markdown",
   "metadata": {},
   "source": [
    "# Comparing Baseline vs CAUSAL"
   ]
  },
  {
   "cell_type": "code",
   "execution_count": null,
   "metadata": {},
   "outputs": [],
   "source": [
    "suffix_1 = '_simple_false' \n",
    "suffix_2='_causal_false'\n",
    "comparison = Comparison(\n",
    "    run_id_1=mimic_simple_false_run_id, \n",
    "    suffix_1=suffix_1, \n",
    "    run_id_2=mimic_causal_false_run_id, \n",
    "    suffix_2=suffix_2, \n",
    "    local_mlflow_dir=mlflow_helper.local_mlflow_dir,\n",
    "    num_percentiles=10)\n",
    "plot_rank_comparison(comparison, color=\"avg_input_frequencies_percentile\")\n",
    "plot_outlier_distances(comparison)\n",
    "analyse_best_worst_sequences(comparison, num_best_sequences=1, num_worst_sequences=1, descriptions=load_icd9_text())"
   ]
  },
  {
   "cell_type": "code",
   "execution_count": null,
   "metadata": {},
   "outputs": [],
   "source": [
    "comparison.comparison_df[\"output\"]"
   ]
  },
  {
   "cell_type": "code",
   "execution_count": null,
   "metadata": {},
   "outputs": [],
   "source": [
    "comparison.comparison_df[\"output\"].iloc[0]"
   ]
  },
  {
   "cell_type": "code",
   "execution_count": null,
   "metadata": {},
   "outputs": [],
   "source": [
    "print([\n",
    "    (input, comparison.attention_weights_for(\"_causal_false\").get(input.strip()))\n",
    "    for input in comparison.comparison_df[\"inputs\"].iloc[0].split(\",\")\n",
    "])"
   ]
  },
  {
   "cell_type": "code",
   "execution_count": null,
   "metadata": {},
   "outputs": [],
   "source": [
    "suffix_1 = '_simple_false' \n",
    "suffix_2='_causal_false'\n",
    "comparison = Comparison(\n",
    "    run_id_1=huawei_simple_false_run_id, \n",
    "    suffix_1=suffix_1, \n",
    "    run_id_2=huawei_causal_false_run_id, \n",
    "    suffix_2=suffix_2, \n",
    "    local_mlflow_dir=mlflow_helper.local_mlflow_dir,\n",
    "    num_percentiles=10)\n",
    "plot_rank_comparison(comparison)\n",
    "plot_outlier_distances(comparison)\n",
    "analyse_best_worst_sequences(comparison, num_best_sequences=1, num_worst_sequences=1)"
   ]
  },
  {
   "cell_type": "markdown",
   "metadata": {},
   "source": [
    "# Rank comparison per Input/Output Frequency Percentile"
   ]
  },
  {
   "cell_type": "code",
   "execution_count": null,
   "metadata": {},
   "outputs": [],
   "source": [
    "full_comparison_df = calculate_rank_comparisons(\n",
    "    relevant_dfs = [relevant_mimic_run_df, relevant_huawei_run_df],\n",
    "    local_mlflow_dir=mlflow_helper.local_mlflow_dir,\n",
    "    num_percentiles=10,\n",
    ")"
   ]
  },
  {
   "cell_type": "code",
   "execution_count": null,
   "metadata": {},
   "outputs": [],
   "source": [
    "g = sns.relplot(data=full_comparison_df[\n",
    "        (full_comparison_df[\"aggregation\"] == \"mean\") & \n",
    "        (full_comparison_df[\"metric\"] != \"output_frequency_percentile\") & \n",
    "        (full_comparison_df[\"data_tags_sequence_type\"] == \"mimic\") & \n",
    "        (full_comparison_df[\"data_tags_sequence_type_2\"] == \"mimic\") & \n",
    "        (full_comparison_df[\"data_tags_model_type_2\"] == \"simple\") & \n",
    "        (full_comparison_df[\"data_tags_model_type\"] != \"simple\") & \n",
    "        (full_comparison_df[\"data_params_ModelConfigbase_feature_embeddings_trainable_2\"] == full_comparison_df[\"data_params_ModelConfigbase_feature_embeddings_trainable\"])\n",
    "    ], \n",
    "    x=\"percentile\", \n",
    "    y=\"value\", \n",
    "    row=\"data_tags_model_type\",\n",
    "    col='metric',\n",
    "    hue=\"data_params_ModelConfigbase_feature_embeddings_trainable\",\n",
    "    style=\"data_params_ModelConfigbase_feature_embeddings_trainable_2\",\n",
    "    kind=\"line\",\n",
    ")\n",
    "g.map(plt.axhline, y=0, color=\".7\", dashes=(2, 1), zorder=0)\n",
    "plt.show()"
   ]
  },
  {
   "cell_type": "code",
   "execution_count": null,
   "metadata": {},
   "outputs": [],
   "source": [
    "g = sns.relplot(data=full_comparison_df[\n",
    "        (full_comparison_df[\"aggregation\"] == \"mean\") & \n",
    "        (full_comparison_df[\"metric\"] == \"output_frequency_percentile\") & \n",
    "        (full_comparison_df[\"data_tags_sequence_type\"] == full_comparison_df[\"data_tags_sequence_type_2\"]) & \n",
    "        (full_comparison_df[\"data_tags_model_type_2\"] == \"simple\") & \n",
    "        (full_comparison_df[\"data_tags_model_type\"] != \"simple\") & \n",
    "        (full_comparison_df[\"data_params_ModelConfigbase_feature_embeddings_trainable_2\"] == full_comparison_df[\"data_params_ModelConfigbase_feature_embeddings_trainable\"])\n",
    "    ], \n",
    "    x=\"percentile\", \n",
    "    y=\"value\", \n",
    "    row=\"data_tags_model_type\",\n",
    "    col='data_tags_sequence_type',\n",
    "    hue=\"data_params_ModelConfigbase_feature_embeddings_trainable\",\n",
    "    kind=\"line\",\n",
    ")\n",
    "g.map(plt.axhline, y=0, color=\".7\", dashes=(2, 1), zorder=0)\n",
    "plt.show()"
   ]
  },
  {
   "cell_type": "code",
   "execution_count": null,
   "metadata": {},
   "outputs": [],
   "source": [
    "g = sns.relplot(data=full_comparison_df[\n",
    "        (full_comparison_df[\"aggregation\"] == \"mean\") & \n",
    "        (full_comparison_df[\"metric\"] != \"output_frequency_percentile\") & \n",
    "        (full_comparison_df[\"data_tags_sequence_type\"] == \"huawei_logs\") & \n",
    "        (full_comparison_df[\"data_tags_sequence_type_2\"] == \"huawei_logs\") & \n",
    "        (full_comparison_df[\"data_tags_model_type_2\"] == \"simple\") & \n",
    "        (full_comparison_df[\"data_tags_model_type\"] != \"simple\") & \n",
    "        (full_comparison_df[\"data_params_ModelConfigbase_feature_embeddings_trainable_2\"] == full_comparison_df[\"data_params_ModelConfigbase_feature_embeddings_trainable\"])\n",
    "    ], \n",
    "    x=\"percentile\", \n",
    "    y=\"value\", \n",
    "    row=\"data_tags_model_type\",\n",
    "    col='metric',\n",
    "    hue=\"data_params_ModelConfigbase_feature_embeddings_trainable\",\n",
    "    kind=\"line\",\n",
    ")\n",
    "g.map(plt.axhline, y=0, color=\".7\", dashes=(2, 1), zorder=0)\n",
    "plt.show()"
   ]
  }
 ],
 "metadata": {
  "interpreter": {
   "hash": "9d90ef2e2544a65949a5382aa665e8a895142ccb15d506742792c571feba52d3"
  },
  "kernelspec": {
   "display_name": "Python 3.8.8 64-bit (conda)",
   "name": "python3"
  },
  "language_info": {
   "codemirror_mode": {
    "name": "ipython",
    "version": 3
   },
   "file_extension": ".py",
   "mimetype": "text/x-python",
   "name": "python",
   "nbconvert_exporter": "python",
   "pygments_lexer": "ipython3",
   "version": "3.8.8"
  },
  "orig_nbformat": 4
 },
 "nbformat": 4,
 "nbformat_minor": 2
}
