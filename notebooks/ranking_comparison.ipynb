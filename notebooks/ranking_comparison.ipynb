{
 "metadata": {
  "language_info": {
   "codemirror_mode": {
    "name": "ipython",
    "version": 3
   },
   "file_extension": ".py",
   "mimetype": "text/x-python",
   "name": "python",
   "nbconvert_exporter": "python",
   "pygments_lexer": "ipython3",
   "version": "3.8.8"
  },
  "orig_nbformat": 4,
  "kernelspec": {
   "name": "python3",
   "display_name": "Python 3.8.8 64-bit (conda)"
  },
  "interpreter": {
   "hash": "9d90ef2e2544a65949a5382aa665e8a895142ccb15d506742792c571feba52d3"
  }
 },
 "nbformat": 4,
 "nbformat_minor": 2,
 "cells": [
  {
   "cell_type": "code",
   "execution_count": null,
   "source": [
    "import seaborn as sns\r\n",
    "import matplotlib.pyplot as plt"
   ],
   "outputs": [],
   "metadata": {}
  },
  {
   "cell_type": "code",
   "execution_count": null,
   "source": [
    "%run utils/mlflow_query.py\r\n",
    "%run utils/loading.py\r\n",
    "%run utils/comparison.py\r\n",
    "%run utils/ranks.py"
   ],
   "outputs": [],
   "metadata": {}
  },
  {
   "cell_type": "code",
   "execution_count": null,
   "source": [
    "mlflow_helper = MlflowHelper()\r\n",
    "mlflow_helper.query_runs(query_metrics=False)"
   ],
   "outputs": [],
   "metadata": {}
  },
  {
   "cell_type": "code",
   "execution_count": null,
   "source": [
    "relevant_mimic_run_df = mlflow_helper.mimic_run_df(include_noise=False, include_refinements=False)\r\n",
    "mimic_simple_false_run_id = relevant_mimic_run_df[\r\n",
    "        (relevant_mimic_run_df['data_tags_model_type'] == 'simple') &\r\n",
    "        (relevant_mimic_run_df['data_params_ModelConfigbase_hidden_embeddings_trainable'] == 'False')\r\n",
    "].iloc[0].get('info_run_id')\r\n",
    "mimic_gram_false_run_id = relevant_mimic_run_df[\r\n",
    "        (relevant_mimic_run_df['data_tags_model_type'] == 'gram') &\r\n",
    "        (relevant_mimic_run_df['data_params_ModelConfigbase_hidden_embeddings_trainable'] == 'False')\r\n",
    "].iloc[0].get('info_run_id')\r\n",
    "mimic_text_false_run_id = relevant_mimic_run_df[\r\n",
    "        (relevant_mimic_run_df['data_tags_model_type'] == 'text') &\r\n",
    "        (relevant_mimic_run_df['data_params_ModelConfigbase_hidden_embeddings_trainable'] == 'False')\r\n",
    "].iloc[0].get('info_run_id')\r\n",
    "mimic_causal_false_run_id = relevant_mimic_run_df[\r\n",
    "        (relevant_mimic_run_df['data_tags_model_type'] == 'causal') &\r\n",
    "        (relevant_mimic_run_df['data_params_ModelConfigbase_hidden_embeddings_trainable'] == 'False')\r\n",
    "].iloc[0].get('info_run_id')\r\n",
    "print('Simple', mimic_simple_false_run_id, 'Gram', mimic_gram_false_run_id, 'Text', mimic_text_false_run_id, 'Causal', mimic_causal_false_run_id)\r\n",
    "len(relevant_mimic_run_df)"
   ],
   "outputs": [],
   "metadata": {}
  },
  {
   "cell_type": "code",
   "execution_count": null,
   "source": [
    "relevant_huawei_run_df = mlflow_helper.huawei_run_df(include_noise=False, include_refinements=False)\r\n",
    "huawei_simple_false_run_id = relevant_huawei_run_df[\r\n",
    "        (relevant_huawei_run_df['data_tags_model_type'] == 'simple') &\r\n",
    "        (relevant_huawei_run_df['data_params_ModelConfigbase_hidden_embeddings_trainable'] == 'False')\r\n",
    "].iloc[0].get('info_run_id')\r\n",
    "huawei_gram_false_run_id = relevant_huawei_run_df[\r\n",
    "        (relevant_huawei_run_df['data_tags_model_type'] == 'gram') &\r\n",
    "        (relevant_huawei_run_df['data_params_ModelConfigbase_hidden_embeddings_trainable'] == 'False')\r\n",
    "].iloc[0].get('info_run_id')\r\n",
    "huawei_text_false_run_id = relevant_huawei_run_df[\r\n",
    "        (relevant_huawei_run_df['data_tags_model_type'] == 'text') &\r\n",
    "        (relevant_huawei_run_df['data_params_ModelConfigbase_hidden_embeddings_trainable'] == 'False')\r\n",
    "].iloc[0].get('info_run_id')\r\n",
    "huawei_causal_false_run_id = relevant_huawei_run_df[\r\n",
    "        (relevant_huawei_run_df['data_tags_model_type'] == 'causal') &\r\n",
    "        (relevant_huawei_run_df['data_params_ModelConfigbase_hidden_embeddings_trainable'] == 'False')\r\n",
    "].iloc[0].get('info_run_id')\r\n",
    "print('Simple', huawei_simple_false_run_id, 'Gram', huawei_gram_false_run_id, 'Text', huawei_text_false_run_id, 'Causal', huawei_causal_false_run_id)\r\n",
    "len(relevant_huawei_run_df)"
   ],
   "outputs": [],
   "metadata": {}
  },
  {
   "cell_type": "markdown",
   "source": [
    "# Comparing Baseline vs GRAM"
   ],
   "metadata": {}
  },
  {
   "cell_type": "code",
   "execution_count": null,
   "source": [
    "suffix_1 = '_simple_false' \r\n",
    "suffix_2='_gram_false'\r\n",
    "comparison = Comparison(\r\n",
    "    run_id_1=mimic_simple_false_run_id, \r\n",
    "    suffix_1=suffix_1, \r\n",
    "    run_id_2=mimic_gram_false_run_id, \r\n",
    "    suffix_2=suffix_2, \r\n",
    "    local_mlflow_dir=mlflow_helper.local_mlflow_dir,\r\n",
    "    num_percentiles=10)\r\n",
    "plot_rank_comparison(comparison)\r\n",
    "plot_outlier_distances(comparison)\r\n",
    "analyse_best_worst_sequences(comparison, num_best_sequences=1, num_worst_sequences=1, descriptions=load_icd9_text())"
   ],
   "outputs": [],
   "metadata": {
    "tags": []
   }
  },
  {
   "cell_type": "code",
   "execution_count": null,
   "source": [
    "suffix_1 = '_simple_false' \r\n",
    "suffix_2='_gram_false'\r\n",
    "comparison = Comparison(\r\n",
    "    run_id_1=huawei_simple_false_run_id, \r\n",
    "    suffix_1=suffix_1, \r\n",
    "    run_id_2=huawei_gram_false_run_id, \r\n",
    "    suffix_2=suffix_2, \r\n",
    "    local_mlflow_dir=mlflow_helper.local_mlflow_dir,\r\n",
    "    num_percentiles=10)\r\n",
    "plot_rank_comparison(comparison)\r\n",
    "plot_outlier_distances(comparison)\r\n",
    "analyse_best_worst_sequences(comparison, num_best_sequences=1, num_worst_sequences=1)"
   ],
   "outputs": [],
   "metadata": {}
  },
  {
   "cell_type": "markdown",
   "source": [
    "# Comparing Baseline vs TEXT"
   ],
   "metadata": {}
  },
  {
   "cell_type": "code",
   "execution_count": null,
   "source": [
    "suffix_1 = '_simple_false' \r\n",
    "suffix_2='_text_false'\r\n",
    "comparison = Comparison(\r\n",
    "    run_id_1=mimic_simple_false_run_id, \r\n",
    "    suffix_1=suffix_1, \r\n",
    "    run_id_2=mimic_text_false_run_id, \r\n",
    "    suffix_2=suffix_2, \r\n",
    "    local_mlflow_dir=mlflow_helper.local_mlflow_dir,\r\n",
    "    num_percentiles=10)\r\n",
    "plot_rank_comparison(comparison)\r\n",
    "plot_outlier_distances(comparison)\r\n",
    "analyse_best_worst_sequences(comparison, num_best_sequences=1, num_worst_sequences=1, descriptions=load_icd9_text())"
   ],
   "outputs": [],
   "metadata": {}
  },
  {
   "cell_type": "code",
   "execution_count": null,
   "source": [
    "suffix_1 = '_simple_false' \r\n",
    "suffix_2='_text_false'\r\n",
    "comparison = Comparison(\r\n",
    "    run_id_1=huawei_simple_false_run_id, \r\n",
    "    suffix_1=suffix_1, \r\n",
    "    run_id_2=huawei_text_false_run_id, \r\n",
    "    suffix_2=suffix_2, \r\n",
    "    local_mlflow_dir=mlflow_helper.local_mlflow_dir,\r\n",
    "    num_percentiles=10)\r\n",
    "plot_rank_comparison(comparison)\r\n",
    "plot_outlier_distances(comparison)\r\n",
    "analyse_best_worst_sequences(comparison, num_best_sequences=1, num_worst_sequences=1)"
   ],
   "outputs": [],
   "metadata": {}
  },
  {
   "cell_type": "markdown",
   "source": [
    "# Comparing Baseline vs CAUSAL"
   ],
   "metadata": {}
  },
  {
   "cell_type": "code",
   "execution_count": null,
   "source": [
    "suffix_1 = '_simple_false' \r\n",
    "suffix_2='_causal_false'\r\n",
    "comparison = Comparison(\r\n",
    "    run_id_1=mimic_simple_false_run_id, \r\n",
    "    suffix_1=suffix_1, \r\n",
    "    run_id_2=mimic_causal_false_run_id, \r\n",
    "    suffix_2=suffix_2, \r\n",
    "    local_mlflow_dir=mlflow_helper.local_mlflow_dir,\r\n",
    "    num_percentiles=10)\r\n",
    "plot_rank_comparison(comparison)\r\n",
    "plot_outlier_distances(comparison)\r\n",
    "analyse_best_worst_sequences(comparison, num_best_sequences=1, num_worst_sequences=1, descriptions=load_icd9_text())"
   ],
   "outputs": [],
   "metadata": {}
  },
  {
   "cell_type": "code",
   "execution_count": null,
   "source": [
    "suffix_1 = '_simple_false' \r\n",
    "suffix_2='_causal_false'\r\n",
    "comparison = Comparison(\r\n",
    "    run_id_1=huawei_simple_false_run_id, \r\n",
    "    suffix_1=suffix_1, \r\n",
    "    run_id_2=huawei_causal_false_run_id, \r\n",
    "    suffix_2=suffix_2, \r\n",
    "    local_mlflow_dir=mlflow_helper.local_mlflow_dir,\r\n",
    "    num_percentiles=10)\r\n",
    "plot_rank_comparison(comparison)\r\n",
    "plot_outlier_distances(comparison)\r\n",
    "analyse_best_worst_sequences(comparison, num_best_sequences=1, num_worst_sequences=1)"
   ],
   "outputs": [],
   "metadata": {}
  },
  {
   "cell_type": "markdown",
   "source": [
    "# Rank comparison per Input/Output Frequency Percentile"
   ],
   "metadata": {}
  },
  {
   "cell_type": "code",
   "execution_count": null,
   "source": [
    "full_comparison_df = calculate_rank_comparisons(\r\n",
    "    relevant_dfs = [relevant_mimic_run_df, relevant_huawei_run_df],\r\n",
    "    local_mlflow_dir=mlflow_helper.local_mlflow_dir,\r\n",
    "    num_percentiles=10,\r\n",
    ")"
   ],
   "outputs": [],
   "metadata": {}
  },
  {
   "cell_type": "code",
   "execution_count": null,
   "source": [
    "g = sns.relplot(data=full_comparison_df[\r\n",
    "        (full_comparison_df[\"aggregation\"] == \"mean\") & \r\n",
    "        (full_comparison_df[\"metric\"] != \"output_frequency_percentile\") & \r\n",
    "        (full_comparison_df[\"data_tags_sequence_type\"] == \"mimic\") & \r\n",
    "        (full_comparison_df[\"data_tags_sequence_type_2\"] == \"mimic\") & \r\n",
    "        (full_comparison_df[\"data_tags_model_type_2\"] == \"simple\") & \r\n",
    "        (full_comparison_df[\"data_tags_model_type\"] != \"simple\") & \r\n",
    "        (full_comparison_df[\"data_params_ModelConfigbase_feature_embeddings_trainable_2\"] == full_comparison_df[\"data_params_ModelConfigbase_feature_embeddings_trainable\"])\r\n",
    "    ], \r\n",
    "    x=\"percentile\", \r\n",
    "    y=\"value\", \r\n",
    "    row=\"data_tags_model_type\",\r\n",
    "    col='metric',\r\n",
    "    hue=\"data_params_ModelConfigbase_feature_embeddings_trainable\",\r\n",
    "    style=\"data_params_ModelConfigbase_feature_embeddings_trainable_2\",\r\n",
    "    kind=\"line\",\r\n",
    ")\r\n",
    "g.map(plt.axhline, y=0, color=\".7\", dashes=(2, 1), zorder=0)\r\n",
    "plt.show()"
   ],
   "outputs": [],
   "metadata": {}
  },
  {
   "cell_type": "code",
   "execution_count": null,
   "source": [
    "g = sns.relplot(data=full_comparison_df[\r\n",
    "        (full_comparison_df[\"aggregation\"] == \"mean\") & \r\n",
    "        (full_comparison_df[\"metric\"] == \"output_frequency_percentile\") & \r\n",
    "        (full_comparison_df[\"data_tags_sequence_type\"] == full_comparison_df[\"data_tags_sequence_type_2\"]) & \r\n",
    "        (full_comparison_df[\"data_tags_model_type_2\"] == \"simple\") & \r\n",
    "        (full_comparison_df[\"data_tags_model_type\"] != \"simple\") & \r\n",
    "        (full_comparison_df[\"data_params_ModelConfigbase_feature_embeddings_trainable_2\"] == full_comparison_df[\"data_params_ModelConfigbase_feature_embeddings_trainable\"])\r\n",
    "    ], \r\n",
    "    x=\"percentile\", \r\n",
    "    y=\"value\", \r\n",
    "    row=\"data_tags_model_type\",\r\n",
    "    col='data_tags_sequence_type',\r\n",
    "    hue=\"data_params_ModelConfigbase_feature_embeddings_trainable\",\r\n",
    "    kind=\"line\",\r\n",
    ")\r\n",
    "g.map(plt.axhline, y=0, color=\".7\", dashes=(2, 1), zorder=0)\r\n",
    "plt.show()"
   ],
   "outputs": [],
   "metadata": {}
  },
  {
   "cell_type": "code",
   "execution_count": null,
   "source": [
    "g = sns.relplot(data=full_comparison_df[\r\n",
    "        (full_comparison_df[\"aggregation\"] == \"mean\") & \r\n",
    "        (full_comparison_df[\"metric\"] != \"output_frequency_percentile\") & \r\n",
    "        (full_comparison_df[\"data_tags_sequence_type\"] == \"huawei_logs\") & \r\n",
    "        (full_comparison_df[\"data_tags_sequence_type_2\"] == \"huawei_logs\") & \r\n",
    "        (full_comparison_df[\"data_tags_model_type_2\"] == \"simple\") & \r\n",
    "        (full_comparison_df[\"data_tags_model_type\"] != \"simple\") & \r\n",
    "        (full_comparison_df[\"data_params_ModelConfigbase_feature_embeddings_trainable_2\"] == full_comparison_df[\"data_params_ModelConfigbase_feature_embeddings_trainable\"])\r\n",
    "    ], \r\n",
    "    x=\"percentile\", \r\n",
    "    y=\"value\", \r\n",
    "    row=\"data_tags_model_type\",\r\n",
    "    col='metric',\r\n",
    "    hue=\"data_params_ModelConfigbase_feature_embeddings_trainable\",\r\n",
    "    kind=\"line\",\r\n",
    ")\r\n",
    "g.map(plt.axhline, y=0, color=\".7\", dashes=(2, 1), zorder=0)\r\n",
    "plt.show()"
   ],
   "outputs": [],
   "metadata": {}
  }
 ]
}