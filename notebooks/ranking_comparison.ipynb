{
 "cells": [
  {
   "cell_type": "code",
   "execution_count": 1,
   "metadata": {},
   "outputs": [],
   "source": [
    "import seaborn as sns\n",
    "import matplotlib.pyplot as plt"
   ]
  },
  {
   "cell_type": "code",
   "execution_count": 2,
   "metadata": {},
   "outputs": [],
   "source": [
    "%run utils/mlflow_query.py\n",
    "%run utils/loading.py\n",
    "%run utils/comparison.py\n",
    "%run utils/ranks.py"
   ]
  },
  {
   "cell_type": "code",
   "execution_count": 3,
   "metadata": {},
   "outputs": [
    {
     "name": "stdout",
     "output_type": "stream",
     "text": [
      "Initialized with 1772 MLFlow runs from pkl\n"
     ]
    },
    {
     "ename": "AttributeError",
     "evalue": "'MlflowHelper' object has no attribute 'query_all_runs'",
     "output_type": "error",
     "traceback": [
      "\u001B[0;31m---------------------------------------------------------------------------\u001B[0m",
      "\u001B[0;31mAttributeError\u001B[0m                            Traceback (most recent call last)",
      "Input \u001B[0;32mIn [3]\u001B[0m, in \u001B[0;36m<cell line: 2>\u001B[0;34m()\u001B[0m\n\u001B[1;32m      1\u001B[0m mlflow_helper \u001B[38;5;241m=\u001B[39m MlflowHelper(pkl_file\u001B[38;5;241m=\u001B[39mPath(\u001B[38;5;124m\"\u001B[39m\u001B[38;5;124mmlflow_run_df.pkl\u001B[39m\u001B[38;5;124m\"\u001B[39m))\n\u001B[0;32m----> 2\u001B[0m \u001B[43mmlflow_helper\u001B[49m\u001B[38;5;241;43m.\u001B[39;49m\u001B[43mquery_all_runs\u001B[49m(pkl_file\u001B[38;5;241m=\u001B[39mPath(\u001B[38;5;124m\"\u001B[39m\u001B[38;5;124mmlflow_run_df.pkl\u001B[39m\u001B[38;5;124m\"\u001B[39m))\n",
      "\u001B[0;31mAttributeError\u001B[0m: 'MlflowHelper' object has no attribute 'query_all_runs'"
     ]
    }
   ],
   "source": [
    "mlflow_helper = MlflowHelper(pkl_file=Path(\"mlflow_run_df.pkl\"))\n",
    "mlflow_helper.query_valid_runs(pkl_file=Path(\"mlflow_run_df.pkl\"))"
   ]
  },
  {
   "cell_type": "code",
   "execution_count": 4,
   "metadata": {},
   "outputs": [
    {
     "name": "stdout",
     "output_type": "stream",
     "text": [
      "Simple 18d4e833923f418ba10441feb507ccb6 Gram 46eeb4e73dee47a6ada296114eea5e20 Text 6e73d4a5bbe049058e4acd23abe4c241 Causal 63d591abc51b4696a987927f30e2157e\n"
     ]
    },
    {
     "data": {
      "text/plain": "66"
     },
     "execution_count": 4,
     "metadata": {},
     "output_type": "execute_result"
    }
   ],
   "source": [
    "relevant_mimic_run_df = mlflow_helper.mimic_run_df(include_noise=False, include_refinements=False)\n",
    "mimic_simple_false_run_id = relevant_mimic_run_df[\n",
    "        (relevant_mimic_run_df['data_tags_model_type'] == 'simple') &\n",
    "        (relevant_mimic_run_df['data_params_ModelConfigbase_hidden_embeddings_trainable'] == 'False')\n",
    "].iloc[0].get('info_run_id')\n",
    "mimic_gram_false_run_id = relevant_mimic_run_df[\n",
    "        (relevant_mimic_run_df['data_tags_model_type'] == 'gram') &\n",
    "        (relevant_mimic_run_df['data_params_ModelConfigbase_hidden_embeddings_trainable'] == 'False')\n",
    "].iloc[0].get('info_run_id')\n",
    "mimic_text_false_run_id = relevant_mimic_run_df[\n",
    "        (relevant_mimic_run_df['data_tags_model_type'] == 'text') &\n",
    "        (relevant_mimic_run_df['data_params_ModelConfigbase_hidden_embeddings_trainable'] == 'False')\n",
    "].iloc[0].get('info_run_id')\n",
    "mimic_causal_false_run_id = relevant_mimic_run_df[\n",
    "        (relevant_mimic_run_df['data_tags_model_type'] == 'causal') &\n",
    "        (relevant_mimic_run_df['data_params_ModelConfigbase_hidden_embeddings_trainable'] == 'False')\n",
    "].iloc[0].get('info_run_id')\n",
    "print('Simple', mimic_simple_false_run_id, 'Gram', mimic_gram_false_run_id, 'Text', mimic_text_false_run_id, 'Causal', mimic_causal_false_run_id)\n",
    "len(relevant_mimic_run_df)"
   ]
  },
  {
   "cell_type": "code",
   "execution_count": 5,
   "metadata": {},
   "outputs": [
    {
     "name": "stdout",
     "output_type": "stream",
     "text": [
      "Simple 58cafd20e5bc471982c60d919d69b39d Gram ffb6f8d67f894f47b30928cbd450700f Text 8add1ed05d3144eeb784e598b1d648aa Causal a85b550a2d604fc9b365ff65729401f3\n"
     ]
    },
    {
     "data": {
      "text/plain": "33"
     },
     "execution_count": 5,
     "metadata": {},
     "output_type": "execute_result"
    }
   ],
   "source": [
    "relevant_huawei_run_df = mlflow_helper.huawei_run_df(include_noise=False, include_refinements=False)\n",
    "huawei_simple_false_run_id = relevant_huawei_run_df[\n",
    "        (relevant_huawei_run_df['data_tags_model_type'] == 'simple') &\n",
    "        (relevant_huawei_run_df['data_params_ModelConfigbase_hidden_embeddings_trainable'] == 'False')\n",
    "].iloc[0].get('info_run_id')\n",
    "huawei_gram_false_run_id = relevant_huawei_run_df[\n",
    "        (relevant_huawei_run_df['data_tags_model_type'] == 'gram') &\n",
    "        (relevant_huawei_run_df['data_params_ModelConfigbase_hidden_embeddings_trainable'] == 'False')\n",
    "].iloc[0].get('info_run_id')\n",
    "huawei_text_false_run_id = relevant_huawei_run_df[\n",
    "        (relevant_huawei_run_df['data_tags_model_type'] == 'text') &\n",
    "        (relevant_huawei_run_df['data_params_ModelConfigbase_hidden_embeddings_trainable'] == 'False')\n",
    "].iloc[0].get('info_run_id')\n",
    "huawei_causal_false_run_id = relevant_huawei_run_df[\n",
    "        (relevant_huawei_run_df['data_tags_model_type'] == 'causal') &\n",
    "        (relevant_huawei_run_df['data_params_ModelConfigbase_hidden_embeddings_trainable'] == 'False')\n",
    "].iloc[0].get('info_run_id')\n",
    "print('Simple', huawei_simple_false_run_id, 'Gram', huawei_gram_false_run_id, 'Text', huawei_text_false_run_id, 'Causal', huawei_causal_false_run_id)\n",
    "len(relevant_huawei_run_df)"
   ]
  },
  {
   "cell_type": "markdown",
   "metadata": {},
   "source": [
    "# Comparing Baseline vs GRAM"
   ]
  },
  {
   "cell_type": "code",
   "execution_count": 6,
   "metadata": {},
   "outputs": [
    {
     "ename": "NameError",
     "evalue": "name 'comparison' is not defined",
     "output_type": "error",
     "traceback": [
      "\u001B[0;31m---------------------------------------------------------------------------\u001B[0m",
      "\u001B[0;31mNameError\u001B[0m                                 Traceback (most recent call last)",
      "Input \u001B[0;32mIn [6]\u001B[0m, in \u001B[0;36m<cell line: 1>\u001B[0;34m()\u001B[0m\n\u001B[0;32m----> 1\u001B[0m \u001B[43mcomparison\u001B[49m\u001B[38;5;241m.\u001B[39mcomparison_df\u001B[38;5;241m.\u001B[39mcolumns\n",
      "\u001B[0;31mNameError\u001B[0m: name 'comparison' is not defined"
     ]
    }
   ],
   "source": [
    "comparison.comparison_df.columns"
   ]
  },
  {
   "cell_type": "code",
   "execution_count": 7,
   "metadata": {
    "tags": []
   },
   "outputs": [
    {
     "ename": "NameError",
     "evalue": "name 'comparison' is not defined",
     "output_type": "error",
     "traceback": [
      "\u001B[0;31m---------------------------------------------------------------------------\u001B[0m",
      "\u001B[0;31mNameError\u001B[0m                                 Traceback (most recent call last)",
      "Input \u001B[0;32mIn [7]\u001B[0m, in \u001B[0;36m<cell line: 10>\u001B[0;34m()\u001B[0m\n\u001B[1;32m      2\u001B[0m suffix_2\u001B[38;5;241m=\u001B[39m\u001B[38;5;124m'\u001B[39m\u001B[38;5;124m_gram_false\u001B[39m\u001B[38;5;124m'\u001B[39m\n\u001B[1;32m      3\u001B[0m \u001B[38;5;66;03m#comparison = Comparison(\u001B[39;00m\n\u001B[1;32m      4\u001B[0m \u001B[38;5;66;03m#    run_id_1=mimic_simple_false_run_id, \u001B[39;00m\n\u001B[1;32m      5\u001B[0m \u001B[38;5;66;03m#    suffix_1=suffix_1, \u001B[39;00m\n\u001B[0;32m   (...)\u001B[0m\n\u001B[1;32m      8\u001B[0m \u001B[38;5;66;03m#    local_mlflow_dir=mlflow_helper.local_mlflow_dir,\u001B[39;00m\n\u001B[1;32m      9\u001B[0m \u001B[38;5;66;03m#    num_percentiles=10)\u001B[39;00m\n\u001B[0;32m---> 10\u001B[0m plot_rank_comparison(\u001B[43mcomparison\u001B[49m, color\u001B[38;5;241m=\u001B[39m\u001B[38;5;124m\"\u001B[39m\u001B[38;5;124mavg_input_frequencies_percentile\u001B[39m\u001B[38;5;124m\"\u001B[39m)\n",
      "\u001B[0;31mNameError\u001B[0m: name 'comparison' is not defined"
     ]
    }
   ],
   "source": [
    "suffix_1 = '_simple_false' \n",
    "suffix_2='_gram_false'\n",
    "#comparison = Comparison(\n",
    "#    run_id_1=mimic_simple_false_run_id, \n",
    "#    suffix_1=suffix_1, \n",
    "#    run_id_2=mimic_gram_false_run_id, \n",
    "#    suffix_2=suffix_2, \n",
    "#    local_mlflow_dir=mlflow_helper.local_mlflow_dir,\n",
    "#    num_percentiles=10)\n",
    "plot_rank_comparison(comparison, color=\"avg_input_frequencies_percentile\")\n",
    "#plot_outlier_distances(comparison)\n",
    "#analyse_best_worst_sequences(comparison, num_best_sequences=1, num_worst_sequences=1, descriptions=load_icd9_text())"
   ]
  },
  {
   "cell_type": "code",
   "execution_count": null,
   "metadata": {},
   "outputs": [],
   "source": [
    "suffix_1 = '_simple_false' \n",
    "suffix_2='_gram_false'\n",
    "comparison = Comparison(\n",
    "    run_id_1=huawei_simple_false_run_id, \n",
    "    suffix_1=suffix_1, \n",
    "    run_id_2=huawei_gram_false_run_id, \n",
    "    suffix_2=suffix_2, \n",
    "    local_mlflow_dir=mlflow_helper.local_mlflow_dir,\n",
    "    num_percentiles=10)\n",
    "plot_rank_comparison(comparison, color=\"avg_input_frequencies_percentile\")\n",
    "plot_outlier_distances(comparison)\n",
    "analyse_best_worst_sequences(comparison, num_best_sequences=1, num_worst_sequences=1)"
   ]
  },
  {
   "cell_type": "markdown",
   "metadata": {},
   "source": [
    "# Comparing Baseline vs TEXT"
   ]
  },
  {
   "cell_type": "code",
   "execution_count": null,
   "metadata": {},
   "outputs": [],
   "source": [
    "suffix_1 = '_simple_false' \n",
    "suffix_2='_text_false'\n",
    "comparison = Comparison(\n",
    "    run_id_1=mimic_simple_false_run_id, \n",
    "    suffix_1=suffix_1, \n",
    "    run_id_2=mimic_text_false_run_id, \n",
    "    suffix_2=suffix_2, \n",
    "    local_mlflow_dir=mlflow_helper.local_mlflow_dir,\n",
    "    num_percentiles=10)\n",
    "plot_rank_comparison(comparison)\n",
    "plot_outlier_distances(comparison)\n",
    "analyse_best_worst_sequences(comparison, num_best_sequences=1, num_worst_sequences=1, descriptions=load_icd9_text())"
   ]
  },
  {
   "cell_type": "code",
   "execution_count": null,
   "metadata": {},
   "outputs": [],
   "source": [
    "suffix_1 = '_simple_false' \n",
    "suffix_2='_text_false'\n",
    "comparison = Comparison(\n",
    "    run_id_1=huawei_simple_false_run_id, \n",
    "    suffix_1=suffix_1, \n",
    "    run_id_2=huawei_text_false_run_id, \n",
    "    suffix_2=suffix_2, \n",
    "    local_mlflow_dir=mlflow_helper.local_mlflow_dir,\n",
    "    num_percentiles=10)\n",
    "plot_rank_comparison(comparison)\n",
    "plot_outlier_distances(comparison)\n",
    "analyse_best_worst_sequences(comparison, num_best_sequences=1, num_worst_sequences=1)"
   ]
  },
  {
   "cell_type": "markdown",
   "metadata": {},
   "source": [
    "# Comparing Baseline vs CAUSAL"
   ]
  },
  {
   "cell_type": "code",
   "execution_count": null,
   "metadata": {},
   "outputs": [],
   "source": [
    "suffix_1 = '_simple_false' \n",
    "suffix_2='_causal_false'\n",
    "comparison = Comparison(\n",
    "    run_id_1=mimic_simple_false_run_id, \n",
    "    suffix_1=suffix_1, \n",
    "    run_id_2=mimic_causal_false_run_id, \n",
    "    suffix_2=suffix_2, \n",
    "    local_mlflow_dir=mlflow_helper.local_mlflow_dir,\n",
    "    num_percentiles=10)\n",
    "plot_rank_comparison(comparison, color=\"avg_input_frequencies_percentile\")\n",
    "plot_outlier_distances(comparison)\n",
    "analyse_best_worst_sequences(comparison, num_best_sequences=1, num_worst_sequences=1, descriptions=load_icd9_text())"
   ]
  },
  {
   "cell_type": "code",
   "execution_count": null,
   "metadata": {},
   "outputs": [],
   "source": [
    "comparison.comparison_df[\"output\"]"
   ]
  },
  {
   "cell_type": "code",
   "execution_count": null,
   "metadata": {},
   "outputs": [],
   "source": [
    "comparison.comparison_df[\"output\"].iloc[0]"
   ]
  },
  {
   "cell_type": "code",
   "execution_count": null,
   "metadata": {},
   "outputs": [],
   "source": [
    "print([\n",
    "    (input, comparison.attention_weights_for(\"_causal_false\").get(input.strip()))\n",
    "    for input in comparison.comparison_df[\"inputs\"].iloc[0].split(\",\")\n",
    "])"
   ]
  },
  {
   "cell_type": "code",
   "execution_count": null,
   "metadata": {},
   "outputs": [],
   "source": [
    "suffix_1 = '_simple_false' \n",
    "suffix_2='_causal_false'\n",
    "comparison = Comparison(\n",
    "    run_id_1=huawei_simple_false_run_id, \n",
    "    suffix_1=suffix_1, \n",
    "    run_id_2=huawei_causal_false_run_id, \n",
    "    suffix_2=suffix_2, \n",
    "    local_mlflow_dir=mlflow_helper.local_mlflow_dir,\n",
    "    num_percentiles=10)\n",
    "plot_rank_comparison(comparison)\n",
    "plot_outlier_distances(comparison)\n",
    "analyse_best_worst_sequences(comparison, num_best_sequences=1, num_worst_sequences=1)"
   ]
  },
  {
   "cell_type": "markdown",
   "metadata": {},
   "source": [
    "# Rank comparison per Input/Output Frequency Percentile"
   ]
  },
  {
   "cell_type": "code",
   "execution_count": null,
   "metadata": {},
   "outputs": [],
   "source": [
    "full_comparison_df = calculate_rank_comparisons(\n",
    "    relevant_dfs = [relevant_mimic_run_df, relevant_huawei_run_df],\n",
    "    local_mlflow_dir=mlflow_helper.local_mlflow_dir,\n",
    "    num_percentiles=10,\n",
    ")"
   ]
  },
  {
   "cell_type": "code",
   "execution_count": null,
   "metadata": {},
   "outputs": [],
   "source": [
    "g = sns.relplot(data=full_comparison_df[\n",
    "        (full_comparison_df[\"aggregation\"] == \"mean\") & \n",
    "        (full_comparison_df[\"metric\"] != \"output_frequency_percentile\") & \n",
    "        (full_comparison_df[\"data_tags_sequence_type\"] == \"mimic\") & \n",
    "        (full_comparison_df[\"data_tags_sequence_type_2\"] == \"mimic\") & \n",
    "        (full_comparison_df[\"data_tags_model_type_2\"] == \"simple\") & \n",
    "        (full_comparison_df[\"data_tags_model_type\"] != \"simple\") & \n",
    "        (full_comparison_df[\"data_params_ModelConfigbase_feature_embeddings_trainable_2\"] == full_comparison_df[\"data_params_ModelConfigbase_feature_embeddings_trainable\"])\n",
    "    ], \n",
    "    x=\"percentile\", \n",
    "    y=\"value\", \n",
    "    row=\"data_tags_model_type\",\n",
    "    col='metric',\n",
    "    hue=\"data_params_ModelConfigbase_feature_embeddings_trainable\",\n",
    "    style=\"data_params_ModelConfigbase_feature_embeddings_trainable_2\",\n",
    "    kind=\"line\",\n",
    ")\n",
    "g.map(plt.axhline, y=0, color=\".7\", dashes=(2, 1), zorder=0)\n",
    "plt.show()"
   ]
  },
  {
   "cell_type": "code",
   "execution_count": null,
   "metadata": {},
   "outputs": [],
   "source": [
    "g = sns.relplot(data=full_comparison_df[\n",
    "        (full_comparison_df[\"aggregation\"] == \"mean\") & \n",
    "        (full_comparison_df[\"metric\"] == \"output_frequency_percentile\") & \n",
    "        (full_comparison_df[\"data_tags_sequence_type\"] == full_comparison_df[\"data_tags_sequence_type_2\"]) & \n",
    "        (full_comparison_df[\"data_tags_model_type_2\"] == \"simple\") & \n",
    "        (full_comparison_df[\"data_tags_model_type\"] != \"simple\") & \n",
    "        (full_comparison_df[\"data_params_ModelConfigbase_feature_embeddings_trainable_2\"] == full_comparison_df[\"data_params_ModelConfigbase_feature_embeddings_trainable\"])\n",
    "    ], \n",
    "    x=\"percentile\", \n",
    "    y=\"value\", \n",
    "    row=\"data_tags_model_type\",\n",
    "    col='data_tags_sequence_type',\n",
    "    hue=\"data_params_ModelConfigbase_feature_embeddings_trainable\",\n",
    "    kind=\"line\",\n",
    ")\n",
    "g.map(plt.axhline, y=0, color=\".7\", dashes=(2, 1), zorder=0)\n",
    "plt.show()"
   ]
  },
  {
   "cell_type": "code",
   "execution_count": null,
   "metadata": {},
   "outputs": [],
   "source": [
    "g = sns.relplot(data=full_comparison_df[\n",
    "        (full_comparison_df[\"aggregation\"] == \"mean\") & \n",
    "        (full_comparison_df[\"metric\"] != \"output_frequency_percentile\") & \n",
    "        (full_comparison_df[\"data_tags_sequence_type\"] == \"huawei_logs\") & \n",
    "        (full_comparison_df[\"data_tags_sequence_type_2\"] == \"huawei_logs\") & \n",
    "        (full_comparison_df[\"data_tags_model_type_2\"] == \"simple\") & \n",
    "        (full_comparison_df[\"data_tags_model_type\"] != \"simple\") & \n",
    "        (full_comparison_df[\"data_params_ModelConfigbase_feature_embeddings_trainable_2\"] == full_comparison_df[\"data_params_ModelConfigbase_feature_embeddings_trainable\"])\n",
    "    ], \n",
    "    x=\"percentile\", \n",
    "    y=\"value\", \n",
    "    row=\"data_tags_model_type\",\n",
    "    col='metric',\n",
    "    hue=\"data_params_ModelConfigbase_feature_embeddings_trainable\",\n",
    "    kind=\"line\",\n",
    ")\n",
    "g.map(plt.axhline, y=0, color=\".7\", dashes=(2, 1), zorder=0)\n",
    "plt.show()"
   ]
  }
 ],
 "metadata": {
  "interpreter": {
   "hash": "9d90ef2e2544a65949a5382aa665e8a895142ccb15d506742792c571feba52d3"
  },
  "kernelspec": {
   "name": "lena",
   "language": "python",
   "display_name": "lena"
  },
  "language_info": {
   "codemirror_mode": {
    "name": "ipython",
    "version": 3
   },
   "file_extension": ".py",
   "mimetype": "text/x-python",
   "name": "python",
   "nbconvert_exporter": "python",
   "pygments_lexer": "ipython3",
   "version": "3.8.8"
  },
  "orig_nbformat": 4
 },
 "nbformat": 4,
 "nbformat_minor": 2
}
