{
 "metadata": {
  "language_info": {
   "codemirror_mode": {
    "name": "ipython",
    "version": 3
   },
   "file_extension": ".py",
   "mimetype": "text/x-python",
   "name": "python",
   "nbconvert_exporter": "python",
   "pygments_lexer": "ipython3",
   "version": "3.8.8"
  },
  "orig_nbformat": 2,
  "kernelspec": {
   "name": "python388jvsc74a57bd09d90ef2e2544a65949a5382aa665e8a895142ccb15d506742792c571feba52d3",
   "display_name": "Python 3.8.8 64-bit (conda)"
  }
 },
 "nbformat": 4,
 "nbformat_minor": 2,
 "cells": [
  {
   "cell_type": "code",
   "execution_count": null,
   "metadata": {},
   "outputs": [],
   "source": [
    "import pandas as pd\n",
    "from bs4 import BeautifulSoup\n",
    "import urllib.request\n",
    "from tqdm import tqdm\n",
    "import os \n",
    "import sys\n",
    "\n",
    "!pip install mlflow\n",
    "module_path = os.path.abspath(os.path.join('..'))\n",
    "if module_path not in sys.path:\n",
    "    sys.path.append(module_path)\n",
    "\n",
    "\n",
    "from src.features.preprocessing import ICD9DataPreprocessor"
   ]
  },
  {
   "cell_type": "code",
   "execution_count": null,
   "metadata": {},
   "outputs": [],
   "source": [
    "knowlife_df = pd.read_csv('../data/knowlife_dump.tsv', sep='\\t')\n",
    "print(set(knowlife_df['relation']))\n",
    "\n",
    "knowlife_df = knowlife_df[knowlife_df['relation'] == 'causes'].reset_index(drop=True)\n",
    "knowlife_df.head()"
   ]
  },
  {
   "cell_type": "code",
   "execution_count": null,
   "metadata": {},
   "outputs": [],
   "source": [
    "def convert_to_icd9(dxStr):\n",
    "    if dxStr.startswith('E'):\n",
    "        if len(dxStr) > 4: return dxStr[:4] + '.' + dxStr[4:]\n",
    "        else: return dxStr\n",
    "    else:\n",
    "        if len(dxStr) > 3: return dxStr[:3] + '.' + dxStr[3:]\n",
    "        else: return dxStr\n",
    "\n",
    "\n",
    "def normalise_string(dstr):\n",
    "    lower_str = str(dstr).lower()\n",
    "    str_parts = lower_str.split(' ')\n",
    "    str_parts_singular = [(w[0:len(w)-1] if (len(w) > 1 and w[len(w)-1] == 's') else w) for w in str_parts]\n",
    "    return ' '.join(str_parts_singular)"
   ]
  },
  {
   "cell_type": "code",
   "execution_count": null,
   "metadata": {},
   "outputs": [],
   "source": [
    "description_df = pd.read_csv('../data/D_ICD_DIAGNOSES.csv')[['icd9_code', 'short_title', 'long_title']]\n",
    "description_df['code'] = description_df['icd9_code'].apply(convert_to_icd9)\n",
    "icd9_df = pd.read_csv('../data/icd9.csv')[['child_name', 'child_code']].drop_duplicates()\n",
    "icd9_df = icd9_df.rename({\n",
    "    'child_code': 'code',\n",
    "    'child_name': 'name',\n",
    "}, axis=1)\n",
    "icd_df = pd.merge(description_df, icd9_df, left_on='code', right_on='code', how='outer')\n",
    "icd_df['short_title'] = icd_df['short_title'].apply(normalise_string)\n",
    "icd_df['long_title'] = icd_df['long_title'].apply(normalise_string)\n",
    "icd_df['name'] = icd_df['name'].apply(normalise_string)\n",
    "\n",
    "icd_entities = icd_df[['name', 'code']]\n",
    "icd_entities.head()"
   ]
  },
  {
   "cell_type": "code",
   "execution_count": null,
   "metadata": {},
   "outputs": [],
   "source": [
    "knowlife_entities = pd.DataFrame(columns=['pattern_id', 'phrase'])\n",
    "knowlife_entities = knowlife_entities.append(pd.DataFrame({\n",
    "    'pattern_id': knowlife_df['leftpatternentity'].tolist(),\n",
    "    'phrase': knowlife_df['leftpatternphrase'].apply(normalise_string).tolist(),\n",
    "}), ignore_index=True)\n",
    "knowlife_entities = knowlife_entities.append(pd.DataFrame({\n",
    "    'pattern_id': knowlife_df['rightpatternentity'].tolist(),\n",
    "    'phrase': knowlife_df['rightpatternphrase'].apply(normalise_string).tolist(),\n",
    "}), ignore_index=True)\n",
    "knowlife_entities = knowlife_entities.drop_duplicates()\n",
    "knowlife_entities = knowlife_entities.dropna()\n",
    "knowlife_entities = knowlife_entities.reset_index(drop=True)\n",
    "knowlife_entities"
   ]
  },
  {
   "cell_type": "code",
   "execution_count": null,
   "metadata": {},
   "outputs": [],
   "source": [
    "knowlife_ids = set(knowlife_entities['pattern_id'])\n",
    "print(len(knowlife_ids))\n",
    "\n",
    "icd_ids = set(icd_entities['code'])\n",
    "print(len(icd_ids))"
   ]
  },
  {
   "cell_type": "code",
   "execution_count": null,
   "metadata": {},
   "outputs": [],
   "source": [
    "merged = pd.merge(icd_entities, knowlife_entities, left_on='name', right_on='phrase', how='left')\n",
    "print('% non-matched codes', len(merged[merged['pattern_id'].isna()]) / len(merged))\n",
    "print('% non-matched codes that are not other', len(merged[merged['pattern_id'].isna() & ~merged['name'].str.contains('other')]) / len(merged))\n",
    "print('% non-matched codes that are not other or unspecified', len(merged[merged['pattern_id'].isna() & ~merged['name'].str.contains('other') & ~merged['name'].str.contains('unspecified')]) / len(merged))\n",
    "merged[merged['pattern_id'].isna() & ~merged['name'].str.contains('other') & ~merged['name'].str.contains('unspecified')]"
   ]
  },
  {
   "cell_type": "code",
   "execution_count": null,
   "metadata": {},
   "outputs": [],
   "source": [
    "icd9_knowlife_mapping_df = merged.dropna()[['code', 'pattern_id', 'name']].drop_duplicates().reset_index(drop=True)\n",
    "icd9_knowlife_mapping_df"
   ]
  },
  {
   "cell_type": "code",
   "execution_count": null,
   "metadata": {},
   "outputs": [],
   "source": [
    "full_icd9_df = pd.read_csv('../data/icd9.csv')\n",
    "icd9_three_digits = full_icd9_df[~full_icd9_df['child_code'].str.contains('-')]\n",
    "icd9_three_digits = icd9_three_digits[~icd9_three_digits['child_code'].str.contains('\\.')]\n",
    "\n",
    "icd9_knowlife_mapping = {}\n",
    "for _, row in full_icd9_df.iterrows():\n",
    "    parent_maps = set()\n",
    "    child_maps = set()\n",
    "    if row['parent_code'] in icd9_knowlife_mapping_df['code'].tolist():\n",
    "        rel_df = icd9_knowlife_mapping_df[icd9_knowlife_mapping_df['code'] == row['parent_code']]\n",
    "        parent_maps = set(rel_df['pattern_id'].tolist())\n",
    "    if row['child_code'] in icd9_knowlife_mapping_df['code'].tolist():\n",
    "        rel_df = icd9_knowlife_mapping_df[icd9_knowlife_mapping_df['code'] == row['child_code']]\n",
    "        child_maps = set(rel_df['pattern_id'].tolist())\n",
    "    icd9_knowlife_mapping[row['parent_code']] = parent_maps\n",
    "    icd9_knowlife_mapping[row['child_code']] = child_maps"
   ]
  },
  {
   "cell_type": "code",
   "execution_count": null,
   "metadata": {
    "tags": []
   },
   "outputs": [],
   "source": [
    "def find_all_parents(code, full_icd9_df):\n",
    "    parents = set(full_icd9_df[full_icd9_df['child_code'] == code]['parent_code'])\n",
    "    for parent in list(parents):\n",
    "        if parent == code: continue\n",
    "        parents.update(find_all_parents(parent, full_icd9_df))\n",
    "    return parents\n",
    "\n",
    "def find_all_children(code, full_icd9_df):\n",
    "    children = set(full_icd9_df[full_icd9_df['parent_code'] == code]['child_code'])\n",
    "    for child in list(children):\n",
    "        if child == code: continue\n",
    "        children.update(find_all_children(child, full_icd9_df))\n",
    "    return children\n",
    "\n",
    "icd9_knowlife_mapping_ex = {}\n",
    "for code in set(icd9_three_digits['child_code']):\n",
    "    if code not in icd9_knowlife_mapping_ex:\n",
    "        icd9_knowlife_mapping_ex[code] = set(icd9_knowlife_mapping[code])\n",
    "\n",
    "    relatives = find_all_parents(code, full_icd9_df)\n",
    "    relatives.update(find_all_children(code, full_icd9_df))\n",
    "    for relative in relatives:\n",
    "        icd9_knowlife_mapping_ex[code].update(icd9_knowlife_mapping[relative])"
   ]
  },
  {
   "cell_type": "code",
   "execution_count": null,
   "metadata": {},
   "outputs": [],
   "source": [
    "matching_df = pd.DataFrame({\n",
    "    'code': [x for (x,y) in icd9_knowlife_mapping_ex.items()],\n",
    "    'knowlife': [y for (x,y) in icd9_knowlife_mapping_ex.items()],\n",
    "    'matches': [len(y) for (x,y) in icd9_knowlife_mapping_ex.items()],\n",
    "})\n",
    "print(len(matching_df))\n",
    "print(len(matching_df[matching_df['matches'] == 0]))\n",
    "print(len(matching_df[matching_df['matches'] > 1]))"
   ]
  },
  {
   "cell_type": "code",
   "execution_count": null,
   "metadata": {},
   "outputs": [],
   "source": [
    "matching_df[matching_df['matches'] == 0].tail()"
   ]
  }
 ]
}