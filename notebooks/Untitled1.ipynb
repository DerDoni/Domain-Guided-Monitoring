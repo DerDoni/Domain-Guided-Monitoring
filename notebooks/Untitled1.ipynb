{
 "cells": [
  {
   "cell_type": "code",
   "execution_count": 5,
   "id": "43afb1a3-3637-4fe2-9bc3-ad9101715f30",
   "metadata": {},
   "outputs": [
    {
     "name": "stderr",
     "output_type": "stream",
     "text": [
      "2023-01-06 11:37:29.250123: I tensorflow/core/platform/cpu_feature_guard.cc:193] This TensorFlow binary is optimized with oneAPI Deep Neural Network Library (oneDNN) to use the following CPU instructions in performance-critical operations:  AVX2 FMA\n",
      "To enable them in other operations, rebuild TensorFlow with the appropriate compiler flags.\n",
      "2023-01-06 11:37:29.747352: W tensorflow/compiler/xla/stream_executor/platform/default/dso_loader.cc:64] Could not load dynamic library 'libnvinfer.so.7'; dlerror: libnvinfer.so.7: cannot open shared object file: No such file or directory; LD_LIBRARY_PATH: /usr/local/cuda/lib64:$LD_LIBRARY_PATH\n",
      "2023-01-06 11:37:29.747402: W tensorflow/compiler/xla/stream_executor/platform/default/dso_loader.cc:64] Could not load dynamic library 'libnvinfer_plugin.so.7'; dlerror: libnvinfer_plugin.so.7: cannot open shared object file: No such file or directory; LD_LIBRARY_PATH: /usr/local/cuda/lib64:$LD_LIBRARY_PATH\n",
      "2023-01-06 11:37:29.747406: W tensorflow/compiler/tf2tensorrt/utils/py_utils.cc:38] TF-TRT Warning: Cannot dlopen some TensorRT libraries. If you would like to use Nvidia GPU with TensorRT, please make sure the missing libraries mentioned above are installed properly.\n"
     ]
    }
   ],
   "source": [
    "import seaborn as sns\n",
    "import matplotlib.pyplot as plt\n",
    "import pandas as pd\n",
    "import numpy as np\n",
    "import sys\n",
    "import os\n",
    "\n",
    "module_path = os.path.abspath(os.path.join('..'))\n",
    "if module_path not in sys.path:\n",
    "    sys.path.append(module_path)\n",
    "from src.features import preprocessing\n",
    "import pandas as pd\n",
    "pd.set_option('display.max_columns', None)  # or 1000\n",
    "pd.set_option('display.max_rows', 20)  # or 1000\n",
    "pd.set_option('display.max_colwidth', 500)  # or 199"
   ]
  },
  {
   "cell_type": "code",
   "execution_count": 2,
   "id": "9dfa69fb-a9e9-4bab-a313-594698ab15dd",
   "metadata": {},
   "outputs": [
    {
     "data": {
      "text/html": [
       "<style>.container { width:100% !important; }</style>"
      ],
      "text/plain": [
       "<IPython.core.display.HTML object>"
      ]
     },
     "metadata": {},
     "output_type": "display_data"
    }
   ],
   "source": [
    "from IPython.display import display, HTML\n",
    "display(HTML(\"<style>.container { width:100% !important; }</style>\"))"
   ]
  },
  {
   "cell_type": "code",
   "execution_count": 6,
   "id": "0beae6a8-1981-49e9-b6d6-9f09a7714585",
   "metadata": {},
   "outputs": [
    {
     "name": "stderr",
     "output_type": "stream",
     "text": [
      "usage: ipykernel_launcher.py [-h]\n",
      "                             [--sequenceconfig_test_percentage SEQUENCECONFIG_TEST_PERCENTAGE]\n",
      "                             [--sequenceconfig_random_test_split | --no-sequenceconfig_random_test_split]\n",
      "                             [--sequenceconfig_random_state SEQUENCECONFIG_RANDOM_STATE]\n",
      "                             [--sequenceconfig_flatten_x | --no-sequenceconfig_flatten_x]\n",
      "                             [--sequenceconfig_flatten_y | --no-sequenceconfig_flatten_y]\n",
      "                             [--sequenceconfig_max_window_size SEQUENCECONFIG_MAX_WINDOW_SIZE]\n",
      "                             [--sequenceconfig_min_window_size SEQUENCECONFIG_MIN_WINDOW_SIZE]\n",
      "                             [--sequenceconfig_window_overlap | --no-sequenceconfig_window_overlap]\n",
      "                             [--sequenceconfig_allow_subwindows | --no-sequenceconfig_allow_subwindows]\n",
      "                             [--sequenceconfig_valid_y_features [SEQUENCECONFIG_VALID_Y_FEATURES ...]]\n",
      "                             [--sequenceconfig_remove_empty_y_vecs | --no-sequenceconfig_remove_empty_y_vecs]\n",
      "                             [--sequenceconfig_remove_empty_x_vecs | --no-sequenceconfig_remove_empty_x_vecs]\n",
      "                             [--sequenceconfig_x_sequence_column_name SEQUENCECONFIG_X_SEQUENCE_COLUMN_NAME]\n",
      "                             [--sequenceconfig_y_sequence_column_name SEQUENCECONFIG_Y_SEQUENCE_COLUMN_NAME]\n",
      "                             [--sequenceconfig_predict_full_y_sequence | --no-sequenceconfig_predict_full_y_sequence]\n",
      "                             [--sequenceconfig_predict_full_y_sequence_wide | --no-sequenceconfig_predict_full_y_sequence_wide]\n",
      "                             [--knowledgeconfig_add_causality_prefix | --no-knowledgeconfig_add_causality_prefix]\n",
      "                             [--knowledgeconfig_file_knowledge KNOWLEDGECONFIG_FILE_KNOWLEDGE]\n",
      "                             [--knowledgeconfig_combined_knowledge_components [KNOWLEDGECONFIG_COMBINED_KNOWLEDGE_COMPONENTS ...]]\n",
      "                             [--knowledgeconfig_build_text_hierarchy | --no-knowledgeconfig_build_text_hierarchy]\n",
      "                             [--experimentconfig_n_epochs EXPERIMENTCONFIG_N_EPOCHS]\n",
      "                             [--experimentconfig_sequence_type EXPERIMENTCONFIG_SEQUENCE_TYPE]\n",
      "                             [--experimentconfig_model_type EXPERIMENTCONFIG_MODEL_TYPE]\n",
      "                             [--experimentconfig_noise_to_add EXPERIMENTCONFIG_NOISE_TO_ADD]\n",
      "                             [--experimentconfig_noise_to_remove EXPERIMENTCONFIG_NOISE_TO_REMOVE]\n",
      "                             [--experimentconfig_attention_weight_reference_file EXPERIMENTCONFIG_ATTENTION_WEIGHT_REFERENCE_FILE]\n",
      "                             [--experimentconfig_attention_noise_to_remove EXPERIMENTCONFIG_ATTENTION_NOISE_TO_REMOVE]\n",
      "                             [--experimentconfig_max_data_size EXPERIMENTCONFIG_MAX_DATA_SIZE]\n",
      "                             [--experimentconfig_use_dataset_generator | --no-experimentconfig_use_dataset_generator]\n",
      "                             [--experimentconfig_batch_size EXPERIMENTCONFIG_BATCH_SIZE]\n",
      "                             [--experimentconfig_multilabel_classification | --no-experimentconfig_multilabel_classification]\n",
      "                             [--experimentconfig_dataset_generator_cache_file EXPERIMENTCONFIG_DATASET_GENERATOR_CACHE_FILE]\n",
      "                             [--experimentconfig_dataset_shuffle_buffer EXPERIMENTCONFIG_DATASET_SHUFFLE_BUFFER]\n",
      "                             [--experimentconfig_dataset_shuffle_seed EXPERIMENTCONFIG_DATASET_SHUFFLE_SEED]\n",
      "                             [--experimentconfig_random_seed EXPERIMENTCONFIG_RANDOM_SEED]\n",
      "                             [--experimentconfig_tensorflow_seed EXPERIMENTCONFIG_TENSORFLOW_SEED]\n",
      "                             [--modelconfig_rnn_type MODELCONFIG_RNN_TYPE]\n",
      "                             [--modelconfig_rnn_dim MODELCONFIG_RNN_DIM]\n",
      "                             [--modelconfig_rnn_dropout MODELCONFIG_RNN_DROPOUT]\n",
      "                             [--modelconfig_embedding_dim MODELCONFIG_EMBEDDING_DIM]\n",
      "                             [--modelconfig_attention_dim MODELCONFIG_ATTENTION_DIM]\n",
      "                             [--modelconfig_base_feature_embeddings_trainable | --no-modelconfig_base_feature_embeddings_trainable]\n",
      "                             [--modelconfig_base_hidden_embeddings_trainable | --no-modelconfig_base_hidden_embeddings_trainable]\n",
      "                             [--modelconfig_feature_embedding_initializer MODELCONFIG_FEATURE_EMBEDDING_INITIALIZER]\n",
      "                             [--modelconfig_feature_embedding_initializer_seed MODELCONFIG_FEATURE_EMBEDDING_INITIALIZER_SEED]\n",
      "                             [--modelconfig_hidden_embedding_initializer MODELCONFIG_HIDDEN_EMBEDDING_INITIALIZER]\n",
      "                             [--modelconfig_hidden_embedding_initializer_seed MODELCONFIG_HIDDEN_EMBEDDING_INITIALIZER_SEED]\n",
      "                             [--modelconfig_distribute_strategy MODELCONFIG_DISTRIBUTE_STRATEGY]\n",
      "                             [--modelconfig_best_model_metric MODELCONFIG_BEST_MODEL_METRIC]\n",
      "                             [--modelconfig_best_model_metric_minimize | --no-modelconfig_best_model_metric_minimize]\n",
      "                             [--modelconfig_early_stopping_epochs MODELCONFIG_EARLY_STOPPING_EPOCHS]\n",
      "                             [--modelconfig_metrics_num_percentiles MODELCONFIG_METRICS_NUM_PERCENTILES]\n",
      "                             [--modelconfig_final_activation_function MODELCONFIG_FINAL_ACTIVATION_FUNCTION]\n",
      "                             [--modelconfig_loss MODELCONFIG_LOSS]\n",
      "                             [--modelconfig_optimizer MODELCONFIG_OPTIMIZER]\n",
      "                             [--modelconfig_dropout_rate MODELCONFIG_DROPOUT_RATE]\n",
      "                             [--modelconfig_dropout_seed MODELCONFIG_DROPOUT_SEED]\n",
      "                             [--modelconfig_kernel_regularizer_type MODELCONFIG_KERNEL_REGULARIZER_TYPE]\n",
      "                             [--modelconfig_kernel_regularizer_value MODELCONFIG_KERNEL_REGULARIZER_VALUE]\n",
      "                             [--modelconfig_kernel_regularizer_scope [MODELCONFIG_KERNEL_REGULARIZER_SCOPE ...]]\n",
      "                             [--textualpapermodelconfig_num_filters TEXTUALPAPERMODELCONFIG_NUM_FILTERS]\n",
      "                             [--textualpapermodelconfig_kernel_sizes [TEXTUALPAPERMODELCONFIG_KERNEL_SIZES ...]]\n",
      "                             [--mimicpreprocessorconfig_admission_file MIMICPREPROCESSORCONFIG_ADMISSION_FILE]\n",
      "                             [--mimicpreprocessorconfig_diagnosis_file MIMICPREPROCESSORCONFIG_DIAGNOSIS_FILE]\n",
      "                             [--mimicpreprocessorconfig_hierarchy_file MIMICPREPROCESSORCONFIG_HIERARCHY_FILE]\n",
      "                             [--mimicpreprocessorconfig_icd9_file MIMICPREPROCESSORCONFIG_ICD9_FILE]\n",
      "                             [--mimicpreprocessorconfig_use_icd9_data | --no-mimicpreprocessorconfig_use_icd9_data]\n",
      "                             [--mimicpreprocessorconfig_min_admissions_per_user MIMICPREPROCESSORCONFIG_MIN_ADMISSIONS_PER_USER]\n",
      "                             [--mimicpreprocessorconfig_sequence_column_name MIMICPREPROCESSORCONFIG_SEQUENCE_COLUMN_NAME]\n",
      "                             [--mimicpreprocessorconfig_add_icd9_info_to_sequences | --no-mimicpreprocessorconfig_add_icd9_info_to_sequences]\n",
      "                             [--mimicpreprocessorconfig_cluster_file MIMICPREPROCESSORCONFIG_CLUSTER_FILE]\n",
      "                             [--mimicpreprocessorconfig_knowlife_file MIMICPREPROCESSORCONFIG_KNOWLIFE_FILE]\n",
      "                             [--mimicpreprocessorconfig_umls_file MIMICPREPROCESSORCONFIG_UMLS_FILE]\n",
      "                             [--mimicpreprocessorconfig_umls_api_key MIMICPREPROCESSORCONFIG_UMLS_API_KEY]\n",
      "                             [--mimicpreprocessorconfig_replace_keys [MIMICPREPROCESSORCONFIG_REPLACE_KEYS ...]]\n",
      "                             [--mimicpreprocessorconfig_replace_with_keys [MIMICPREPROCESSORCONFIG_REPLACE_WITH_KEYS ...]]\n",
      "                             [--mimicpreprocessorconfig_replacement_percentages [MIMICPREPROCESSORCONFIG_REPLACEMENT_PERCENTAGES ...]]\n",
      "                             [--mimicpreprocessorconfig_replace_columns [MIMICPREPROCESSORCONFIG_REPLACE_COLUMNS ...]]\n",
      "                             [--mimicpreprocessorconfig_prediction_column MIMICPREPROCESSORCONFIG_PREDICTION_COLUMN]\n",
      "                             [--huaweipreprocessorconfig_aggregated_log_file HUAWEIPREPROCESSORCONFIG_AGGREGATED_LOG_FILE]\n",
      "                             [--huaweipreprocessorconfig_traces_root_directory HUAWEIPREPROCESSORCONFIG_TRACES_ROOT_DIRECTORY]\n",
      "                             [--huaweipreprocessorconfig_final_log_file HUAWEIPREPROCESSORCONFIG_FINAL_LOG_FILE]\n",
      "                             [--huaweipreprocessorconfig_relevant_aggregated_log_columns [HUAWEIPREPROCESSORCONFIG_RELEVANT_AGGREGATED_LOG_COLUMNS ...]]\n",
      "                             [--huaweipreprocessorconfig_relevant_trace_columns [HUAWEIPREPROCESSORCONFIG_RELEVANT_TRACE_COLUMNS ...]]\n",
      "                             [--huaweipreprocessorconfig_use_trace_data | --no-huaweipreprocessorconfig_use_trace_data]\n",
      "                             [--huaweipreprocessorconfig_aggregate_per_trace | --no-huaweipreprocessorconfig_aggregate_per_trace]\n",
      "                             [--huaweipreprocessorconfig_aggregate_per_max_number HUAWEIPREPROCESSORCONFIG_AGGREGATE_PER_MAX_NUMBER]\n",
      "                             [--huaweipreprocessorconfig_aggregate_per_time_frequency HUAWEIPREPROCESSORCONFIG_AGGREGATE_PER_TIME_FREQUENCY]\n",
      "                             [--huaweipreprocessorconfig_log_datetime_column_name HUAWEIPREPROCESSORCONFIG_LOG_DATETIME_COLUMN_NAME]\n",
      "                             [--huaweipreprocessorconfig_log_payload_column_name HUAWEIPREPROCESSORCONFIG_LOG_PAYLOAD_COLUMN_NAME]\n",
      "                             [--huaweipreprocessorconfig_use_log_hierarchy | --no-huaweipreprocessorconfig_use_log_hierarchy]\n",
      "                             [--huaweipreprocessorconfig_fine_drain_log_depth HUAWEIPREPROCESSORCONFIG_FINE_DRAIN_LOG_DEPTH]\n",
      "                             [--huaweipreprocessorconfig_fine_drain_log_st HUAWEIPREPROCESSORCONFIG_FINE_DRAIN_LOG_ST]\n",
      "                             [--huaweipreprocessorconfig_coarse_drain_log_depth HUAWEIPREPROCESSORCONFIG_COARSE_DRAIN_LOG_DEPTH]\n",
      "                             [--huaweipreprocessorconfig_coarse_drain_log_st HUAWEIPREPROCESSORCONFIG_COARSE_DRAIN_LOG_ST]\n",
      "                             [--huaweipreprocessorconfig_drain_log_depths [HUAWEIPREPROCESSORCONFIG_DRAIN_LOG_DEPTHS ...]]\n",
      "                             [--huaweipreprocessorconfig_drain_log_sts [HUAWEIPREPROCESSORCONFIG_DRAIN_LOG_STS ...]]\n",
      "                             [--huaweipreprocessorconfig_url_column_name HUAWEIPREPROCESSORCONFIG_URL_COLUMN_NAME]\n",
      "                             [--huaweipreprocessorconfig_drain_url_depth HUAWEIPREPROCESSORCONFIG_DRAIN_URL_DEPTH]\n",
      "                             [--huaweipreprocessorconfig_drain_url_st HUAWEIPREPROCESSORCONFIG_DRAIN_URL_ST]\n",
      "                             [--huaweipreprocessorconfig_add_log_clusters | --no-huaweipreprocessorconfig_add_log_clusters]\n",
      "                             [--huaweipreprocessorconfig_min_logs_per_trace HUAWEIPREPROCESSORCONFIG_MIN_LOGS_PER_TRACE]\n",
      "                             [--huaweipreprocessorconfig_min_causality HUAWEIPREPROCESSORCONFIG_MIN_CAUSALITY]\n",
      "                             [--huaweipreprocessorconfig_log_only_causality | --no-huaweipreprocessorconfig_log_only_causality]\n",
      "                             [--huaweipreprocessorconfig_relevant_log_column HUAWEIPREPROCESSORCONFIG_RELEVANT_LOG_COLUMN]\n",
      "                             [--huaweipreprocessorconfig_log_template_file HUAWEIPREPROCESSORCONFIG_LOG_TEMPLATE_FILE]\n",
      "                             [--c24preprocessorconfig_grouped_df_pkl C24PREPROCESSORCONFIG_GROUPED_DF_PKL]\n",
      "                             [--c24preprocessorconfig_event_column C24PREPROCESSORCONFIG_EVENT_COLUMN]\n",
      "                             [--c24preprocessorconfig_fraud_column C24PREPROCESSORCONFIG_FRAUD_COLUMN]\n",
      "                             [--refinementconfig_num_refinements REFINEMENTCONFIG_NUM_REFINEMENTS]\n",
      "                             [--refinementconfig_min_edge_weight REFINEMENTCONFIG_MIN_EDGE_WEIGHT]\n",
      "                             [--refinementconfig_max_train_examples REFINEMENTCONFIG_MAX_TRAIN_EXAMPLES]\n",
      "                             [--refinementconfig_refinement_metric REFINEMENTCONFIG_REFINEMENT_METRIC]\n",
      "                             [--refinementconfig_refinement_metric_maxrank REFINEMENTCONFIG_REFINEMENT_METRIC_MAXRANK]\n",
      "                             [--refinementconfig_max_edges_to_remove REFINEMENTCONFIG_MAX_EDGES_TO_REMOVE]\n",
      "                             [--refinementconfig_max_refinement_metric REFINEMENTCONFIG_MAX_REFINEMENT_METRIC]\n",
      "                             [--refinementconfig_original_file_knowledge REFINEMENTCONFIG_ORIGINAL_FILE_KNOWLEDGE]\n",
      "                             [--refinementconfig_edges_to_add REFINEMENTCONFIG_EDGES_TO_ADD]\n",
      "                             [--refinementconfig_reference_file_knowledge REFINEMENTCONFIG_REFERENCE_FILE_KNOWLEDGE]\n",
      "                             [--refinementconfig_mlflow_dir REFINEMENTCONFIG_MLFLOW_DIR]\n",
      "ipykernel_launcher.py: error: unrecognized arguments: -f /home/i40/pacev/.local/share/jupyter/runtime/kernel-06bf81df-87c3-4252-9f49-f03a7aaf4174.json\n"
     ]
    },
    {
     "ename": "SystemExit",
     "evalue": "2",
     "output_type": "error",
     "traceback": [
      "An exception has occurred, use %tb to see the full traceback.\n",
      "\u001b[0;31mSystemExit\u001b[0m\u001b[0;31m:\u001b[0m 2\n"
     ]
    },
    {
     "name": "stderr",
     "output_type": "stream",
     "text": [
      "/home/i40/pacev/miniconda3/envs/lena/lib/python3.9/site-packages/IPython/core/interactiveshell.py:3441: UserWarning: To exit: use 'exit', 'quit', or Ctrl-D.\n",
      "  warn(\"To exit: use 'exit', 'quit', or Ctrl-D.\", stacklevel=1)\n"
     ]
    }
   ],
   "source": [
    "huawei_config = preprocessing.HuaweiPreprocessorConfig()"
   ]
  },
  {
   "cell_type": "code",
   "execution_count": 4,
   "id": "c8e64156-e19a-4ab0-b955-3c74f71ff3c7",
   "metadata": {},
   "outputs": [],
   "source": [
    "deep_drain = preprocessing.HuaweiPreprocessorConfig()\n",
    "deep_drain.drain_url_depth = 50 # default 10\n",
    "deep_drain.fine_drain_log_depth: int = 50 # default 10\n",
    "deep_drain.fine_drain_log_st: float = 0.80\n",
    "deep_drain.coarse_drain_log_depth: int = 15 # default 4\n",
    "deep_drain.coarse_drain_log_st: float = 0.5"
   ]
  },
  {
   "cell_type": "code",
   "execution_count": 5,
   "id": "4db49fec-d546-4900-b0d4-ca70dec3c149",
   "metadata": {},
   "outputs": [],
   "source": [
    "coarse_drain = preprocessing.HuaweiPreprocessorConfig()\n",
    "coarse_drain.drain_url_depth = 4 # default 10\n",
    "coarse_drain.fine_drain_log_depth: int = 4 # default 10\n",
    "coarse_drain.fine_drain_log_st: float = 0.5\n",
    "coarse_drain.coarse_drain_log_depth: int = 2 # default 4\n",
    "coarse_drain.coarse_drain_log_st: float = 0.1"
   ]
  },
  {
   "cell_type": "code",
   "execution_count": 6,
   "id": "a729464e-e3e9-4eef-8422-4b06f2ae0900",
   "metadata": {},
   "outputs": [],
   "source": [
    "sequence_preprocessor = preprocessing.ConcurrentAggregatedLogsPreprocessor(huawei_config)\n",
    "deep_pp = preprocessing.ConcurrentAggregatedLogsPreprocessor(deep_drain)\n",
    "coarse_pp = preprocessing.ConcurrentAggregatedLogsPreprocessor(coarse_drain)"
   ]
  },
  {
   "cell_type": "code",
   "execution_count": 14,
   "id": "718215f1",
   "metadata": {},
   "outputs": [
    {
     "name": "stderr",
     "output_type": "stream",
     "text": [
      "Generating DRAIN clusters from log_df: 100%|██████████| 163/163 [00:00<00:00, 10864.86it/s]\n",
      "Generating DRAIN clusters from log_df: 100%|██████████| 163/163 [00:00<00:00, 16275.57it/s]\n",
      "Generating DRAIN clusters from log_df: 100%|██████████| 24/24 [00:00<00:00, 20871.51it/s]\n",
      "Generating DRAIN clusters from log_df: 100%|██████████| 163/163 [00:00<00:00, 15733.95it/s]\n",
      "Generating DRAIN clusters from log_df: 100%|██████████| 163/163 [00:00<00:00, 16191.16it/s]\n",
      "Generating DRAIN clusters from log_df: 100%|██████████| 24/24 [00:00<00:00, 23831.27it/s]\n",
      "Generating DRAIN clusters from log_df: 100%|██████████| 163/163 [00:00<00:00, 13287.04it/s]\n",
      "Generating DRAIN clusters from log_df: 100%|██████████| 163/163 [00:00<00:00, 14377.35it/s]\n",
      "Generating DRAIN clusters from log_df: 100%|██████████| 24/24 [00:00<00:00, 20430.95it/s]\n"
     ]
    }
   ],
   "source": [
    "full_df = sequence_preprocessor._load_log_only_data()\n",
    "full_df[['Payload','fine_log_cluster_template', 'coarse_log_cluster_template']].to_csv(\"full.csv\")\n",
    "full_coarse = coarse_pp._load_log_only_data()\n",
    "full_coarse[['Payload','fine_log_cluster_template', 'coarse_log_cluster_template']].to_csv(\"full_coarse.csv\")\n",
    "full_fine = deep_pp._load_log_only_data()\n",
    "full_fine[['Payload','fine_log_cluster_template', 'coarse_log_cluster_template']].to_csv(\"full_fine.csv\")"
   ]
  },
  {
   "cell_type": "code",
   "execution_count": 7,
   "id": "8064e6b9",
   "metadata": {},
   "outputs": [],
   "source": [
    "test = sequence_preprocessor.load_full_data()\n",
    "test.to_csv(\"test.csv\")"
   ]
  },
  {
   "cell_type": "code",
   "execution_count": null,
   "id": "39f754b7",
   "metadata": {},
   "outputs": [],
   "source": []
  },
  {
   "cell_type": "code",
   "execution_count": null,
   "id": "0967dad1",
   "metadata": {},
   "outputs": [],
   "source": []
  },
  {
   "cell_type": "code",
   "execution_count": 27,
   "id": "83328709-a340-4b8f-b3a9-1d753714ec91",
   "metadata": {},
   "outputs": [
    {
     "name": "stderr",
     "output_type": "stream",
     "text": [
      "Generating DRAIN clusters from log_df: 100%|██████████| 163/163 [00:00<00:00, 14459.75it/s]\n",
      "Generating DRAIN clusters from log_df: 100%|██████████| 163/163 [00:00<00:00, 15317.97it/s]\n",
      "Generating DRAIN clusters from log_df: 100%|██████████| 24/24 [00:00<00:00, 25725.35it/s]\n"
     ]
    }
   ],
   "source": [
    "sequence_df = sequence_preprocessor.load_data()"
   ]
  },
  {
   "cell_type": "code",
   "execution_count": 28,
   "id": "eea963f2-9c9c-4331-8cd0-297ac3d836bb",
   "metadata": {},
   "outputs": [
    {
     "name": "stderr",
     "output_type": "stream",
     "text": [
      "Generating DRAIN clusters from log_df: 100%|██████████| 163/163 [00:00<00:00, 13430.61it/s]\n",
      "Generating DRAIN clusters from log_df: 100%|██████████| 163/163 [00:00<00:00, 14122.53it/s]\n",
      "Generating DRAIN clusters from log_df: 100%|██████████| 24/24 [00:00<00:00, 24648.21it/s]\n"
     ]
    }
   ],
   "source": [
    "deep_df = deep_pp.load_data()"
   ]
  },
  {
   "cell_type": "code",
   "execution_count": 29,
   "id": "cf9bd465-97f4-4ce9-a5f0-332713c9060c",
   "metadata": {},
   "outputs": [
    {
     "name": "stderr",
     "output_type": "stream",
     "text": [
      "Generating DRAIN clusters from log_df: 100%|██████████| 163/163 [00:00<00:00, 11382.76it/s]\n",
      "Generating DRAIN clusters from log_df: 100%|██████████| 163/163 [00:00<00:00, 13176.92it/s]\n",
      "Generating DRAIN clusters from log_df: 100%|██████████| 24/24 [00:00<00:00, 15277.48it/s]\n"
     ]
    }
   ],
   "source": [
    "coarse_df = coarse_pp.load_data()"
   ]
  },
  {
   "cell_type": "code",
   "execution_count": 30,
   "id": "8fb58de3",
   "metadata": {},
   "outputs": [],
   "source": [
    "sequence_df.to_csv(\"sequence.csv\")\n",
    "deep_df.to_csv(\"deep.csv\")\n",
    "coarse_df.to_csv(\"coarse.csv\")"
   ]
  },
  {
   "cell_type": "code",
   "execution_count": 10,
   "id": "5b1a7db5-8dee-400b-9099-6c8aca84a86e",
   "metadata": {},
   "outputs": [
    {
     "ename": "TypeError",
     "evalue": "list expected at most 1 argument, got 2",
     "output_type": "error",
     "traceback": [
      "\u001b[0;31m---------------------------------------------------------------------------\u001b[0m",
      "\u001b[0;31mTypeError\u001b[0m                                 Traceback (most recent call last)",
      "Input \u001b[0;32mIn [10]\u001b[0m, in \u001b[0;36m<cell line: 1>\u001b[0;34m()\u001b[0m\n\u001b[0;32m----> 1\u001b[0m sequence_df\u001b[38;5;241m.\u001b[39mexplode(\u001b[38;5;28;43mlist\u001b[39;49m\u001b[43m(\u001b[49m\u001b[38;5;124;43m\"\u001b[39;49m\u001b[38;5;124;43mattributes\u001b[39;49m\u001b[38;5;124;43m\"\u001b[39;49m\u001b[43m,\u001b[49m\u001b[43m \u001b[49m\u001b[38;5;124;43m\"\u001b[39;49m\u001b[38;5;124;43mcoarse_log_cluster_template\u001b[39;49m\u001b[38;5;124;43m\"\u001b[39;49m\u001b[43m)\u001b[49m)\n",
      "\u001b[0;31mTypeError\u001b[0m: list expected at most 1 argument, got 2"
     ]
    }
   ],
   "source": [
    "sequence_df.explode(list(\"attributes\", \"coarse_log_cluster_template\"))"
   ]
  },
  {
   "cell_type": "code",
   "execution_count": 31,
   "id": "505294d7-aee1-4ac6-9745-d6548b9e213e",
   "metadata": {},
   "outputs": [],
   "source": [
    "coarse_sequence_df = sequence_df.explode(\"coarse_log_cluster_template\")\n",
    "fine_sequence_df = sequence_df.explode(\"fine_log_cluster_template\")\n",
    "coarse_deep_df = deep_df.explode(\"coarse_log_cluster_template\")\n",
    "fine_deep_df = deep_df.explode(\"fine_log_cluster_template\")\n",
    "coarse_coarse_df = coarse_df.explode(\"coarse_log_cluster_template\")\n",
    "fine_coarse_df = coarse_df.explode(\"fine_log_cluster_template\")"
   ]
  },
  {
   "cell_type": "code",
   "execution_count": 32,
   "id": "64c8915e-76ea-4a90-802b-a2e5e5636f5f",
   "metadata": {},
   "outputs": [],
   "source": [
    "coarse_coarse_df[\"coarse_log_cluster_template\"].to_csv(\"coarse_coarse.csv\")\n",
    "coarse_deep_df[\"coarse_log_cluster_template\"].to_csv(\"coarse_deep.csv\")\n",
    "coarse_sequence_df[\"coarse_log_cluster_template\"].to_csv(\"coarse_sequence.csv\")\n",
    "fine_deep_df[\"fine_log_cluster_template\"].to_csv(\"fine_deep.csv\")\n",
    "fine_coarse_df[\"fine_log_cluster_template\"].to_csv(\"fine_coarse.csv\")\n",
    "fine_sequence_df[\"fine_log_cluster_template\"].to_csv(\"fine_sequence.csv\")"
   ]
  },
  {
   "cell_type": "code",
   "execution_count": 2,
   "id": "220f8b1a",
   "metadata": {},
   "outputs": [
    {
     "data": {
      "text/html": [
       "<div>\n",
       "<style scoped>\n",
       "    .dataframe tbody tr th:only-of-type {\n",
       "        vertical-align: middle;\n",
       "    }\n",
       "\n",
       "    .dataframe tbody tr th {\n",
       "        vertical-align: top;\n",
       "    }\n",
       "\n",
       "    .dataframe thead th {\n",
       "        text-align: right;\n",
       "    }\n",
       "</style>\n",
       "<table border=\"1\" class=\"dataframe\">\n",
       "  <thead>\n",
       "    <tr style=\"text-align: right;\">\n",
       "      <th></th>\n",
       "      <th>Hostname</th>\n",
       "      <th>log_level</th>\n",
       "      <th>programname</th>\n",
       "      <th>python_module</th>\n",
       "      <th>http_status</th>\n",
       "      <th>http_method</th>\n",
       "      <th>@timestamp</th>\n",
       "      <th>Payload</th>\n",
       "      <th>http_url</th>\n",
       "      <th>log_cluster_template</th>\n",
       "      <th>log_cluster_path</th>\n",
       "      <th>timestamp</th>\n",
       "      <th>parent_trace_id</th>\n",
       "      <th>url_cluster_template</th>\n",
       "      <th>url_cluster_path</th>\n",
       "    </tr>\n",
       "  </thead>\n",
       "  <tbody>\n",
       "    <tr>\n",
       "      <th>0</th>\n",
       "      <td>wally113</td>\n",
       "      <td>INFO</td>\n",
       "      <td>glance-api</td>\n",
       "      <td>eventlet.wsgi.server</td>\n",
       "      <td>NaN</td>\n",
       "      <td>NaN</td>\n",
       "      <td>2019-11-25T17:16:01.590000000+01:00</td>\n",
       "      <td>172.17.0.2 - - [25/Nov/2019 17:16:01] \"GET /v2/schemas/image HTTP/1.1\" 200 5562 0.053853</td>\n",
       "      <td>NaN</td>\n",
       "      <td>NaN</td>\n",
       "      <td>NaN</td>\n",
       "      <td>2019-11-25 17:16:01.590000+01:00</td>\n",
       "      <td>000444b6-b3bc-40aa-8a89-ee2486186b83</td>\n",
       "      <td>NaN</td>\n",
       "      <td>NaN</td>\n",
       "    </tr>\n",
       "    <tr>\n",
       "      <th>1</th>\n",
       "      <td>wally113</td>\n",
       "      <td>INFO</td>\n",
       "      <td>glance-api</td>\n",
       "      <td>eventlet.wsgi.server</td>\n",
       "      <td>NaN</td>\n",
       "      <td>NaN</td>\n",
       "      <td>2019-11-25T17:16:01.724000000+01:00</td>\n",
       "      <td>172.17.0.2 - - [25/Nov/2019 17:16:01] \"POST /v2/images HTTP/1.1\" 201 1002 0.116297</td>\n",
       "      <td>NaN</td>\n",
       "      <td>NaN</td>\n",
       "      <td>NaN</td>\n",
       "      <td>2019-11-25 17:16:01.724000+01:00</td>\n",
       "      <td>000444b6-b3bc-40aa-8a89-ee2486186b83</td>\n",
       "      <td>NaN</td>\n",
       "      <td>NaN</td>\n",
       "    </tr>\n",
       "    <tr>\n",
       "      <th>2</th>\n",
       "      <td>wally113</td>\n",
       "      <td>INFO</td>\n",
       "      <td>glance-api</td>\n",
       "      <td>eventlet.wsgi.server</td>\n",
       "      <td>NaN</td>\n",
       "      <td>NaN</td>\n",
       "      <td>2019-11-25T17:16:07.687000000+01:00</td>\n",
       "      <td>172.17.0.2 - - [25/Nov/2019 17:16:07] \"GET /v2/images/e67a3a0b-4186-4996-8cd2-b730298af506 HTTP/1.1\" 200 1133 0.043425</td>\n",
       "      <td>NaN</td>\n",
       "      <td>25 nov 2019 17 16 * get v2 images * http 11 200 1133 *</td>\n",
       "      <td>15 * nov * * * * get v2 images</td>\n",
       "      <td>2019-11-25 17:16:07.687000+01:00</td>\n",
       "      <td>000444b6-b3bc-40aa-8a89-ee2486186b83</td>\n",
       "      <td>NaN</td>\n",
       "      <td>NaN</td>\n",
       "    </tr>\n",
       "    <tr>\n",
       "      <th>3</th>\n",
       "      <td>wally113</td>\n",
       "      <td>INFO</td>\n",
       "      <td>neutron-openvswitch-agent</td>\n",
       "      <td>neutron.plugins.ml2.drivers.openvswitch.agent.ovs_neutron_agent</td>\n",
       "      <td>NaN</td>\n",
       "      <td>NaN</td>\n",
       "      <td>2019-11-25T17:16:08.075000000+01:00</td>\n",
       "      <td>SIGTERM received, capping RPC timeout by 10 seconds.</td>\n",
       "      <td>NaN</td>\n",
       "      <td>sigterm received capping rpc timeout by 10 seconds</td>\n",
       "      <td>8 sigterm received capping rpc timeout by * seconds</td>\n",
       "      <td>2019-11-25 17:16:08.075000+01:00</td>\n",
       "      <td>000444b6-b3bc-40aa-8a89-ee2486186b83</td>\n",
       "      <td>NaN</td>\n",
       "      <td>NaN</td>\n",
       "    </tr>\n",
       "    <tr>\n",
       "      <th>4</th>\n",
       "      <td>wally113</td>\n",
       "      <td>INFO</td>\n",
       "      <td>glance-api</td>\n",
       "      <td>eventlet.wsgi.server</td>\n",
       "      <td>NaN</td>\n",
       "      <td>NaN</td>\n",
       "      <td>2019-11-25T17:16:26.982000000+01:00</td>\n",
       "      <td>172.17.0.2 - - [25/Nov/2019 17:16:26] \"GET /v2/schemas/image HTTP/1.1\" 200 5562 0.006188</td>\n",
       "      <td>NaN</td>\n",
       "      <td>NaN</td>\n",
       "      <td>NaN</td>\n",
       "      <td>2019-11-25 17:16:26.982000+01:00</td>\n",
       "      <td>000444b6-b3bc-40aa-8a89-ee2486186b83</td>\n",
       "      <td>NaN</td>\n",
       "      <td>NaN</td>\n",
       "    </tr>\n",
       "  </tbody>\n",
       "</table>\n",
       "</div>"
      ],
      "text/plain": [
       "   Hostname log_level                programname  \\\n",
       "0  wally113      INFO                 glance-api   \n",
       "1  wally113      INFO                 glance-api   \n",
       "2  wally113      INFO                 glance-api   \n",
       "3  wally113      INFO  neutron-openvswitch-agent   \n",
       "4  wally113      INFO                 glance-api   \n",
       "\n",
       "                                                     python_module  \\\n",
       "0                                             eventlet.wsgi.server   \n",
       "1                                             eventlet.wsgi.server   \n",
       "2                                             eventlet.wsgi.server   \n",
       "3  neutron.plugins.ml2.drivers.openvswitch.agent.ovs_neutron_agent   \n",
       "4                                             eventlet.wsgi.server   \n",
       "\n",
       "   http_status http_method                           @timestamp  \\\n",
       "0          NaN         NaN  2019-11-25T17:16:01.590000000+01:00   \n",
       "1          NaN         NaN  2019-11-25T17:16:01.724000000+01:00   \n",
       "2          NaN         NaN  2019-11-25T17:16:07.687000000+01:00   \n",
       "3          NaN         NaN  2019-11-25T17:16:08.075000000+01:00   \n",
       "4          NaN         NaN  2019-11-25T17:16:26.982000000+01:00   \n",
       "\n",
       "                                                                                                                  Payload  \\\n",
       "0                                172.17.0.2 - - [25/Nov/2019 17:16:01] \"GET /v2/schemas/image HTTP/1.1\" 200 5562 0.053853   \n",
       "1                                      172.17.0.2 - - [25/Nov/2019 17:16:01] \"POST /v2/images HTTP/1.1\" 201 1002 0.116297   \n",
       "2  172.17.0.2 - - [25/Nov/2019 17:16:07] \"GET /v2/images/e67a3a0b-4186-4996-8cd2-b730298af506 HTTP/1.1\" 200 1133 0.043425   \n",
       "3                                                                    SIGTERM received, capping RPC timeout by 10 seconds.   \n",
       "4                                172.17.0.2 - - [25/Nov/2019 17:16:26] \"GET /v2/schemas/image HTTP/1.1\" 200 5562 0.006188   \n",
       "\n",
       "  http_url                                    log_cluster_template  \\\n",
       "0      NaN                                                     NaN   \n",
       "1      NaN                                                     NaN   \n",
       "2      NaN  25 nov 2019 17 16 * get v2 images * http 11 200 1133 *   \n",
       "3      NaN      sigterm received capping rpc timeout by 10 seconds   \n",
       "4      NaN                                                     NaN   \n",
       "\n",
       "                                      log_cluster_path  \\\n",
       "0                                                  NaN   \n",
       "1                                                  NaN   \n",
       "2                       15 * nov * * * * get v2 images   \n",
       "3  8 sigterm received capping rpc timeout by * seconds   \n",
       "4                                                  NaN   \n",
       "\n",
       "                         timestamp                       parent_trace_id  \\\n",
       "0 2019-11-25 17:16:01.590000+01:00  000444b6-b3bc-40aa-8a89-ee2486186b83   \n",
       "1 2019-11-25 17:16:01.724000+01:00  000444b6-b3bc-40aa-8a89-ee2486186b83   \n",
       "2 2019-11-25 17:16:07.687000+01:00  000444b6-b3bc-40aa-8a89-ee2486186b83   \n",
       "3 2019-11-25 17:16:08.075000+01:00  000444b6-b3bc-40aa-8a89-ee2486186b83   \n",
       "4 2019-11-25 17:16:26.982000+01:00  000444b6-b3bc-40aa-8a89-ee2486186b83   \n",
       "\n",
       "  url_cluster_template url_cluster_path  \n",
       "0                  NaN              NaN  \n",
       "1                  NaN              NaN  \n",
       "2                  NaN              NaN  \n",
       "3                  NaN              NaN  \n",
       "4                  NaN              NaN  "
      ]
     },
     "execution_count": 2,
     "metadata": {},
     "output_type": "execute_result"
    }
   ],
   "source": [
    "pkl = pd.read_pickle(\"data/huawei.pkl\")\n",
    "pkl.head()"
   ]
  },
  {
   "cell_type": "code",
   "execution_count": null,
   "id": "1700bf2d",
   "metadata": {
    "pycharm": {
     "is_executing": true
    }
   },
   "outputs": [],
   "source": []
  },
  {
   "cell_type": "code",
   "execution_count": 2,
   "id": "f4b103a6",
   "metadata": {},
   "outputs": [],
   "source": [
    "df = pd.read_pickle(\"../data/sequences_df.pkl\")"
   ]
  },
  {
   "cell_type": "code",
   "execution_count": 3,
   "id": "549ff095",
   "metadata": {},
   "outputs": [
    {
     "data": {
      "text/html": [
       "<div>\n",
       "<style scoped>\n",
       "    .dataframe tbody tr th:only-of-type {\n",
       "        vertical-align: middle;\n",
       "    }\n",
       "\n",
       "    .dataframe tbody tr th {\n",
       "        vertical-align: top;\n",
       "    }\n",
       "\n",
       "    .dataframe thead th {\n",
       "        text-align: right;\n",
       "    }\n",
       "</style>\n",
       "<table border=\"1\" class=\"dataframe\">\n",
       "  <thead>\n",
       "    <tr style=\"text-align: right;\">\n",
       "      <th></th>\n",
       "      <th>num_logs</th>\n",
       "      <th>num_events</th>\n",
       "      <th>all_events</th>\n",
       "      <th>attributes</th>\n",
       "      <th>fine_log_cluster_template</th>\n",
       "      <th>coarse_log_cluster_template</th>\n",
       "    </tr>\n",
       "  </thead>\n",
       "  <tbody>\n",
       "    <tr>\n",
       "      <th>0</th>\n",
       "      <td>182</td>\n",
       "      <td>182</td>\n",
       "      <td>[[fine_log_cluster_template#25 nov 2019 15 * * 0100 get resource providers * * http 11 200 * * novacompute keystoneauth1 3131 pythonrequests 2210 cpython 2715, programname#placement-api-access, , url_cluster_template#resource providers 45bac5db-7b40-4922-ae54-fe747131258d allocations, http_method#get, , Hostname#wally113, coarse_log_cluster_template#25 nov 2019 15 * * 0100 get resource providers * * http 11 200 * * novacompute keystoneauth1 3131 pythonrequests 2210 cpython 2715, http_status#...</td>\n",
       "      <td>[[programname#placement-api-access, , url_cluster_template#resource providers 45bac5db-7b40-4922-ae54-fe747131258d allocations, http_method#get, , Hostname#wally113, http_status#200.0], [programname#keystone-apache-public-access, , , http_method#get, , Hostname#wally113, http_status#300.0], [programname#keystone-apache-public-access, , url_cluster_template#v3 auth tokens, http_method#post, , Hostname#wally113, http_status#201.0], [programname#keystone-apache-public-access, , url_cluster_temp...</td>\n",
       "      <td>[[fine_log_cluster_template#25 nov 2019 15 * * 0100 get resource providers * * http 11 200 * * novacompute keystoneauth1 3131 pythonrequests 2210 cpython 2715], [fine_log_cluster_template#25 nov 2019 15 * * 0100 get http 11 300 270 * rally keystoneauth1 3110 pythonrequests 2210 cpython 2712], [fine_log_cluster_template#25 nov 2019 15 * * 0100 post v3 auth tokens http 11 201 * * rally keystoneauth1 3110 pythonrequests 2210 cpython 2712], [fine_log_cluster_template#25 nov 2019 15 * * 0100 post...</td>\n",
       "      <td>[[coarse_log_cluster_template#25 nov 2019 15 * * 0100 get resource providers * * http 11 200 * * novacompute keystoneauth1 3131 pythonrequests 2210 cpython 2715], [coarse_log_cluster_template#25 nov 2019 15 * * 0100 * * * * * * * * * * * * *], [coarse_log_cluster_template#25 nov 2019 15 * * 0100 post v3 auth tokens http 11 201 * * rally keystoneauth1 3110 pythonrequests 2210 cpython 2712], [coarse_log_cluster_template#25 nov 2019 15 * * 0100 post v3 auth tokens http 11 201 * * rally keystone...</td>\n",
       "    </tr>\n",
       "  </tbody>\n",
       "</table>\n",
       "</div>"
      ],
      "text/plain": [
       "   num_logs  num_events  \\\n",
       "0       182         182   \n",
       "\n",
       "                                                                                                                                                                                                                                                                                                                                                                                                                                                                                                            all_events  \\\n",
       "0  [[fine_log_cluster_template#25 nov 2019 15 * * 0100 get resource providers * * http 11 200 * * novacompute keystoneauth1 3131 pythonrequests 2210 cpython 2715, programname#placement-api-access, , url_cluster_template#resource providers 45bac5db-7b40-4922-ae54-fe747131258d allocations, http_method#get, , Hostname#wally113, coarse_log_cluster_template#25 nov 2019 15 * * 0100 get resource providers * * http 11 200 * * novacompute keystoneauth1 3131 pythonrequests 2210 cpython 2715, http_status#...   \n",
       "\n",
       "                                                                                                                                                                                                                                                                                                                                                                                                                                                                                                            attributes  \\\n",
       "0  [[programname#placement-api-access, , url_cluster_template#resource providers 45bac5db-7b40-4922-ae54-fe747131258d allocations, http_method#get, , Hostname#wally113, http_status#200.0], [programname#keystone-apache-public-access, , , http_method#get, , Hostname#wally113, http_status#300.0], [programname#keystone-apache-public-access, , url_cluster_template#v3 auth tokens, http_method#post, , Hostname#wally113, http_status#201.0], [programname#keystone-apache-public-access, , url_cluster_temp...   \n",
       "\n",
       "                                                                                                                                                                                                                                                                                                                                                                                                                                                                                             fine_log_cluster_template  \\\n",
       "0  [[fine_log_cluster_template#25 nov 2019 15 * * 0100 get resource providers * * http 11 200 * * novacompute keystoneauth1 3131 pythonrequests 2210 cpython 2715], [fine_log_cluster_template#25 nov 2019 15 * * 0100 get http 11 300 270 * rally keystoneauth1 3110 pythonrequests 2210 cpython 2712], [fine_log_cluster_template#25 nov 2019 15 * * 0100 post v3 auth tokens http 11 201 * * rally keystoneauth1 3110 pythonrequests 2210 cpython 2712], [fine_log_cluster_template#25 nov 2019 15 * * 0100 post...   \n",
       "\n",
       "                                                                                                                                                                                                                                                                                                                                                                                                                                                                                           coarse_log_cluster_template  \n",
       "0  [[coarse_log_cluster_template#25 nov 2019 15 * * 0100 get resource providers * * http 11 200 * * novacompute keystoneauth1 3131 pythonrequests 2210 cpython 2715], [coarse_log_cluster_template#25 nov 2019 15 * * 0100 * * * * * * * * * * * * *], [coarse_log_cluster_template#25 nov 2019 15 * * 0100 post v3 auth tokens http 11 201 * * rally keystoneauth1 3110 pythonrequests 2210 cpython 2712], [coarse_log_cluster_template#25 nov 2019 15 * * 0100 post v3 auth tokens http 11 201 * * rally keystone...  "
      ]
     },
     "execution_count": 3,
     "metadata": {},
     "output_type": "execute_result"
    }
   ],
   "source": [
    "df"
   ]
  },
  {
   "cell_type": "code",
   "execution_count": null,
   "id": "90bc6a7c",
   "metadata": {},
   "outputs": [],
   "source": []
  }
 ],
 "metadata": {
  "kernelspec": {
   "display_name": "lena",
   "language": "python",
   "name": "lena"
  },
  "language_info": {
   "codemirror_mode": {
    "name": "ipython",
    "version": 3
   },
   "file_extension": ".py",
   "mimetype": "text/x-python",
   "name": "python",
   "nbconvert_exporter": "python",
   "pygments_lexer": "ipython3",
   "version": "3.9.15"
  }
 },
 "nbformat": 4,
 "nbformat_minor": 5
}
