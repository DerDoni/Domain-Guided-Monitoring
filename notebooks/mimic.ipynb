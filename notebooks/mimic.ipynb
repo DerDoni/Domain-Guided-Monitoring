{
 "metadata": {
  "language_info": {
   "codemirror_mode": {
    "name": "ipython",
    "version": 3
   },
   "file_extension": ".py",
   "mimetype": "text/x-python",
   "name": "python",
   "nbconvert_exporter": "python",
   "pygments_lexer": "ipython3",
   "version": "3.8.8"
  },
  "orig_nbformat": 2,
  "kernelspec": {
   "name": "python388jvsc74a57bd09d90ef2e2544a65949a5382aa665e8a895142ccb15d506742792c571feba52d3",
   "display_name": "Python 3.8.8 64-bit (conda)"
  }
 },
 "nbformat": 4,
 "nbformat_minor": 2,
 "cells": [
  {
   "cell_type": "code",
   "execution_count": null,
   "metadata": {},
   "outputs": [],
   "source": [
    "import pandas as pd\n",
    "import numpy as np\n",
    "from pathlib import Path\n",
    "from sklearn.model_selection import train_test_split\n",
    "import tensorflow as tf"
   ]
  },
  {
   "cell_type": "code",
   "execution_count": null,
   "metadata": {},
   "outputs": [],
   "source": [
    "def convert_to_icd9(dxStr):\n",
    "    if dxStr.startswith('E'):\n",
    "        if len(dxStr) > 4: return dxStr[:4] + '.' + dxStr[4:]\n",
    "        else: return dxStr\n",
    "    else:\n",
    "        if len(dxStr) > 3: return dxStr[:3] + '.' + dxStr[3:]\n",
    "        else: return dxStr\n",
    "    \n",
    "def convert_to_3digit_icd9(dxStr):\n",
    "    if dxStr.startswith('E'):\n",
    "        if len(dxStr) > 4: return dxStr[:4]\n",
    "        else: return dxStr\n",
    "    else:\n",
    "        if len(dxStr) > 3: return dxStr[:3]\n",
    "        else: return dxStr"
   ]
  },
  {
   "cell_type": "code",
   "execution_count": null,
   "metadata": {},
   "outputs": [],
   "source": [
    "admission_file = Path('../data/ADMISSIONS.csv')\n",
    "diagnosis_file = Path('../data/DIAGNOSES_ICD.csv')"
   ]
  },
  {
   "cell_type": "code",
   "execution_count": null,
   "metadata": {},
   "outputs": [],
   "source": [
    "admissions_df = pd.read_csv(admission_file)\n",
    "admissions_df['admittime']= pd.to_datetime(admissions_df['admittime'])\n",
    "admissions_df['dischtime']= pd.to_datetime(admissions_df['dischtime'])\n",
    "admissions_df['deathtime']= pd.to_datetime(admissions_df['deathtime'])\n",
    "admissions_df['edregtime']= pd.to_datetime(admissions_df['edregtime'])\n",
    "admissions_df['edouttime']= pd.to_datetime(admissions_df['edouttime'])\n",
    "admissions_df.head()"
   ]
  },
  {
   "cell_type": "code",
   "execution_count": null,
   "metadata": {},
   "outputs": [],
   "source": [
    "diagnosis_df = pd.read_csv(diagnosis_file)\n",
    "diagnosis_df['icd9_code_converted'] = diagnosis_df['icd9_code'].apply(convert_to_icd9)\n",
    "diagnosis_df['icd9_code_converted_3digits'] = diagnosis_df['icd9_code'].apply(convert_to_3digit_icd9)\n",
    "diagnosis_df.head()"
   ]
  },
  {
   "cell_type": "code",
   "execution_count": null,
   "metadata": {},
   "outputs": [],
   "source": [
    "codes_per_admission = diagnosis_df.groupby('hadm_id').agg({\n",
    "    'icd9_code': lambda x: list(x),\n",
    "    'icd9_code_converted': lambda x: list(x),\n",
    "    'icd9_code_converted_3digits': lambda x: list(x),\n",
    "})\n",
    "combined_df = pd.merge(admissions_df, codes_per_admission, on=['hadm_id'])\n",
    "admissions_per_subject = combined_df.groupby('subject_id').agg({\n",
    "    'hadm_id': lambda x: list(x),\n",
    "    'admittime': lambda x: list(x),\n",
    "    'diagnosis': lambda x: list(x),\n",
    "    'icd9_code': lambda x: list(x),\n",
    "    'icd9_code_converted': lambda x: list(x),\n",
    "    'icd9_code_converted_3digits': lambda x: list(x),\n",
    "})\n",
    "admissions_per_subject['num_admissions'] = admissions_per_subject['hadm_id'].apply(len)\n",
    "admissions_per_subject.head()"
   ]
  },
  {
   "cell_type": "code",
   "execution_count": null,
   "metadata": {},
   "outputs": [],
   "source": [
    "relevant_data = admissions_per_subject[admissions_per_subject['num_admissions'] >= 2]\n",
    "relevant_data"
   ]
  },
  {
   "cell_type": "code",
   "execution_count": null,
   "metadata": {},
   "outputs": [],
   "source": [
    "all_symptoms = list(set([item for sublist in relevant_data['icd9_code_converted_3digits'].agg(lambda x: [item for sublist in x for item in sublist]).tolist() for item in sublist]))\n",
    "vocab = {}\n",
    "index = 0\n",
    "for symptom in all_symptoms:\n",
    "    vocab[symptom] = index\n",
    "    index = index+1\n",
    "\n",
    "len(vocab)"
   ]
  },
  {
   "cell_type": "code",
   "execution_count": null,
   "metadata": {},
   "outputs": [],
   "source": [
    "max_sequence_length = relevant_data['icd9_code_converted_3digits'].apply(len).max()\n",
    "max_symptoms_per_sequence = relevant_data['icd9_code_converted_3digits'].apply(lambda x: sum([len(y) for y in x])).max()"
   ]
  }
 ]
}