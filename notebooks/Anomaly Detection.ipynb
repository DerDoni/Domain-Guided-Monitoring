{
 "cells": [
  {
   "cell_type": "code",
   "execution_count": 1,
   "metadata": {
    "ExecuteTime": {
     "end_time": "2023-04-26T12:10:12.393787Z",
     "start_time": "2023-04-26T12:10:10.599194Z"
    },
    "collapsed": true
   },
   "outputs": [
    {
     "name": "stderr",
     "output_type": "stream",
     "text": [
      "2023-04-26 10:10:10.680322: I tensorflow/core/platform/cpu_feature_guard.cc:193] This TensorFlow binary is optimized with oneAPI Deep Neural Network Library (oneDNN) to use the following CPU instructions in performance-critical operations:  AVX2 FMA\n",
      "To enable them in other operations, rebuild TensorFlow with the appropriate compiler flags.\n",
      "2023-04-26 10:10:11.178412: W tensorflow/compiler/xla/stream_executor/platform/default/dso_loader.cc:64] Could not load dynamic library 'libnvinfer.so.7'; dlerror: libnvinfer.so.7: cannot open shared object file: No such file or directory; LD_LIBRARY_PATH: /usr/local/cuda/lib64:$LD_LIBRARY_PATH\n",
      "2023-04-26 10:10:11.178470: W tensorflow/compiler/xla/stream_executor/platform/default/dso_loader.cc:64] Could not load dynamic library 'libnvinfer_plugin.so.7'; dlerror: libnvinfer_plugin.so.7: cannot open shared object file: No such file or directory; LD_LIBRARY_PATH: /usr/local/cuda/lib64:$LD_LIBRARY_PATH\n",
      "2023-04-26 10:10:11.178474: W tensorflow/compiler/tf2tensorrt/utils/py_utils.cc:38] TF-TRT Warning: Cannot dlopen some TensorRT libraries. If you would like to use Nvidia GPU with TensorRT, please make sure the missing libraries mentioned above are installed properly.\n"
     ]
    }
   ],
   "source": [
    "import seaborn as sns\n",
    "import matplotlib.pyplot as plt\n",
    "import pandas as pd\n",
    "import numpy as np\n",
    "import sys\n",
    "import os\n",
    "\n",
    "module_path = os.path.abspath(os.path.join('..'))\n",
    "if module_path not in sys.path:\n",
    "    sys.path.append(module_path)\n",
    "\n",
    "from src.features import preprocessing"
   ]
  },
  {
   "cell_type": "code",
   "execution_count": 2,
   "metadata": {
    "ExecuteTime": {
     "end_time": "2023-04-26T12:10:13.202749Z",
     "start_time": "2023-04-26T12:10:13.198329Z"
    },
    "collapsed": false
   },
   "outputs": [],
   "source": [
    "# Bypass issues with invoking notebook with server arguments\n",
    "sys.argv.clear()\n",
    "sys.argv.append(\"\")"
   ]
  },
  {
   "cell_type": "code",
   "execution_count": 3,
   "metadata": {
    "ExecuteTime": {
     "end_time": "2023-04-26T12:10:18.476525Z",
     "start_time": "2023-04-26T12:10:18.196589Z"
    },
    "collapsed": false
   },
   "outputs": [],
   "source": [
    "%run utils/attention_graph.py\n",
    "%run utils/mlflow_query.py\n",
    "%run utils/loading.py\n",
    "%run utils/comparison.py\n",
    "%run utils/ranks.py"
   ]
  },
  {
   "cell_type": "code",
   "execution_count": 9,
   "metadata": {
    "ExecuteTime": {
     "end_time": "2023-04-26T12:30:06.760715Z",
     "start_time": "2023-04-26T12:30:06.719315Z"
    },
    "collapsed": false
   },
   "outputs": [],
   "source": [
    "df = pd.read_pickle(\"../data/bgl.pkl\")"
   ]
  },
  {
   "cell_type": "code",
   "execution_count": 36,
   "metadata": {
    "ExecuteTime": {
     "end_time": "2023-04-26T13:05:15.848676Z",
     "start_time": "2023-04-26T13:05:15.810025Z"
    },
    "collapsed": false
   },
   "outputs": [
    {
     "data": {
      "text/plain": [
       "99"
      ]
     },
     "execution_count": 36,
     "metadata": {},
     "output_type": "execute_result"
    }
   ],
   "source": [
    "df[\"fine_log_cluster_template\"][0]"
   ]
  },
  {
   "cell_type": "code",
   "execution_count": 37,
   "metadata": {
    "ExecuteTime": {
     "end_time": "2023-04-26T13:05:21.171475Z",
     "start_time": "2023-04-26T13:05:21.131159Z"
    },
    "collapsed": false
   },
   "outputs": [
    {
     "data": {
      "text/plain": [
       "[['Label#0'],\n",
       " ['Label#0'],\n",
       " ['Label#0'],\n",
       " ['Label#0'],\n",
       " ['Label#0'],\n",
       " ['Label#0'],\n",
       " ['Label#0'],\n",
       " ['Label#0'],\n",
       " ['Label#1'],\n",
       " ['Label#1'],\n",
       " ['Label#0'],\n",
       " ['Label#0'],\n",
       " ['Label#0'],\n",
       " ['Label#0'],\n",
       " ['Label#0'],\n",
       " ['Label#0'],\n",
       " ['Label#0'],\n",
       " ['Label#0'],\n",
       " ['Label#0'],\n",
       " ['Label#0'],\n",
       " ['Label#0'],\n",
       " ['Label#0'],\n",
       " ['Label#0'],\n",
       " ['Label#0'],\n",
       " ['Label#0'],\n",
       " ['Label#0'],\n",
       " ['Label#0'],\n",
       " ['Label#0'],\n",
       " ['Label#0'],\n",
       " ['Label#0'],\n",
       " ['Label#0'],\n",
       " ['Label#0'],\n",
       " ['Label#0'],\n",
       " ['Label#0'],\n",
       " ['Label#0'],\n",
       " ['Label#0'],\n",
       " ['Label#0'],\n",
       " ['Label#0'],\n",
       " ['Label#0'],\n",
       " ['Label#0'],\n",
       " ['Label#0'],\n",
       " ['Label#0'],\n",
       " ['Label#0'],\n",
       " ['Label#0'],\n",
       " ['Label#0'],\n",
       " ['Label#0'],\n",
       " ['Label#0'],\n",
       " ['Label#0'],\n",
       " ['Label#0'],\n",
       " ['Label#0'],\n",
       " ['Label#0'],\n",
       " ['Label#0'],\n",
       " ['Label#0'],\n",
       " ['Label#0'],\n",
       " ['Label#0'],\n",
       " ['Label#0'],\n",
       " ['Label#0'],\n",
       " ['Label#0'],\n",
       " ['Label#0'],\n",
       " ['Label#0'],\n",
       " ['Label#0'],\n",
       " ['Label#0'],\n",
       " ['Label#0'],\n",
       " ['Label#0'],\n",
       " ['Label#0'],\n",
       " ['Label#0'],\n",
       " ['Label#0'],\n",
       " ['Label#0'],\n",
       " ['Label#0'],\n",
       " ['Label#0'],\n",
       " ['Label#0'],\n",
       " ['Label#0'],\n",
       " ['Label#0'],\n",
       " ['Label#0'],\n",
       " ['Label#0'],\n",
       " ['Label#0'],\n",
       " ['Label#0'],\n",
       " ['Label#0'],\n",
       " ['Label#0'],\n",
       " ['Label#0'],\n",
       " ['Label#0'],\n",
       " ['Label#0'],\n",
       " ['Label#0'],\n",
       " ['Label#0'],\n",
       " ['Label#0'],\n",
       " ['Label#0'],\n",
       " ['Label#0'],\n",
       " ['Label#0'],\n",
       " ['Label#0'],\n",
       " ['Label#0'],\n",
       " ['Label#0'],\n",
       " ['Label#0'],\n",
       " ['Label#0'],\n",
       " ['Label#0'],\n",
       " ['Label#0'],\n",
       " ['Label#0'],\n",
       " ['Label#0'],\n",
       " ['Label#0'],\n",
       " ['Label#0']]"
      ]
     },
     "execution_count": 37,
     "metadata": {},
     "output_type": "execute_result"
    }
   ],
   "source": [
    "df[\"Label\"][0]"
   ]
  },
  {
   "cell_type": "code",
   "execution_count": 24,
   "metadata": {
    "ExecuteTime": {
     "end_time": "2023-04-26T12:37:27.854368Z",
     "start_time": "2023-04-26T12:37:27.850067Z"
    },
    "collapsed": false
   },
   "outputs": [
    {
     "name": "stdout",
     "output_type": "stream",
     "text": [
      "<class 'pandas.core.frame.DataFrame'>\n",
      "RangeIndex: 1 entries, 0 to 0\n",
      "Data columns (total 9 columns):\n",
      " #   Column                       Non-Null Count  Dtype \n",
      "---  ------                       --------------  ----- \n",
      " 0   num_logs                     1 non-null      int64 \n",
      " 1   num_events                   1 non-null      int64 \n",
      " 2   all_events                   1 non-null      object\n",
      " 3   attributes                   1 non-null      object\n",
      " 4   templates                    1 non-null      object\n",
      " 5   Label                        1 non-null      object\n",
      " 6   coarse_log_cluster_template  1 non-null      object\n",
      " 7   medium_log_cluster_template  1 non-null      object\n",
      " 8   fine_log_cluster_template    1 non-null      object\n",
      "dtypes: int64(2), object(7)\n",
      "memory usage: 200.0+ bytes\n"
     ]
    }
   ],
   "source": [
    "df.info()"
   ]
  },
  {
   "cell_type": "code",
   "execution_count": 39,
   "metadata": {
    "ExecuteTime": {
     "end_time": "2023-04-27T20:05:11.723184Z",
     "start_time": "2023-04-27T20:05:11.681045Z"
    },
    "collapsed": false
   },
   "outputs": [],
   "source": [
    "sequences = pd.read_pickle(\"../data/sequences_df.pkl\")"
   ]
  },
  {
   "cell_type": "code",
   "execution_count": 40,
   "metadata": {
    "ExecuteTime": {
     "end_time": "2023-04-27T20:05:15.790221Z",
     "start_time": "2023-04-27T20:05:15.651566Z"
    },
    "collapsed": false
   },
   "outputs": [
    {
     "data": {
      "text/html": [
       "<div>\n",
       "<style scoped>\n",
       "    .dataframe tbody tr th:only-of-type {\n",
       "        vertical-align: middle;\n",
       "    }\n",
       "\n",
       "    .dataframe tbody tr th {\n",
       "        vertical-align: top;\n",
       "    }\n",
       "\n",
       "    .dataframe thead th {\n",
       "        text-align: right;\n",
       "    }\n",
       "</style>\n",
       "<table border=\"1\" class=\"dataframe\">\n",
       "  <thead>\n",
       "    <tr style=\"text-align: right;\">\n",
       "      <th></th>\n",
       "      <th>num_logs</th>\n",
       "      <th>num_events</th>\n",
       "      <th>all_events</th>\n",
       "      <th>attributes</th>\n",
       "      <th>templates</th>\n",
       "      <th>Label</th>\n",
       "      <th>medium_log_cluster_template</th>\n",
       "      <th>fine_log_cluster_template</th>\n",
       "      <th>coarse_log_cluster_template</th>\n",
       "    </tr>\n",
       "  </thead>\n",
       "  <tbody>\n",
       "    <tr>\n",
       "      <th>0</th>\n",
       "      <td>99</td>\n",
       "      <td>99</td>\n",
       "      <td>[[Component2#kernel, medium_log_cluster_templa...</td>\n",
       "      <td>[[Component2#kernel, Label#0, Component1#ras, ...</td>\n",
       "      <td>[[medium_log_cluster_template#instruction cach...</td>\n",
       "      <td>[[Label#0], [Label#0], [Label#0], [Label#0], [...</td>\n",
       "      <td>[[medium_log_cluster_template#instruction cach...</td>\n",
       "      <td>[[fine_log_cluster_template#instruction cache ...</td>\n",
       "      <td>[[coarse_log_cluster_template#instruction cach...</td>\n",
       "    </tr>\n",
       "  </tbody>\n",
       "</table>\n",
       "</div>"
      ],
      "text/plain": [
       "   num_logs  num_events                                         all_events  \\\n",
       "0        99          99  [[Component2#kernel, medium_log_cluster_templa...   \n",
       "\n",
       "                                          attributes  \\\n",
       "0  [[Component2#kernel, Label#0, Component1#ras, ...   \n",
       "\n",
       "                                           templates  \\\n",
       "0  [[medium_log_cluster_template#instruction cach...   \n",
       "\n",
       "                                               Label  \\\n",
       "0  [[Label#0], [Label#0], [Label#0], [Label#0], [...   \n",
       "\n",
       "                         medium_log_cluster_template  \\\n",
       "0  [[medium_log_cluster_template#instruction cach...   \n",
       "\n",
       "                           fine_log_cluster_template  \\\n",
       "0  [[fine_log_cluster_template#instruction cache ...   \n",
       "\n",
       "                         coarse_log_cluster_template  \n",
       "0  [[coarse_log_cluster_template#instruction cach...  "
      ]
     },
     "execution_count": 40,
     "metadata": {},
     "output_type": "execute_result"
    }
   ],
   "source": [
    "sequences.head()"
   ]
  },
  {
   "cell_type": "code",
   "execution_count": null,
   "metadata": {
    "collapsed": false
   },
   "outputs": [],
   "source": []
  }
 ],
 "metadata": {
  "kernelspec": {
   "display_name": "Python 3",
   "language": "python",
   "name": "python3"
  },
  "language_info": {
   "codemirror_mode": {
    "name": "ipython",
    "version": 2
   },
   "file_extension": ".py",
   "mimetype": "text/x-python",
   "name": "python",
   "nbconvert_exporter": "python",
   "pygments_lexer": "ipython2",
   "version": "2.7.6"
  }
 },
 "nbformat": 4,
 "nbformat_minor": 0
}
