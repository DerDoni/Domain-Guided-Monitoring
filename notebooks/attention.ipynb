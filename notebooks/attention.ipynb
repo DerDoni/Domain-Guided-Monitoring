{
 "metadata": {
  "language_info": {
   "codemirror_mode": {
    "name": "ipython",
    "version": 3
   },
   "file_extension": ".py",
   "mimetype": "text/x-python",
   "name": "python",
   "nbconvert_exporter": "python",
   "pygments_lexer": "ipython3",
   "version": "3.8.8"
  },
  "orig_nbformat": 2,
  "kernelspec": {
   "name": "python3",
   "display_name": "Python 3.8.8 64-bit (conda)"
  },
  "interpreter": {
   "hash": "9d90ef2e2544a65949a5382aa665e8a895142ccb15d506742792c571feba52d3"
  }
 },
 "nbformat": 4,
 "nbformat_minor": 2,
 "cells": [
  {
   "cell_type": "code",
   "execution_count": null,
   "source": [
    "%run utils/attention_graph.py\r\n",
    "%run utils/mlflow_query.py"
   ],
   "outputs": [],
   "metadata": {}
  },
  {
   "cell_type": "code",
   "execution_count": null,
   "source": [
    "mlflow_helper = MlflowHelper()\r\n",
    "mlflow_helper.query_runs(query_metrics=False)"
   ],
   "outputs": [],
   "metadata": {}
  },
  {
   "cell_type": "code",
   "execution_count": null,
   "source": [
    "relevant_mimic_run_df = mlflow_helper.mimic_run_df(include_noise=True, include_refinements=False)\r\n",
    "mimic_gram_false_00_run_id = relevant_mimic_run_df[\r\n",
    "        (relevant_mimic_run_df['data_tags_noise_type'].fillna('').apply(len) == 0) &   \r\n",
    "        (relevant_mimic_run_df['data_tags_model_type'] == 'gram') &\r\n",
    "        (relevant_mimic_run_df['data_params_ModelConfigbase_hidden_embeddings_trainable'] == 'False')\r\n",
    "].iloc[0].get('info_run_id')\r\n",
    "mimic_gram_false_10_run_id = relevant_mimic_run_df[\r\n",
    "        (relevant_mimic_run_df['data_tags_noise_type'].fillna('') == 'added0.1_removed0.0_threshold0.0') &   \r\n",
    "        (relevant_mimic_run_df['data_tags_model_type'] == 'gram') &\r\n",
    "        (relevant_mimic_run_df['data_params_ModelConfigbase_hidden_embeddings_trainable'] == 'False')\r\n",
    "].iloc[0].get('info_run_id')\r\n",
    "mimic_text_false_00_run_id = relevant_mimic_run_df[\r\n",
    "        (relevant_mimic_run_df['data_tags_noise_type'].fillna('').apply(len) == 0) &\r\n",
    "        (relevant_mimic_run_df['data_tags_model_type'] == 'text') &\r\n",
    "        (relevant_mimic_run_df['data_params_ModelConfigbase_hidden_embeddings_trainable'] == 'False')\r\n",
    "].iloc[0].get('info_run_id')\r\n",
    "mimic_text_false_10_run_id = relevant_mimic_run_df[\r\n",
    "        (relevant_mimic_run_df['data_tags_noise_type'].fillna('') == 'added0.1_removed0.0_threshold0.0') &  \r\n",
    "        (relevant_mimic_run_df['data_tags_model_type'] == 'text') &\r\n",
    "        (relevant_mimic_run_df['data_params_ModelConfigbase_hidden_embeddings_trainable'] == 'False')\r\n",
    "].iloc[0].get('info_run_id')\r\n",
    "mimic_causal_false_00_run_id = relevant_mimic_run_df[\r\n",
    "        (relevant_mimic_run_df['data_tags_noise_type'].fillna('').apply(len) == 0) &\r\n",
    "        (relevant_mimic_run_df['data_tags_model_type'] == 'causal') &\r\n",
    "        (relevant_mimic_run_df['data_params_ModelConfigbase_hidden_embeddings_trainable'] == 'False')\r\n",
    "].iloc[0].get('info_run_id')\r\n",
    "mimic_causal_false_10_run_id = relevant_mimic_run_df[\r\n",
    "        (relevant_mimic_run_df['data_tags_noise_type'].fillna('') == 'added0.1_removed0.0_threshold0.0') & \r\n",
    "        (relevant_mimic_run_df['data_tags_model_type'] == 'causal') &\r\n",
    "        (relevant_mimic_run_df['data_params_ModelConfigbase_hidden_embeddings_trainable'] == 'False')\r\n",
    "].iloc[0].get('info_run_id')\r\n",
    "print('Gram', mimic_gram_false_00_run_id, 'Text', mimic_text_false_00_run_id, 'Causal', mimic_causal_false_00_run_id)\r\n",
    "print('NOISE 10%: Gram', mimic_gram_false_10_run_id, 'Text', mimic_text_false_10_run_id, 'Causal', mimic_causal_false_10_run_id)"
   ],
   "outputs": [],
   "metadata": {}
  },
  {
   "cell_type": "code",
   "execution_count": null,
   "source": [
    "feature_node_mapping = create_graph_visualization(\r\n",
    "    run_id=mimic_gram_false_00_run_id, \r\n",
    "    local_mlflow_dir=mlflow_helper.local_mlflow_dir,\r\n",
    "    threshold=0.2, \r\n",
    "    run_name='mimic_gram_false_00', \r\n",
    "    use_node_mapping=False)"
   ],
   "outputs": [],
   "metadata": {}
  },
  {
   "cell_type": "code",
   "execution_count": null,
   "source": [
    "colored_connections, feature_node_mapping = create_graph_visualization_reference(\r\n",
    "    run_id=mimic_gram_false_10_run_id, \r\n",
    "    reference_run_id=mimic_gram_false_00_run_id, \r\n",
    "    local_mlflow_dir=mlflow_helper.local_mlflow_dir,\r\n",
    "    threshold=0.2, \r\n",
    "    run_name='mimic_gram_false_00', \r\n",
    "    use_node_mapping=False)"
   ],
   "outputs": [],
   "metadata": {}
  }
 ]
}