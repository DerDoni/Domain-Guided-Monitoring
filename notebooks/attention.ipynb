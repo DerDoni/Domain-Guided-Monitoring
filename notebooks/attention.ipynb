{
 "metadata": {
  "language_info": {
   "codemirror_mode": {
    "name": "ipython",
    "version": 3
   },
   "file_extension": ".py",
   "mimetype": "text/x-python",
   "name": "python",
   "nbconvert_exporter": "python",
   "pygments_lexer": "ipython3",
   "version": "3.8.8"
  },
  "orig_nbformat": 2,
  "kernelspec": {
   "name": "python388jvsc74a57bd09d90ef2e2544a65949a5382aa665e8a895142ccb15d506742792c571feba52d3",
   "display_name": "Python 3.8.8 64-bit (conda)"
  }
 },
 "nbformat": 4,
 "nbformat_minor": 2,
 "cells": [
  {
   "cell_type": "code",
   "execution_count": null,
   "metadata": {},
   "outputs": [],
   "source": [
    "import json\n",
    "import pyvis\n",
    "from pyvis.network import Network"
   ]
  },
  {
   "cell_type": "code",
   "execution_count": null,
   "metadata": {},
   "outputs": [],
   "source": [
    "with open('../plots/gram/attention.json') as attention_file:\n",
    "    attention_weights = json.load(attention_file)\n",
    "\n",
    "attention_weights = attention_weights['attention_weights']\n",
    "attention_weights['warning']"
   ]
  },
  {
   "cell_type": "code",
   "execution_count": null,
   "metadata": {
    "tags": []
   },
   "outputs": [],
   "source": [
    "threshold = 0.1\n",
    "net = Network(height='100%', width='100%')\n",
    "all_nodes = list(attention_weights.keys())\n",
    "all_nodes = all_nodes + [str(x) for y in attention_weights.values() for x in y.keys()]\n",
    "all_nodes = [('#' + x) if x.isdigit() else x for x in all_nodes ]\n",
    "all_nodes = list(set(all_nodes))\n",
    "net.add_nodes(all_nodes)\n",
    "\n",
    "for from_node, attention in attention_weights.items():\n",
    "    from_node_id = '#' + str(from_node) if str(from_node).isdigit() else str(from_node)\n",
    "    for to_node, weight in attention.items():\n",
    "        to_node_id = '#' + str(to_node) if str(to_node).isdigit() else str(to_node)\n",
    "        if float(weight) > threshold:\n",
    "            net.add_edge(source=from_node_id, to=to_node_id, title=float(weight), value=weight, arrowStrikethrough=False)\n",
    "#net.toggle_stabilization(False)\n",
    "net.show('example.html')"
   ]
  },
  {
   "cell_type": "code",
   "execution_count": null,
   "metadata": {},
   "outputs": [],
   "source": [
    "all_nodes"
   ]
  }
 ]
}