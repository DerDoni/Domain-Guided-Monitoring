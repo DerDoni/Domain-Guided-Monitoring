{
 "cells": [
  {
   "cell_type": "code",
   "execution_count": 17,
   "id": "1cfc4b94",
   "metadata": {},
   "outputs": [],
   "source": [
    "import seaborn as sns\n",
    "import matplotlib.pyplot as plt\n",
    "import pandas as pd\n",
    "import numpy as np\n",
    "import sys\n",
    "import os\n",
    "\n",
    "module_path = os.path.abspath(os.path.join('..'))\n",
    "if module_path not in sys.path:\n",
    "    sys.path.append(module_path)\n",
    "\n",
    "from src.features import preprocessing"
   ]
  },
  {
   "cell_type": "code",
   "execution_count": 26,
   "id": "2e3dd2f9",
   "metadata": {
    "collapsed": false
   },
   "outputs": [],
   "source": [
    "# Bypass issues with invoking notebook with server arguments\n",
    "sys.argv.clear()\n",
    "sys.argv.append(\"\")"
   ]
  },
  {
   "cell_type": "code",
   "execution_count": 18,
   "id": "a4b242b1",
   "metadata": {},
   "outputs": [],
   "source": [
    "%run utils/attention_graph.py\n",
    "%run utils/mlflow_query.py\n",
    "%run utils/loading.py\n",
    "%run utils/comparison.py\n",
    "%run utils/ranks.py"
   ]
  },
  {
   "cell_type": "code",
   "execution_count": 19,
   "id": "c614ce04",
   "metadata": {},
   "outputs": [
    {
     "name": "stdout",
     "output_type": "stream",
     "text": [
      "Initialized with 86 MLFlow runs from pkl\n"
     ]
    }
   ],
   "source": [
    "mlflow_helper = MlflowHelper(pkl_file=Path(\"mlflow_run_df.pkl\"))\n",
    "#mlflow_helper.query_runs(pkl_file=Path(\"mlflow_run_df.pkl\"))"
   ]
  },
  {
   "cell_type": "code",
   "execution_count": 20,
   "id": "c4ad55fb",
   "metadata": {},
   "outputs": [
    {
     "data": {
      "text/html": [
       "<div>\n",
       "<style scoped>\n",
       "    .dataframe tbody tr th:only-of-type {\n",
       "        vertical-align: middle;\n",
       "    }\n",
       "\n",
       "    .dataframe tbody tr th {\n",
       "        vertical-align: top;\n",
       "    }\n",
       "\n",
       "    .dataframe thead th {\n",
       "        text-align: right;\n",
       "    }\n",
       "</style>\n",
       "<table border=\"1\" class=\"dataframe\">\n",
       "  <thead>\n",
       "    <tr style=\"text-align: right;\">\n",
       "      <th></th>\n",
       "      <th>num_logs</th>\n",
       "      <th>num_events</th>\n",
       "      <th>all_events</th>\n",
       "      <th>attributes</th>\n",
       "      <th>fine_log_cluster_template</th>\n",
       "      <th>coarse_log_cluster_template</th>\n",
       "    </tr>\n",
       "  </thead>\n",
       "  <tbody>\n",
       "    <tr>\n",
       "      <th>0</th>\n",
       "      <td>169230</td>\n",
       "      <td>169230</td>\n",
       "      <td>[[http_status#200.0, , fine_log_cluster_templa...</td>\n",
       "      <td>[[http_status#200.0, , , Hostname#wally113, pr...</td>\n",
       "      <td>[[fine_log_cluster_template#25 nov 2019 15 * *...</td>\n",
       "      <td>[[coarse_log_cluster_template#25 nov 2019 * * ...</td>\n",
       "    </tr>\n",
       "  </tbody>\n",
       "</table>\n",
       "</div>"
      ],
      "text/plain": [
       "   num_logs  num_events                                         all_events  \\\n",
       "0    169230      169230  [[http_status#200.0, , fine_log_cluster_templa...   \n",
       "\n",
       "                                          attributes  \\\n",
       "0  [[http_status#200.0, , , Hostname#wally113, pr...   \n",
       "\n",
       "                           fine_log_cluster_template  \\\n",
       "0  [[fine_log_cluster_template#25 nov 2019 15 * *...   \n",
       "\n",
       "                         coarse_log_cluster_template  \n",
       "0  [[coarse_log_cluster_template#25 nov 2019 * * ...  "
      ]
     },
     "execution_count": 20,
     "metadata": {},
     "output_type": "execute_result"
    }
   ],
   "source": [
    "sequences = pd.read_pickle(\"../data/sequences_df.pkl\")\n",
    "sequences"
   ]
  },
  {
   "cell_type": "code",
   "execution_count": 21,
   "id": "5dc61a55",
   "metadata": {},
   "outputs": [],
   "source": [
    "huawei_config = preprocessing.HuaweiPreprocessorConfig()\n",
    "huawei_config.aggregated_log_file = Path(\"../data/logs_aggregated_concurrent.csv\")\n",
    "huawei_config.traces_root_directory = Path(\"../data/concurrent_data/traces/\")\n",
    "huawei_config.final_log_file = Path(\"../data/huawei.pkl\")\n",
    "\n",
    "\n",
    "sequence_preprocessor = preprocessing.ConcurrentAggregatedLogsPreprocessor(huawei_config)\n",
    "huawei_full_data = sequence_preprocessor.load_full_data()"
   ]
  },
  {
   "cell_type": "code",
   "execution_count": 22,
   "id": "4887f09e",
   "metadata": {},
   "outputs": [
    {
     "data": {
      "text/plain": [
       "Index(['Hostname', 'log_level', 'programname', 'python_module', 'http_status',\n",
       "       'http_method', '@timestamp', 'Payload', 'http_url',\n",
       "       'fine_log_cluster_template', 'fine_log_cluster_path',\n",
       "       'coarse_log_cluster_template', 'coarse_log_cluster_path', 'timestamp',\n",
       "       'parent_trace_id', 'url_cluster_template', 'url_cluster_path'],\n",
       "      dtype='object')"
      ]
     },
     "execution_count": 22,
     "metadata": {},
     "output_type": "execute_result"
    }
   ],
   "source": [
    "huawei_full_data.columns"
   ]
  },
  {
   "cell_type": "markdown",
   "id": "68d559bf",
   "metadata": {
    "collapsed": false
   },
   "source": [
    "# Manually step through program flow"
   ]
  },
  {
   "cell_type": "code",
   "execution_count": 28,
   "id": "0de701ac",
   "metadata": {
    "collapsed": false
   },
   "outputs": [
    {
     "name": "stderr",
     "output_type": "stream",
     "text": [
      "/home/i40/pacev/Domain-Guided-Monitoring/src/features/preprocessing/huawei.py:249: DtypeWarning: Columns (23,24,25,28) have mixed types. Specify dtype option on import or set low_memory=False.\n",
      "  pd.read_csv(self.config.aggregated_log_file)\n",
      "Generating DRAIN clusters from log_df: 100%|██████████| 152373/152373 [00:16<00:00, 9220.91it/s] \n",
      "Generating DRAIN clusters from log_df: 100%|██████████| 152373/152373 [00:11<00:00, 13662.47it/s]\n",
      "Generating DRAIN clusters from log_df: 100%|██████████| 970/970 [00:00<00:00, 20186.83it/s]\n",
      "/home/i40/pacev/Domain-Guided-Monitoring/src/features/preprocessing/huawei.py:170: FutureWarning: Passing a set as an indexer is deprecated and will raise in a future version. Use a list instead.\n",
      "  merged_df[\"all_events\"] = merged_df[self.relevant_columns].values.tolist()\n"
     ]
    }
   ],
   "source": [
    "sequences_df = sequence_preprocessor.load_data()"
   ]
  },
  {
   "cell_type": "code",
   "execution_count": 27,
   "id": "7c5923ea",
   "metadata": {
    "collapsed": false
   },
   "outputs": [],
   "source": [
    "# TF settings\n",
    "\n",
    "import tensorflow as tf\n",
    "import random\n",
    "\n",
    "tensorflow_seed = 7796\n",
    "random_seed = 82379498237\n",
    "\n",
    "tf.random.set_seed(tensorflow_seed)\n",
    "random.seed(random_seed)\n",
    "\n"
   ]
  },
  {
   "cell_type": "markdown",
   "id": "d7dd0bf2",
   "metadata": {
    "collapsed": false
   },
   "source": [
    "# Collect sequence metadata"
   ]
  },
  {
   "cell_type": "code",
   "execution_count": 30,
   "id": "67652cbd",
   "metadata": {
    "collapsed": false
   },
   "outputs": [],
   "source": [
    "from src.features import sequences\n",
    "from src.features.sequences import transformer\n",
    "\n",
    "sequence_column_name = sequence_preprocessor.sequence_column_name\n",
    "\n",
    "transformer_config = sequences.SequenceConfig()\n",
    "transformer_config.x_sequence_column_name = \"fine_log_cluster_template\"\n",
    "transformer_config.y_sequence_column_name = \"attributes\"\n",
    "transformer_config.predict_full_y_sequence_wide = True\n",
    "\n",
    "transformer = transformer.NextPartialSequenceTransformerFromDataframe(transformer_config)\n",
    "\n",
    "metadata = transformer.collect_metadata(sequences_df, sequence_column_name)"
   ]
  },
  {
   "cell_type": "code",
   "execution_count": null,
   "id": "2316e3e3",
   "metadata": {
    "collapsed": false
   },
   "outputs": [],
   "source": []
  }
 ],
 "metadata": {
  "kernelspec": {
   "display_name": "lena",
   "language": "python",
   "name": "lena"
  },
  "language_info": {
   "codemirror_mode": {
    "name": "ipython",
    "version": 3
   },
   "file_extension": ".py",
   "mimetype": "text/x-python",
   "name": "python",
   "nbconvert_exporter": "python",
   "pygments_lexer": "ipython3",
   "version": "3.9.15"
  }
 },
 "nbformat": 4,
 "nbformat_minor": 5
}
