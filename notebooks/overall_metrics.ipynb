{
 "cells": [
  {
   "cell_type": "code",
   "execution_count": 1,
   "metadata": {},
   "outputs": [],
   "source": [
    "import pandas as pd\n",
    "import matplotlib.pyplot as plt\n",
    "import seaborn as sns"
   ]
  },
  {
   "cell_type": "code",
   "execution_count": 2,
   "metadata": {},
   "outputs": [],
   "source": [
    "%run utils/mlflow_query.py\n",
    "%run utils/loading.py\n",
    "%run utils/comparison.py\n",
    "%run utils/percentiles.py"
   ]
  },
  {
   "cell_type": "code",
   "execution_count": 3,
   "metadata": {},
   "outputs": [
    {
     "name": "stdout",
     "output_type": "stream",
     "text": [
      "Initialized with 4 MLFlow runs from pkl\n"
     ]
    },
    {
     "name": "stderr",
     "output_type": "stream",
     "text": [
      "Querying data per run...: 0it [00:00, ?it/s]"
     ]
    },
    {
     "name": "stdout",
     "output_type": "stream",
     "text": [
      "Queried 4 runs from MLFlow for mimic\n"
     ]
    },
    {
     "name": "stderr",
     "output_type": "stream",
     "text": [
      "\n",
      "Querying data per run...: 100%|██████████| 4/4 [00:00<00:00, 2234.88it/s]"
     ]
    },
    {
     "name": "stdout",
     "output_type": "stream",
     "text": [
      "Queried 4 runs from MLFlow for huawei_logs\n"
     ]
    },
    {
     "name": "stderr",
     "output_type": "stream",
     "text": [
      "\n"
     ]
    }
   ],
   "source": [
    "mlflow_helper = MlflowHelper(pkl_file=Path(\"mlflow_run_df.pkl\"))\n",
    "mlflow_helper.query_valid_runs(pkl_file=Path(\"mlflow_run_df.pkl\"))"
   ]
  },
  {
   "cell_type": "code",
   "execution_count": 4,
   "metadata": {},
   "outputs": [
    {
     "data": {
      "text/plain": "0    attributes\n1    attributes\n2    attributes\n3    attributes\nName: data_params_SequenceConfigy_sequence_column_name, dtype: object"
     },
     "execution_count": 4,
     "metadata": {},
     "output_type": "execute_result"
    }
   ],
   "source": [
    "mlflow_helper.run_df[\"data_params_SequenceConfigy_sequence_column_name\"]"
   ]
  },
  {
   "cell_type": "code",
   "execution_count": 5,
   "metadata": {},
   "outputs": [],
   "source": [
    "def plot_metrics_over_epochs(metric_df, metric_names, \n",
    "    column_feature_name='data_tags_model_type', \n",
    "    row_feature_name='data_tags_sequence_type',\n",
    "    hue_feature_name='data_params_ModelConfighidden_embedding_initializer',\n",
    "    style_feature_name='data_params_ModelConfigbase_hidden_embeddings_trainable',\n",
    "    titles=\"{row_name}, {col_name}\",\n",
    "):\n",
    "    for metric_name in metric_names:\n",
    "        g = sns.relplot(\n",
    "            data=metric_df, x=\"epoch\", y=metric_name,\n",
    "            col=column_feature_name, row=row_feature_name, \n",
    "            hue=hue_feature_name, style=style_feature_name, \n",
    "            units='info_run_id', estimator=None,\n",
    "            kind=\"line\", facet_kws={'sharey':False},\n",
    "        )\n",
    "        g.set_titles(titles)\n",
    "        g.savefig(\"epochs_{}.png\".format(metric_name))\n",
    "\n",
    "def plot_best_metric_strip(metric_df, metric_names, feature_names,\n",
    "    x_feature_name='data_tags_model_type', \n",
    "    x_order=['simple', 'gram', 'text', 'text_paper', 'causal'],\n",
    "    row_feature_name='data_tags_sequence_type',\n",
    "    hue_feature_name='data_params_ModelConfighidden_embedding_initializer',\n",
    "    column_feature_name='data_params_ModelConfigbase_hidden_embeddings_trainable',\n",
    "    titles=\"{row_name}, Trainable: {col_name}\",\n",
    "):\n",
    "    grouped_df = metric_df.groupby(feature_names, as_index=False).agg({\n",
    "        metric_name:max for metric_name in metric_names\n",
    "    })\n",
    "    for metric_name in metric_names:\n",
    "        g = sns.catplot(\n",
    "            data=grouped_df, y=metric_name, \n",
    "            x=x_feature_name, order=x_order, row=row_feature_name, \n",
    "            hue=hue_feature_name, col=column_feature_name,\n",
    "            kind=\"strip\", sharey='row',\n",
    "        )\n",
    "        g.set_titles(titles).set_axis_labels('', metric_name)\n",
    "        for ax in g.axes.flatten():\n",
    "            ax.tick_params(labelbottom=True)\n",
    "\n",
    "        g.savefig(\"strip_{}.png\".format(metric_name))\n",
    "\n",
    "def plot_best_metric_bar(metric_df, metric_names,\n",
    "    x_feature_name='data_tags_model_type', \n",
    "    x_order=['simple', 'gram', 'text', 'text_paper', 'causal'],\n",
    "    row_feature_name='data_tags_sequence_type',\n",
    "    hue_feature_name='data_params_ModelConfighidden_embedding_initializer',\n",
    "    col_feature_name='data_params_ModelConfigbase_hidden_embeddings_trainable',\n",
    "    titles=\"{row_name}, Trainable: {col_name}\",\n",
    "    palette=None,\n",
    "    dodge=True,\n",
    "    col_order=None,\n",
    "):\n",
    "    for metric_name in metric_names:\n",
    "        g = sns.catplot(\n",
    "            data=metric_df, x=x_feature_name, y=metric_name, order=x_order,\n",
    "            row=row_feature_name, hue=hue_feature_name, col=col_feature_name, col_order=col_order,\n",
    "            kind=\"box\", sharey='row', palette=palette, dodge=dodge,\n",
    "        )\n",
    "        g.set_titles(titles).set_axis_labels('', metric_name)\n",
    "        for ax in g.axes.flatten():\n",
    "            ax.tick_params(labelbottom=True)\n",
    "        g.savefig(\"bar_{}.png\".format(metric_name))\n"
   ]
  },
  {
   "cell_type": "code",
   "execution_count": 6,
   "metadata": {},
   "outputs": [
    {
     "ename": "KeyError",
     "evalue": "'data_params_SequenceConfigy_sequence_column_name'",
     "output_type": "error",
     "traceback": [
      "\u001B[0;31m---------------------------------------------------------------------------\u001B[0m",
      "\u001B[0;31mKeyError\u001B[0m                                  Traceback (most recent call last)",
      "File \u001B[0;32m~/anaconda3/envs/lena/lib/python3.9/site-packages/pandas/core/indexes/base.py:3803\u001B[0m, in \u001B[0;36mIndex.get_loc\u001B[0;34m(self, key, method, tolerance)\u001B[0m\n\u001B[1;32m   3802\u001B[0m \u001B[38;5;28;01mtry\u001B[39;00m:\n\u001B[0;32m-> 3803\u001B[0m     \u001B[38;5;28;01mreturn\u001B[39;00m \u001B[38;5;28;43mself\u001B[39;49m\u001B[38;5;241;43m.\u001B[39;49m\u001B[43m_engine\u001B[49m\u001B[38;5;241;43m.\u001B[39;49m\u001B[43mget_loc\u001B[49m\u001B[43m(\u001B[49m\u001B[43mcasted_key\u001B[49m\u001B[43m)\u001B[49m\n\u001B[1;32m   3804\u001B[0m \u001B[38;5;28;01mexcept\u001B[39;00m \u001B[38;5;167;01mKeyError\u001B[39;00m \u001B[38;5;28;01mas\u001B[39;00m err:\n",
      "File \u001B[0;32m~/anaconda3/envs/lena/lib/python3.9/site-packages/pandas/_libs/index.pyx:138\u001B[0m, in \u001B[0;36mpandas._libs.index.IndexEngine.get_loc\u001B[0;34m()\u001B[0m\n",
      "File \u001B[0;32m~/anaconda3/envs/lena/lib/python3.9/site-packages/pandas/_libs/index.pyx:165\u001B[0m, in \u001B[0;36mpandas._libs.index.IndexEngine.get_loc\u001B[0;34m()\u001B[0m\n",
      "File \u001B[0;32mpandas/_libs/hashtable_class_helper.pxi:5745\u001B[0m, in \u001B[0;36mpandas._libs.hashtable.PyObjectHashTable.get_item\u001B[0;34m()\u001B[0m\n",
      "File \u001B[0;32mpandas/_libs/hashtable_class_helper.pxi:5753\u001B[0m, in \u001B[0;36mpandas._libs.hashtable.PyObjectHashTable.get_item\u001B[0;34m()\u001B[0m\n",
      "\u001B[0;31mKeyError\u001B[0m: 'data_params_SequenceConfigy_sequence_column_name'",
      "\nThe above exception was the direct cause of the following exception:\n",
      "\u001B[0;31mKeyError\u001B[0m                                  Traceback (most recent call last)",
      "Input \u001B[0;32mIn [6]\u001B[0m, in \u001B[0;36m<cell line: 1>\u001B[0;34m()\u001B[0m\n\u001B[0;32m----> 1\u001B[0m df \u001B[38;5;241m=\u001B[39m \u001B[43mmlflow_helper\u001B[49m\u001B[38;5;241;43m.\u001B[39;49m\u001B[43mhuawei_run_df\u001B[49m\u001B[43m(\u001B[49m\u001B[43minclude_noise\u001B[49m\u001B[38;5;241;43m=\u001B[39;49m\u001B[38;5;28;43;01mFalse\u001B[39;49;00m\u001B[43m,\u001B[49m\u001B[43m \u001B[49m\u001B[43minclude_refinements\u001B[49m\u001B[38;5;241;43m=\u001B[39;49m\u001B[38;5;28;43;01mFalse\u001B[39;49;00m\u001B[43m,\u001B[49m\u001B[43m \u001B[49m\u001B[43mrisk_prediction\u001B[49m\u001B[38;5;241;43m=\u001B[39;49m\u001B[38;5;28;43;01mFalse\u001B[39;49;00m\u001B[43m,\u001B[49m\u001B[43m \u001B[49m\u001B[43minclude_drain_hierarchy\u001B[49m\u001B[38;5;241;43m=\u001B[39;49m\u001B[38;5;28;43;01mTrue\u001B[39;49;00m\u001B[43m)\u001B[49m\n\u001B[1;32m      2\u001B[0m df \u001B[38;5;241m=\u001B[39m mlflow_helper\u001B[38;5;241m.\u001B[39mload_best_metrics_for_ids(\u001B[38;5;28mset\u001B[39m(df[\u001B[38;5;124m\"\u001B[39m\u001B[38;5;124minfo_run_id\u001B[39m\u001B[38;5;124m\"\u001B[39m]))\n\u001B[1;32m      3\u001B[0m df[\u001B[38;5;124m\"\u001B[39m\u001B[38;5;124mdata_tags_model_type\u001B[39m\u001B[38;5;124m\"\u001B[39m] \u001B[38;5;241m=\u001B[39m df[\u001B[38;5;124m\"\u001B[39m\u001B[38;5;124mdata_tags_model_type\u001B[39m\u001B[38;5;124m\"\u001B[39m]\u001B[38;5;241m.\u001B[39mapply(\u001B[38;5;28;01mlambda\u001B[39;00m x: {\n\u001B[1;32m      4\u001B[0m     \u001B[38;5;124m\"\u001B[39m\u001B[38;5;124mgram\u001B[39m\u001B[38;5;124m\"\u001B[39m: \u001B[38;5;124m\"\u001B[39m\u001B[38;5;124mhierarchy\u001B[39m\u001B[38;5;124m\"\u001B[39m,\n\u001B[1;32m      5\u001B[0m     \u001B[38;5;124m\"\u001B[39m\u001B[38;5;124mgram_logs\u001B[39m\u001B[38;5;124m\"\u001B[39m: \u001B[38;5;124m\"\u001B[39m\u001B[38;5;124mtemplate_hierarchy\u001B[39m\u001B[38;5;124m\"\u001B[39m,\n\u001B[1;32m      6\u001B[0m }\u001B[38;5;241m.\u001B[39mget(x, x))\n",
      "File \u001B[0;32m~/code/Domain-Guided-Monitoring/notebooks/utils/mlflow_query.py:245\u001B[0m, in \u001B[0;36mMlflowHelper.huawei_run_df\u001B[0;34m(self, include_noise, include_refinements, risk_prediction, valid_x_columns, valid_y_columns, include_drain_hierarchy)\u001B[0m\n\u001B[1;32m    240\u001B[0m     huawei_run_df \u001B[38;5;241m=\u001B[39m huawei_run_df[\n\u001B[1;32m    241\u001B[0m         huawei_run_df[\u001B[38;5;124m\"\u001B[39m\u001B[38;5;124mdata_params_SequenceConfigx_sequence_column_name\u001B[39m\u001B[38;5;124m\"\u001B[39m]\u001B[38;5;241m.\u001B[39mapply(\u001B[38;5;28;01mlambda\u001B[39;00m x: x \u001B[38;5;129;01min\u001B[39;00m valid_x_columns)\n\u001B[1;32m    242\u001B[0m     ]\n\u001B[1;32m    243\u001B[0m \u001B[38;5;28;01mif\u001B[39;00m \u001B[38;5;28mlen\u001B[39m(valid_y_columns) \u001B[38;5;241m>\u001B[39m \u001B[38;5;241m0\u001B[39m:\n\u001B[1;32m    244\u001B[0m     huawei_run_df \u001B[38;5;241m=\u001B[39m huawei_run_df[\n\u001B[0;32m--> 245\u001B[0m         \u001B[43mhuawei_run_df\u001B[49m\u001B[43m[\u001B[49m\u001B[38;5;124;43m\"\u001B[39;49m\u001B[38;5;124;43mdata_params_SequenceConfigy_sequence_column_name\u001B[39;49m\u001B[38;5;124;43m\"\u001B[39;49m\u001B[43m]\u001B[49m\u001B[38;5;241m.\u001B[39mapply(\u001B[38;5;28;01mlambda\u001B[39;00m x: x \u001B[38;5;129;01min\u001B[39;00m valid_y_columns)\n\u001B[1;32m    246\u001B[0m     ]\n\u001B[1;32m    248\u001B[0m \u001B[38;5;28;01mif\u001B[39;00m \u001B[38;5;129;01mnot\u001B[39;00m include_noise \u001B[38;5;129;01mand\u001B[39;00m \u001B[38;5;124m'\u001B[39m\u001B[38;5;124mdata_tags_noise_type\u001B[39m\u001B[38;5;124m'\u001B[39m \u001B[38;5;129;01min\u001B[39;00m huawei_run_df\u001B[38;5;241m.\u001B[39mcolumns:\n\u001B[1;32m    249\u001B[0m     huawei_run_df \u001B[38;5;241m=\u001B[39m huawei_run_df[\n\u001B[1;32m    250\u001B[0m         (huawei_run_df[\u001B[38;5;124m\"\u001B[39m\u001B[38;5;124mdata_tags_noise_type\u001B[39m\u001B[38;5;124m\"\u001B[39m]\u001B[38;5;241m.\u001B[39mfillna(\u001B[38;5;124m\"\u001B[39m\u001B[38;5;124m\"\u001B[39m)\u001B[38;5;241m.\u001B[39mapply(\u001B[38;5;28mlen\u001B[39m) \u001B[38;5;241m==\u001B[39m \u001B[38;5;241m0\u001B[39m)\n\u001B[1;32m    251\u001B[0m     ]\n",
      "File \u001B[0;32m~/anaconda3/envs/lena/lib/python3.9/site-packages/pandas/core/frame.py:3804\u001B[0m, in \u001B[0;36mDataFrame.__getitem__\u001B[0;34m(self, key)\u001B[0m\n\u001B[1;32m   3802\u001B[0m \u001B[38;5;28;01mif\u001B[39;00m \u001B[38;5;28mself\u001B[39m\u001B[38;5;241m.\u001B[39mcolumns\u001B[38;5;241m.\u001B[39mnlevels \u001B[38;5;241m>\u001B[39m \u001B[38;5;241m1\u001B[39m:\n\u001B[1;32m   3803\u001B[0m     \u001B[38;5;28;01mreturn\u001B[39;00m \u001B[38;5;28mself\u001B[39m\u001B[38;5;241m.\u001B[39m_getitem_multilevel(key)\n\u001B[0;32m-> 3804\u001B[0m indexer \u001B[38;5;241m=\u001B[39m \u001B[38;5;28;43mself\u001B[39;49m\u001B[38;5;241;43m.\u001B[39;49m\u001B[43mcolumns\u001B[49m\u001B[38;5;241;43m.\u001B[39;49m\u001B[43mget_loc\u001B[49m\u001B[43m(\u001B[49m\u001B[43mkey\u001B[49m\u001B[43m)\u001B[49m\n\u001B[1;32m   3805\u001B[0m \u001B[38;5;28;01mif\u001B[39;00m is_integer(indexer):\n\u001B[1;32m   3806\u001B[0m     indexer \u001B[38;5;241m=\u001B[39m [indexer]\n",
      "File \u001B[0;32m~/anaconda3/envs/lena/lib/python3.9/site-packages/pandas/core/indexes/base.py:3805\u001B[0m, in \u001B[0;36mIndex.get_loc\u001B[0;34m(self, key, method, tolerance)\u001B[0m\n\u001B[1;32m   3803\u001B[0m     \u001B[38;5;28;01mreturn\u001B[39;00m \u001B[38;5;28mself\u001B[39m\u001B[38;5;241m.\u001B[39m_engine\u001B[38;5;241m.\u001B[39mget_loc(casted_key)\n\u001B[1;32m   3804\u001B[0m \u001B[38;5;28;01mexcept\u001B[39;00m \u001B[38;5;167;01mKeyError\u001B[39;00m \u001B[38;5;28;01mas\u001B[39;00m err:\n\u001B[0;32m-> 3805\u001B[0m     \u001B[38;5;28;01mraise\u001B[39;00m \u001B[38;5;167;01mKeyError\u001B[39;00m(key) \u001B[38;5;28;01mfrom\u001B[39;00m \u001B[38;5;21;01merr\u001B[39;00m\n\u001B[1;32m   3806\u001B[0m \u001B[38;5;28;01mexcept\u001B[39;00m \u001B[38;5;167;01mTypeError\u001B[39;00m:\n\u001B[1;32m   3807\u001B[0m     \u001B[38;5;66;03m# If we have a listlike key, _check_indexing_error will raise\u001B[39;00m\n\u001B[1;32m   3808\u001B[0m     \u001B[38;5;66;03m#  InvalidIndexError. Otherwise we fall through and re-raise\u001B[39;00m\n\u001B[1;32m   3809\u001B[0m     \u001B[38;5;66;03m#  the TypeError.\u001B[39;00m\n\u001B[1;32m   3810\u001B[0m     \u001B[38;5;28mself\u001B[39m\u001B[38;5;241m.\u001B[39m_check_indexing_error(key)\n",
      "\u001B[0;31mKeyError\u001B[0m: 'data_params_SequenceConfigy_sequence_column_name'"
     ]
    }
   ],
   "source": [
    "df = mlflow_helper.huawei_run_df(include_noise=False, include_refinements=False, risk_prediction=False, include_drain_hierarchy=True)\n",
    "df = mlflow_helper.load_best_metrics_for_ids(set(df[\"info_run_id\"]))\n",
    "df[\"data_tags_model_type\"] = df[\"data_tags_model_type\"].apply(lambda x: {\n",
    "    \"gram\": \"hierarchy\",\n",
    "    \"gram_logs\": \"template_hierarchy\",\n",
    "}.get(x, x))\n",
    "\n",
    "g = sns.catplot(\n",
    "    data=df[\n",
    "        df[\"data_params_ModelConfigbase_hidden_embeddings_trainable\"].apply(lambda x: x == \"False\")\n",
    "    ], x=\"data_tags_model_type\", y='epoch', \n",
    "    order=[\"simple\", \"hierarchy\", \"causal\", \"text\"],\n",
    "    #col=\"data_params_ModelConfigbase_hidden_embeddings_trainable\",\n",
    "    #col_order=[\"False\", \"True\"],\n",
    "    kind=\"box\", \n",
    "    palette='Set2', \n",
    "    #color=\"#19b39c\",\n",
    "    #dodge=False,\n",
    ").set_axis_labels('', \"Epochs until convergence\")#.set_titles(\"Embeddings trainable: {col_name}\")\n",
    "plt.tight_layout()\n",
    "plt.savefig(\"huawei_epochs_nontrainable.png\", dpi=100)\n",
    "plt.show()"
   ]
  },
  {
   "cell_type": "code",
   "execution_count": 8,
   "metadata": {},
   "outputs": [
    {
     "data": {
      "text/plain": "0    attributes\n1    attributes\n2    attributes\n3    attributes\nName: data_params_SequenceConfigy_sequence_column_name, dtype: object"
     },
     "execution_count": 8,
     "metadata": {},
     "output_type": "execute_result"
    }
   ],
   "source": [
    "mlflow_helper.run_df[\"data_params_SequenceConfigy_sequence_column_name\"]"
   ]
  },
  {
   "cell_type": "code",
   "execution_count": null,
   "metadata": {},
   "outputs": [],
   "source": [
    "df = mlflow_helper.huawei_run_df(include_noise=False, include_refinements=False, risk_prediction=False, include_drain_hierarchy=True)\n",
    "df = mlflow_helper.load_training_times_for_ids(set(df[\"info_run_id\"]))\n",
    "df[\"data_tags_model_type\"] = df[\"data_tags_model_type\"].apply(lambda x: {\n",
    "    \"gram\": \"hierarchy\",\n",
    "    \"gram_logs\": \"template_hierarchy\",\n",
    "}.get(x, x))\n",
    "\n",
    "g = sns.catplot(\n",
    "    data=df[\n",
    "        df[\"data_params_ModelConfigbase_hidden_embeddings_trainable\"].apply(lambda x: x == \"False\")\n",
    "    ], x=\"data_tags_model_type\", y='total_duration', \n",
    "    order=[\"simple\", \"hierarchy\", \"causal\", \"text\", \"template_hierarchy\"],\n",
    "    #col=\"data_params_ModelConfigbase_hidden_embeddings_trainable\",\n",
    "    #col_order=[\"False\", \"True\"],\n",
    "    kind=\"box\", \n",
    "    palette='Set2', \n",
    "    #color=\"#19b39c\",\n",
    "    #dodge=False,\n",
    ").set_axis_labels('', \"Total training duration [ms]\")#.set_titles(\"Embeddings trainable: {col_name}\")\n",
    "plt.tight_layout()\n",
    "plt.savefig(\"huawei_total_duration_nontrainable.png\", dpi=100)\n",
    "plt.show()\n"
   ]
  },
  {
   "cell_type": "code",
   "execution_count": null,
   "metadata": {},
   "outputs": [],
   "source": [
    "df[\"avg_per_epoch_conv\"] = df[\"avg_per_epoch\"] / (1000)\n",
    "df[\n",
    "    df[\"data_params_ModelConfigbase_hidden_embeddings_trainable\"].apply(lambda x: x == \"False\")\n",
    "].groupby(by=\"data_tags_model_type\")[\"avg_per_epoch_conv\"].describe()"
   ]
  },
  {
   "cell_type": "code",
   "execution_count": null,
   "metadata": {},
   "outputs": [],
   "source": [
    "df = mlflow_helper.huawei_run_df(\n",
    "    include_noise=False, \n",
    "    include_refinements=False, \n",
    "    risk_prediction=False,\n",
    "    include_drain_hierarchy=True,\n",
    "    valid_x_columns=[\"log_cluster_template\", \"fine_log_cluster_template\", \"coarse_log_cluster_template\", \"attention_log_cluster_template\"])\n",
    "\n",
    "df = mlflow_helper.load_best_metrics_for_ids(set(df[\"info_run_id\"]))\n",
    "df[\"data_tags_model_type\"] = df[\"data_tags_model_type\"].apply(lambda x: {\n",
    "    \"gram\": \"hierarchy\",\n",
    "}.get(x, x))\n",
    "df[\"data_params_SequenceConfigx_sequence_column_name\"] = df[\"data_params_SequenceConfigx_sequence_column_name\"].apply(lambda x: {\n",
    "    \"log_cluster_template\": \"fine_log_cluster_template\",\n",
    "}.get(x, x))\n",
    "df[\"baseline\"] = df[\"data_tags_model_type\"] == \"simple\"\n",
    "\n",
    "# Box plot from thesis\n",
    "g = sns.catplot(\n",
    "    data=df[\n",
    "        df[\"data_params_ModelConfigbase_hidden_embeddings_trainable\"].apply(lambda x: x == \"False\")\n",
    "        & df[\"data_tags_model_type\"].apply(lambda x: x == \"simple\")\n",
    "    ], x=\"data_params_SequenceConfigx_sequence_column_name\", y='val_top_5_categorical_accuracy_history_best', \n",
    "    order=[\"fine_log_cluster_template\", \"coarse_log_cluster_template\", \"attention_log_cluster_template\"],\n",
    "    kind=\"box\", palette='Set2',\n",
    "    dodge=False,\n",
    ").set_axis_labels('', \"val_top_5_categorical_accuracy\")\n",
    "plt.show()"
   ]
  },
  {
   "cell_type": "code",
   "execution_count": null,
   "metadata": {},
   "outputs": [],
   "source": [
    "mimic_df = mlflow_helper.mimic_run_df(include_noise=False, include_refinements=False, valid_x_columns=[\"level_0\", \"level_1\", \"level_2\"], valid_y_columns=[\"level_2\", \"level_3\"])\n",
    "mimic_df = mlflow_helper.load_best_metrics_for_ids(set(mimic_df[\"info_run_id\"]))"
   ]
  },
  {
   "cell_type": "code",
   "execution_count": null,
   "metadata": {},
   "outputs": [],
   "source": [
    "plot_best_metric_bar(mimic_df, ['val_top_20_categorical_accuracy_history_best', 'epoch'], \n",
    "    col_feature_name='data_params_SequenceConfigx_sequence_column_name',\n",
    "    row_feature_name='data_params_SequenceConfigy_sequence_column_name',\n",
    "    hue_feature_name='data_params_ModelConfigbase_hidden_embeddings_trainable',\n",
    "    col_order=[\"level_0\", \"level_1\", \"level_2\"],\n",
    "    x_order=[\"simple\", \"gram\", \"text\", \"causal\", \"causal2\"],\n",
    "    titles=\"Level: {col_name}, Embeddings Trainable: {row_name}\")\n",
    "plt.show()"
   ]
  },
  {
   "cell_type": "code",
   "execution_count": null,
   "metadata": {},
   "outputs": [],
   "source": [
    "mimic_df = mlflow_helper.mimic_run_df(include_noise=False, include_refinements=False, risk_prediction=True)\n",
    "mimic_df = mlflow_helper.load_best_metrics_for_ids(set(mimic_df[\"info_run_id\"]))"
   ]
  },
  {
   "cell_type": "code",
   "execution_count": null,
   "metadata": {},
   "outputs": [],
   "source": [
    "plot_best_metric_bar(mimic_df, ['val_auc_history_best', 'epoch'], \n",
    "    hue_feature_name=None, \n",
    "    col_feature_name='data_params_ModelConfigbase_hidden_embeddings_trainable',\n",
    "    row_feature_name=None,\n",
    "    x_order=[\"simple\", \"gram\", \"text\", \"causal\", \"causal2\"],\n",
    "    titles=\"Embeddings Trainable: {col_name}\")\n",
    "plt.show()"
   ]
  },
  {
   "cell_type": "code",
   "execution_count": null,
   "metadata": {},
   "outputs": [],
   "source": [
    "huawei_df = mlflow_helper.huawei_run_df(include_noise=False, include_refinements=False, risk_prediction=False)\n",
    "huawei_df = mlflow_helper.load_best_metrics_for_ids(set(huawei_df[\"info_run_id\"]))"
   ]
  },
  {
   "cell_type": "code",
   "execution_count": null,
   "metadata": {},
   "outputs": [],
   "source": [
    "plot_best_metric_bar(huawei_df, ['val_top_5_categorical_accuracy_history_best', 'val_top_10_categorical_accuracy_history_best', 'epoch'], \n",
    "    hue_feature_name=None, \n",
    "    col_feature_name='data_params_ModelConfigbase_hidden_embeddings_trainable',\n",
    "    row_feature_name=None,\n",
    "    x_order=[\"simple\", \"gram\", \"text\", \"causal\", \"causal2\"],\n",
    "    titles=\"Embeddings Trainable: {col_name}\")\n",
    "plt.show()"
   ]
  },
  {
   "cell_type": "code",
   "execution_count": null,
   "metadata": {},
   "outputs": [],
   "source": [
    "huawei_df = mlflow_helper.huawei_run_df(\n",
    "    include_noise=False, include_refinements=False, risk_prediction=False, include_drain_hierarchy=True,\n",
    "    valid_x_columns=[\"log_cluster_template\", \"fine_log_cluster_template\", \"coarse_log_cluster_template\", \"attention_log_cluster_template_90\"])\n",
    "huawei_df = mlflow_helper.load_best_metrics_for_ids(set(huawei_df[\"info_run_id\"]))"
   ]
  },
  {
   "cell_type": "code",
   "execution_count": null,
   "metadata": {},
   "outputs": [],
   "source": [
    "plot_best_metric_bar(huawei_df, ['val_top_5_categorical_accuracy_history_best', 'epoch'], \n",
    "    hue_feature_name=None, \n",
    "    col_feature_name='data_params_SequenceConfigx_sequence_column_name',\n",
    "    row_feature_name='data_params_ModelConfigbase_hidden_embeddings_trainable',\n",
    "    col_order=[\"log_cluster_template\", \"fine_log_cluster_template\", \"coarse_log_cluster_template\", \"attention_log_cluster_template_90\"],\n",
    "    x_order=[\"simple\", \"gram\", \"gram_logs\", \"text\", \"causal\"],\n",
    "    titles=\"Level: {col_name}, Embeddings Trainable: {row_name}\")\n",
    "plt.show()"
   ]
  },
  {
   "cell_type": "code",
   "execution_count": null,
   "metadata": {},
   "outputs": [],
   "source": [
    "huawei_df = mlflow_helper.huawei_run_df(include_noise=False, include_refinements=False, risk_prediction=True)\n",
    "huawei_df = mlflow_helper.load_metric_history_for_ids(set(huawei_df[\"info_run_id\"]))"
   ]
  },
  {
   "cell_type": "code",
   "execution_count": null,
   "metadata": {},
   "outputs": [],
   "source": [
    "plot_metrics_over_epochs(huawei_df, metric_names=['auc_history', 'val_auc_history'])\n",
    "plt.show()"
   ]
  },
  {
   "cell_type": "code",
   "execution_count": null,
   "metadata": {},
   "outputs": [],
   "source": [
    "huawei_df = mlflow_helper.huawei_run_df(include_noise=False, include_refinements=False, risk_prediction=True)\n",
    "huawei_df = mlflow_helper.load_best_metrics_for_ids(set(huawei_df[\"info_run_id\"]))"
   ]
  },
  {
   "cell_type": "code",
   "execution_count": null,
   "metadata": {},
   "outputs": [],
   "source": [
    "prediction_df = pd.read_csv(mlflow_helper.local_mlflow_dir + str(huawei_df[\"info_run_id\"].iloc[0]) + \"/artifacts/prediction_output.csv\")\n",
    "prediction_df"
   ]
  },
  {
   "cell_type": "code",
   "execution_count": null,
   "metadata": {},
   "outputs": [],
   "source": [
    "prediction_df['input'].apply(lambda x: 1 if \"exception\" in x.lower() else 0).sum()"
   ]
  },
  {
   "cell_type": "code",
   "execution_count": null,
   "metadata": {},
   "outputs": [],
   "source": [
    "plot_best_metric_bar(huawei_df, ['val_auc_history_best', 'auc_history_best', 'epoch'], \n",
    "    hue_feature_name=None, \n",
    "    col_feature_name='data_params_ModelConfigbase_hidden_embeddings_trainable',\n",
    "    row_feature_name=None,\n",
    "    x_order=[\"simple\", \"gram\", \"text\", \"causal\", \"causal2\"],\n",
    "    titles=\"Embeddings Trainable: {col_name}\")\n",
    "plt.show()"
   ]
  },
  {
   "cell_type": "markdown",
   "metadata": {},
   "source": [
    "# NOISE"
   ]
  },
  {
   "cell_type": "code",
   "execution_count": null,
   "metadata": {},
   "outputs": [],
   "source": [
    "mimic_noise_df = mlflow_helper.mimic_run_df(include_noise=True)\n",
    "mimic_noise_df = mlflow_helper.load_best_metrics_for_ids(set(mimic_noise_df[\"info_run_id\"]))\n",
    "mimic_noise_df['data_tags_noise_type'] = mimic_noise_df['data_tags_noise_type'].fillna('').astype(str).apply(lambda x: x + '_threshold0.0' if len(str(x)) <= len('added0.0_removed0.1') and len(x) > 0 else x)\n",
    "mimic_noise_df['data_tags_noise_type'] = mimic_noise_df['data_tags_noise_type'].apply(lambda x: 'no_noise' if len(x) == 0  or x == 'nan' else x)"
   ]
  },
  {
   "cell_type": "code",
   "execution_count": null,
   "metadata": {},
   "outputs": [],
   "source": [
    "mimic_noise_df = mimic_noise_df[mimic_noise_df['data_tags_model_type'].apply(lambda x: x in ['hierarchy', 'gram', 'causal', 'text'])].copy().reset_index(drop=True)\n",
    "mimic_noise_df = mimic_noise_df[mimic_noise_df['data_tags_noise_type'].str.endswith('_threshold0.0') | mimic_noise_df['data_tags_noise_type'].str.endswith('no_noise')].copy().reset_index(drop=True)\n",
    "mimic_noise_df['noise'] = mimic_noise_df['data_tags_noise_type'].apply(\n",
    "    lambda x: float(x[len('added'):len('added0.0')]) - float(x[len('added0.0_removed'):len('added0.0_removed0.0')]) if not (x == 'no_noise') else 0.0\n",
    ")\n",
    "mimic_noise_df['Knowledge Graph'] = mimic_noise_df['noise'].apply(lambda x: 'Original' if x == 0.0 else 'Noisy')\n",
    "mimic_noise_df[\"Domain Knowledge\"] = mimic_noise_df[\"data_tags_model_type\"].apply(lambda x: {\n",
    "    \"gram\": \"hierarchy\",\n",
    "}.get(x, x))\n",
    "\n",
    "g = sns.catplot(\n",
    "    data=mimic_noise_df[\n",
    "        mimic_noise_df[\"data_params_ModelConfigbase_hidden_embeddings_trainable\"] == \"False\"\n",
    "    ], x=\"noise\", y='val_top_20_categorical_accuracy_history_best', \n",
    "    col=\"Domain Knowledge\",\n",
    "    col_order=[\"hierarchy\", \"causal\", \"text\"],\n",
    "    kind=\"box\", palette='Set2',\n",
    "    hue=\"Knowledge Graph\", dodge=False,\n",
    "    hue_order=[\"Noisy\", \"Original\"],\n",
    ").set_axis_labels('Degree of Noise', \"val_top_20_categorical_accuracy\").set_titles(\"Domain Knowledge: {col_name}\")\n",
    "\n",
    "#plt.tight_layout()\n",
    "plt.savefig(\"noise.png\", dpi=100, bbox_inches=\"tight\")\n",
    "plt.show()"
   ]
  }
 ],
 "metadata": {
  "interpreter": {
   "hash": "9d90ef2e2544a65949a5382aa665e8a895142ccb15d506742792c571feba52d3"
  },
  "kernelspec": {
   "name": "domainml",
   "language": "python",
   "display_name": "domainml"
  },
  "language_info": {
   "codemirror_mode": {
    "name": "ipython",
    "version": 3
   },
   "file_extension": ".py",
   "mimetype": "text/x-python",
   "name": "python",
   "nbconvert_exporter": "python",
   "pygments_lexer": "ipython3",
   "version": "3.9.12"
  }
 },
 "nbformat": 4,
 "nbformat_minor": 2
}
