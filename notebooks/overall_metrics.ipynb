{
 "metadata": {
  "language_info": {
   "codemirror_mode": {
    "name": "ipython",
    "version": 3
   },
   "file_extension": ".py",
   "mimetype": "text/x-python",
   "name": "python",
   "nbconvert_exporter": "python",
   "pygments_lexer": "ipython3",
   "version": "3.8.8"
  },
  "orig_nbformat": 2,
  "kernelspec": {
   "name": "python3",
   "display_name": "Python 3.8.8 64-bit (conda)"
  },
  "interpreter": {
   "hash": "9d90ef2e2544a65949a5382aa665e8a895142ccb15d506742792c571feba52d3"
  }
 },
 "nbformat": 4,
 "nbformat_minor": 2,
 "cells": [
  {
   "cell_type": "code",
   "execution_count": null,
   "source": [
    "import pandas as pd\r\n",
    "import matplotlib.pyplot as plt\r\n",
    "import seaborn as sns"
   ],
   "outputs": [],
   "metadata": {}
  },
  {
   "cell_type": "code",
   "execution_count": null,
   "source": [
    "%run utils/mlflow_query.py\r\n",
    "%run utils/loading.py\r\n",
    "%run utils/comparison.py\r\n",
    "%run utils/percentiles.py"
   ],
   "outputs": [],
   "metadata": {}
  },
  {
   "cell_type": "code",
   "execution_count": null,
   "source": [
    "mlflow_helper = MlflowHelper(pkl_file=Path(\"mlflow_run_df.pkl\"))\r\n",
    "#mlflow_helper.query_all_runs(query_metrics=False)"
   ],
   "outputs": [],
   "metadata": {}
  },
  {
   "cell_type": "code",
   "execution_count": null,
   "source": [
    "def plot_metrics_over_epochs(metric_df, metric_names, \r\n",
    "    column_feature_name='data_tags_model_type', \r\n",
    "    row_feature_name='data_tags_sequence_type',\r\n",
    "    hue_feature_name='data_params_ModelConfighidden_embedding_initializer',\r\n",
    "    style_feature_name='data_params_ModelConfigbase_hidden_embeddings_trainable',\r\n",
    "    titles=\"{row_name}, {col_name}\",\r\n",
    "):\r\n",
    "    for metric_name in metric_names:\r\n",
    "        g = sns.relplot(\r\n",
    "            data=metric_df, x=\"epoch\", y=metric_name,\r\n",
    "            col=column_feature_name, row=row_feature_name, \r\n",
    "            hue=hue_feature_name, style=style_feature_name, \r\n",
    "            units='info_run_id', estimator=None,\r\n",
    "            kind=\"line\", facet_kws={'sharey':False},\r\n",
    "        )\r\n",
    "        g.set_titles(titles)\r\n",
    "        g.savefig(\"epochs_{}.png\".format(metric_name))\r\n",
    "\r\n",
    "def plot_best_metric_strip(metric_df, metric_names, feature_names,\r\n",
    "    x_feature_name='data_tags_model_type', \r\n",
    "    x_order=['simple', 'gram', 'text', 'text_paper', 'causal'],\r\n",
    "    row_feature_name='data_tags_sequence_type',\r\n",
    "    hue_feature_name='data_params_ModelConfighidden_embedding_initializer',\r\n",
    "    column_feature_name='data_params_ModelConfigbase_hidden_embeddings_trainable',\r\n",
    "    titles=\"{row_name}, Trainable: {col_name}\",\r\n",
    "):\r\n",
    "    grouped_df = metric_df.groupby(feature_names, as_index=False).agg({\r\n",
    "        metric_name:max for metric_name in metric_names\r\n",
    "    })\r\n",
    "    for metric_name in metric_names:\r\n",
    "        g = sns.catplot(\r\n",
    "            data=grouped_df, y=metric_name, \r\n",
    "            x=x_feature_name, order=x_order, row=row_feature_name, \r\n",
    "            hue=hue_feature_name, col=column_feature_name,\r\n",
    "            kind=\"strip\", sharey='row',\r\n",
    "        )\r\n",
    "        g.set_titles(titles).set_axis_labels('', metric_name)\r\n",
    "        for ax in g.axes.flatten():\r\n",
    "            ax.tick_params(labelbottom=True)\r\n",
    "\r\n",
    "        g.savefig(\"strip_{}.png\".format(metric_name))\r\n",
    "\r\n",
    "def plot_best_metric_bar(metric_df, metric_names,\r\n",
    "    x_feature_name='data_tags_model_type', \r\n",
    "    x_order=['simple', 'gram', 'text', 'text_paper', 'causal'],\r\n",
    "    row_feature_name='data_tags_sequence_type',\r\n",
    "    hue_feature_name='data_params_ModelConfighidden_embedding_initializer',\r\n",
    "    col_feature_name='data_params_ModelConfigbase_hidden_embeddings_trainable',\r\n",
    "    titles=\"{row_name}, Trainable: {col_name}\",\r\n",
    "    palette=None,\r\n",
    "    dodge=True,\r\n",
    "    col_order=None,\r\n",
    "):\r\n",
    "    for metric_name in metric_names:\r\n",
    "        g = sns.catplot(\r\n",
    "            data=metric_df, x=x_feature_name, y=metric_name, order=x_order,\r\n",
    "            row=row_feature_name, hue=hue_feature_name, col=col_feature_name, col_order=col_order,\r\n",
    "            kind=\"box\", sharey='row', palette=palette, dodge=dodge,\r\n",
    "        )\r\n",
    "        g.set_titles(titles).set_axis_labels('', metric_name)\r\n",
    "        for ax in g.axes.flatten():\r\n",
    "            ax.tick_params(labelbottom=True)\r\n",
    "        g.savefig(\"bar_{}.png\".format(metric_name))\r\n"
   ],
   "outputs": [],
   "metadata": {}
  },
  {
   "cell_type": "code",
   "execution_count": null,
   "source": [
    "mimic_df = mlflow_helper.mimic_run_df(include_noise=False, include_refinements=False)\r\n",
    "mimic_df = mlflow_helper.load_best_metrics_for_ids(set(mimic_df[\"info_run_id\"]))"
   ],
   "outputs": [],
   "metadata": {}
  },
  {
   "cell_type": "code",
   "execution_count": null,
   "source": [
    "plot_best_metric_bar(mimic_df, ['val_top_20_categorical_accuracy_history_best', 'epoch'], \r\n",
    "    hue_feature_name=None, \r\n",
    "    col_feature_name='data_params_ModelConfigbase_hidden_embeddings_trainable',\r\n",
    "    row_feature_name=None,\r\n",
    "    x_order=[\"simple\", \"gram\", \"text\", \"causal\", \"causal2\"],\r\n",
    "    titles=\"Embeddings Trainable: {col_name}\")\r\n",
    "plt.show()"
   ],
   "outputs": [],
   "metadata": {}
  },
  {
   "cell_type": "code",
   "execution_count": null,
   "source": [
    "mimic_df = mlflow_helper.mimic_run_df(include_noise=False, include_refinements=False, valid_x_columns=[\"level_0\", \"level_1\", \"level_2\"])\r\n",
    "mimic_df = mlflow_helper.load_best_metrics_for_ids(set(mimic_df[\"info_run_id\"]))"
   ],
   "outputs": [],
   "metadata": {}
  },
  {
   "cell_type": "code",
   "execution_count": null,
   "source": [
    "plot_best_metric_bar(mimic_df, ['val_top_20_categorical_accuracy_history_best', 'epoch'], \r\n",
    "    hue_feature_name=None, \r\n",
    "    col_feature_name='data_params_SequenceConfigx_sequence_column_name',\r\n",
    "    row_feature_name='data_params_ModelConfigbase_hidden_embeddings_trainable',\r\n",
    "    col_order=[\"level_0\", \"level_1\", \"level_2\"],\r\n",
    "    x_order=[\"simple\", \"gram\", \"text\", \"causal\", \"causal2\"],\r\n",
    "    titles=\"Level: {col_name}, Embeddings Trainable: {row_name}\")\r\n",
    "plt.show()"
   ],
   "outputs": [],
   "metadata": {}
  },
  {
   "cell_type": "code",
   "execution_count": null,
   "source": [
    "mimic_df = mlflow_helper.mimic_run_df(include_noise=False, include_refinements=False, risk_prediction=True)\r\n",
    "mimic_df = mlflow_helper.load_best_metrics_for_ids(set(mimic_df[\"info_run_id\"]))"
   ],
   "outputs": [],
   "metadata": {}
  },
  {
   "cell_type": "code",
   "execution_count": null,
   "source": [
    "plot_best_metric_bar(mimic_df, ['val_auc_history_best', 'epoch'], \r\n",
    "    hue_feature_name=None, \r\n",
    "    col_feature_name='data_params_ModelConfigbase_hidden_embeddings_trainable',\r\n",
    "    row_feature_name=None,\r\n",
    "    x_order=[\"simple\", \"gram\", \"text\", \"causal\", \"causal2\"],\r\n",
    "    titles=\"Embeddings Trainable: {col_name}\")\r\n",
    "plt.show()"
   ],
   "outputs": [],
   "metadata": {}
  },
  {
   "cell_type": "code",
   "execution_count": null,
   "source": [
    "huawei_df = mlflow_helper.huawei_run_df(include_noise=False, include_refinements=False, risk_prediction=False)\r\n",
    "huawei_df = mlflow_helper.load_best_metrics_for_ids(set(huawei_df[\"info_run_id\"]))"
   ],
   "outputs": [],
   "metadata": {}
  },
  {
   "cell_type": "code",
   "execution_count": null,
   "source": [
    "plot_best_metric_bar(huawei_df, ['val_top_5_categorical_accuracy_history_best', 'val_top_10_categorical_accuracy_history_best', 'epoch'], \r\n",
    "    hue_feature_name=None, \r\n",
    "    col_feature_name='data_params_ModelConfigbase_hidden_embeddings_trainable',\r\n",
    "    row_feature_name=None,\r\n",
    "    x_order=[\"simple\", \"gram\", \"text\", \"causal\", \"causal2\"],\r\n",
    "    titles=\"Embeddings Trainable: {col_name}\")\r\n",
    "plt.show()"
   ],
   "outputs": [],
   "metadata": {}
  },
  {
   "cell_type": "code",
   "execution_count": null,
   "source": [
    "huawei_df = mlflow_helper.huawei_run_df(include_noise=False, include_refinements=False, risk_prediction=False, valid_x_columns=[\"log_cluster_template\", \"fine_log_cluster_template\", \"coarse_log_cluster_template\"])\r\n",
    "huawei_df = mlflow_helper.load_best_metrics_for_ids(set(huawei_df[\"info_run_id\"]))"
   ],
   "outputs": [],
   "metadata": {}
  },
  {
   "cell_type": "code",
   "execution_count": null,
   "source": [
    "plot_best_metric_bar(huawei_df, ['val_top_5_categorical_accuracy_history_best', 'epoch'], \r\n",
    "    hue_feature_name=None, \r\n",
    "    col_feature_name='data_params_SequenceConfigx_sequence_column_name',\r\n",
    "    row_feature_name='data_params_ModelConfigbase_hidden_embeddings_trainable',\r\n",
    "    col_order=[\"log_cluster_template\", \"coarse_log_cluster_template\"],\r\n",
    "    x_order=[\"simple\", \"gram\", \"text\", \"causal\"],\r\n",
    "    titles=\"Level: {col_name}, Embeddings Trainable: {row_name}\")\r\n",
    "plt.show()"
   ],
   "outputs": [],
   "metadata": {}
  },
  {
   "cell_type": "code",
   "execution_count": null,
   "source": [
    "huawei_df = mlflow_helper.huawei_run_df(include_noise=False, include_refinements=False, risk_prediction=True)\r\n",
    "huawei_df = mlflow_helper.load_metric_history_for_ids(set(huawei_df[\"info_run_id\"]))"
   ],
   "outputs": [],
   "metadata": {}
  },
  {
   "cell_type": "code",
   "execution_count": null,
   "source": [
    "plot_metrics_over_epochs(huawei_df, metric_names=['auc_history', 'val_auc_history'])\r\n",
    "plt.show()"
   ],
   "outputs": [],
   "metadata": {}
  },
  {
   "cell_type": "code",
   "execution_count": null,
   "source": [
    "huawei_df = mlflow_helper.huawei_run_df(include_noise=False, include_refinements=False, risk_prediction=True)\r\n",
    "huawei_df = mlflow_helper.load_best_metrics_for_ids(set(huawei_df[\"info_run_id\"]))"
   ],
   "outputs": [],
   "metadata": {}
  },
  {
   "cell_type": "code",
   "execution_count": null,
   "source": [
    "plot_best_metric_bar(huawei_df, ['val_auc_history_best', 'auc_history_best', 'epoch'], \r\n",
    "    hue_feature_name=None, \r\n",
    "    col_feature_name='data_params_ModelConfigbase_hidden_embeddings_trainable',\r\n",
    "    row_feature_name=None,\r\n",
    "    x_order=[\"simple\", \"gram\", \"text\", \"causal\", \"causal2\"],\r\n",
    "    titles=\"Embeddings Trainable: {col_name}\")\r\n",
    "plt.show()"
   ],
   "outputs": [],
   "metadata": {}
  },
  {
   "cell_type": "markdown",
   "source": [
    "# NOISE"
   ],
   "metadata": {}
  },
  {
   "cell_type": "code",
   "execution_count": null,
   "source": [
    "mimic_noise_df = mlflow_helper.mimic_run_df(include_noise=True)\r\n",
    "mimic_noise_df = mlflow_helper.load_best_metrics_for_ids(set(mimic_noise_df[\"info_run_id\"]))\r\n",
    "mimic_noise_df['data_tags_noise_type'] = mimic_noise_df['data_tags_noise_type'].fillna('').astype(str).apply(lambda x: x + '_threshold0.0' if len(str(x)) <= len('added0.0_removed0.1') and len(x) > 0 else x)\r\n",
    "mimic_noise_df['data_tags_noise_type'] = mimic_noise_df['data_tags_noise_type'].apply(lambda x: 'no_noise' if len(x) == 0  or x == 'nan' else x)"
   ],
   "outputs": [],
   "metadata": {}
  },
  {
   "cell_type": "code",
   "execution_count": null,
   "source": [
    "mimic_noise_df = mimic_noise_df[mimic_noise_df['data_tags_model_type'].apply(lambda x: x in ['gram', 'causal', 'text'])].copy().reset_index(drop=True)\r\n",
    "mimic_noise_df = mimic_noise_df[mimic_noise_df['data_tags_noise_type'].str.endswith('_threshold0.0') | mimic_noise_df['data_tags_noise_type'].str.endswith('no_noise')].copy().reset_index(drop=True)\r\n",
    "mimic_noise_df = mimic_noise_df[mimic_noise_df['data_params_ModelConfigbase_hidden_embeddings_trainable'].astype(str) == 'False']\r\n",
    "mimic_noise_df['noise'] = mimic_noise_df['data_tags_noise_type'].apply(\r\n",
    "    lambda x: float(x[len('added'):len('added0.0')]) - float(x[len('added0.0_removed'):len('added0.0_removed0.0')]) if not (x == 'no_noise') else 0.0\r\n",
    ")\r\n",
    "mimic_noise_df['noisy_knowledge'] = mimic_noise_df['noise'].apply(lambda x: 'False' if x == 0.0 else 'True')\r\n",
    "plot_best_metric_bar(mimic_noise_df, ['val_top_20_categorical_accuracy_history_best'], \r\n",
    "    col_feature_name='data_tags_model_type', \r\n",
    "    row_feature_name='data_params_ModelConfigbase_hidden_embeddings_trainable',\r\n",
    "    x_feature_name='noise',\r\n",
    "    hue_feature_name='noisy_knowledge',\r\n",
    "    titles=\"Knowledge type: {col_name}, Embeddings trainable: {row_name}\",\r\n",
    "    palette='Set2', \r\n",
    "    dodge=False,\r\n",
    "    x_order=None,\r\n",
    "    col_order=['gram', 'causal', 'text']\r\n",
    "    )\r\n",
    "plt.show()"
   ],
   "outputs": [],
   "metadata": {}
  }
 ]
}