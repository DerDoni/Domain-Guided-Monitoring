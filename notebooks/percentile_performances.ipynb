{
 "cells": [
  {
   "cell_type": "code",
   "execution_count": null,
   "source": [
    "import pandas as pd\r\n",
    "from pathlib import Path"
   ],
   "outputs": [],
   "metadata": {}
  },
  {
   "cell_type": "code",
   "execution_count": null,
   "source": [
    "%run utils/mlflow_query.py\r\n",
    "%run utils/loading.py\r\n",
    "%run utils/comparison.py\r\n",
    "%run utils/percentiles.py"
   ],
   "outputs": [],
   "metadata": {}
  },
  {
   "cell_type": "code",
   "execution_count": null,
   "source": [
    "mlflow_helper = MlflowHelper(pkl_file=Path(\"mlflow_run_df.pkl\"))\r\n",
    "#mlflow_helper.query_all_runs(query_metrics=False)"
   ],
   "outputs": [],
   "metadata": {}
  },
  {
   "cell_type": "markdown",
   "source": [
    "# Overall accuracy per percentiles"
   ],
   "metadata": {}
  },
  {
   "cell_type": "code",
   "execution_count": null,
   "source": [
    "relevant_mimic_run_df = mlflow_helper.mimic_run_df(include_noise=False, include_refinements=False)\r\n",
    "mimic_accuracy_df = calculate_accuracies_per_percentiles(\r\n",
    "    relevant_run_df=relevant_mimic_run_df, \r\n",
    "    k=20, num_percentiles=10, num_input_percentiles=10,\r\n",
    "    percentile_names=[\r\n",
    "        'avg_input_frequencies_percentile', \r\n",
    "        'median_input_frequencies_percentile', \r\n",
    "        'min_input_frequencies_percentile', \r\n",
    "        'p10_input_frequencies_percentile', \r\n",
    "        'unknown_inputs_percentile', \r\n",
    "        'output_frequency_percentile',\r\n",
    "        'avg_input_frequencies_range', \r\n",
    "        'median_input_frequencies_range', \r\n",
    "        'min_input_frequencies_range', \r\n",
    "        'p10_input_frequencies_range', \r\n",
    "        'unknown_inputs_range', \r\n",
    "    ],\r\n",
    "    local_mlflow_dir=mlflow_helper.local_mlflow_dir)"
   ],
   "outputs": [],
   "metadata": {}
  },
  {
   "cell_type": "code",
   "execution_count": null,
   "source": [
    "plot_accuracies_per_percentiles(\r\n",
    "    relevant_run_df=relevant_mimic_run_df, \r\n",
    "    accuracy_df=mimic_accuracy_df[mimic_accuracy_df[\"type\"] == \"median_input_frequencies_percentile\"])"
   ],
   "outputs": [],
   "metadata": {}
  },
  {
   "cell_type": "code",
   "execution_count": null,
   "source": [
    "relevant_huawei_run_df = mlflow_helper.huawei_run_df(include_noise=False, include_refinements=False)\r\n",
    "huawei_accuracy_df = calculate_accuracies_per_percentiles(\r\n",
    "    relevant_run_df=relevant_huawei_run_df, k=5, num_percentiles=10, num_input_percentiles=10,\r\n",
    "    percentile_names=[\r\n",
    "        'avg_input_frequencies_percentile', \r\n",
    "        'median_input_frequencies_percentile', \r\n",
    "        'min_input_frequencies_percentile', \r\n",
    "        'p10_input_frequencies_percentile', \r\n",
    "        'unknown_inputs_percentile', \r\n",
    "        'output_frequency_percentile',\r\n",
    "        'avg_input_frequencies_range', \r\n",
    "        'median_input_frequencies_range', \r\n",
    "        'min_input_frequencies_range', \r\n",
    "        'p10_input_frequencies_range', \r\n",
    "        'unknown_inputs_range', \r\n",
    "    ],\r\n",
    "    local_mlflow_dir=mlflow_helper.local_mlflow_dir)"
   ],
   "outputs": [],
   "metadata": {}
  },
  {
   "cell_type": "code",
   "execution_count": null,
   "source": [
    "plot_accuracies_per_percentiles(\r\n",
    "    relevant_huawei_run_df, \r\n",
    "    huawei_accuracy_df[\r\n",
    "        (huawei_accuracy_df['type'] == \"median_input_frequencies_percentile\") | \r\n",
    "        (huawei_accuracy_df['type'] == \"unknown_inputs_percentile\")])"
   ],
   "outputs": [],
   "metadata": {}
  },
  {
   "cell_type": "markdown",
   "source": [
    "# Accuracy@ for different input granularities"
   ],
   "metadata": {}
  },
  {
   "cell_type": "code",
   "execution_count": null,
   "source": [
    "relevant_mimic_run_df2 = mlflow_helper.mimic_run_df(include_noise=False, include_refinements=False, \r\n",
    "    valid_x_columns=[\"level_0\", \"level_1\", \"level_2\"])\r\n",
    "mimic_accuracy_df2 = calculate_accuracies_per_percentiles(\r\n",
    "    relevant_run_df=relevant_mimic_run_df2, \r\n",
    "    k=20, num_percentiles=10, num_input_percentiles=10,\r\n",
    "    percentile_names=[\r\n",
    "        'avg_input_frequencies_percentile', \r\n",
    "        #'median_input_frequencies_percentile', \r\n",
    "        #'min_input_frequencies_percentile', \r\n",
    "        #'p10_input_frequencies_percentile', \r\n",
    "        #'unknown_inputs_percentile', \r\n",
    "        #'output_frequency_percentile',\r\n",
    "        #'avg_input_frequencies_range', \r\n",
    "        #'median_input_frequencies_range', \r\n",
    "        #'min_input_frequencies_range', \r\n",
    "        #'p10_input_frequencies_range', \r\n",
    "        #'unknown_inputs_range', \r\n",
    "    ],\r\n",
    "    local_mlflow_dir=mlflow_helper.local_mlflow_dir)"
   ],
   "outputs": [],
   "metadata": {}
  },
  {
   "cell_type": "code",
   "execution_count": null,
   "source": [
    "plot_accuracies_per_percentiles(\r\n",
    "    relevant_run_df=relevant_mimic_run_df2[relevant_mimic_run_df2[\"data_params_ModelConfigbase_hidden_embeddings_trainable\"] == \"False\"], \r\n",
    "    accuracy_df=mimic_accuracy_df2[mimic_accuracy_df2[\"type\"] == \"avg_input_frequencies_percentile\"],\r\n",
    "    comparison_column=\"data_params_SequenceConfigx_sequence_column_name\",\r\n",
    "    comparison_column_order=[\"level_0\", \"level_1\", \"level_2\"],\r\n",
    "    share_y=True)"
   ],
   "outputs": [],
   "metadata": {}
  },
  {
   "cell_type": "code",
   "execution_count": null,
   "source": [
    "grouped_df = (\r\n",
    "    pd.merge(\r\n",
    "        relevant_mimic_run_df2[relevant_mimic_run_df2['data_tags_model_type'] != 'causal2'], \r\n",
    "        mimic_accuracy_df2[mimic_accuracy_df2['type'] == 'avg_input_frequencies_percentile'], left_on=\"info_run_id\", right_on=\"run_id\")\r\n",
    "    .groupby(\r\n",
    "        [\r\n",
    "            \"data_tags_model_type\",\r\n",
    "            \"data_params_ModelConfigbase_hidden_embeddings_trainable\",\r\n",
    "            \"data_params_SequenceConfigx_sequence_column_name\",\r\n",
    "            \"info_run_id\",\r\n",
    "            \"type\",\r\n",
    "            \"percentile\",\r\n",
    "        ],\r\n",
    "        as_index=False,\r\n",
    "    )\r\n",
    "    .agg({\"accuracy\": max,})\r\n",
    ")\r\n",
    "g = sns.relplot(\r\n",
    "    data=grouped_df,\r\n",
    "    x=\"percentile\",\r\n",
    "    y=\"accuracy\",\r\n",
    "    row=\"type\",\r\n",
    "    col=\"data_tags_model_type\",\r\n",
    "    hue=\"data_params_SequenceConfigx_sequence_column_name\",\r\n",
    "    style=\"data_params_ModelConfigbase_hidden_embeddings_trainable\",\r\n",
    "    kind=\"line\",\r\n",
    "    palette=None,\r\n",
    ")\r\n",
    "g.set_titles(\"Type: {row_name}, Model: {col_name}\").set_axis_labels(\r\n",
    "    \"\", \"accuracy\"\r\n",
    ")\r\n",
    "for ax in g.axes.flatten():\r\n",
    "    ax.tick_params(labelbottom=True)\r\n",
    "plt.show()"
   ],
   "outputs": [],
   "metadata": {}
  },
  {
   "cell_type": "code",
   "execution_count": null,
   "source": [
    "relevant_huawei_run_df2 = mlflow_helper.huawei_run_df(include_noise=False, include_refinements=False, \r\n",
    "    valid_x_columns=[\"log_cluster_template\", \"fine_log_cluster_template\", \"coarse_log_cluster_template\"])\r\n",
    "huawei_accuracy_df2 = calculate_accuracies_per_percentiles(\r\n",
    "    relevant_run_df=relevant_huawei_run_df2, \r\n",
    "    k=5, num_percentiles=10, num_input_percentiles=10,\r\n",
    "    percentile_names=[\r\n",
    "        'avg_input_frequencies_percentile', \r\n",
    "        'median_input_frequencies_percentile', \r\n",
    "        #'min_input_frequencies_percentile', \r\n",
    "        #'p10_input_frequencies_percentile', \r\n",
    "        'unknown_inputs_percentile', \r\n",
    "        #'output_frequency_percentile',\r\n",
    "        #'avg_input_frequencies_range', \r\n",
    "        #'median_input_frequencies_range', \r\n",
    "        #'min_input_frequencies_range', \r\n",
    "        #'p10_input_frequencies_range', \r\n",
    "        #'unknown_inputs_range', \r\n",
    "    ],\r\n",
    "    local_mlflow_dir=mlflow_helper.local_mlflow_dir)"
   ],
   "outputs": [],
   "metadata": {}
  },
  {
   "cell_type": "code",
   "execution_count": null,
   "source": [
    "plot_accuracies_per_percentiles(\r\n",
    "    show_plot=False,\r\n",
    "    relevant_run_df=relevant_huawei_run_df2[relevant_huawei_run_df2[\"data_params_ModelConfigbase_hidden_embeddings_trainable\"] == \"False\"], \r\n",
    "    accuracy_df=huawei_accuracy_df2[(huawei_accuracy_df2[\"type\"] == \"avg_input_frequencies_percentile\") | (huawei_accuracy_df2[\"type\"] == \"unknown_inputs_percentile\")],\r\n",
    "    comparison_column=\"data_params_SequenceConfigx_sequence_column_name\",\r\n",
    "    comparison_column_order=[\"log_cluster_template\", \"coarse_log_cluster_template\"],\r\n",
    "    share_y=True)"
   ],
   "outputs": [],
   "metadata": {}
  },
  {
   "cell_type": "code",
   "execution_count": null,
   "source": [
    "grouped_df = (\r\n",
    "    pd.merge(\r\n",
    "        relevant_huawei_run_df2[relevant_huawei_run_df2['data_tags_model_type'] != 'causal2'], \r\n",
    "        huawei_accuracy_df2[(huawei_accuracy_df2[\"type\"] == \"avg_input_frequencies_percentile\") | (huawei_accuracy_df2[\"type\"] == \"unknown_inputs_percentile\")],\r\n",
    "        left_on=\"info_run_id\", right_on=\"run_id\")\r\n",
    "    .groupby(\r\n",
    "        [\r\n",
    "            \"data_tags_model_type\",\r\n",
    "            \"data_params_ModelConfigbase_hidden_embeddings_trainable\",\r\n",
    "            \"data_params_SequenceConfigx_sequence_column_name\",\r\n",
    "            \"info_run_id\",\r\n",
    "            \"type\",\r\n",
    "            \"percentile\",\r\n",
    "        ],\r\n",
    "        as_index=False,\r\n",
    "    )\r\n",
    "    .agg({\"accuracy\": max,})\r\n",
    ")\r\n",
    "g = sns.relplot(\r\n",
    "    data=grouped_df,\r\n",
    "    x=\"percentile\",\r\n",
    "    y=\"accuracy\",\r\n",
    "    row=\"type\",\r\n",
    "    col=\"data_tags_model_type\",\r\n",
    "    hue=\"data_params_SequenceConfigx_sequence_column_name\",\r\n",
    "    style=\"data_params_ModelConfigbase_hidden_embeddings_trainable\",\r\n",
    "    kind=\"line\",\r\n",
    "    palette=None,\r\n",
    ")\r\n",
    "g.set_titles(\"Type: {row_name}, Model: {col_name}\").set_axis_labels(\r\n",
    "    \"\", \"accuracy\"\r\n",
    ")\r\n",
    "for ax in g.axes.flatten():\r\n",
    "    ax.tick_params(labelbottom=True)\r\n",
    "plt.show()"
   ],
   "outputs": [],
   "metadata": {}
  },
  {
   "cell_type": "code",
   "execution_count": null,
   "source": [
    "relevant_mimic_run_df = pd.read_pickle(\"percentile_relevant_mimic_run_df.pkl\")\r\n",
    "relevant_huawei_run_df = pd.read_pickle(\"percentile_relevant_huawei_run_df.pkl\")\r\n",
    "relevant_mimic_run_df2 = pd.read_pickle(\"percentile_relevant_mimic_run_df2.pkl\")\r\n",
    "relevant_huawei_run_df2 = pd.read_pickle(\"percentile_relevant_huawei_run_df2.pkl\")\r\n",
    "\r\n",
    "mimic_accuracy_df = pd.read_pickle(\"percentile_mimic_accuracy_df.pkl\")\r\n",
    "mimic_accuracy_df2 = pd.read_pickle(\"percentile_mimic_accuracy_df2.pkl\")\r\n",
    "huawei_accuracy_df = pd.read_pickle(\"percentile_huawei_accuracy_df.pkl\")\r\n",
    "huawei_accuracy_df2 = pd.read_pickle(\"percentile_huawei_accuracy_df2.pkl\")"
   ],
   "outputs": [],
   "metadata": {}
  }
 ],
 "metadata": {
  "orig_nbformat": 4,
  "language_info": {
   "name": "python",
   "version": "3.8.8",
   "mimetype": "text/x-python",
   "codemirror_mode": {
    "name": "ipython",
    "version": 3
   },
   "pygments_lexer": "ipython3",
   "nbconvert_exporter": "python",
   "file_extension": ".py"
  },
  "kernelspec": {
   "name": "python3",
   "display_name": "Python 3.8.8 64-bit (conda)"
  },
  "interpreter": {
   "hash": "9d90ef2e2544a65949a5382aa665e8a895142ccb15d506742792c571feba52d3"
  }
 },
 "nbformat": 4,
 "nbformat_minor": 2
}